{
  "cells": [
    {
      "cell_type": "markdown",
      "source": [
        "## GAN Tutorial\n"
      ],
      "metadata": {
        "id": "AzVrjjGsjW2S"
      }
    },
    {
      "cell_type": "markdown",
      "source": [
        "https://github.com/eriklindernoren/PyTorch-GAN\n",
        "\n",
        "위 Github의 코드에 기반한 튜토리얼 입니다. 위 Github에 Pytorch, Keras 기반의 다양한 모델들이 구현되어 있으니 활용해보시면 좋을 것 같습니다!"
      ],
      "metadata": {
        "id": "L_d89D8TjhGj"
      }
    },
    {
      "cell_type": "markdown",
      "source": [
        "Initialize"
      ],
      "metadata": {
        "id": "jUPJHXvykV5R"
      }
    },
    {
      "cell_type": "code",
      "source": [
        "import os\n",
        "import numpy as np\n",
        "import math\n",
        "import torchvision.transforms as transforms\n",
        "from torchvision.utils import save_image\n",
        "from torch.utils.data import DataLoader\n",
        "from torchvision import datasets\n",
        "from torch.autograd import Variable\n",
        "import torch.nn as nn\n",
        "import torch.nn.functional as F\n",
        "import torch\n",
        "import easydict\n",
        "\n",
        "os.makedirs(\"images\", exist_ok=True)\n",
        "opt = easydict.EasyDict({\n",
        "        \"batch_size\": 64,\n",
        "        \"n_epochs\": 200,\n",
        "        \"lr\": 0.0002,\n",
        "        \"b1\": 0.5, \n",
        "        \"b2\": 0.999, \n",
        "        \"n_cpu\": 8, \n",
        "        \"latent_dim\": 100, \n",
        "        \"img_size\": 28, \n",
        "        \"channels\": 1, \n",
        "        \"sample_interval\": 400, \n",
        "})\n",
        "\n",
        "img_shape = (opt.channels, opt.img_size, opt.img_size)\n",
        "\n",
        "cuda = True if torch.cuda.is_available() else False"
      ],
      "metadata": {
        "id": "-VE1xeWfjaYQ"
      },
      "execution_count": 2,
      "outputs": []
    },
    {
      "cell_type": "markdown",
      "source": [
        "Generator and Discriminator Class"
      ],
      "metadata": {
        "id": "TzZaLGXXkZ9T"
      }
    },
    {
      "cell_type": "code",
      "source": [
        "class Generator(nn.Module):\n",
        "    def __init__(self):\n",
        "        super(Generator, self).__init__()\n",
        "\n",
        "        def block(in_feat, out_feat, normalize=True):\n",
        "            layers = [nn.Linear(in_feat, out_feat)]\n",
        "            if normalize:\n",
        "                layers.append(nn.BatchNorm1d(out_feat, 0.8))\n",
        "            layers.append(nn.LeakyReLU(0.2, inplace=True))\n",
        "            return layers\n",
        "\n",
        "        self.model = nn.Sequential(\n",
        "            *block(opt.latent_dim, 128, normalize=False),\n",
        "            *block(128, 256),\n",
        "            *block(256, 512),\n",
        "            *block(512, 1024),\n",
        "            nn.Linear(1024, int(np.prod(img_shape))),\n",
        "            nn.Tanh()\n",
        "        )\n",
        "\n",
        "    def forward(self, z):\n",
        "        img = self.model(z)\n",
        "        img = img.view(img.size(0), *img_shape)\n",
        "        return img\n",
        "\n",
        "\n",
        "class Discriminator(nn.Module):\n",
        "    def __init__(self):\n",
        "        super(Discriminator, self).__init__()\n",
        "\n",
        "        self.model = nn.Sequential(\n",
        "            nn.Linear(int(np.prod(img_shape)), 512),\n",
        "            nn.LeakyReLU(0.2, inplace=True),\n",
        "            nn.Linear(512, 256),\n",
        "            nn.LeakyReLU(0.2, inplace=True),\n",
        "            nn.Linear(256, 1),\n",
        "            nn.Sigmoid(),\n",
        "        )\n",
        "\n",
        "    def forward(self, img):\n",
        "        img_flat = img.view(img.size(0), -1)\n",
        "        validity = self.model(img_flat)\n",
        "\n",
        "        return validity\n"
      ],
      "metadata": {
        "id": "XU1Bwb0MkHit"
      },
      "execution_count": 3,
      "outputs": []
    },
    {
      "cell_type": "code",
      "source": [
        "# Loss function\n",
        "adversarial_loss = torch.nn.BCELoss()\n",
        "\n",
        "# Initialize generator and discriminator\n",
        "generator = Generator()\n",
        "discriminator = Discriminator()\n",
        "\n",
        "if cuda:\n",
        "    generator.cuda()\n",
        "    discriminator.cuda()\n",
        "    adversarial_loss.cuda()\n",
        "\n",
        "# Configure data loader\n",
        "os.makedirs(\"../../data/mnist\", exist_ok=True)\n",
        "dataloader = torch.utils.data.DataLoader(\n",
        "    datasets.MNIST(\n",
        "        \"../../data/mnist\",\n",
        "        train=True,\n",
        "        download=True,\n",
        "        transform=transforms.Compose(\n",
        "            [transforms.Resize(opt.img_size), transforms.ToTensor(), transforms.Normalize([0.5], [0.5])]\n",
        "        ),\n",
        "    ),\n",
        "    batch_size=opt.batch_size,\n",
        "    shuffle=True,\n",
        ")\n",
        "\n",
        "# Optimizers\n",
        "optimizer_G = torch.optim.Adam(generator.parameters(), lr=opt.lr, betas=(opt.b1, opt.b2))\n",
        "optimizer_D = torch.optim.Adam(discriminator.parameters(), lr=opt.lr, betas=(opt.b1, opt.b2))\n",
        "\n",
        "Tensor = torch.cuda.FloatTensor if cuda else torch.FloatTensor"
      ],
      "metadata": {
        "colab": {
          "base_uri": "https://localhost:8080/",
          "height": 437,
          "referenced_widgets": [
            "175f63a148c644a0a10dd0ce949fb08f",
            "7f3d55b6d7864e91971a2c7c2471609a",
            "6d60662705b543e9b673371755eabf4b",
            "2adb3e979da14955bf3df7e1a36e4d0f",
            "c54143c496b34b758363a9ed619712b0",
            "624585fa3d944d57bbec18ba72e544b3",
            "082e8d3a01a84b0bb009d175d1a1118a",
            "0bea2d723a444fb0b883fb0f3e6e5ce9",
            "5c81a61a4a914842b48b6f902138c761",
            "d7c17731403f435396841903e242b360",
            "cf1fc0468dbe41d3af8d18b7635ccad0",
            "1603633eb4b048c79df7e61592885cda",
            "0abb84aa85244820894c825baff26680",
            "f3891a8aafb943f9b3d2976f6cfaa771",
            "2beaf5f5bc934df6ae306ea7f00ffefa",
            "34d1227adee349b2bea4564490c8a241",
            "b867877980ea411abaa0abdffd933e78",
            "437d6535863847ed82f3aa205426e1e6",
            "e4cea8feb638498e8eb5231ebae85cc2",
            "33b3a6d41de14e83804763e3b92abb83",
            "c37cb0f39f584b55b633c05bab8027bd",
            "187b436d60e04b92b69922ad83e7fe89",
            "201e8930941649cabacabc3d4e6cba1c",
            "8eb7de79de024329b429a10a4450f188",
            "b7140ba231934c4d8cb162a6a01bed8d",
            "3804765767584d0991db93ec2b6b6d37",
            "091c175bc15043edbe92257bd00e907b",
            "b469f3040a2448af93d371e693c983f1",
            "cddb071569c14ff9b4a0e76f50785fd7",
            "a3f256cabf0b4c16a4af8ec81049a750",
            "69182784bcb346fc8fbe959637a2de55",
            "64ab0eeb24c542f2957f1c4f370b4419",
            "55eb7fa8a89c482290dfd5bb52c1af36",
            "610842aae6db4afd9bc5a3e6844fa94d",
            "04429400796e42778f2685452d35a825",
            "4e0eece8cc08461b8b9667d3c2e9ba8c",
            "f6c5d5db17464f92b85fd1d39c0ba531",
            "c7f63e0298484a02ab8411d3ce1f31b4",
            "f2ee36323a41412a9ea68e64b408acc6",
            "d2f08c7fefdb48b98e9c313f327c58ca",
            "d4c3a4808ec74009b3bc91d0c7470b90",
            "d3cabeabffd74c73a7e38bd43d2c9964",
            "ca50c3128a464579b95774a6a50406d0",
            "3c2bde09a13b4147af94b67ee0648e9c"
          ]
        },
        "id": "d8ZjV0DHkKwf",
        "outputId": "8ffd3839-17d6-47a3-ab59-d9aa71f06c75"
      },
      "execution_count": 4,
      "outputs": [
        {
          "output_type": "stream",
          "name": "stdout",
          "text": [
            "Downloading http://yann.lecun.com/exdb/mnist/train-images-idx3-ubyte.gz\n",
            "Downloading http://yann.lecun.com/exdb/mnist/train-images-idx3-ubyte.gz to ../../data/mnist/MNIST/raw/train-images-idx3-ubyte.gz\n"
          ]
        },
        {
          "output_type": "display_data",
          "data": {
            "application/vnd.jupyter.widget-view+json": {
              "model_id": "175f63a148c644a0a10dd0ce949fb08f",
              "version_minor": 0,
              "version_major": 2
            },
            "text/plain": [
              "  0%|          | 0/9912422 [00:00<?, ?it/s]"
            ]
          },
          "metadata": {}
        },
        {
          "output_type": "stream",
          "name": "stdout",
          "text": [
            "Extracting ../../data/mnist/MNIST/raw/train-images-idx3-ubyte.gz to ../../data/mnist/MNIST/raw\n",
            "\n",
            "Downloading http://yann.lecun.com/exdb/mnist/train-labels-idx1-ubyte.gz\n",
            "Downloading http://yann.lecun.com/exdb/mnist/train-labels-idx1-ubyte.gz to ../../data/mnist/MNIST/raw/train-labels-idx1-ubyte.gz\n"
          ]
        },
        {
          "output_type": "display_data",
          "data": {
            "application/vnd.jupyter.widget-view+json": {
              "model_id": "1603633eb4b048c79df7e61592885cda",
              "version_minor": 0,
              "version_major": 2
            },
            "text/plain": [
              "  0%|          | 0/28881 [00:00<?, ?it/s]"
            ]
          },
          "metadata": {}
        },
        {
          "output_type": "stream",
          "name": "stdout",
          "text": [
            "Extracting ../../data/mnist/MNIST/raw/train-labels-idx1-ubyte.gz to ../../data/mnist/MNIST/raw\n",
            "\n",
            "Downloading http://yann.lecun.com/exdb/mnist/t10k-images-idx3-ubyte.gz\n",
            "Downloading http://yann.lecun.com/exdb/mnist/t10k-images-idx3-ubyte.gz to ../../data/mnist/MNIST/raw/t10k-images-idx3-ubyte.gz\n"
          ]
        },
        {
          "output_type": "display_data",
          "data": {
            "application/vnd.jupyter.widget-view+json": {
              "model_id": "201e8930941649cabacabc3d4e6cba1c",
              "version_minor": 0,
              "version_major": 2
            },
            "text/plain": [
              "  0%|          | 0/1648877 [00:00<?, ?it/s]"
            ]
          },
          "metadata": {}
        },
        {
          "output_type": "stream",
          "name": "stdout",
          "text": [
            "Extracting ../../data/mnist/MNIST/raw/t10k-images-idx3-ubyte.gz to ../../data/mnist/MNIST/raw\n",
            "\n",
            "Downloading http://yann.lecun.com/exdb/mnist/t10k-labels-idx1-ubyte.gz\n",
            "Downloading http://yann.lecun.com/exdb/mnist/t10k-labels-idx1-ubyte.gz to ../../data/mnist/MNIST/raw/t10k-labels-idx1-ubyte.gz\n"
          ]
        },
        {
          "output_type": "display_data",
          "data": {
            "application/vnd.jupyter.widget-view+json": {
              "model_id": "610842aae6db4afd9bc5a3e6844fa94d",
              "version_minor": 0,
              "version_major": 2
            },
            "text/plain": [
              "  0%|          | 0/4542 [00:00<?, ?it/s]"
            ]
          },
          "metadata": {}
        },
        {
          "output_type": "stream",
          "name": "stdout",
          "text": [
            "Extracting ../../data/mnist/MNIST/raw/t10k-labels-idx1-ubyte.gz to ../../data/mnist/MNIST/raw\n",
            "\n"
          ]
        }
      ]
    },
    {
      "cell_type": "code",
      "source": [
        "from matplotlib import pyplot as plt\n",
        "for imgs, _ in dataloader:\n",
        "  plt.imshow(imgs[0].reshape((28,28)))\n",
        "  break"
      ],
      "metadata": {
        "colab": {
          "base_uri": "https://localhost:8080/",
          "height": 265
        },
        "id": "YAnnvB1Ek-qZ",
        "outputId": "3159e236-c492-4d98-d1de-815bc3a75b5a"
      },
      "execution_count": 10,
      "outputs": [
        {
          "output_type": "display_data",
          "data": {
            "image/png": "[encoded data removed]",
            "text/plain": [
              "<Figure size 432x288 with 1 Axes>"
            ]
          },
          "metadata": {
            "needs_background": "light"
          }
        }
      ]
    },
    {
      "cell_type": "markdown",
      "source": [
        "Training"
      ],
      "metadata": {
        "id": "88IpPKp5kxHE"
      }
    },
    {
      "cell_type": "code",
      "source": [
        "for epoch in range(opt.n_epochs):\n",
        "    for i, (imgs, _) in enumerate(dataloader):\n",
        "\n",
        "        # Adversarial ground truths\n",
        "        valid = Variable(Tensor(imgs.size(0), 1).fill_(1.0), requires_grad=False)\n",
        "        fake = Variable(Tensor(imgs.size(0), 1).fill_(0.0), requires_grad=False)\n",
        "\n",
        "        # Configure input\n",
        "        real_imgs = Variable(imgs.type(Tensor))\n",
        "\n",
        "        # -----------------\n",
        "        #  Train Generator\n",
        "        # -----------------\n",
        "\n",
        "        optimizer_G.zero_grad()\n",
        "\n",
        "        # Sample noise as generator input\n",
        "        z = Variable(Tensor(np.random.normal(0, 1, (imgs.shape[0], opt.latent_dim))))\n",
        "\n",
        "        # Generate a batch of images\n",
        "        gen_imgs = generator(z)\n",
        "\n",
        "        # Loss measures generator's ability to fool the discriminator\n",
        "        g_loss = adversarial_loss(discriminator(gen_imgs), valid)\n",
        "\n",
        "        g_loss.backward()\n",
        "        optimizer_G.step()\n",
        "\n",
        "        # ---------------------\n",
        "        #  Train Discriminator\n",
        "        # ---------------------\n",
        "\n",
        "        optimizer_D.zero_grad()\n",
        "\n",
        "        # Measure discriminator's ability to classify real from generated samples\n",
        "        real_loss = adversarial_loss(discriminator(real_imgs), valid)\n",
        "        fake_loss = adversarial_loss(discriminator(gen_imgs.detach()), fake)\n",
        "        d_loss = (real_loss + fake_loss) / 2\n",
        "\n",
        "        d_loss.backward()\n",
        "        optimizer_D.step()\n",
        "\n",
        "        print(\n",
        "            \"[Epoch %d/%d] [Batch %d/%d] [D loss: %f] [G loss: %f]\"\n",
        "            % (epoch, opt.n_epochs, i, len(dataloader), d_loss.item(), g_loss.item())\n",
        "        )\n",
        "\n",
        "        batches_done = epoch * len(dataloader) + i\n",
        "        if batches_done % opt.sample_interval == 0:\n",
        "            save_image(gen_imgs.data[:25], \"images/%d.png\" % batches_done, nrow=5, normalize=True)"
      ],
      "metadata": {
        "colab": {
          "base_uri": "https://localhost:8080/",
          "height": 1000
        },
        "id": "7bB5gmZ9kTZL",
        "outputId": "d94e809c-a180-42f3-c4b6-78a33502c503"
      },
      "execution_count": 11,
      "outputs": [
        {
          "output_type": "stream",
          "name": "stdout",
          "text": [
            "\u001b[1;30;43m스트리밍 출력 내용이 길어서 마지막 5000줄이 삭제되었습니다.\u001b[0m\n",

            "[Epoch 41/200] [Batch 3/938] [D loss: 0.099931] [G loss: 5.139223]\n",
            "[Epoch 41/200] [Batch 4/938] [D loss: 0.125229] [G loss: 2.501182]\n",
            "[Epoch 41/200] [Batch 5/938] [D loss: 0.092422] [G loss: 2.617071]\n",
            "[Epoch 41/200] [Batch 6/938] [D loss: 0.056919] [G loss: 3.557286]\n"
          ]
        },
        {
          "output_type": "error",
          "ename": "TypeError",
          "evalue": "ignored",
          "traceback": [
            "\u001b[0;31m---------------------------------------------------------------------------\u001b[0m",
            "\u001b[0;31mTypeError\u001b[0m                                 Traceback (most recent call last)",
            "\u001b[0;32m<ipython-input-11-80604fe57cee>\u001b[0m in \u001b[0;36m<module>\u001b[0;34m()\u001b[0m\n\u001b[1;32m      1\u001b[0m \u001b[0;32mfor\u001b[0m \u001b[0mepoch\u001b[0m \u001b[0;32min\u001b[0m \u001b[0mrange\u001b[0m\u001b[0;34m(\u001b[0m\u001b[0mopt\u001b[0m\u001b[0;34m.\u001b[0m\u001b[0mn_epochs\u001b[0m\u001b[0;34m)\u001b[0m\u001b[0;34m:\u001b[0m\u001b[0;34m\u001b[0m\u001b[0;34m\u001b[0m\u001b[0m\n\u001b[0;32m----> 2\u001b[0;31m     \u001b[0;32mfor\u001b[0m \u001b[0mi\u001b[0m\u001b[0;34m,\u001b[0m \u001b[0;34m(\u001b[0m\u001b[0mimgs\u001b[0m\u001b[0;34m,\u001b[0m \u001b[0m_\u001b[0m\u001b[0;34m)\u001b[0m \u001b[0;32min\u001b[0m \u001b[0menumerate\u001b[0m\u001b[0;34m(\u001b[0m\u001b[0mdataloader\u001b[0m\u001b[0;34m)\u001b[0m\u001b[0;34m:\u001b[0m\u001b[0;34m\u001b[0m\u001b[0;34m\u001b[0m\u001b[0m\n\u001b[0m\u001b[1;32m      3\u001b[0m \u001b[0;34m\u001b[0m\u001b[0m\n\u001b[1;32m      4\u001b[0m         \u001b[0;31m# Adversarial ground truths\u001b[0m\u001b[0;34m\u001b[0m\u001b[0;34m\u001b[0m\u001b[0;34m\u001b[0m\u001b[0m\n\u001b[1;32m      5\u001b[0m         \u001b[0mvalid\u001b[0m \u001b[0;34m=\u001b[0m \u001b[0mVariable\u001b[0m\u001b[0;34m(\u001b[0m\u001b[0mTensor\u001b[0m\u001b[0;34m(\u001b[0m\u001b[0mimgs\u001b[0m\u001b[0;34m.\u001b[0m\u001b[0msize\u001b[0m\u001b[0;34m(\u001b[0m\u001b[0;36m0\u001b[0m\u001b[0;34m)\u001b[0m\u001b[0;34m,\u001b[0m \u001b[0;36m1\u001b[0m\u001b[0;34m)\u001b[0m\u001b[0;34m.\u001b[0m\u001b[0mfill_\u001b[0m\u001b[0;34m(\u001b[0m\u001b[0;36m1.0\u001b[0m\u001b[0;34m)\u001b[0m\u001b[0;34m,\u001b[0m \u001b[0mrequires_grad\u001b[0m\u001b[0;34m=\u001b[0m\u001b[0;32mFalse\u001b[0m\u001b[0;34m)\u001b[0m\u001b[0;34m\u001b[0m\u001b[0;34m\u001b[0m\u001b[0m\n",
            "\u001b[0;32m/usr/local/lib/python3.7/dist-packages/torch/utils/data/dataloader.py\u001b[0m in \u001b[0;36m__next__\u001b[0;34m(self)\u001b[0m\n\u001b[1;32m    519\u001b[0m             \u001b[0;32mif\u001b[0m \u001b[0mself\u001b[0m\u001b[0;34m.\u001b[0m\u001b[0m_sampler_iter\u001b[0m \u001b[0;32mis\u001b[0m \u001b[0;32mNone\u001b[0m\u001b[0;34m:\u001b[0m\u001b[0;34m\u001b[0m\u001b[0;34m\u001b[0m\u001b[0m\n\u001b[1;32m    520\u001b[0m                 \u001b[0mself\u001b[0m\u001b[0;34m.\u001b[0m\u001b[0m_reset\u001b[0m\u001b[0;34m(\u001b[0m\u001b[0;34m)\u001b[0m\u001b[0;34m\u001b[0m\u001b[0;34m\u001b[0m\u001b[0m\n\u001b[0;32m--> 521\u001b[0;31m             \u001b[0mdata\u001b[0m \u001b[0;34m=\u001b[0m \u001b[0mself\u001b[0m\u001b[0;34m.\u001b[0m\u001b[0m_next_data\u001b[0m\u001b[0;34m(\u001b[0m\u001b[0;34m)\u001b[0m\u001b[0;34m\u001b[0m\u001b[0;34m\u001b[0m\u001b[0m\n\u001b[0m\u001b[1;32m    522\u001b[0m             \u001b[0mself\u001b[0m\u001b[0;34m.\u001b[0m\u001b[0m_num_yielded\u001b[0m \u001b[0;34m+=\u001b[0m \u001b[0;36m1\u001b[0m\u001b[0;34m\u001b[0m\u001b[0;34m\u001b[0m\u001b[0m\n\u001b[1;32m    523\u001b[0m             \u001b[0;32mif\u001b[0m \u001b[0mself\u001b[0m\u001b[0;34m.\u001b[0m\u001b[0m_dataset_kind\u001b[0m \u001b[0;34m==\u001b[0m \u001b[0m_DatasetKind\u001b[0m\u001b[0;34m.\u001b[0m\u001b[0mIterable\u001b[0m \u001b[0;32mand\u001b[0m\u001b[0;31m \u001b[0m\u001b[0;31m\\\u001b[0m\u001b[0;34m\u001b[0m\u001b[0;34m\u001b[0m\u001b[0m\n",
            "\u001b[0;32m/usr/local/lib/python3.7/dist-packages/torch/utils/data/dataloader.py\u001b[0m in \u001b[0;36m_next_data\u001b[0;34m(self)\u001b[0m\n\u001b[1;32m    559\u001b[0m     \u001b[0;32mdef\u001b[0m \u001b[0m_next_data\u001b[0m\u001b[0;34m(\u001b[0m\u001b[0mself\u001b[0m\u001b[0;34m)\u001b[0m\u001b[0;34m:\u001b[0m\u001b[0;34m\u001b[0m\u001b[0;34m\u001b[0m\u001b[0m\n\u001b[1;32m    560\u001b[0m         \u001b[0mindex\u001b[0m \u001b[0;34m=\u001b[0m \u001b[0mself\u001b[0m\u001b[0;34m.\u001b[0m\u001b[0m_next_index\u001b[0m\u001b[0;34m(\u001b[0m\u001b[0;34m)\u001b[0m  \u001b[0;31m# may raise StopIteration\u001b[0m\u001b[0;34m\u001b[0m\u001b[0;34m\u001b[0m\u001b[0m\n\u001b[0;32m--> 561\u001b[0;31m         \u001b[0mdata\u001b[0m \u001b[0;34m=\u001b[0m \u001b[0mself\u001b[0m\u001b[0;34m.\u001b[0m\u001b[0m_dataset_fetcher\u001b[0m\u001b[0;34m.\u001b[0m\u001b[0mfetch\u001b[0m\u001b[0;34m(\u001b[0m\u001b[0mindex\u001b[0m\u001b[0;34m)\u001b[0m  \u001b[0;31m# may raise StopIteration\u001b[0m\u001b[0;34m\u001b[0m\u001b[0;34m\u001b[0m\u001b[0m\n\u001b[0m\u001b[1;32m    562\u001b[0m         \u001b[0;32mif\u001b[0m \u001b[0mself\u001b[0m\u001b[0;34m.\u001b[0m\u001b[0m_pin_memory\u001b[0m\u001b[0;34m:\u001b[0m\u001b[0;34m\u001b[0m\u001b[0;34m\u001b[0m\u001b[0m\n\u001b[1;32m    563\u001b[0m             \u001b[0mdata\u001b[0m \u001b[0;34m=\u001b[0m \u001b[0m_utils\u001b[0m\u001b[0;34m.\u001b[0m\u001b[0mpin_memory\u001b[0m\u001b[0;34m.\u001b[0m\u001b[0mpin_memory\u001b[0m\u001b[0;34m(\u001b[0m\u001b[0mdata\u001b[0m\u001b[0;34m)\u001b[0m\u001b[0;34m\u001b[0m\u001b[0;34m\u001b[0m\u001b[0m\n",
            "\u001b[0;32m/usr/local/lib/python3.7/dist-packages/torch/utils/data/_utils/fetch.py\u001b[0m in \u001b[0;36mfetch\u001b[0;34m(self, possibly_batched_index)\u001b[0m\n\u001b[1;32m     47\u001b[0m     \u001b[0;32mdef\u001b[0m \u001b[0mfetch\u001b[0m\u001b[0;34m(\u001b[0m\u001b[0mself\u001b[0m\u001b[0;34m,\u001b[0m \u001b[0mpossibly_batched_index\u001b[0m\u001b[0;34m)\u001b[0m\u001b[0;34m:\u001b[0m\u001b[0;34m\u001b[0m\u001b[0;34m\u001b[0m\u001b[0m\n\u001b[1;32m     48\u001b[0m         \u001b[0;32mif\u001b[0m \u001b[0mself\u001b[0m\u001b[0;34m.\u001b[0m\u001b[0mauto_collation\u001b[0m\u001b[0;34m:\u001b[0m\u001b[0;34m\u001b[0m\u001b[0;34m\u001b[0m\u001b[0m\n\u001b[0;32m---> 49\u001b[0;31m             \u001b[0mdata\u001b[0m \u001b[0;34m=\u001b[0m \u001b[0;34m[\u001b[0m\u001b[0mself\u001b[0m\u001b[0;34m.\u001b[0m\u001b[0mdataset\u001b[0m\u001b[0;34m[\u001b[0m\u001b[0midx\u001b[0m\u001b[0;34m]\u001b[0m \u001b[0;32mfor\u001b[0m \u001b[0midx\u001b[0m \u001b[0;32min\u001b[0m \u001b[0mpossibly_batched_index\u001b[0m\u001b[0;34m]\u001b[0m\u001b[0;34m\u001b[0m\u001b[0;34m\u001b[0m\u001b[0m\n\u001b[0m\u001b[1;32m     50\u001b[0m         \u001b[0;32melse\u001b[0m\u001b[0;34m:\u001b[0m\u001b[0;34m\u001b[0m\u001b[0;34m\u001b[0m\u001b[0m\n\u001b[1;32m     51\u001b[0m             \u001b[0mdata\u001b[0m \u001b[0;34m=\u001b[0m \u001b[0mself\u001b[0m\u001b[0;34m.\u001b[0m\u001b[0mdataset\u001b[0m\u001b[0;34m[\u001b[0m\u001b[0mpossibly_batched_index\u001b[0m\u001b[0;34m]\u001b[0m\u001b[0;34m\u001b[0m\u001b[0;34m\u001b[0m\u001b[0m\n",
            "\u001b[0;32m/usr/local/lib/python3.7/dist-packages/torch/utils/data/_utils/fetch.py\u001b[0m in \u001b[0;36m<listcomp>\u001b[0;34m(.0)\u001b[0m\n\u001b[1;32m     47\u001b[0m     \u001b[0;32mdef\u001b[0m \u001b[0mfetch\u001b[0m\u001b[0;34m(\u001b[0m\u001b[0mself\u001b[0m\u001b[0;34m,\u001b[0m \u001b[0mpossibly_batched_index\u001b[0m\u001b[0;34m)\u001b[0m\u001b[0;34m:\u001b[0m\u001b[0;34m\u001b[0m\u001b[0;34m\u001b[0m\u001b[0m\n\u001b[1;32m     48\u001b[0m         \u001b[0;32mif\u001b[0m \u001b[0mself\u001b[0m\u001b[0;34m.\u001b[0m\u001b[0mauto_collation\u001b[0m\u001b[0;34m:\u001b[0m\u001b[0;34m\u001b[0m\u001b[0;34m\u001b[0m\u001b[0m\n\u001b[0;32m---> 49\u001b[0;31m             \u001b[0mdata\u001b[0m \u001b[0;34m=\u001b[0m \u001b[0;34m[\u001b[0m\u001b[0mself\u001b[0m\u001b[0;34m.\u001b[0m\u001b[0mdataset\u001b[0m\u001b[0;34m[\u001b[0m\u001b[0midx\u001b[0m\u001b[0;34m]\u001b[0m \u001b[0;32mfor\u001b[0m \u001b[0midx\u001b[0m \u001b[0;32min\u001b[0m \u001b[0mpossibly_batched_index\u001b[0m\u001b[0;34m]\u001b[0m\u001b[0;34m\u001b[0m\u001b[0;34m\u001b[0m\u001b[0m\n\u001b[0m\u001b[1;32m     50\u001b[0m         \u001b[0;32melse\u001b[0m\u001b[0;34m:\u001b[0m\u001b[0;34m\u001b[0m\u001b[0;34m\u001b[0m\u001b[0m\n\u001b[1;32m     51\u001b[0m             \u001b[0mdata\u001b[0m \u001b[0;34m=\u001b[0m \u001b[0mself\u001b[0m\u001b[0;34m.\u001b[0m\u001b[0mdataset\u001b[0m\u001b[0;34m[\u001b[0m\u001b[0mpossibly_batched_index\u001b[0m\u001b[0;34m]\u001b[0m\u001b[0;34m\u001b[0m\u001b[0;34m\u001b[0m\u001b[0m\n",
            "\u001b[0;32m/usr/local/lib/python3.7/dist-packages/torchvision/datasets/mnist.py\u001b[0m in \u001b[0;36m__getitem__\u001b[0;34m(self, index)\u001b[0m\n\u001b[1;32m    132\u001b[0m \u001b[0;34m\u001b[0m\u001b[0m\n\u001b[1;32m    133\u001b[0m         \u001b[0;32mif\u001b[0m \u001b[0mself\u001b[0m\u001b[0;34m.\u001b[0m\u001b[0mtransform\u001b[0m \u001b[0;32mis\u001b[0m \u001b[0;32mnot\u001b[0m \u001b[0;32mNone\u001b[0m\u001b[0;34m:\u001b[0m\u001b[0;34m\u001b[0m\u001b[0;34m\u001b[0m\u001b[0m\n\u001b[0;32m--> 134\u001b[0;31m             \u001b[0mimg\u001b[0m \u001b[0;34m=\u001b[0m \u001b[0mself\u001b[0m\u001b[0;34m.\u001b[0m\u001b[0mtransform\u001b[0m\u001b[0;34m(\u001b[0m\u001b[0mimg\u001b[0m\u001b[0;34m)\u001b[0m\u001b[0;34m\u001b[0m\u001b[0;34m\u001b[0m\u001b[0m\n\u001b[0m\u001b[1;32m    135\u001b[0m \u001b[0;34m\u001b[0m\u001b[0m\n\u001b[1;32m    136\u001b[0m         \u001b[0;32mif\u001b[0m \u001b[0mself\u001b[0m\u001b[0;34m.\u001b[0m\u001b[0mtarget_transform\u001b[0m \u001b[0;32mis\u001b[0m \u001b[0;32mnot\u001b[0m \u001b[0;32mNone\u001b[0m\u001b[0;34m:\u001b[0m\u001b[0;34m\u001b[0m\u001b[0;34m\u001b[0m\u001b[0m\n",
            "\u001b[0;32m/usr/local/lib/python3.7/dist-packages/torchvision/transforms/transforms.py\u001b[0m in \u001b[0;36m__call__\u001b[0;34m(self, img)\u001b[0m\n\u001b[1;32m     59\u001b[0m     \u001b[0;32mdef\u001b[0m \u001b[0m__call__\u001b[0m\u001b[0;34m(\u001b[0m\u001b[0mself\u001b[0m\u001b[0;34m,\u001b[0m \u001b[0mimg\u001b[0m\u001b[0;34m)\u001b[0m\u001b[0;34m:\u001b[0m\u001b[0;34m\u001b[0m\u001b[0;34m\u001b[0m\u001b[0m\n\u001b[1;32m     60\u001b[0m         \u001b[0;32mfor\u001b[0m \u001b[0mt\u001b[0m \u001b[0;32min\u001b[0m \u001b[0mself\u001b[0m\u001b[0;34m.\u001b[0m\u001b[0mtransforms\u001b[0m\u001b[0;34m:\u001b[0m\u001b[0;34m\u001b[0m\u001b[0;34m\u001b[0m\u001b[0m\n\u001b[0;32m---> 61\u001b[0;31m             \u001b[0mimg\u001b[0m \u001b[0;34m=\u001b[0m \u001b[0mt\u001b[0m\u001b[0;34m(\u001b[0m\u001b[0mimg\u001b[0m\u001b[0;34m)\u001b[0m\u001b[0;34m\u001b[0m\u001b[0;34m\u001b[0m\u001b[0m\n\u001b[0m\u001b[1;32m     62\u001b[0m         \u001b[0;32mreturn\u001b[0m \u001b[0mimg\u001b[0m\u001b[0;34m\u001b[0m\u001b[0;34m\u001b[0m\u001b[0m\n\u001b[1;32m     63\u001b[0m \u001b[0;34m\u001b[0m\u001b[0m\n",
            "\u001b[0;32m/usr/local/lib/python3.7/dist-packages/torchvision/transforms/transforms.py\u001b[0m in \u001b[0;36m__call__\u001b[0;34m(self, pic)\u001b[0m\n\u001b[1;32m     96\u001b[0m             \u001b[0mTensor\u001b[0m\u001b[0;34m:\u001b[0m \u001b[0mConverted\u001b[0m \u001b[0mimage\u001b[0m\u001b[0;34m.\u001b[0m\u001b[0;34m\u001b[0m\u001b[0;34m\u001b[0m\u001b[0m\n\u001b[1;32m     97\u001b[0m         \"\"\"\n\u001b[0;32m---> 98\u001b[0;31m         \u001b[0;32mreturn\u001b[0m \u001b[0mF\u001b[0m\u001b[0;34m.\u001b[0m\u001b[0mto_tensor\u001b[0m\u001b[0;34m(\u001b[0m\u001b[0mpic\u001b[0m\u001b[0;34m)\u001b[0m\u001b[0;34m\u001b[0m\u001b[0;34m\u001b[0m\u001b[0m\n\u001b[0m\u001b[1;32m     99\u001b[0m \u001b[0;34m\u001b[0m\u001b[0m\n\u001b[1;32m    100\u001b[0m     \u001b[0;32mdef\u001b[0m \u001b[0m__repr__\u001b[0m\u001b[0;34m(\u001b[0m\u001b[0mself\u001b[0m\u001b[0;34m)\u001b[0m\u001b[0;34m:\u001b[0m\u001b[0;34m\u001b[0m\u001b[0;34m\u001b[0m\u001b[0m\n",
            "\u001b[0;32m/usr/local/lib/python3.7/dist-packages/torchvision/transforms/functional.py\u001b[0m in \u001b[0;36mto_tensor\u001b[0;34m(pic)\u001b[0m\n\u001b[1;32m    139\u001b[0m     \u001b[0mmode_to_nptype\u001b[0m \u001b[0;34m=\u001b[0m \u001b[0;34m{\u001b[0m\u001b[0;34m'I'\u001b[0m\u001b[0;34m:\u001b[0m \u001b[0mnp\u001b[0m\u001b[0;34m.\u001b[0m\u001b[0mint32\u001b[0m\u001b[0;34m,\u001b[0m \u001b[0;34m'I;16'\u001b[0m\u001b[0;34m:\u001b[0m \u001b[0mnp\u001b[0m\u001b[0;34m.\u001b[0m\u001b[0mint16\u001b[0m\u001b[0;34m,\u001b[0m \u001b[0;34m'F'\u001b[0m\u001b[0;34m:\u001b[0m \u001b[0mnp\u001b[0m\u001b[0;34m.\u001b[0m\u001b[0mfloat32\u001b[0m\u001b[0;34m}\u001b[0m\u001b[0;34m\u001b[0m\u001b[0;34m\u001b[0m\u001b[0m\n\u001b[1;32m    140\u001b[0m     img = torch.from_numpy(\n\u001b[0;32m--> 141\u001b[0;31m         \u001b[0mnp\u001b[0m\u001b[0;34m.\u001b[0m\u001b[0marray\u001b[0m\u001b[0;34m(\u001b[0m\u001b[0mpic\u001b[0m\u001b[0;34m,\u001b[0m \u001b[0mmode_to_nptype\u001b[0m\u001b[0;34m.\u001b[0m\u001b[0mget\u001b[0m\u001b[0;34m(\u001b[0m\u001b[0mpic\u001b[0m\u001b[0;34m.\u001b[0m\u001b[0mmode\u001b[0m\u001b[0;34m,\u001b[0m \u001b[0mnp\u001b[0m\u001b[0;34m.\u001b[0m\u001b[0muint8\u001b[0m\u001b[0;34m)\u001b[0m\u001b[0;34m,\u001b[0m \u001b[0mcopy\u001b[0m\u001b[0;34m=\u001b[0m\u001b[0;32mTrue\u001b[0m\u001b[0;34m)\u001b[0m\u001b[0;34m\u001b[0m\u001b[0;34m\u001b[0m\u001b[0m\n\u001b[0m\u001b[1;32m    142\u001b[0m     )\n\u001b[1;32m    143\u001b[0m \u001b[0;34m\u001b[0m\u001b[0m\n",
            "\u001b[0;31mTypeError\u001b[0m: int() argument must be a string, a bytes-like object or a number, not 'Image'"
          ]
        }
      ]
    },
    {
      "cell_type": "code",
      "source": [
        "z = Variable(Tensor(np.random.normal(0, 1, (imgs.shape[0], opt.latent_dim))))\n",
        "gen_imgs = generator(z)\n",
        "\n",
        "plt.imshow(gen_imgs[0])"
      ],
      "metadata": {
        "id": "BJ11PtErknhQ"
      },
      "execution_count": null,
      "outputs": []
    },
    {
      "cell_type": "markdown",
      "source": [
        "## MIDI GAN Tutorial"
      ],
      "metadata": {
        "id": "JM87cWAKcD36"
      }
    },
    {
      "cell_type": "code",
      "source": [
        "!git clone https://github.com/slslslrhfem/MIDIgentutorial"
      ],
      "metadata": {
        "colab": {
          "base_uri": "https://localhost:8080/"
        },
        "id": "xe-GY6l6npIE",
        "outputId": "53b48652-d138-48ae-e973-2c882052e595"
      },
      "execution_count": 16,
      "outputs": [
        {
          "output_type": "stream",
          "name": "stdout",
          "text": [
            "Cloning into 'MIDIgentutorial'...\n",
            "remote: Enumerating objects: 756, done.\u001b[K\n",
            "remote: Counting objects: 100% (756/756), done.\u001b[K\n",
            "remote: Compressing objects: 100% (553/553), done.\u001b[K\n",
            "remote: Total 756 (delta 202), reused 752 (delta 201), pack-reused 0\u001b[K\n",
            "Receiving objects: 100% (756/756), 851.88 KiB | 4.92 MiB/s, done.\n",
            "Resolving deltas: 100% (202/202), done.\n"
          ]
        }
      ]
    },
    {
      "cell_type": "code",
      "execution_count": 12,
      "metadata": {
        "colab": {
          "base_uri": "https://localhost:8080/",
          "height": 1000
        },
        "id": "MxEabHuzyjFE",
        "outputId": "df6bc899-155e-42ed-b30e-f7e0953603c7"
      },
      "outputs": [
        {
          "output_type": "stream",
          "name": "stdout",
          "text": [
            "Collecting mido\n",
            "  Downloading mido-1.2.10-py2.py3-none-any.whl (51 kB)\n",
            "\u001b[?25l\r\u001b[K     |██████▍                         | 10 kB 33.9 MB/s eta 0:00:01\r\u001b[K     |████████████▉                   | 20 kB 8.3 MB/s eta 0:00:01\r\u001b[K     |███████████████████▎            | 30 kB 7.5 MB/s eta 0:00:01\r\u001b[K     |█████████████████████████▋      | 40 kB 7.2 MB/s eta 0:00:01\r\u001b[K     |████████████████████████████████| 51 kB 2.9 MB/s \n",
            "\u001b[?25hInstalling collected packages: mido\n",
            "Successfully installed mido-1.2.10\n",
            "Collecting h5py==2.10.0\n",
            "  Downloading h5py-2.10.0-cp37-cp37m-manylinux1_x86_64.whl (2.9 MB)\n",
            "\u001b[K     |████████████████████████████████| 2.9 MB 4.2 MB/s \n",
            "\u001b[?25hCollecting numpy>=1.7\n",
            "  Downloading numpy-1.21.5-cp37-cp37m-manylinux_2_12_x86_64.manylinux2010_x86_64.whl (15.7 MB)\n",
            "\u001b[K     |████████████████████████████████| 15.7 MB 55.7 MB/s \n",
            "\u001b[?25hCollecting six\n",
            "  Downloading six-1.16.0-py2.py3-none-any.whl (11 kB)\n",
            "Installing collected packages: six, numpy, h5py\n",
            "  Attempting uninstall: six\n",
            "    Found existing installation: six 1.15.0\n",
            "    Uninstalling six-1.15.0:\n",
            "      Successfully uninstalled six-1.15.0\n",
            "  Attempting uninstall: numpy\n",
            "    Found existing installation: numpy 1.19.5\n",
            "    Uninstalling numpy-1.19.5:\n",
            "      Successfully uninstalled numpy-1.19.5\n",
            "  Attempting uninstall: h5py\n",
            "    Found existing installation: h5py 3.1.0\n",
            "    Uninstalling h5py-3.1.0:\n",
            "      Successfully uninstalled h5py-3.1.0\n",
            "\u001b[31mERROR: pip's dependency resolver does not currently take into account all the packages that are installed. This behaviour is the source of the following dependency conflicts.\n",
            "yellowbrick 1.3.post1 requires numpy<1.20,>=1.16.0, but you have numpy 1.21.5 which is incompatible.\n",
            "google-colab 1.0.0 requires six~=1.15.0, but you have six 1.16.0 which is incompatible.\n",
            "datascience 0.10.6 requires folium==0.2.1, but you have folium 0.8.3 which is incompatible.\n",
            "albumentations 0.1.12 requires imgaug<0.2.7,>=0.2.5, but you have imgaug 0.2.9 which is incompatible.\u001b[0m\n",
            "Successfully installed h5py-2.10.0 numpy-1.21.5 six-1.16.0\n"
          ]
        },
        {
          "output_type": "display_data",
          "data": {
            "application/vnd.colab-display-data+json": {
              "pip_warning": {
                "packages": [
                  "numpy",
                  "six"
                ]
              }
            }
          },
          "metadata": {}
        },
        {
          "output_type": "stream",
          "name": "stdout",
          "text": [
            "Collecting pretty_midi\n",
            "  Downloading pretty_midi-0.2.9.tar.gz (5.6 MB)\n",
            "\u001b[K     |████████████████████████████████| 5.6 MB 3.7 MB/s \n",
            "\u001b[?25hRequirement already satisfied: numpy>=1.7.0 in /usr/local/lib/python3.7/dist-packages (from pretty_midi) (1.21.5)\n",
            "Requirement already satisfied: mido>=1.1.16 in /usr/local/lib/python3.7/dist-packages (from pretty_midi) (1.2.10)\n",
            "Requirement already satisfied: six in /usr/local/lib/python3.7/dist-packages (from pretty_midi) (1.16.0)\n",
            "Building wheels for collected packages: pretty-midi\n",
            "  Building wheel for pretty-midi (setup.py) ... \u001b[?25l\u001b[?25hdone\n",
            "  Created wheel for pretty-midi: filename=pretty_midi-0.2.9-py3-none-any.whl size=5591955 sha256=995bd73c21179a5fe04add392f438f2d935dfe3efea0975c7457f655f0cac975\n",
            "  Stored in directory: /root/.cache/pip/wheels/ad/74/7c/a06473ca8dcb63efb98c1e67667ce39d52100f837835ea18fa\n",
            "Successfully built pretty-midi\n",
            "Installing collected packages: pretty-midi\n",
            "Successfully installed pretty-midi-0.2.9\n",
            "Collecting tensorflow==1.15.0\n",
            "  Downloading tensorflow-1.15.0-cp37-cp37m-manylinux2010_x86_64.whl (412.3 MB)\n",
            "\u001b[K     |████████████████████████████████| 412.3 MB 23 kB/s \n",
            "\u001b[?25hRequirement already satisfied: termcolor>=1.1.0 in /usr/local/lib/python3.7/dist-packages (from tensorflow==1.15.0) (1.1.0)\n",
            "Collecting keras-applications>=1.0.8\n",
            "  Downloading Keras_Applications-1.0.8-py3-none-any.whl (50 kB)\n",
            "\u001b[K     |████████████████████████████████| 50 kB 8.7 MB/s \n",
            "\u001b[?25hRequirement already satisfied: wheel>=0.26 in /usr/local/lib/python3.7/dist-packages (from tensorflow==1.15.0) (0.37.1)\n",
            "Collecting tensorflow-estimator==1.15.1\n",
            "  Downloading tensorflow_estimator-1.15.1-py2.py3-none-any.whl (503 kB)\n",
            "\u001b[K     |████████████████████████████████| 503 kB 72.4 MB/s \n",
            "\u001b[?25hCollecting tensorboard<1.16.0,>=1.15.0\n",
            "  Downloading tensorboard-1.15.0-py3-none-any.whl (3.8 MB)\n",
            "\u001b[K     |████████████████████████████████| 3.8 MB 65.4 MB/s \n",
            "\u001b[?25hRequirement already satisfied: opt-einsum>=2.3.2 in /usr/local/lib/python3.7/dist-packages (from tensorflow==1.15.0) (3.3.0)\n",
            "Requirement already satisfied: google-pasta>=0.1.6 in /usr/local/lib/python3.7/dist-packages (from tensorflow==1.15.0) (0.2.0)\n",
            "Collecting gast==0.2.2\n",
            "  Downloading gast-0.2.2.tar.gz (10 kB)\n",
            "Requirement already satisfied: numpy<2.0,>=1.16.0 in /usr/local/lib/python3.7/dist-packages (from tensorflow==1.15.0) (1.21.5)\n",
            "Requirement already satisfied: wrapt>=1.11.1 in /usr/local/lib/python3.7/dist-packages (from tensorflow==1.15.0) (1.13.3)\n",
            "Requirement already satisfied: absl-py>=0.7.0 in /usr/local/lib/python3.7/dist-packages (from tensorflow==1.15.0) (0.12.0)\n",
            "Requirement already satisfied: astor>=0.6.0 in /usr/local/lib/python3.7/dist-packages (from tensorflow==1.15.0) (0.8.1)\n",
            "Requirement already satisfied: six>=1.10.0 in /usr/local/lib/python3.7/dist-packages (from tensorflow==1.15.0) (1.16.0)\n",
            "Requirement already satisfied: keras-preprocessing>=1.0.5 in /usr/local/lib/python3.7/dist-packages (from tensorflow==1.15.0) (1.1.2)\n",
            "Requirement already satisfied: protobuf>=3.6.1 in /usr/local/lib/python3.7/dist-packages (from tensorflow==1.15.0) (3.17.3)\n",
            "Requirement already satisfied: grpcio>=1.8.6 in /usr/local/lib/python3.7/dist-packages (from tensorflow==1.15.0) (1.43.0)\n",
            "Requirement already satisfied: h5py in /usr/local/lib/python3.7/dist-packages (from keras-applications>=1.0.8->tensorflow==1.15.0) (2.10.0)\n",
            "Requirement already satisfied: markdown>=2.6.8 in /usr/local/lib/python3.7/dist-packages (from tensorboard<1.16.0,>=1.15.0->tensorflow==1.15.0) (3.3.6)\n",
            "Requirement already satisfied: setuptools>=41.0.0 in /usr/local/lib/python3.7/dist-packages (from tensorboard<1.16.0,>=1.15.0->tensorflow==1.15.0) (57.4.0)\n",
            "Requirement already satisfied: werkzeug>=0.11.15 in /usr/local/lib/python3.7/dist-packages (from tensorboard<1.16.0,>=1.15.0->tensorflow==1.15.0) (1.0.1)\n",
            "Requirement already satisfied: importlib-metadata>=4.4 in /usr/local/lib/python3.7/dist-packages (from markdown>=2.6.8->tensorboard<1.16.0,>=1.15.0->tensorflow==1.15.0) (4.10.0)\n",
            "Requirement already satisfied: typing-extensions>=3.6.4 in /usr/local/lib/python3.7/dist-packages (from importlib-metadata>=4.4->markdown>=2.6.8->tensorboard<1.16.0,>=1.15.0->tensorflow==1.15.0) (3.10.0.2)\n",
            "Requirement already satisfied: zipp>=0.5 in /usr/local/lib/python3.7/dist-packages (from importlib-metadata>=4.4->markdown>=2.6.8->tensorboard<1.16.0,>=1.15.0->tensorflow==1.15.0) (3.7.0)\n",
            "Building wheels for collected packages: gast\n",
            "  Building wheel for gast (setup.py) ... \u001b[?25l\u001b[?25hdone\n",
            "  Created wheel for gast: filename=gast-0.2.2-py3-none-any.whl size=7554 sha256=7051a92952fd45b024f9934f9bd598b683de4ed4d4a2ea5790dc9d0dc35fe7a4\n",
            "  Stored in directory: /root/.cache/pip/wheels/21/7f/02/420f32a803f7d0967b48dd823da3f558c5166991bfd204eef3\n",
            "Successfully built gast\n",
            "Installing collected packages: tensorflow-estimator, tensorboard, keras-applications, gast, tensorflow\n",
            "  Attempting uninstall: tensorflow-estimator\n",
            "    Found existing installation: tensorflow-estimator 2.7.0\n",
            "    Uninstalling tensorflow-estimator-2.7.0:\n",
            "      Successfully uninstalled tensorflow-estimator-2.7.0\n",
            "  Attempting uninstall: tensorboard\n",
            "    Found existing installation: tensorboard 2.7.0\n",
            "    Uninstalling tensorboard-2.7.0:\n",
            "      Successfully uninstalled tensorboard-2.7.0\n",
            "  Attempting uninstall: gast\n",
            "    Found existing installation: gast 0.4.0\n",
            "    Uninstalling gast-0.4.0:\n",
            "      Successfully uninstalled gast-0.4.0\n",
            "  Attempting uninstall: tensorflow\n",
            "    Found existing installation: tensorflow 2.7.0\n",
            "    Uninstalling tensorflow-2.7.0:\n",
            "      Successfully uninstalled tensorflow-2.7.0\n",
            "\u001b[31mERROR: pip's dependency resolver does not currently take into account all the packages that are installed. This behaviour is the source of the following dependency conflicts.\n",
            "tensorflow-probability 0.15.0 requires gast>=0.3.2, but you have gast 0.2.2 which is incompatible.\n",
            "kapre 0.3.6 requires tensorflow>=2.0.0, but you have tensorflow 1.15.0 which is incompatible.\u001b[0m\n",
            "Successfully installed gast-0.2.2 keras-applications-1.0.8 tensorboard-1.15.0 tensorflow-1.15.0 tensorflow-estimator-1.15.1\n",
            "Collecting keras==2.3.1\n",
            "  Downloading Keras-2.3.1-py2.py3-none-any.whl (377 kB)\n",
            "\u001b[K     |████████████████████████████████| 377 kB 4.2 MB/s \n",
            "\u001b[?25hRequirement already satisfied: scipy>=0.14 in /usr/local/lib/python3.7/dist-packages (from keras==2.3.1) (1.4.1)\n",
            "Requirement already satisfied: pyyaml in /usr/local/lib/python3.7/dist-packages (from keras==2.3.1) (3.13)\n",
            "Requirement already satisfied: keras-applications>=1.0.6 in /usr/local/lib/python3.7/dist-packages (from keras==2.3.1) (1.0.8)\n",
            "Requirement already satisfied: numpy>=1.9.1 in /usr/local/lib/python3.7/dist-packages (from keras==2.3.1) (1.21.5)\n",
            "Requirement already satisfied: keras-preprocessing>=1.0.5 in /usr/local/lib/python3.7/dist-packages (from keras==2.3.1) (1.1.2)\n",
            "Requirement already satisfied: six>=1.9.0 in /usr/local/lib/python3.7/dist-packages (from keras==2.3.1) (1.16.0)\n",
            "Requirement already satisfied: h5py in /usr/local/lib/python3.7/dist-packages (from keras==2.3.1) (2.10.0)\n",
            "Installing collected packages: keras\n",
            "  Attempting uninstall: keras\n",
            "    Found existing installation: keras 2.7.0\n",
            "    Uninstalling keras-2.7.0:\n",
            "      Successfully uninstalled keras-2.7.0\n",
            "Successfully installed keras-2.3.1\n",
            "Collecting midiutil\n",
            "  Downloading MIDIUtil-1.2.1.tar.gz (1.0 MB)\n",
            "\u001b[K     |████████████████████████████████| 1.0 MB 4.2 MB/s \n",
            "\u001b[?25hBuilding wheels for collected packages: midiutil\n",
            "  Building wheel for midiutil (setup.py) ... \u001b[?25l\u001b[?25hdone\n",
            "  Created wheel for midiutil: filename=MIDIUtil-1.2.1-py3-none-any.whl size=54566 sha256=f845f0d46482c997c2c9036d7be79ab506ca32a516ea49af3a36b43744ec49f3\n",
            "  Stored in directory: /root/.cache/pip/wheels/e3/97/cd/a677b61a76d575f373e2e10302f1d9106507fea6dd1320df03\n",
            "Successfully built midiutil\n",
            "Installing collected packages: midiutil\n",
            "Successfully installed midiutil-1.2.1\n",
            "Requirement already satisfied: easydict in /usr/local/lib/python3.7/dist-packages (1.9)\n"
          ]
        }
      ],
      "source": [
        "!pip install mido\n",
        "!pip install h5py==2.10.0 --force-reinstall\n",
        "!pip install pretty_midi\n",
        "!pip install tensorflow==1.15.0\n",
        "!pip install keras==2.3.1\n",
        "!pip install midiutil\n",
        "!pip install easydict"
      ]
    },
    {
      "cell_type": "code",
      "execution_count": 13,
      "metadata": {
        "colab": {
          "base_uri": "https://localhost:8080/"
        },
        "id": "upkZgrqruxem",
        "outputId": "0fc096c3-098f-4479-aa9a-cae755aeb880"
      },
      "outputs": [
        {
          "output_type": "stream",
          "name": "stderr",
          "text": [
            "Using TensorFlow backend.\n"
          ]
        }
      ],
      "source": [
        "from matplotlib import pyplot as plt\n",
        "import os\n",
        "import pandas\n",
        "from midiutil.MidiFile import MIDIFile\n",
        "import copy\n",
        "import pretty_midi\n",
        "import seaborn as sns\n",
        "import sklearn.metrics\n",
        "import matplotlib.pyplot as plt\n",
        "import numpy as np\n",
        "from keras.models import Model\n",
        "from keras.optimizers import SGD\n",
        "from keras.initializers import VarianceScaling\n",
        "import mido\n",
        "from tqdm import tqdm\n",
        "import scipy as sp\n",
        "from sklearn.cluster import KMeans\n",
        "import keras\n",
        "import os\n",
        "import json\n",
        "import pandas\n",
        "import tensorflow as tf\n",
        "import numpy as np\n",
        "from keras.layers import Dense\n",
        "from keras import layers\n",
        "from keras import optimizers\n",
        "from keras.models import Sequential\n",
        "import pickle\n",
        "import pretty_midi\n",
        "import mido\n",
        "from tqdm import tqdm\n",
        "import pickle\n",
        "import copy"
      ]
    },
    {
      "cell_type": "code",
      "execution_count": 19,
      "metadata": {
        "id": "KOjmQZTO0TtC"
      },
      "outputs": [],
      "source": [
        "def get_meta(filename):\n",
        "  with open('MIDIgentutorial/PPDD-Sep2018_sym_mono_small/PPDD-Sep2018_sym_mono_small/descriptor/'+filename) as json_file:\n",
        "    meta_data = json.load(json_file)\n",
        "  return meta_data"
      ]
    },
    {
      "cell_type": "code",
      "execution_count": 17,
      "metadata": {
        "id": "JdprhNM2Y2qy"
      },
      "outputs": [],
      "source": [
        "\n",
        "csvfilenames=os.listdir('MIDIgentutorial/PPDD-Sep2018_sym_mono_small/PPDD-Sep2018_sym_mono_small/prime_csv')\n",
        "jsonfilenames=os.listdir('MIDIgentutorial/PPDD-Sep2018_sym_mono_small/PPDD-Sep2018_sym_mono_small/descriptor')\n",
        "midifilenames=os.listdir('MIDIgentutorial/PPDD-Sep2018_sym_mono_small/PPDD-Sep2018_sym_mono_small/prime_midi')\n",
        "\n",
        "midifilenames=sorted(midifilenames)\n",
        "csvfilenames=sorted(csvfilenames)\n",
        "jsonfilenames=sorted(jsonfilenames)\n",
        "\n"
      ]
    },
    {
      "cell_type": "code",
      "execution_count": 20,
      "metadata": {
        "colab": {
          "base_uri": "https://localhost:8080/"
        },
        "id": "Yc57uuAq2gx9",
        "outputId": "08f216c4-239e-44ba-d34e-9faeb30313c0"
      },
      "outputs": [
        {
          "output_type": "stream",
          "name": "stderr",
          "text": [
            "100%|██████████| 100/100 [00:00<00:00, 170.33it/s]\n",
            "100%|██████████| 100/100 [00:00<00:00, 694.84it/s]\n",
            "100%|██████████| 100/100 [00:00<00:00, 18372.70it/s]\n"
          ]
        }
      ],
      "source": [
        "import pretty_midi\n",
        "import mido\n",
        "from tqdm import tqdm\n",
        "midilist=[]\n",
        "csvlist=[]\n",
        "jsonlist=[]\n",
        "prettymidilist=[]\n",
        "for filenames in tqdm(midifilenames,position=0):\n",
        "  midi_path='MIDIgentutorial/PPDD-Sep2018_sym_mono_small/PPDD-Sep2018_sym_mono_small/prime_midi/'+filenames\n",
        "  mid = mido.MidiFile(midi_path, clip=True)\n",
        "  midilist.append(mid)\n",
        "  prettymid=pretty_midi.PrettyMIDI(midi_path)\n",
        "  prettymidilist.append(prettymid)\n",
        "\n",
        "for filenames in tqdm(csvfilenames,position=0):\n",
        "  csv_path='MIDIgentutorial/PPDD-Sep2018_sym_mono_small/PPDD-Sep2018_sym_mono_small/prime_csv/'+filenames\n",
        "  csv = pandas.read_csv(csv_path)\n",
        "  csvlist.append(csv)\n",
        "for filenames in tqdm(jsonfilenames,position=0):\n",
        "  jsonlist.append(get_meta(filenames))\n",
        "\n",
        "#midifilenames와 list들의 순서는 같다고 생각하고 코드 작성"
      ]
    },
    {
      "cell_type": "markdown",
      "metadata": {
        "id": "rOttPVfF_yuk"
      },
      "source": [
        "아래의 코드는 csv기반의 Processing을 진행한다. \n",
        "MIDI 기반의 Processing은 다음 블록에 작성되어 있으며, 둘 중 하나만 굴리면 된다."
      ]
    },
    {
      "cell_type": "code",
      "execution_count": 21,
      "metadata": {
        "id": "IeRQyawg_8tO"
      },
      "outputs": [],
      "source": [
        "#이게 이제 input을 midi로 받는 코드.\n",
        "\n",
        "bar_list=[]\n",
        "one_bar_number_list=[]\n",
        "starting_number_list=[]\n",
        "chord_list=[]\n",
        "for i,songs in enumerate(prettymidilist):#곡마다.\n",
        "  if('timeSignature' not in jsonlist[i]):\n",
        "    jsonlist[i]['timeSignature']=[4,4]\n",
        "  if(jsonlist[i]['timeSignature'] !=[4,4]):#!=[4,4]로 써서 4,4만고려가능\n",
        "    pass\n",
        "  else:\n",
        "    for instrument in songs.instruments: #2. 어차피 instrument하나\n",
        "      csvarray=[]\n",
        "      for note in instrument.notes: #3\n",
        "        row=[note.start*2, note.pitch, note.pitch, (note.end - note.start)*2, 0] #*2를 해줘야 제대로 하나의 bar가 하나의 단위가 된다.\n",
        "        csvarray.append(row)\n",
        "    csvarray=np.array(csvarray)\n",
        "    one_bar_number=jsonlist[i]['timeSignature'][0]\n",
        "    chord=jsonlist[i]['keyEstimate'][-5:]\n",
        "    bar_number=(csvarray[-1][0]-csvarray[0][0])//one_bar_number+1\n",
        "    bar_info_list=[]\n",
        "    for i in range(int(bar_number)):\n",
        "      starting_bar_time=csvarray[0][0]+i*one_bar_number\n",
        "      bar_info_list.append(csvarray[np.where( (starting_bar_time<=csvarray[:,0]) & (csvarray[:,0]<starting_bar_time+one_bar_number) )])\n",
        "    bar_list.append(bar_info_list)# bar info list가 bar마다 csv내용들 담겨져 있는거다.\n",
        "    one_bar_number_list.append(one_bar_number)\n",
        "    starting_number_list.append(csvarray[0][0])\n",
        "    chord_list.append(chord)"
      ]
    },
    {
      "cell_type": "code",
      "execution_count": 22,
      "metadata": {
        "colab": {
          "base_uri": "https://localhost:8080/"
        },
        "id": "ioRp4dJDCtUK",
        "outputId": "adf5d235-b994-473c-f2ec-9bdd4af26da5"
      },
      "outputs": [
        {
          "output_type": "stream",
          "name": "stdout",
          "text": [
            "[[ 0.         33.         33.          0.83333333  0.        ]\n",
            " [ 1.         37.         37.          0.5         0.        ]\n",
            " [ 1.5        38.         38.          0.33333333  0.        ]\n",
            " [ 2.         40.         40.          0.83333333  0.        ]\n",
            " [ 3.         33.         33.          0.75        0.        ]]\n",
            "{'id': '00b7561d-c09b-41f2-bf21-537603fbe758', 'idLakh': 'ac0c789d9798acc2cda1c90c28bddb3d', 'bpm': 135, 'timeSignature': [4, 4], 'keyEstimate': 'A major'}\n"
          ]
        }
      ],
      "source": [
        "print(bar_list[0][0])#1번째 곡의 1번째 bar.\n",
        "print(jsonlist[0])"
      ]
    },
    {
      "cell_type": "code",
      "execution_count": 23,
      "metadata": {
        "id": "aK7G2wiA4fgg"
      },
      "outputs": [],
      "source": [
        "def nearest_time(time,minimum_size):\n",
        "  #혹시나 값이 조금 벗어나는 엇박 음을 가까운 최소단위로 Shifting 하기 위한 함수\n",
        "  num_to_multiply=time/minimum_size\n",
        "  num_to_multiply=int(num_to_multiply)\n",
        "  left_time=num_to_multiply*minimum_size\n",
        "  right_time=left_time+minimum_size\n",
        "  if (time-left_time>=right_time-time):\n",
        "    return right_time\n",
        "  return left_time\n",
        "\n",
        "def bar_to_matrix3(bar,one_bar_number,starting_number,i):\n",
        "  # 주어진 Bar를 24*24의 Pitch matrix(Piano-Roll)로 바꾸는 함수. \n",
        "  init=np.zeros((24,24))\n",
        "  minimum_size=one_bar_number/24\n",
        "  zero_time=starting_number+one_bar_number*i\n",
        "  min_height=500\n",
        "  for lists in bar:\n",
        "    if min_height>lists[1]:\n",
        "      min_height=lists[1]    \n",
        "  for j,lists in enumerate(bar):\n",
        "    #lists[0]은 시간, lists[1]은 Note 높이, lists[3]은 Duration. \n",
        "    point=int((nearest_time(lists[0],minimum_size)-zero_time)/minimum_size)\n",
        "    length=int(round(lists[3]/minimum_size))\n",
        "    if (length>3):\n",
        "      length=length-1#여러번 두두두 치는 음을 구별하기 위함\n",
        "    if (point+length>23):\n",
        "      length=23-point # 한 음이 2Bar에 걸쳐있는 경우 Bar 뒤쪽의 음을 무시한다.\n",
        "    height=lists[1]-min_height\n",
        "    while(height>23):\n",
        "      height=height-12\n",
        "    init[23-int(height)][point:point+length]+=1\n",
        "  return init"
      ]
    },
    {
      "cell_type": "code",
      "execution_count": 24,
      "metadata": {
        "id": "t34eVSFIT6M-"
      },
      "outputs": [],
      "source": [
        "bar_matrix_list3=copy.deepcopy(bar_list)\n",
        "for i,songs in enumerate(bar_matrix_list3):\n",
        "  for j,bar in enumerate(songs):\n",
        "    matrix3=bar_to_matrix3(bar,one_bar_number_list[i],starting_number_list[i],j)\n",
        "    bar_matrix_list3[i][j]=matrix3"
      ]
    },
    {
      "cell_type": "code",
      "execution_count": 25,
      "metadata": {
        "id": "QhslYmbJdSba"
      },
      "outputs": [],
      "source": [
        "def bar_to_contour(bar,one_bar_number,starting_number,j):\n",
        "  contour=[]\n",
        "  pitch_change_list=[]\n",
        "  duration_list=[]\n",
        "  real_pitch_list=[]\n",
        "  real_time_list=[]\n",
        "  real_duration_list=[]\n",
        "  now_pitch=1000\n",
        "  first_time=starting_number+one_bar_number*j\n",
        "  a=0\n",
        "  for lists in bar:\n",
        "    if(a!=0): \n",
        "      real_time_list.append(lists[0]-now_rhythm)\n",
        "    now_rhythm=lists[0]\n",
        "    a+=1\n",
        "    if (first_time*1.001<lists[0]):#smoothing for case like first time=5.00001, lists[0]=5.0000..\n",
        "      resting_time=lists[0]-first_time\n",
        "      duration_list.append(resting_time)\n",
        "      first_time=lists[0]\n",
        "      pitch_change_list.append('Rest')\n",
        "    if (now_pitch==1000):\n",
        "      pitch_change_list.append('Starting_Point')\n",
        "      real_pitch_list.append('Starting_Point')\n",
        "      real_duration_list.append(lists[3])\n",
        "      duration_list.append(lists[3])\n",
        "      first_time=first_time+lists[3]\n",
        "      now_pitch=lists[1]\n",
        "      a+=1\n",
        "    else:\n",
        "      pitch_change=lists[1]-now_pitch\n",
        "      pitch_change_list.append(str(pitch_change))#나중에 int로 바꿔쓸 것. 자료형 터지는거 때문에 우선 스트링.\n",
        "      duration_list.append(lists[3])\n",
        "      real_duration_list.append(lists[3])\n",
        "      first_time=first_time+lists[3]\n",
        "      now_pitch=lists[1]\n",
        "      real_pitch_list.append(str(pitch_change))\n",
        "  if (first_time*1.001<starting_number+one_bar_number*(j+1)):\n",
        "    pitch_change_list.append('Rest')#마지막 Rest\n",
        "    duration_list.append(starting_number+one_bar_number*(j+1)-first_time)\n",
        "  if(len(bar)!=0):\n",
        "    real_time_list.append(starting_number+one_bar_number*(j+1)-now_rhythm)\n",
        "  contour.append(pitch_change_list)\n",
        "  contour.append(duration_list)\n",
        "  contour.append(real_pitch_list)\n",
        "  contour.append(real_time_list)\n",
        "  contour.append(real_duration_list)\n",
        "  #something\n",
        "  return contour\n",
        "\n"
      ]
    },
    {
      "cell_type": "markdown",
      "metadata": {
        "id": "nkt16alDXVFp"
      },
      "source": [
        "Plot에서 중요한것은 Y-Axis의 0~112의 숫자가 Note의 반대 성향을 가진다는 것이다.(숫자가 커질수록 Note의 높이가 낮아진다.) 이는 PianoRoll을 이미지 처럼 사용하는 과정에서, 직관적인 학습이 가능하도록 이와 같이 구현한 것이다."
      ]
    },
    {
      "cell_type": "code",
      "execution_count": 26,
      "metadata": {
        "id": "9DB6np0r4pr0"
      },
      "outputs": [],
      "source": [
        "bar_contour_list=copy.deepcopy(bar_list)\n",
        "for i,songs in enumerate(bar_list):\n",
        "  for j,bar in enumerate(songs):\n",
        "    contour=bar_to_contour(bar,one_bar_number_list[i],starting_number_list[i],j)\n",
        "    bar_contour_list[i][j]=contour\n"
      ]
    },
    {
      "cell_type": "code",
      "execution_count": 27,
      "metadata": {
        "colab": {
          "base_uri": "https://localhost:8080/"
        },
        "id": "PO49MM20Lth1",
        "outputId": "cb86f2ec-2d62-492d-aa4c-c5ef69b8686c"
      },
      "outputs": [
        {
          "output_type": "stream",
          "name": "stdout",
          "text": [
            "[['Starting_Point', 'Rest', '4.0', '1.0', 'Rest', '2.0', 'Rest', '-7.0', 'Rest'], [0.8333333333333333, 0.16666666666666674, 0.5, 0.33333333333333326, 0.16666666666666674, 0.833333333333333, 0.16666666666666696, 0.75, 0.25], ['Starting_Point', '4.0', '1.0', '2.0', '-7.0'], [1.0, 0.5, 0.5, 1.0, 1.0], [0.8333333333333333, 0.5, 0.33333333333333326, 0.833333333333333, 0.75]]\n"
          ]
        }
      ],
      "source": [
        "print(bar_contour_list[0][0])\n"
      ]
    },
    {
      "cell_type": "code",
      "execution_count": 28,
      "metadata": {
        "colab": {
          "base_uri": "https://localhost:8080/",
          "height": 284
        },
        "id": "r1Uk3vrbDPz2",
        "outputId": "fe9d8aae-4c04-4da7-d3e0-b1f58f459c40"
      },
      "outputs": [
        {
          "output_type": "execute_result",
          "data": {
            "text/plain": [
              "<matplotlib.image.AxesImage at 0x7f978d577590>"
            ]
          },
          "metadata": {},
          "execution_count": 28
        },
        {
          "output_type": "display_data",
          "data": {
            "image/png": "[encoded data removed]",
            "text/plain": [
              "<Figure size 432x288 with 1 Axes>"
            ]
          },
          "metadata": {
            "needs_background": "light"
          }
        }
      ],
      "source": [
        "plt.imshow(np.array(bar_matrix_list3[30][1]),cmap='viridis')"
      ]
    },
    {
      "cell_type": "markdown",
      "metadata": {
        "id": "4JLpGOFWNfEk"
      },
      "source": [
        "###MIDI Generation with GAN\n",
        "\n",
        "Code by eriklindernoren,\n",
        "https://github.com/eriklindernoren/Keras-GAN/blob/master/gan/gan.py\n",
        "\n",
        "이거는 Keras 기반의 모델도 사용해보겠습니다. (Torch 기반 모델이 이상하게 나온건 비밀)"
      ]
    },
    {
      "cell_type": "code",
      "source": [
        "from sklearn import preprocessing\n",
        "le = preprocessing.LabelEncoder()\n",
        "trainX=[]\n",
        "for i,songs in enumerate(bar_matrix_list3):\n",
        "  for matrix in songs:\n",
        "    matrix=matrix.reshape(24,24)\n",
        "    matrix=sp.ndimage.filters.gaussian_filter(matrix, [0.5,0.5], mode='constant') #bluring for well training.\n",
        "    trainX.append(matrix)\n",
        "trainX=np.array(trainX)"
      ],
      "metadata": {
        "id": "cJH28t9dnNss"
      },
      "execution_count": 29,
      "outputs": []
    },
    {
      "cell_type": "code",
      "source": [
        "plt.imshow(trainX[0])"
      ],
      "metadata": {
        "colab": {
          "base_uri": "https://localhost:8080/",
          "height": 284
        },
        "id": "UliACfxBnXck",
        "outputId": "ff9ed1e1-8f8e-420e-a4d2-50e792229e75"
      },
      "execution_count": 32,
      "outputs": [
        {
          "output_type": "execute_result",
          "data": {
            "text/plain": [
              "<matplotlib.image.AxesImage at 0x7f978d424cd0>"
            ]
          },
          "metadata": {},
          "execution_count": 32
        },
        {
          "output_type": "display_data",
          "data": {
            "image/png": "[encoded data removed]",
            "text/plain": [
              "<Figure size 432x288 with 1 Axes>"
            ]
          },
          "metadata": {
            "needs_background": "light"
          }
        }
      ]
    },
    {
      "cell_type": "code",
      "execution_count": 36,
      "metadata": {
        "id": "hKHeanaAiaAC"
      },
      "outputs": [],
      "source": [
        "from __future__ import print_function, division\n",
        "\n",
        "from keras.datasets import mnist\n",
        "from keras.layers import Input, Dense, Reshape, Flatten, Dropout\n",
        "from keras.layers import BatchNormalization, Activation, ZeroPadding2D\n",
        "from keras.layers.advanced_activations import LeakyReLU\n",
        "from keras.layers.convolutional import UpSampling2D, Conv2D\n",
        "from keras.models import Sequential, Model\n",
        "from keras.optimizers import Adam\n",
        "\n",
        "import matplotlib.pyplot as plt\n",
        "\n",
        "import sys\n",
        "\n",
        "import numpy as np\n",
        "\n",
        "class GAN():\n",
        "    def __init__(self):\n",
        "        self.img_rows = 24\n",
        "        self.img_cols = 24\n",
        "        self.channels = 1\n",
        "        self.img_shape = (self.img_rows, self.img_cols, self.channels)\n",
        "        self.latent_dim = 100\n",
        "\n",
        "        optimizer = Adam(0.0002, 0.5)\n",
        "\n",
        "        # Build and compile the discriminator\n",
        "        self.discriminator = self.build_discriminator()\n",
        "        self.discriminator.compile(loss='binary_crossentropy',\n",
        "            optimizer=optimizer,\n",
        "            metrics=['accuracy'])\n",
        "\n",
        "        # Build the generator\n",
        "        self.generator = self.build_generator()\n",
        "\n",
        "        # The generator takes noise as input and generates imgs\n",
        "        z = Input(shape=(self.latent_dim,))\n",
        "        img = self.generator(z)\n",
        "\n",
        "        # For the combined model we will only train the generator\n",
        "        self.discriminator.trainable = False\n",
        "\n",
        "        # The discriminator takes generated images as input and determines validity\n",
        "        validity = self.discriminator(img)\n",
        "\n",
        "        # The combined model  (stacked generator and discriminator)\n",
        "        # Trains the generator to fool the discriminator\n",
        "        self.combined = Model(z, validity)\n",
        "        self.combined.compile(loss='binary_crossentropy', optimizer=optimizer)\n",
        "\n",
        "\n",
        "    def build_generator(self):\n",
        "        with tf.device('/gpu:0'):\n",
        "            model = Sequential()\n",
        "\n",
        "            model.add(Dense(256, input_dim=self.latent_dim))\n",
        "            model.add(LeakyReLU(alpha=0.2))\n",
        "            model.add(BatchNormalization(momentum=0.8))\n",
        "            model.add(Dense(512))\n",
        "            model.add(LeakyReLU(alpha=0.2))\n",
        "            model.add(BatchNormalization(momentum=0.8))\n",
        "            model.add(Dense(1024))\n",
        "            model.add(LeakyReLU(alpha=0.2))\n",
        "            model.add(BatchNormalization(momentum=0.8))\n",
        "            model.add(Dense(np.prod(self.img_shape), activation='tanh'))\n",
        "            model.add(Reshape(self.img_shape))\n",
        "\n",
        "            model.summary()\n",
        "\n",
        "            noise = Input(shape=(self.latent_dim,))\n",
        "            img = model(noise)\n",
        "\n",
        "            return Model(noise, img)\n",
        "\n",
        "    def build_discriminator(self):\n",
        "        with tf.device('/gpu:0'):\n",
        "            model = Sequential()\n",
        "\n",
        "            model.add(Flatten(input_shape=self.img_shape))\n",
        "            model.add(Dense(512))\n",
        "            model.add(LeakyReLU(alpha=0.2))\n",
        "            model.add(Dense(256))\n",
        "            model.add(LeakyReLU(alpha=0.2))\n",
        "            model.add(Dense(1, activation='sigmoid'))\n",
        "            model.summary()\n",
        "\n",
        "            img = Input(shape=self.img_shape)\n",
        "            validity = model(img)\n",
        "\n",
        "            return Model(img, validity)\n",
        "\n",
        "    def train(self, epochs, batch_size=128, sample_interval=50):\n",
        "\n",
        "        # Load the dataset\n",
        "\n",
        "        X_train=trainX\n",
        "        X_train = X_train / (0.5) - 1.\n",
        "        X_train = np.expand_dims(X_train, axis=3)\n",
        "\n",
        "        # Adversarial ground truths\n",
        "        valid = np.ones((batch_size, 1))\n",
        "        fake = np.zeros((batch_size, 1))\n",
        "\n",
        "        for epoch in range(epochs):\n",
        "\n",
        "            # ---------------------\n",
        "            #  Train Discriminator\n",
        "            # ---------------------\n",
        "\n",
        "            # Select a random batch of images\n",
        "            idx = np.random.randint(0, X_train.shape[0], batch_size)\n",
        "            imgs = X_train[idx]\n",
        "\n",
        "            noise = np.random.normal(0, 1, (batch_size, self.latent_dim))\n",
        "\n",
        "            # Generate a batch of new images\n",
        "            gen_imgs = self.generator.predict(noise)\n",
        "\n",
        "            # Train the discriminator\n",
        "            d_loss_real = self.discriminator.train_on_batch(imgs, valid)\n",
        "            d_loss_fake = self.discriminator.train_on_batch(gen_imgs, fake)\n",
        "            d_loss = 0.5 * np.add(d_loss_real, d_loss_fake)\n",
        "\n",
        "            # ---------------------\n",
        "            #  Train Generator\n",
        "            # ---------------------\n",
        "\n",
        "            noise = np.random.normal(0, 1, (batch_size, self.latent_dim))\n",
        "\n",
        "            # Train the generator (to have the discriminator label samples as valid)\n",
        "            g_loss = self.combined.train_on_batch(noise, valid)\n",
        "\n",
        "            # Plot the progress\n",
        "            if (epoch%500==0):\n",
        "              print (\"%d [D loss: %f, acc.: %.2f%%] [G loss: %f]\" % (epoch, d_loss[0], 100*d_loss[1], g_loss))\n",
        "\n",
        "            # If at save interval => save generated image samples\n",
        "            if epoch % sample_interval == 0:\n",
        "                self.sample_images(epoch)\n",
        "\n",
        "    def sample_images(self, epoch):\n",
        "        r, c = 5, 5\n",
        "        noise = np.random.normal(0, 1, (r * c, self.latent_dim))\n",
        "        gen_imgs = self.generator.predict(noise)\n",
        "\n",
        "        # Rescale images 0 - 1\n",
        "        gen_imgs = 0.5 * gen_imgs + 0.5\n",
        "\n",
        "        fig, axs = plt.subplots(r, c)\n",
        "        cnt = 0\n",
        "        for i in range(r):\n",
        "            for j in range(c):\n",
        "                axs[i,j].imshow(gen_imgs[cnt, :,:,0], cmap='gray')\n",
        "                axs[i,j].axis('off')\n",
        "                cnt += 1\n",
        "        fig.savefig(\"images/%d.png\" % epoch)\n",
        "        plt.close()\n",
        "\n"
      ]
    },
    {
      "cell_type": "code",
      "execution_count": 37,
      "metadata": {
        "colab": {
          "base_uri": "https://localhost:8080/",
          "height": 1000
        },
        "id": "KNY6JdEKb_7w",
        "outputId": "42961746-383d-4a0d-bbea-7004b5ab42d6"
      },
      "outputs": [
        {
          "output_type": "stream",
          "name": "stdout",
          "text": [
            "Model: \"sequential_3\"\n",
            "_________________________________________________________________\n",
            "Layer (type)                 Output Shape              Param #   \n",
            "=================================================================\n",
            "flatten_2 (Flatten)          (None, 576)               0         \n",
            "_________________________________________________________________\n",
            "dense_8 (Dense)              (None, 512)               295424    \n",
            "_________________________________________________________________\n",
            "leaky_re_lu_6 (LeakyReLU)    (None, 512)               0         \n",
            "_________________________________________________________________\n",
            "dense_9 (Dense)              (None, 256)               131328    \n",
            "_________________________________________________________________\n",
            "leaky_re_lu_7 (LeakyReLU)    (None, 256)               0         \n",
            "_________________________________________________________________\n",
            "dense_10 (Dense)             (None, 1)                 257       \n",
            "=================================================================\n",
            "Total params: 427,009\n",
            "Trainable params: 427,009\n",
            "Non-trainable params: 0\n",
            "_________________________________________________________________\n",
            "Model: \"sequential_4\"\n",
            "_________________________________________________________________\n",
            "Layer (type)                 Output Shape              Param #   \n",
            "=================================================================\n",
            "dense_11 (Dense)             (None, 256)               25856     \n",
            "_________________________________________________________________\n",
            "leaky_re_lu_8 (LeakyReLU)    (None, 256)               0         \n",
            "_________________________________________________________________\n",
            "batch_normalization_4 (Batch (None, 256)               1024      \n",
            "_________________________________________________________________\n",
            "dense_12 (Dense)             (None, 512)               131584    \n",
            "_________________________________________________________________\n",
            "leaky_re_lu_9 (LeakyReLU)    (None, 512)               0         \n",
            "_________________________________________________________________\n",
            "batch_normalization_5 (Batch (None, 512)               2048      \n",
            "_________________________________________________________________\n",
            "dense_13 (Dense)             (None, 1024)              525312    \n",
            "_________________________________________________________________\n",
            "leaky_re_lu_10 (LeakyReLU)   (None, 1024)              0         \n",
            "_________________________________________________________________\n",
            "batch_normalization_6 (Batch (None, 1024)              4096      \n",
            "_________________________________________________________________\n",
            "dense_14 (Dense)             (None, 576)               590400    \n",
            "_________________________________________________________________\n",
            "reshape_2 (Reshape)          (None, 24, 24, 1)         0         \n",
            "=================================================================\n",
            "Total params: 1,280,320\n",
            "Trainable params: 1,276,736\n",
            "Non-trainable params: 3,584\n",
            "_________________________________________________________________\n"
          ]
        },
        {
          "output_type": "stream",
          "name": "stderr",
          "text": [
            "/usr/local/lib/python3.7/dist-packages/keras/engine/training.py:297: UserWarning: Discrepancy between trainable weights and collected trainable weights, did you set `model.trainable` without calling `model.compile` after ?\n",
            "  'Discrepancy between trainable weights and collected trainable'\n"
          ]
        },
        {
          "output_type": "stream",
          "name": "stdout",
          "text": [
            "0 [D loss: 0.745474, acc.: 25.00%] [G loss: 0.600136]\n"
          ]
        },
        {
          "output_type": "stream",
          "name": "stderr",
          "text": [
            "/usr/local/lib/python3.7/dist-packages/keras/engine/training.py:297: UserWarning: Discrepancy between trainable weights and collected trainable weights, did you set `model.trainable` without calling `model.compile` after ?\n",
            "  'Discrepancy between trainable weights and collected trainable'\n"
          ]
        },
        {
          "output_type": "stream",
          "name": "stdout",
          "text": [
            "500 [D loss: 0.692658, acc.: 50.00%] [G loss: 0.634287]\n",
            "1000 [D loss: 0.676321, acc.: 50.00%] [G loss: 0.672274]\n",
            "1500 [D loss: 0.683616, acc.: 60.94%] [G loss: 0.702557]\n",
            "2000 [D loss: 0.688648, acc.: 56.25%] [G loss: 0.736439]\n",
            "2500 [D loss: 0.674399, acc.: 57.81%] [G loss: 0.743695]\n",
            "3000 [D loss: 0.671131, acc.: 56.25%] [G loss: 0.726258]\n",
            "3500 [D loss: 0.671829, acc.: 62.50%] [G loss: 0.774864]\n",
            "4000 [D loss: 0.645427, acc.: 65.62%] [G loss: 0.728192]\n"
          ]
        },
        {
          "output_type": "error",
          "ename": "KeyboardInterrupt",
          "evalue": "ignored",
          "traceback": [
            "\u001b[0;31m---------------------------------------------------------------------------\u001b[0m",
            "\u001b[0;31mKeyboardInterrupt\u001b[0m                         Traceback (most recent call last)",
            "\u001b[0;32m<ipython-input-37-23777c82e399>\u001b[0m in \u001b[0;36m<module>\u001b[0;34m()\u001b[0m\n\u001b[1;32m      1\u001b[0m \u001b[0mgan\u001b[0m \u001b[0;34m=\u001b[0m \u001b[0mGAN\u001b[0m\u001b[0;34m(\u001b[0m\u001b[0;34m)\u001b[0m\u001b[0;34m\u001b[0m\u001b[0;34m\u001b[0m\u001b[0m\n\u001b[0;32m----> 2\u001b[0;31m \u001b[0mgan\u001b[0m\u001b[0;34m.\u001b[0m\u001b[0mtrain\u001b[0m\u001b[0;34m(\u001b[0m\u001b[0mepochs\u001b[0m\u001b[0;34m=\u001b[0m\u001b[0;36m100000\u001b[0m\u001b[0;34m,\u001b[0m \u001b[0mbatch_size\u001b[0m\u001b[0;34m=\u001b[0m\u001b[0;36m32\u001b[0m\u001b[0;34m,\u001b[0m \u001b[0msample_interval\u001b[0m\u001b[0;34m=\u001b[0m\u001b[0;36m200\u001b[0m\u001b[0;34m)\u001b[0m\u001b[0;34m\u001b[0m\u001b[0;34m\u001b[0m\u001b[0m\n\u001b[0m",
            "\u001b[0;32m<ipython-input-36-7699b9b64496>\u001b[0m in \u001b[0;36mtrain\u001b[0;34m(self, epochs, batch_size, sample_interval)\u001b[0m\n\u001b[1;32m    129\u001b[0m \u001b[0;34m\u001b[0m\u001b[0m\n\u001b[1;32m    130\u001b[0m             \u001b[0;31m# Train the generator (to have the discriminator label samples as valid)\u001b[0m\u001b[0;34m\u001b[0m\u001b[0;34m\u001b[0m\u001b[0;34m\u001b[0m\u001b[0m\n\u001b[0;32m--> 131\u001b[0;31m             \u001b[0mg_loss\u001b[0m \u001b[0;34m=\u001b[0m \u001b[0mself\u001b[0m\u001b[0;34m.\u001b[0m\u001b[0mcombined\u001b[0m\u001b[0;34m.\u001b[0m\u001b[0mtrain_on_batch\u001b[0m\u001b[0;34m(\u001b[0m\u001b[0mnoise\u001b[0m\u001b[0;34m,\u001b[0m \u001b[0mvalid\u001b[0m\u001b[0;34m)\u001b[0m\u001b[0;34m\u001b[0m\u001b[0;34m\u001b[0m\u001b[0m\n\u001b[0m\u001b[1;32m    132\u001b[0m \u001b[0;34m\u001b[0m\u001b[0m\n\u001b[1;32m    133\u001b[0m             \u001b[0;31m# Plot the progress\u001b[0m\u001b[0;34m\u001b[0m\u001b[0;34m\u001b[0m\u001b[0;34m\u001b[0m\u001b[0m\n",
            "\u001b[0;32m/usr/local/lib/python3.7/dist-packages/keras/engine/training.py\u001b[0m in \u001b[0;36mtrain_on_batch\u001b[0;34m(self, x, y, sample_weight, class_weight, reset_metrics)\u001b[0m\n\u001b[1;32m   1512\u001b[0m             \u001b[0mins\u001b[0m \u001b[0;34m=\u001b[0m \u001b[0mx\u001b[0m \u001b[0;34m+\u001b[0m \u001b[0my\u001b[0m \u001b[0;34m+\u001b[0m \u001b[0msample_weights\u001b[0m\u001b[0;34m\u001b[0m\u001b[0;34m\u001b[0m\u001b[0m\n\u001b[1;32m   1513\u001b[0m         \u001b[0mself\u001b[0m\u001b[0;34m.\u001b[0m\u001b[0m_make_train_function\u001b[0m\u001b[0;34m(\u001b[0m\u001b[0;34m)\u001b[0m\u001b[0;34m\u001b[0m\u001b[0;34m\u001b[0m\u001b[0m\n\u001b[0;32m-> 1514\u001b[0;31m         \u001b[0moutputs\u001b[0m \u001b[0;34m=\u001b[0m \u001b[0mself\u001b[0m\u001b[0;34m.\u001b[0m\u001b[0mtrain_function\u001b[0m\u001b[0;34m(\u001b[0m\u001b[0mins\u001b[0m\u001b[0;34m)\u001b[0m\u001b[0;34m\u001b[0m\u001b[0;34m\u001b[0m\u001b[0m\n\u001b[0m\u001b[1;32m   1515\u001b[0m \u001b[0;34m\u001b[0m\u001b[0m\n\u001b[1;32m   1516\u001b[0m         \u001b[0;32mif\u001b[0m \u001b[0mreset_metrics\u001b[0m\u001b[0;34m:\u001b[0m\u001b[0;34m\u001b[0m\u001b[0;34m\u001b[0m\u001b[0m\n",
            "\u001b[0;32m/usr/local/lib/python3.7/dist-packages/tensorflow_core/python/keras/backend.py\u001b[0m in \u001b[0;36m__call__\u001b[0;34m(self, inputs)\u001b[0m\n\u001b[1;32m   3474\u001b[0m \u001b[0;34m\u001b[0m\u001b[0m\n\u001b[1;32m   3475\u001b[0m     fetched = self._callable_fn(*array_vals,\n\u001b[0;32m-> 3476\u001b[0;31m                                 run_metadata=self.run_metadata)\n\u001b[0m\u001b[1;32m   3477\u001b[0m     \u001b[0mself\u001b[0m\u001b[0;34m.\u001b[0m\u001b[0m_call_fetch_callbacks\u001b[0m\u001b[0;34m(\u001b[0m\u001b[0mfetched\u001b[0m\u001b[0;34m[\u001b[0m\u001b[0;34m-\u001b[0m\u001b[0mlen\u001b[0m\u001b[0;34m(\u001b[0m\u001b[0mself\u001b[0m\u001b[0;34m.\u001b[0m\u001b[0m_fetches\u001b[0m\u001b[0;34m)\u001b[0m\u001b[0;34m:\u001b[0m\u001b[0;34m]\u001b[0m\u001b[0;34m)\u001b[0m\u001b[0;34m\u001b[0m\u001b[0;34m\u001b[0m\u001b[0m\n\u001b[1;32m   3478\u001b[0m     output_structure = nest.pack_sequence_as(\n",
            "\u001b[0;32m/usr/local/lib/python3.7/dist-packages/tensorflow_core/python/client/session.py\u001b[0m in \u001b[0;36m__call__\u001b[0;34m(self, *args, **kwargs)\u001b[0m\n\u001b[1;32m   1470\u001b[0m         ret = tf_session.TF_SessionRunCallable(self._session._session,\n\u001b[1;32m   1471\u001b[0m                                                \u001b[0mself\u001b[0m\u001b[0;34m.\u001b[0m\u001b[0m_handle\u001b[0m\u001b[0;34m,\u001b[0m \u001b[0margs\u001b[0m\u001b[0;34m,\u001b[0m\u001b[0;34m\u001b[0m\u001b[0;34m\u001b[0m\u001b[0m\n\u001b[0;32m-> 1472\u001b[0;31m                                                run_metadata_ptr)\n\u001b[0m\u001b[1;32m   1473\u001b[0m         \u001b[0;32mif\u001b[0m \u001b[0mrun_metadata\u001b[0m\u001b[0;34m:\u001b[0m\u001b[0;34m\u001b[0m\u001b[0;34m\u001b[0m\u001b[0m\n\u001b[1;32m   1474\u001b[0m           \u001b[0mproto_data\u001b[0m \u001b[0;34m=\u001b[0m \u001b[0mtf_session\u001b[0m\u001b[0;34m.\u001b[0m\u001b[0mTF_GetBuffer\u001b[0m\u001b[0;34m(\u001b[0m\u001b[0mrun_metadata_ptr\u001b[0m\u001b[0;34m)\u001b[0m\u001b[0;34m\u001b[0m\u001b[0;34m\u001b[0m\u001b[0m\n",
            "\u001b[0;31mKeyboardInterrupt\u001b[0m: "
          ]
        }
      ],
      "source": [
        "gan = GAN()\n",
        "gan.train(epochs=100000, batch_size=32, sample_interval=200)"
      ]
    },
    {
      "cell_type": "code",
      "execution_count": 38,
      "metadata": {
        "id": "qJx5npGa9uI_"
      },
      "outputs": [],
      "source": [
        "noise = np.random.normal(0, 1, (100, 100))\n",
        "gen_imgs = gan.generator.predict(noise)"
      ]
    },
    {
      "cell_type": "code",
      "source": [
        "plt.imshow(gen_imgs[0].reshape((24,24)))"
      ],
      "metadata": {
        "colab": {
          "base_uri": "https://localhost:8080/",
          "height": 284
        },
        "id": "ywRH889ypBRm",
        "outputId": "c48b0fea-fc9c-4c13-a4ed-f9318f119c16"
      },
      "execution_count": 40,
      "outputs": [
        {
          "output_type": "execute_result",
          "data": {
            "text/plain": [
              "<matplotlib.image.AxesImage at 0x7f97452e1190>"
            ]
          },
          "metadata": {},
          "execution_count": 40
        },
        {
          "output_type": "display_data",
          "data": {
            "image/png": "[encoded data removed]",
            "text/plain": [
              "<Figure size 432x288 with 1 Axes>"
            ]
          },
          "metadata": {
            "needs_background": "light"
          }
        }
      ]
    },
    {
      "cell_type": "code",
      "execution_count": 41,
      "metadata": {
        "colab": {
          "base_uri": "https://localhost:8080/",
          "height": 322
        },
        "id": "j4xlEndU-eLm",
        "outputId": "15c274af-e694-4181-e788-6330be2270e8"
      },
      "outputs": [
        {
          "output_type": "display_data",
          "data": {
            "image/png": "[encoded data removed]",
            "text/plain": [
              "<Figure size 648x360 with 20 Axes>"
            ]
          },
          "metadata": {
            "needs_background": "light"
          }
        }
      ],
      "source": [
        "fig=plt.figure(figsize=(9, 5))\n",
        "columns = 5\n",
        "rows = 4\n",
        "for i in range(1, columns*rows +1):\n",
        "    img = gen_imgs[i].reshape((24,24))\n",
        "    fig.add_subplot(rows, columns, i)\n",
        "    plt.imshow(img)"
      ]
    },
    {
      "cell_type": "code",
      "execution_count": 42,
      "metadata": {
        "id": "6htKIS4Lcb7h"
      },
      "outputs": [],
      "source": [
        "import cv2\n",
        "H=gen_imgs[0]#n개의 24*24*1 형태\n",
        "\n",
        "def matrix_cleaner(matrix):\n",
        "  #matrix should be size of 24*24\n",
        "  #make matrix's value of [0,1]  \n",
        "  matrix=np.matrix(matrix)\n",
        "  maximum_value=matrix.max()\n",
        "  minimum_value=matrix.min()\n",
        "  matrix=(matrix-minimum_value)/(maximum_value-minimum_value)\n",
        "  flat=matrix.flatten()\n",
        "  flat.sort()\n",
        "  flat=flat.reshape((576,1))\n",
        "  hundred_val=flat[-100]\n",
        "  matrix_for_duration=np.where(matrix<0.1,0,matrix)\n",
        "  matrix=np.where(matrix<hundred_val,0,matrix)\n",
        "  matrix=np.where(matrix<1/3,0,matrix)\n",
        "  \n",
        "  return matrix,matrix_for_duration"
      ]
    },
    {
      "cell_type": "code",
      "execution_count": 46,
      "metadata": {
        "colab": {
          "base_uri": "https://localhost:8080/",
          "height": 148
        },
        "id": "lRSy54CpFDz0",
        "outputId": "57235e2e-57df-4657-c5b1-d06abdd3ca7d"
      },
      "outputs": [
        {
          "output_type": "display_data",
          "data": {
            "image/png": "[encoded data removed]",
            "text/plain": [
              "<Figure size 432x288 with 3 Axes>"
            ]
          },
          "metadata": {
            "needs_background": "light"
          }
        }
      ],
      "source": [
        "import numpy as np\n",
        "from scipy.ndimage.filters import maximum_filter\n",
        "from scipy.ndimage.morphology import generate_binary_structure, binary_erosion\n",
        "import matplotlib.pyplot as pp\n",
        "\n",
        "#getting a list of images\n",
        "paws = [matrix_cleaner(H)[0]]\n",
        "\n",
        "\n",
        "def detect_peaks(image):\n",
        "\n",
        "\n",
        "    neighborhood = generate_binary_structure(2,2)\n",
        "    local_max = maximum_filter(image, footprint=neighborhood)==image\n",
        "    background = (image==0)\n",
        "    eroded_background = binary_erosion(background, structure=neighborhood, border_value=1)\n",
        "    detected_peaks = local_max ^ eroded_background\n",
        "    detected_peaks=np.where(detected_peaks==True,1,0)\n",
        "    return detected_peaks\n",
        "\n",
        "\n",
        "#applying the detection and plotting results\n",
        "for i, paw in enumerate(paws):\n",
        "    detected_peaks = detect_peaks(paw)\n",
        "    pp.subplot(1,3,(2*i+1))\n",
        "    pp.imshow(H.reshape((24,24)))\n",
        "    pp.subplot(1,3,(2*i+2))\n",
        "    pp.imshow(paw)\n",
        "    pp.subplot(1,3,(2*i+3) )\n",
        "    pp.imshow(detected_peaks)\n",
        "\n",
        "pp.show()"
      ]
    },
    {
      "cell_type": "code",
      "execution_count": 47,
      "metadata": {
        "colab": {
          "base_uri": "https://localhost:8080/",
          "height": 327
        },
        "id": "bPVdL9UXO-0h",
        "outputId": "7fc14394-2bce-4dec-beec-6ee21bb99782"
      },
      "outputs": [
        {
          "output_type": "stream",
          "name": "stdout",
          "text": [
            "[[14  0]\n",
            " [23  0]\n",
            " [23  6]\n",
            " [21 10]\n",
            " [16 15]\n",
            " [16 18]\n",
            " [19 18]\n",
            " [14 20]\n",
            " [20 22]] [1 1 2 2 2 4 1 1 2] [0.39312935 0.9973924  0.95733005 0.8241485  0.5958757  0.9678387\n",
            " 0.3279473  0.52863497 0.77503735]\n"
          ]
        },
        {
          "output_type": "display_data",
          "data": {
            "image/png": "[encoded data removed]",
            "text/plain": [
              "<Figure size 432x288 with 3 Axes>"
            ]
          },
          "metadata": {
            "needs_background": "light"
          }
        }
      ],
      "source": [
        "def left_shifting(matrix,detected_peak):\n",
        "  #input은 detected_peak가 들어와야한다.\n",
        "  dots=[]\n",
        "  for j in range(len(detected_peak)):\n",
        "    pos=[]\n",
        "    for i in range(len(detected_peak[0])):#for 문의 순서를 이렇게 지정해야 Handle이 가능하다.\n",
        "      a=0\n",
        "      if(detected_peak[i][j]==1):\n",
        "        if(j%2!=0 and j%3!=0):\n",
        "          a=1\n",
        "        if(len(pos)==0):\n",
        "          pos=[i,j-a]\n",
        "        else:\n",
        "          if (matrix[0][pos[0]][pos[1]]<matrix[0][i][j-a]):\n",
        "            pos=[i,j-a]\n",
        "    if(len(pos)!=0):\n",
        "      dots.append(pos)\n",
        "  dots_with_length=[]\n",
        "  starting_points=[]\n",
        "  durations=[]\n",
        "  velocities=[]\n",
        "  for position in dots:\n",
        "    velocities.append(matrix[1][position[0]][position[1]])\n",
        "    length_val=0\n",
        "    while True:\n",
        "      if(length_val==0):\n",
        "        starting_points.append([position[0],position[1]])\n",
        "      else:\n",
        "        if(position[1]+length_val>23):\n",
        "          break\n",
        "        if(detected_peak[position[0]][position[1]+length_val]!=0):\n",
        "          break\n",
        "      if(position[1]+length_val>23):\n",
        "        break\n",
        "      elif(matrix[1][position[0]][position[1]+length_val]!=0):\n",
        "        dots_with_length.append([position[0],position[1]+length_val])\n",
        "      else:\n",
        "        break\n",
        "      length_val+=1\n",
        "    durations.append(length_val)\n",
        "  result=np.zeros_like(matrix[0])\n",
        "  for position in dots_with_length:\n",
        "    result[position[0]][position[1]]=1\n",
        "  return result,np.array(starting_points),np.array(durations),np.array(velocities)\n",
        "\n",
        "paws = [matrix_cleaner(H)[0]]\n",
        "detected_peaks = detect_peaks(paws[0])\n",
        "fig = plt.figure()\n",
        "ax1 = fig.add_subplot(1, 3, 1)\n",
        "ax1.imshow(H.reshape(24,24))\n",
        "ax1.set_title('H')\n",
        "ax1.axis(\"off\")\n",
        " \n",
        "ax3 = fig.add_subplot(1, 3, 2)\n",
        "ax3.imshow(paws[0].reshape(24,24))\n",
        "ax3.set_title('Cleaned H')\n",
        "ax3.axis(\"off\")\n",
        "\n",
        "ax2 = fig.add_subplot(1, 3, 3)\n",
        "ax2.imshow(detect_peaks(matrix_cleaner(H)[0]))\n",
        "ax2.set_title('detected_peaks')\n",
        "ax2.axis(\"off\")\n",
        "\n",
        "print(left_shifting(matrix_cleaner(H),detected_peaks)[1],left_shifting(matrix_cleaner(H),detected_peaks)[2],left_shifting(matrix_cleaner(H),detected_peaks)[3])"
      ]
    },
    {
      "cell_type": "code",
      "execution_count": 48,
      "metadata": {
        "id": "7hmNRrgvCTpe"
      },
      "outputs": [],
      "source": [
        "C_chord=[1,0,1,0,1,1,0,1,0,1,0,1]\n",
        "chords=['C','C#','D','D#','E','F','F#','G','G#','A','A#','B']\n",
        "def chord_matching(shifted_matrix,chord,last_pitch,direction):\n",
        "  #input은 left_shifting의 output을 그대로 넣고, chord(C,C#,D,D#....,B), 마지막 리듬의 pitch를 숫자로, 그리고 진행 방향을 direction(1,0)으로 받는다.\n",
        "  #output은 MIDI기반의 decoding이 되도록 정보 기반으로, 그리고 last_pitch까지 넣어준다.\n",
        "  #또한 출력 그림과 상관없이, 그냥 Note Pitch를 그냥 Matrix에 넣어준다.\n",
        "  before_matrix=shifted_matrix[0]\n",
        "  before_pitch=last_pitch\n",
        "  if (last_pitch<40):\n",
        "    direction=1\n",
        "  if (last_pitch>80):\n",
        "    direction=0\n",
        "  if chord not in chords:\n",
        "    now_chord='C'\n",
        "  now_chord=chord\n",
        "  chord_diff=chords.index(now_chord)\n",
        "  now_chord_list=np.roll(C_chord,chord_diff)#[1,0,1,0,1...] 이런 set인데 여기에 맞추면 함수에 넣은 chord에 맞게 된다.\n",
        "  #나중에 그냥 chord뿐만 아니라 화음의 종류까지 고민하게 된다면 이걸 잘 쓰면 된다.\n",
        "  pitch_set=[]\n",
        "  for pitchs in shifted_matrix[1]:\n",
        "    pitch_set.append(23-pitchs[0])#위 그림 기준 7,17,9,7,3,5 이렇게 들감\n",
        "  pitch_set=pitch_set-pitch_set[0]#이러면 0, 10, -1, 0 ,-4, -2, 이렇게 들간다. 상대적인 위치를 다루는게 쉽다.\n",
        "  if (direction==1):\n",
        "    possible_set=[]\n",
        "    for i in range(12):\n",
        "      possible_set.append(pitch_set+i+last_pitch)\n",
        "  else:\n",
        "    possible_set=[]\n",
        "    for i in range(12):\n",
        "      possible_set.append(pitch_set-i+last_pitch)\n",
        "  possible_set_score=[]\n",
        "  for sets in possible_set:\n",
        "    score=0\n",
        "    for pitchs in sets:\n",
        "      score+=now_chord_list[pitchs%12]\n",
        "    possible_set_score.append(score)\n",
        "  final_set=possible_set[np.argmax(possible_set_score)]\n",
        "  return_val=[]\n",
        "  for i,sets in enumerate(final_set):\n",
        "    if (before_pitch-sets<-12):\n",
        "      sets=sets-12\n",
        "    if (before_pitch-sets>12):\n",
        "      sets=sets+12               #For prevent pitch change above 1 Octave.\n",
        "    if(now_chord_list[sets%12]==1):\n",
        "      final=[]\n",
        "      if (shifted_matrix[2][i]!=0):\n",
        "        final.append(sets)#pitch\n",
        "        final.append(shifted_matrix[1][i][1])\n",
        "        final.append(shifted_matrix[2][i])\n",
        "        final.append(shifted_matrix[3][i])\n",
        "        return_val.append(final)\n",
        "    before_pitch=sets\n",
        "  return return_val\n"
      ]
    },
    {
      "cell_type": "code",
      "execution_count": 49,
      "metadata": {
        "colab": {
          "base_uri": "https://localhost:8080/"
        },
        "id": "7chdoz0aQzCm",
        "outputId": "77124ced-f0d4-49e8-99f2-3710785b9f5a"
      },
      "outputs": [
        {
          "output_type": "stream",
          "name": "stdout",
          "text": [
            "[[50, 0, 1, 0.39312935], [41, 0, 1, 0.9973924], [41, 6, 2, 0.95733005], [43, 10, 2, 0.8241485], [48, 15, 2, 0.5958757], [48, 18, 4, 0.9678387], [45, 18, 1, 0.3279473], [50, 20, 1, 0.52863497]]\n"
          ]
        }
      ],
      "source": [
        "shifted=left_shifting(matrix_cleaner(H),detect_peaks(matrix_cleaner(H)[0]))\n",
        "print(chord_matching(shifted,'C',48,1))"
      ]
    },
    {
      "cell_type": "code",
      "execution_count": 50,
      "metadata": {
        "id": "OORpc3qu1FXb"
      },
      "outputs": [],
      "source": [
        "H=gen_imgs[0]\n",
        "shifted=left_shifting(matrix_cleaner(H),detect_peaks(matrix_cleaner(H)[0]))\n",
        "final_list=chord_matching(shifted,'C',48,1)"
      ]
    },
    {
      "cell_type": "code",
      "execution_count": 51,
      "metadata": {
        "colab": {
          "base_uri": "https://localhost:8080/"
        },
        "id": "yYOmVKrb5vpM",
        "outputId": "56aee780-32cb-4ef9-a0ee-00c31c783820"
      },
      "outputs": [
        {
          "output_type": "stream",
          "name": "stdout",
          "text": [
            "[50, 0, 1, 0.39312935]\n",
            "[41, 0, 1, 0.9973924]\n",
            "[41, 6, 2, 0.95733005]\n",
            "[43, 10, 2, 0.8241485]\n",
            "[48, 15, 2, 0.5958757]\n",
            "[48, 18, 4, 0.9678387]\n",
            "[45, 18, 1, 0.3279473]\n",
            "[50, 20, 1, 0.52863497]\n"
          ]
        }
      ],
      "source": [
        "for i in final_list:\n",
        "  print(i)"
      ]
    },
    {
      "cell_type": "code",
      "execution_count": 54,
      "metadata": {
        "colab": {
          "base_uri": "https://localhost:8080/"
        },
        "id": "ksTjAaAhKyi1",
        "outputId": "947dba0a-fbd0-442f-aed9-ab1c8eb924ef"
      },
      "outputs": [
        {
          "output_type": "stream",
          "name": "stdout",
          "text": [
            "0 C  generate done!\n",
            "0 C#  generate done!\n",
            "0 D  generate done!\n",
            "0 D#  generate done!\n",
            "0 E  generate done!\n",
            "0 F  generate done!\n",
            "0 F#  generate done!\n",
            "0 G  generate done!\n",
            "0 G#  generate done!\n",
            "0 A  generate done!\n",
            "0 A#  generate done!\n",
            "0 B  generate done!\n",
            "1 C  generate done!\n",
            "1 C#  generate done!\n",
            "1 D  generate done!\n",
            "1 D#  generate done!\n",
            "1 E  generate done!\n",
            "1 F  generate done!\n",
            "1 F#  generate done!\n",
            "1 G  generate done!\n",
            "1 G#  generate done!\n",
            "1 A  generate done!\n",
            "1 A#  generate done!\n",
            "1 B  generate done!\n",
            "2 C  generate done!\n",
            "2 C#  generate done!\n",
            "2 D  generate done!\n",
            "2 D#  generate done!\n",
            "2 E  generate done!\n",
            "2 F  generate done!\n",
            "2 F#  generate done!\n",
            "2 G  generate done!\n",
            "2 G#  generate done!\n",
            "2 A  generate done!\n",
            "2 A#  generate done!\n",
            "2 B  generate done!\n",
            "3 C  generate done!\n",
            "3 C#  generate done!\n",
            "3 D  generate done!\n",
            "3 D#  generate done!\n",
            "3 E  generate done!\n",
            "3 F  generate done!\n",
            "3 F#  generate done!\n",
            "3 G  generate done!\n",
            "3 G#  generate done!\n",
            "3 A  generate done!\n",
            "3 A#  generate done!\n",
            "3 B  generate done!\n",
            "4 C  generate done!\n",
            "4 C#  generate done!\n",
            "4 D  generate done!\n",
            "4 D#  generate done!\n",
            "4 E  generate done!\n",
            "4 F  generate done!\n",
            "4 F#  generate done!\n",
            "4 G  generate done!\n",
            "4 G#  generate done!\n",
            "4 A  generate done!\n",
            "4 A#  generate done!\n",
            "4 B  generate done!\n",
            "5 C  generate done!\n",
            "5 C#  generate done!\n",
            "5 D  generate done!\n",
            "5 D#  generate done!\n",
            "5 E  generate done!\n",
            "5 F  generate done!\n",
            "5 F#  generate done!\n",
            "5 G  generate done!\n",
            "5 G#  generate done!\n",
            "5 A  generate done!\n",
            "5 A#  generate done!\n",
            "5 B  generate done!\n",
            "6 C  generate done!\n",
            "6 C#  generate done!\n",
            "6 D  generate done!\n",
            "6 D#  generate done!\n",
            "6 E  generate done!\n",
            "6 F  generate done!\n",
            "6 F#  generate done!\n",
            "6 G  generate done!\n",
            "6 G#  generate done!\n",
            "6 A  generate done!\n",
            "6 A#  generate done!\n",
            "6 B  generate done!\n",
            "7 C  generate done!\n",
            "7 C#  generate done!\n",
            "7 D  generate done!\n",
            "7 D#  generate done!\n",
            "7 E  generate done!\n",
            "7 F  generate done!\n",
            "7 F#  generate done!\n",
            "7 G  generate done!\n",
            "7 G#  generate done!\n",
            "7 A  generate done!\n",
            "7 A#  generate done!\n",
            "7 B  generate done!\n",
            "8 C  generate done!\n",
            "8 C#  generate done!\n",
            "8 D  generate done!\n",
            "8 D#  generate done!\n",
            "8 E  generate done!\n",
            "8 F  generate done!\n",
            "8 F#  generate done!\n",
            "8 G  generate done!\n",
            "8 G#  generate done!\n",
            "8 A  generate done!\n",
            "8 A#  generate done!\n",
            "8 B  generate done!\n",
            "9 C  generate done!\n",
            "9 C#  generate done!\n",
            "9 D  generate done!\n",
            "9 D#  generate done!\n",
            "9 E  generate done!\n",
            "9 F  generate done!\n",
            "9 F#  generate done!\n",
            "9 G  generate done!\n",
            "9 G#  generate done!\n",
            "9 A  generate done!\n",
            "9 A#  generate done!\n",
            "9 B  generate done!\n"
          ]
        }
      ],
      "source": [
        "import midiutil\n",
        "from midiutil.MidiFile import MIDIFile\n",
        "os.mkdir(\"midis\")\n",
        "for i in range(10):\n",
        "  for chord in chords:\n",
        "    H=gen_imgs[i]\n",
        "    shifted=left_shifting(matrix_cleaner(H),detect_peaks(matrix_cleaner(H)[0]))\n",
        "    final_list=chord_matching(shifted,chord,48,1)\n",
        "    # create your MIDI object\n",
        "    mf = MIDIFile(1)     # only 1 track\n",
        "    track = 0   # the only track\n",
        "\n",
        "    time = 0    # start at the beginning\n",
        "    mf.addTrackName(track, time, \"Sample Track\")\n",
        "    mf.addTempo(track, time, 120)#2초에 1bar\n",
        "\n",
        "    # add some notes\n",
        "    channel = 0\n",
        "    used_time=[]\n",
        "    for j,notes in enumerate(final_list):\n",
        "      pitch = notes[0]+12           # C4 (middle C) 48이 C4인 내구현에 비해 여기는 60이 C4이다.\n",
        "      time = notes[1]/6             # start on beat 0\n",
        "      duration = notes[2]/6         # 1 beat long\n",
        "      volume= int(notes[3]*100)\n",
        "      if (time not in used_time and duration!=0):\n",
        "        mf.addNote(track, channel, pitch, time, duration, volume)\n",
        "        used_time.append(time)\n",
        "    with open(\"midis/\"+str(i)+' '+chord+\".mid\", 'wb') as outf:\n",
        "      mf.writeFile(outf)\n",
        "      print(str(i)+' '+chord+\"  generate done!\")"
      ]
    },
    {
      "cell_type": "markdown",
      "source": [
        "Bar가 1개 뿐이기도 하고, 아무것도 터치를 안한 그냥 GAN 모델이기 때문에 결과물이 썩 좋지는 않긴합니다. 다만 활용하기 나름이겠죠!"
      ],
      "metadata": {
        "id": "PCMJf5XqqDI3"
      }
    },
    {
      "cell_type": "markdown",
      "metadata": {
        "id": "G9SCj1SrGRgj"
      },
      "source": [
        "##Bonus) Code for MIDI Bar Clustering.\n",
        "\n",
        "이런거도 되네.. 정도로만 보셔도 괜찮습니다. 디테일한 설명도 생략할 것 같습니다."
      ]
    },
    {
      "cell_type": "code",
      "execution_count": 55,
      "metadata": {
        "id": "ez9WMZruqLA0"
      },
      "outputs": [],
      "source": [
        "from sklearn import preprocessing\n",
        "le = preprocessing.LabelEncoder()\n",
        "trainX=[]\n",
        "clusterxinfo=[]\n",
        "trainY=[]#info of Time Signature or chord\n",
        "\n",
        "for i,songs in enumerate(bar_matrix_list3):\n",
        "  for matrix in songs:\n",
        "    matrix=matrix.reshape(24,24)\n",
        "    matrix=sp.ndimage.filters.gaussian_filter(matrix, [0.5,0.5], mode='constant') #bluring for well training.\n",
        "    trainX.append(matrix)\n",
        "    trainY.append(chord_list[i])#Ise one_bar_number_list to use info of time signature\n",
        "trainX=np.array(trainX)\n",
        "trainY=np.array(trainY)\n",
        "clusterX=trainX[:100000]\n",
        "clusterY=trainY[:100000]\n",
        "le.fit(clusterY)\n",
        "clusterY=le.transform(clusterY)\n",
        "clusterX=clusterX.reshape((clusterX.shape[0],-1))\n",
        "n_clusters=len(np.unique(clusterY))"
      ]
    },
    {
      "cell_type": "code",
      "execution_count": 56,
      "metadata": {
        "colab": {
          "base_uri": "https://localhost:8080/",
          "height": 284
        },
        "id": "pUh8o96RMA8O",
        "outputId": "998b3445-488b-4141-f2b1-0cd7119f4b22"
      },
      "outputs": [
        {
          "output_type": "execute_result",
          "data": {
            "text/plain": [
              "<matplotlib.image.AxesImage at 0x7f973b5b2a50>"
            ]
          },
          "metadata": {},
          "execution_count": 56
        },
        {
          "output_type": "display_data",
          "data": {
            "image/png": "[encoded data removed]",
            "text/plain": [
              "<Figure size 432x288 with 1 Axes>"
            ]
          },
          "metadata": {
            "needs_background": "light"
          }
        }
      ],
      "source": [
        "import matplotlib.pyplot as plt\n",
        "plt.imshow(np.array(trainX[30]),cmap='viridis')"
      ]
    },
    {
      "cell_type": "code",
      "execution_count": 57,
      "metadata": {
        "colab": {
          "base_uri": "https://localhost:8080/"
        },
        "id": "sqUWmjlproso",
        "outputId": "7a7cab99-9bc0-497c-94a0-42c0393b841f"
      },
      "outputs": [
        {
          "output_type": "stream",
          "name": "stdout",
          "text": [
            "(1505, 576)\n"
          ]
        }
      ],
      "source": [
        "print(clusterX.shape)"
      ]
    },
    {
      "cell_type": "code",
      "execution_count": 58,
      "metadata": {
        "colab": {
          "base_uri": "https://localhost:8080/"
        },
        "id": "-eCyCmgXzbSr",
        "outputId": "77f4caaa-6941-42d1-fa7f-f2f9c87c0b85"
      },
      "outputs": [
        {
          "output_type": "execute_result",
          "data": {
            "text/plain": [
              "0.30697674418604654"
            ]
          },
          "metadata": {},
          "execution_count": 58
        }
      ],
      "source": [
        "from sklearn import metrics\n",
        "\n",
        "kmeans = KMeans(n_clusters=5, n_init=10)\n",
        "# Train K-Means.\n",
        "y_pred_kmeans = kmeans.fit_predict(clusterX)\n",
        "\n",
        "metrics.accuracy_score(clusterY,y_pred_kmeans)"
      ]
    },
    {
      "cell_type": "code",
      "execution_count": 67,
      "metadata": {
        "id": "ndQru9Cv1XIs"
      },
      "outputs": [],
      "source": [
        "dims = [clusterX.shape[-1], 500, 500, 2000, 10]\n",
        "init = VarianceScaling(scale=1. / 3., mode='fan_in',\n",
        "                           distribution='uniform')\n",
        "pretrain_optimizer = SGD(lr=1, momentum=0.9)\n",
        "pretrain_epochs = 300\n",
        "batch_size = 256"
      ]
    },
    {
      "cell_type": "code",
      "execution_count": 68,
      "metadata": {
        "id": "zzWEoxybXOLr"
      },
      "outputs": [],
      "source": [
        "from keras.layers import Dense, Input\n",
        "from keras.models import Model\n",
        "from keras.engine.topology import Layer, InputSpec\n",
        "import keras.backend as K\n",
        "\n",
        "def autoencoder(dims, act='relu', init='glorot_uniform'):\n",
        "\n",
        "    n_stacks = len(dims) - 1\n",
        "    # input\n",
        "    input_img = Input(shape=(dims[0],), name='input')\n",
        "    x = input_img\n",
        "    # internal layers in encoder\n",
        "    for i in range(n_stacks-1):\n",
        "        x = Dense(dims[i + 1], activation=act, kernel_initializer=init, name='encoder_%d' % i)(x)\n",
        "\n",
        "    # hidden layer\n",
        "    encoded = Dense(dims[-1], kernel_initializer=init, name='encoder_%d' % (n_stacks - 1))(x)  # hidden layer, features are extracted from here\n",
        "\n",
        "    x = encoded\n",
        "    # internal layers in decoder\n",
        "    for i in range(n_stacks-1, 0, -1):\n",
        "        x = Dense(dims[i], activation=act, kernel_initializer=init, name='decoder_%d' % i)(x)\n",
        "\n",
        "    # output\n",
        "    x = Dense(dims[0], kernel_initializer=init, name='decoder_0')(x)\n",
        "    decoded = x\n",
        "    return Model(inputs=input_img, outputs=decoded, name='AE'), Model(inputs=input_img, outputs=encoded, name='encoder')\n"
      ]
    },
    {
      "cell_type": "code",
      "execution_count": 69,
      "metadata": {
        "colab": {
          "base_uri": "https://localhost:8080/"
        },
        "id": "cLD6jvcH2thx",
        "outputId": "7947cc3a-3a25-4039-9a7c-a1e95043e80b"
      },
      "outputs": [
        {
          "output_type": "stream",
          "name": "stdout",
          "text": [
            "Epoch 1/100\n",
            "1505/1505 [==============================] - 0s 218us/step - loss: 0.0143\n",
            "Epoch 2/100\n",
            "1505/1505 [==============================] - 0s 19us/step - loss: 0.0139\n",
            "Epoch 3/100\n",
            "1505/1505 [==============================] - 0s 19us/step - loss: 0.0134\n",
            "Epoch 4/100\n",
            "1505/1505 [==============================] - 0s 18us/step - loss: 0.0129\n",
            "Epoch 5/100\n",
            "1505/1505 [==============================] - 0s 18us/step - loss: 0.0126\n",
            "Epoch 6/100\n",
            "1505/1505 [==============================] - 0s 18us/step - loss: 0.0124\n",
            "Epoch 7/100\n",
            "1505/1505 [==============================] - 0s 18us/step - loss: 0.0123\n",
            "Epoch 8/100\n",
            "1505/1505 [==============================] - 0s 20us/step - loss: 0.0122\n",
            "Epoch 9/100\n",
            "1505/1505 [==============================] - 0s 18us/step - loss: 0.0122\n",
            "Epoch 10/100\n",
            "1505/1505 [==============================] - 0s 19us/step - loss: 0.0122\n",
            "Epoch 11/100\n",
            "1505/1505 [==============================] - 0s 18us/step - loss: 0.0122\n",
            "Epoch 12/100\n",
            "1505/1505 [==============================] - 0s 19us/step - loss: 0.0122\n",
            "Epoch 13/100\n",
            "1505/1505 [==============================] - 0s 19us/step - loss: 0.0122\n",
            "Epoch 14/100\n",
            "1505/1505 [==============================] - 0s 18us/step - loss: 0.0122\n",
            "Epoch 15/100\n",
            "1505/1505 [==============================] - 0s 19us/step - loss: 0.0122\n",
            "Epoch 16/100\n",
            "1505/1505 [==============================] - 0s 19us/step - loss: 0.0122\n",
            "Epoch 17/100\n",
            "1505/1505 [==============================] - 0s 19us/step - loss: 0.0122\n",
            "Epoch 18/100\n",
            "1505/1505 [==============================] - 0s 19us/step - loss: 0.0122\n",
            "Epoch 19/100\n",
            "1505/1505 [==============================] - 0s 18us/step - loss: 0.0122\n",
            "Epoch 20/100\n",
            "1505/1505 [==============================] - 0s 20us/step - loss: 0.0122\n",
            "Epoch 21/100\n",
            "1505/1505 [==============================] - 0s 18us/step - loss: 0.0122\n",
            "Epoch 22/100\n",
            "1505/1505 [==============================] - 0s 19us/step - loss: 0.0122\n",
            "Epoch 23/100\n",
            "1505/1505 [==============================] - 0s 19us/step - loss: 0.0122\n",
            "Epoch 24/100\n",
            "1505/1505 [==============================] - 0s 19us/step - loss: 0.0122\n",
            "Epoch 25/100\n",
            "1505/1505 [==============================] - 0s 18us/step - loss: 0.0122\n",
            "Epoch 26/100\n",
            "1505/1505 [==============================] - 0s 19us/step - loss: 0.0122\n",
            "Epoch 27/100\n",
            "1505/1505 [==============================] - 0s 19us/step - loss: 0.0122\n",
            "Epoch 28/100\n",
            "1505/1505 [==============================] - 0s 18us/step - loss: 0.0122\n",
            "Epoch 29/100\n",
            "1505/1505 [==============================] - 0s 18us/step - loss: 0.0122\n",
            "Epoch 30/100\n",
            "1505/1505 [==============================] - 0s 19us/step - loss: 0.0122\n",
            "Epoch 31/100\n",
            "1505/1505 [==============================] - 0s 19us/step - loss: 0.0122\n",
            "Epoch 32/100\n",
            "1505/1505 [==============================] - 0s 20us/step - loss: 0.0122\n",
            "Epoch 33/100\n",
            "1505/1505 [==============================] - 0s 18us/step - loss: 0.0122\n",
            "Epoch 34/100\n",
            "1505/1505 [==============================] - 0s 19us/step - loss: 0.0122\n",
            "Epoch 35/100\n",
            "1505/1505 [==============================] - 0s 19us/step - loss: 0.0122\n",
            "Epoch 36/100\n",
            "1505/1505 [==============================] - 0s 18us/step - loss: 0.0122\n",
            "Epoch 37/100\n",
            "1505/1505 [==============================] - 0s 19us/step - loss: 0.0122\n",
            "Epoch 38/100\n",
            "1505/1505 [==============================] - 0s 19us/step - loss: 0.0122\n",
            "Epoch 39/100\n",
            "1505/1505 [==============================] - 0s 19us/step - loss: 0.0122\n",
            "Epoch 40/100\n",
            "1505/1505 [==============================] - 0s 19us/step - loss: 0.0122\n",
            "Epoch 41/100\n",
            "1505/1505 [==============================] - 0s 19us/step - loss: 0.0122\n",
            "Epoch 42/100\n",
            "1505/1505 [==============================] - 0s 18us/step - loss: 0.0122\n",
            "Epoch 43/100\n",
            "1505/1505 [==============================] - 0s 20us/step - loss: 0.0122\n",
            "Epoch 44/100\n",
            "1505/1505 [==============================] - 0s 18us/step - loss: 0.0122\n",
            "Epoch 45/100\n",
            "1505/1505 [==============================] - 0s 18us/step - loss: 0.0122\n",
            "Epoch 46/100\n",
            "1505/1505 [==============================] - 0s 19us/step - loss: 0.0122\n",
            "Epoch 47/100\n",
            "1505/1505 [==============================] - 0s 19us/step - loss: 0.0122\n",
            "Epoch 48/100\n",
            "1505/1505 [==============================] - 0s 19us/step - loss: 0.0122\n",
            "Epoch 49/100\n",
            "1505/1505 [==============================] - 0s 21us/step - loss: 0.0122\n",
            "Epoch 50/100\n",
            "1505/1505 [==============================] - 0s 20us/step - loss: 0.0122\n",
            "Epoch 51/100\n",
            "1505/1505 [==============================] - 0s 21us/step - loss: 0.0122\n",
            "Epoch 52/100\n",
            "1505/1505 [==============================] - 0s 21us/step - loss: 0.0122\n",
            "Epoch 53/100\n",
            "1505/1505 [==============================] - 0s 19us/step - loss: 0.0122\n",
            "Epoch 54/100\n",
            "1505/1505 [==============================] - 0s 23us/step - loss: 0.0122\n",
            "Epoch 55/100\n",
            "1505/1505 [==============================] - 0s 20us/step - loss: 0.0122\n",
            "Epoch 56/100\n",
            "1505/1505 [==============================] - 0s 21us/step - loss: 0.0122\n",
            "Epoch 57/100\n",
            "1505/1505 [==============================] - 0s 22us/step - loss: 0.0122\n",
            "Epoch 58/100\n",
            "1505/1505 [==============================] - 0s 21us/step - loss: 0.0122\n",
            "Epoch 59/100\n",
            "1505/1505 [==============================] - 0s 20us/step - loss: 0.0122\n",
            "Epoch 60/100\n",
            "1505/1505 [==============================] - 0s 20us/step - loss: 0.0122\n",
            "Epoch 61/100\n",
            "1505/1505 [==============================] - 0s 20us/step - loss: 0.0122\n",
            "Epoch 62/100\n",
            "1505/1505 [==============================] - 0s 21us/step - loss: 0.0122\n",
            "Epoch 63/100\n",
            "1505/1505 [==============================] - 0s 21us/step - loss: 0.0122\n",
            "Epoch 64/100\n",
            "1505/1505 [==============================] - 0s 19us/step - loss: 0.0122\n",
            "Epoch 65/100\n",
            "1505/1505 [==============================] - 0s 20us/step - loss: 0.0122\n",
            "Epoch 66/100\n",
            "1505/1505 [==============================] - 0s 18us/step - loss: 0.0122\n",
            "Epoch 67/100\n",
            "1505/1505 [==============================] - 0s 18us/step - loss: 0.0122\n",
            "Epoch 68/100\n",
            "1505/1505 [==============================] - 0s 19us/step - loss: 0.0121\n",
            "Epoch 69/100\n",
            "1505/1505 [==============================] - 0s 18us/step - loss: 0.0121\n",
            "Epoch 70/100\n",
            "1505/1505 [==============================] - 0s 20us/step - loss: 0.0121\n",
            "Epoch 71/100\n",
            "1505/1505 [==============================] - 0s 18us/step - loss: 0.0121\n",
            "Epoch 72/100\n",
            "1505/1505 [==============================] - 0s 19us/step - loss: 0.0121\n",
            "Epoch 73/100\n",
            "1505/1505 [==============================] - 0s 18us/step - loss: 0.0121\n",
            "Epoch 74/100\n",
            "1505/1505 [==============================] - 0s 19us/step - loss: 0.0121\n",
            "Epoch 75/100\n",
            "1505/1505 [==============================] - 0s 18us/step - loss: 0.0121\n",
            "Epoch 76/100\n",
            "1505/1505 [==============================] - 0s 19us/step - loss: 0.0121\n",
            "Epoch 77/100\n",
            "1505/1505 [==============================] - 0s 19us/step - loss: 0.0121\n",
            "Epoch 78/100\n",
            "1505/1505 [==============================] - 0s 18us/step - loss: 0.0121\n",
            "Epoch 79/100\n",
            "1505/1505 [==============================] - 0s 19us/step - loss: 0.0121\n",
            "Epoch 80/100\n",
            "1505/1505 [==============================] - 0s 19us/step - loss: 0.0121\n",
            "Epoch 81/100\n",
            "1505/1505 [==============================] - 0s 19us/step - loss: 0.0120\n",
            "Epoch 82/100\n",
            "1505/1505 [==============================] - 0s 18us/step - loss: 0.0120\n",
            "Epoch 83/100\n",
            "1505/1505 [==============================] - 0s 18us/step - loss: 0.0120\n",
            "Epoch 84/100\n",
            "1505/1505 [==============================] - 0s 19us/step - loss: 0.0119\n",
            "Epoch 85/100\n",
            "1505/1505 [==============================] - 0s 19us/step - loss: 0.0119\n",
            "Epoch 86/100\n",
            "1505/1505 [==============================] - 0s 19us/step - loss: 0.0119\n",
            "Epoch 87/100\n",
            "1505/1505 [==============================] - 0s 18us/step - loss: 0.0118\n",
            "Epoch 88/100\n",
            "1505/1505 [==============================] - 0s 21us/step - loss: 0.0117\n",
            "Epoch 89/100\n",
            "1505/1505 [==============================] - 0s 19us/step - loss: 0.0117\n",
            "Epoch 90/100\n",
            "1505/1505 [==============================] - 0s 19us/step - loss: 0.0116\n",
            "Epoch 91/100\n",
            "1505/1505 [==============================] - 0s 18us/step - loss: 0.0115\n",
            "Epoch 92/100\n",
            "1505/1505 [==============================] - 0s 18us/step - loss: 0.0115\n",
            "Epoch 93/100\n",
            "1505/1505 [==============================] - 0s 19us/step - loss: 0.0114\n",
            "Epoch 94/100\n",
            "1505/1505 [==============================] - 0s 19us/step - loss: 0.0114\n",
            "Epoch 95/100\n",
            "1505/1505 [==============================] - 0s 19us/step - loss: 0.0113\n",
            "Epoch 96/100\n",
            "1505/1505 [==============================] - 0s 18us/step - loss: 0.0113\n",
            "Epoch 97/100\n",
            "1505/1505 [==============================] - 0s 18us/step - loss: 0.0113\n",
            "Epoch 98/100\n",
            "1505/1505 [==============================] - 0s 19us/step - loss: 0.0113\n",
            "Epoch 99/100\n",
            "1505/1505 [==============================] - 0s 19us/step - loss: 0.0112\n",
            "Epoch 100/100\n",
            "1505/1505 [==============================] - 0s 18us/step - loss: 0.0112\n"
          ]
        }
      ],
      "source": [
        "autoencoder, encoder = autoencoder(dims, init=init)\n",
        "autoencoder.compile(optimizer=pretrain_optimizer, loss='mse')\n",
        "autoencoder.fit(clusterX, clusterX, batch_size=batch_size, epochs=100) #, callbacks=cb)\n",
        "autoencoder.save_weights( 'ae_weights.h5')"
      ]
    },
    {
      "cell_type": "code",
      "execution_count": 70,
      "metadata": {
        "colab": {
          "base_uri": "https://localhost:8080/"
        },
        "id": "poGQIms0P-Yg",
        "outputId": "8406f05b-8967-423b-eb9d-44644e43b513"
      },
      "outputs": [
        {
          "output_type": "stream",
          "name": "stdout",
          "text": [
            "[0 0 0 ... 0 0 0]\n"
          ]
        }
      ],
      "source": [
        "print(clusterY)"
      ]
    },
    {
      "cell_type": "code",
      "execution_count": 71,
      "metadata": {
        "id": "2AikrHAgPpzN"
      },
      "outputs": [],
      "source": [
        "autoencoder.load_weights('ae_weights.h5')"
      ]
    },
    {
      "cell_type": "code",
      "execution_count": 72,
      "metadata": {
        "id": "JGZCAz0ctuAj"
      },
      "outputs": [],
      "source": [
        "class ClusteringLayer(Layer):\n",
        "\n",
        "    def __init__(self, n_clusters, weights=None, alpha=1.0, **kwargs):\n",
        "        if 'input_shape' not in kwargs and 'input_dim' in kwargs:\n",
        "            kwargs['input_shape'] = (kwargs.pop('input_dim'),)\n",
        "        super(ClusteringLayer, self).__init__(**kwargs)\n",
        "        self.n_clusters = n_clusters\n",
        "        self.alpha = alpha\n",
        "        self.initial_weights = weights\n",
        "        self.input_spec = InputSpec(ndim=2)\n",
        "\n",
        "    def build(self, input_shape):\n",
        "        assert len(input_shape) == 2\n",
        "        input_dim = input_shape[1]\n",
        "        self.input_spec = InputSpec(dtype=K.floatx(), shape=(None, input_dim))\n",
        "        self.clusters = self.add_weight(shape=(self.n_clusters, input_dim), initializer='glorot_uniform', name='clusters')\n",
        "        if self.initial_weights is not None:\n",
        "            self.set_weights(self.initial_weights)\n",
        "            del self.initial_weights\n",
        "        self.built = True\n",
        "\n",
        "    def call(self, inputs, **kwargs):\n",
        "\n",
        "        q = 1.0 / (1.0 + (K.sum(K.square(K.expand_dims(inputs, axis=1) - self.clusters), axis=2) / self.alpha))\n",
        "        q **= (self.alpha + 1.0) / 2.0\n",
        "        q = K.transpose(K.transpose(q) / K.sum(q, axis=1)) # Make sure each sample's 10 values add up to 1.\n",
        "        return q\n",
        "\n",
        "    def compute_output_shape(self, input_shape):\n",
        "        assert input_shape and len(input_shape) == 2\n",
        "        return input_shape[0], self.n_clusters\n",
        "\n",
        "    def get_config(self):\n",
        "        config = {'n_clusters': self.n_clusters}\n",
        "        base_config = super(ClusteringLayer, self).get_config()\n",
        "        return dict(list(base_config.items()) + list(config.items()))\n",
        "\n",
        "def autoencoder(dims, act='relu', init='glorot_uniform'):\n",
        "\n",
        "    n_stacks = len(dims) - 1\n",
        "    # input\n",
        "    input_img = Input(shape=(dims[0],), name='input')\n",
        "    x = input_img\n",
        "    # internal layers in encoder\n",
        "    for i in range(n_stacks-1):\n",
        "        x = Dense(dims[i + 1], activation=act, kernel_initializer=init, name='encoder_%d' % i)(x)\n",
        "\n",
        "    # hidden layer\n",
        "    encoded = Dense(dims[-1], kernel_initializer=init, name='encoder_%d' % (n_stacks - 1))(x)  # hidden layer, features are extracted from here\n",
        "\n",
        "    x = encoded\n",
        "    # internal layers in decoder\n",
        "    for i in range(n_stacks-1, 0, -1):\n",
        "        x = Dense(dims[i], activation=act, kernel_initializer=init, name='decoder_%d' % i)(x)\n",
        "\n",
        "    # output\n",
        "    x = Dense(dims[0], kernel_initializer=init, name='decoder_0')(x)\n",
        "    decoded = x\n",
        "    return Model(inputs=input_img, outputs=decoded, name='AE'), Model(inputs=input_img, outputs=encoded, name='encoder')\n",
        "\n"
      ]
    },
    {
      "cell_type": "code",
      "execution_count": 73,
      "metadata": {
        "id": "V2Nx8Ygs-I6_"
      },
      "outputs": [],
      "source": [
        "n_clusters=5\n",
        "clustering_layer = ClusteringLayer(n_clusters, name='clustering')(encoder.output)\n",
        "model = Model(inputs=encoder.input, outputs=clustering_layer)\n",
        "\n",
        "model.compile(optimizer=SGD(0.01, 0.9), loss='kld')\n",
        "\n",
        "kmeans = KMeans(n_clusters=n_clusters, n_init=20)\n",
        "y_pred = kmeans.fit_predict(encoder.predict(clusterX))\n",
        "y_pred_last = np.copy(y_pred)\n",
        "model.get_layer(name='clustering').set_weights([kmeans.cluster_centers_])\n",
        "\n",
        "loss = 0\n",
        "index = 0\n",
        "maxiter = 14000\n",
        "update_interval = 140\n",
        "index_array = np.arange(clusterX.shape[0])\n",
        "tol = 0.001"
      ]
    },
    {
      "cell_type": "code",
      "execution_count": 76,
      "metadata": {
        "colab": {
          "base_uri": "https://localhost:8080/"
        },
        "id": "FJ8oiBIhX7kq",
        "outputId": "ff8b4926-e890-4a00-954a-7118435c330d"
      },
      "outputs": [
        {
          "output_type": "stream",
          "name": "stdout",
          "text": [
            "Iter 0: acc = 0.25714, nmi = 0.00356, ari = 0.00343  ; loss= 0.10517\n",
            "Iter 140: acc = 0.25714, nmi = 0.00356, ari = 0.00343  ; loss= 0.09659\n",
            "delta_label  0.0 < tol  0.001\n",
            "Reached tolerance threshold. Stopping training.\n"
          ]
        }
      ],
      "source": [
        "def target_distribution(q):\n",
        "  weight = q ** 2 / q.sum(0)\n",
        "  return (weight.T / weight.sum(1)).T\n",
        "for ite in range(14000):\n",
        "    if ite % update_interval == 0:\n",
        "        q = model.predict(clusterX, verbose=0)\n",
        "        p = target_distribution(q)  # update the auxiliary target distribution p\n",
        "\n",
        "        # evaluate the clustering performance\n",
        "        y_pred = q.argmax(1)\n",
        "        if clusterY is not None:\n",
        "            acc = np.round(metrics.accuracy_score(clusterY, y_pred), 5)\n",
        "            nmi = np.round(metrics.normalized_mutual_info_score(clusterY, y_pred), 5)\n",
        "            ari = np.round(metrics.adjusted_rand_score(clusterY, y_pred), 5)\n",
        "            loss = np.round(loss, 5)\n",
        "            print('Iter %d: acc = %.5f, nmi = %.5f, ari = %.5f' % (ite, acc, nmi, ari), ' ; loss=', loss)\n",
        "\n",
        "        # check stop criterion - model convergence\n",
        "        delta_label = np.sum(y_pred != y_pred_last).astype(np.float32) / y_pred.shape[0]\n",
        "        y_pred_last = np.copy(y_pred)\n",
        "        if ite > 0 and delta_label < tol:\n",
        "            print('delta_label ', delta_label, '< tol ', tol)\n",
        "            print('Reached tolerance threshold. Stopping training.')\n",
        "            break\n",
        "    idx = index_array[index * batch_size: min((index+1) * batch_size, clusterX.shape[0])]\n",
        "    loss = model.train_on_batch(x=clusterX[idx], y=p[idx])\n",
        "    index = index + 1 if (index + 1) * batch_size <= clusterX.shape[0] else 0\n",
        "\n",
        "model.save_weights( 'DEC_model_final.h5')\n",
        "model.load_weights( 'DEC_model_final.h5')"
      ]
    },
    {
      "cell_type": "code",
      "execution_count": 77,
      "metadata": {
        "colab": {
          "base_uri": "https://localhost:8080/"
        },
        "id": "VZABO5Fq2gQy",
        "outputId": "d739896c-430a-4f78-ba18-7bd21edc7298"
      },
      "outputs": [
        {
          "output_type": "stream",
          "name": "stdout",
          "text": [
            "Acc = 0.25714, nmi = 0.00356, ari = 0.00343  ; loss= 0.09659\n"
          ]
        }
      ],
      "source": [
        "q = model.predict(clusterX, verbose=0)\n",
        "p = target_distribution(q)  # update the auxiliary target distribution p\n",
        "\n",
        "# evaluate the clustering performance\n",
        "y_pred = q.argmax(1)\n",
        "if clusterY is not None:\n",
        "    acc = np.round(metrics.accuracy_score(clusterY, y_pred), 5)\n",
        "    nmi = np.round(metrics.normalized_mutual_info_score(clusterY, y_pred), 5)\n",
        "    ari = np.round(metrics.adjusted_rand_score(clusterY, y_pred), 5)\n",
        "    loss = np.round(loss, 5)\n",
        "    print('Acc = %.5f, nmi = %.5f, ari = %.5f' % (acc, nmi, ari), ' ; loss=', loss)"
      ]
    },
    {
      "cell_type": "code",
      "execution_count": 78,
      "metadata": {
        "colab": {
          "base_uri": "https://localhost:8080/",
          "height": 498
        },
        "id": "76EtBzIJsfJM",
        "outputId": "5be2c063-c3b8-4cef-d1be-b462a421e912"
      },
      "outputs": [
        {
          "output_type": "display_data",
          "data": {
            "image/png": "[encoded data removed]",
            "text/plain": [
              "<Figure size 504x504 with 2 Axes>"
            ]
          },
          "metadata": {}
        }
      ],
      "source": [
        "# chord scale과의 비교를 위한 코드. Label이 5개이므로 큰 의미는 없다. 사실 2개여도 큰 의미 없엇다.\n",
        "\n",
        "sns.set(font_scale=2)\n",
        "confusion_matrix = sklearn.metrics.confusion_matrix(clusterY, y_pred)\n",
        "\n",
        "plt.figure(figsize=(7, 7))\n",
        "sns.heatmap(confusion_matrix, annot=True, fmt=\"d\", annot_kws={\"size\": 10});\n",
        "plt.title(\"Confusion matrix\", fontsize=30)\n",
        "plt.ylabel('True label', fontsize=25)\n",
        "plt.xlabel('Clustering label', fontsize=25)\n",
        "plt.show()\n"
      ]
    },
    {
      "cell_type": "code",
      "execution_count": 79,
      "metadata": {
        "id": "IYFUyGiXyQc0"
      },
      "outputs": [],
      "source": [
        "cluster0=[]\n",
        "cluster1=[]\n",
        "cluster2=[]\n",
        "cluster3=[]\n",
        "cluster4=[]\n",
        "for i,x in enumerate(y_pred):\n",
        "  if x==0:\n",
        "    cluster0.append(trainX[i])\n",
        "  elif x==1:\n",
        "    cluster1.append(trainX[i])\n",
        "  elif x==2:\n",
        "    cluster2.append(trainX[i])\n",
        "  elif x==3:\n",
        "    cluster3.append(trainX[i])\n",
        "  elif x==4:\n",
        "    cluster4.append(trainX[i])"
      ]
    },
    {
      "cell_type": "code",
      "execution_count": 80,
      "metadata": {
        "colab": {
          "base_uri": "https://localhost:8080/",
          "height": 595
        },
        "id": "x8BneFfnxngs",
        "outputId": "4aefabda-b11f-4383-979f-6c7e230ceebc"
      },
      "outputs": [
        {
          "output_type": "display_data",
          "data": {
            "image/png": "[encoded data removed]",
            "text/plain": [
              "<Figure size 1296x720 with 45 Axes>"
            ]
          },
          "metadata": {}
        }
      ],
      "source": [
        "import numpy as np\n",
        "import matplotlib.pyplot as plt\n",
        "\n",
        "SMALL_SIZE = 8\n",
        "MEDIUM_SIZE = 10\n",
        "BIGGER_SIZE = 12\n",
        "\n",
        "plt.rc('font', size=SMALL_SIZE)          # controls default text sizes\n",
        "plt.rc('axes', titlesize=SMALL_SIZE)     # fontsize of the axes title\n",
        "plt.rc('axes', labelsize=MEDIUM_SIZE)    # fontsize of the x and y labels\n",
        "plt.rc('xtick', labelsize=SMALL_SIZE)    # fontsize of the tick labels\n",
        "plt.rc('ytick', labelsize=SMALL_SIZE)    # fontsize of the tick labels\n",
        "plt.rc('legend', fontsize=SMALL_SIZE)    # legend fontsize\n",
        "plt.rc('figure', titlesize=BIGGER_SIZE)  # fontsize of the figure title\n",
        "fig=plt.figure(figsize=(18, 10))\n",
        "columns = 9\n",
        "rows = 5\n",
        "for i in range(1, columns*rows +1):\n",
        "    if i<10:\n",
        "      img = cluster0[i]\n",
        "    elif i<19:\n",
        "      img = cluster1[i]\n",
        "    elif i<28:\n",
        "      img = cluster2[i]\n",
        "    elif i<37:\n",
        "      img = cluster3[i]\n",
        "    elif i<46:\n",
        "      img = cluster4[i]\n",
        "    fig.add_subplot(rows, columns, i)\n",
        "    plt.imshow(img)\n",
        "plt.show()"
      ]
    }
  ],
  "metadata": {
    "accelerator": "GPU",
    "colab": {
      "collapsed_sections": [
        "JM87cWAKcD36",
        "G9SCj1SrGRgj"
      ],
      "machine_shape": "hm",
      "name": "MIDI_GAN_tutorial.ipynb",
      "provenance": []
    },
    "kernelspec": {
      "display_name": "Python 3",
      "name": "python3"
    },
    "language_info": {
      "codemirror_mode": {
        "name": "ipython",
        "version": 3
      },
      "file_extension": ".py",
      "mimetype": "text/x-python",
      "name": "python",
      "nbconvert_exporter": "python",
      "pygments_lexer": "ipython3",
      "version": "3.7.9"
    },
    "widgets": {
      "application/vnd.jupyter.widget-state+json": {
        "175f63a148c644a0a10dd0ce949fb08f": {
          "model_module": "@jupyter-widgets/controls",
          "model_name": "HBoxModel",
          "model_module_version": "1.5.0",
          "state": {
            "_view_name": "HBoxView",
            "_dom_classes": [],
            "_model_name": "HBoxModel",
            "_view_module": "@jupyter-widgets/controls",
            "_model_module_version": "1.5.0",
            "_view_count": null,
            "_view_module_version": "1.5.0",
            "box_style": "",
            "layout": "IPY_MODEL_7f3d55b6d7864e91971a2c7c2471609a",
            "_model_module": "@jupyter-widgets/controls",
            "children": [
              "IPY_MODEL_6d60662705b543e9b673371755eabf4b",
              "IPY_MODEL_2adb3e979da14955bf3df7e1a36e4d0f",
              "IPY_MODEL_c54143c496b34b758363a9ed619712b0"
            ]
          }
        },
        "7f3d55b6d7864e91971a2c7c2471609a": {
          "model_module": "@jupyter-widgets/base",
          "model_name": "LayoutModel",
          "model_module_version": "1.2.0",
          "state": {
            "_view_name": "LayoutView",
            "grid_template_rows": null,
            "right": null,
            "justify_content": null,
            "_view_module": "@jupyter-widgets/base",
            "overflow": null,
            "_model_module_version": "1.2.0",
            "_view_count": null,
            "flex_flow": null,
            "width": null,
            "min_width": null,
            "border": null,
            "align_items": null,
            "bottom": null,
            "_model_module": "@jupyter-widgets/base",
            "top": null,
            "grid_column": null,
            "overflow_y": null,
            "overflow_x": null,
            "grid_auto_flow": null,
            "grid_area": null,
            "grid_template_columns": null,
            "flex": null,
            "_model_name": "LayoutModel",
            "justify_items": null,
            "grid_row": null,
            "max_height": null,
            "align_content": null,
            "visibility": null,
            "align_self": null,
            "height": null,
            "min_height": null,
            "padding": null,
            "grid_auto_rows": null,
            "grid_gap": null,
            "max_width": null,
            "order": null,
            "_view_module_version": "1.2.0",
            "grid_template_areas": null,
            "object_position": null,
            "object_fit": null,
            "grid_auto_columns": null,
            "margin": null,
            "display": null,
            "left": null
          }
        },
        "6d60662705b543e9b673371755eabf4b": {
          "model_module": "@jupyter-widgets/controls",
          "model_name": "HTMLModel",
          "model_module_version": "1.5.0",
          "state": {
            "_view_name": "HTMLView",
            "style": "IPY_MODEL_624585fa3d944d57bbec18ba72e544b3",
            "_dom_classes": [],
            "description": "",
            "_model_name": "HTMLModel",
            "placeholder": "​",
            "_view_module": "@jupyter-widgets/controls",
            "_model_module_version": "1.5.0",
            "value": "",
            "_view_count": null,
            "_view_module_version": "1.5.0",
            "description_tooltip": null,
            "_model_module": "@jupyter-widgets/controls",
            "layout": "IPY_MODEL_082e8d3a01a84b0bb009d175d1a1118a"
          }
        },
        "2adb3e979da14955bf3df7e1a36e4d0f": {
          "model_module": "@jupyter-widgets/controls",
          "model_name": "FloatProgressModel",
          "model_module_version": "1.5.0",
          "state": {
            "_view_name": "ProgressView",
            "style": "IPY_MODEL_0bea2d723a444fb0b883fb0f3e6e5ce9",
            "_dom_classes": [],
            "description": "",
            "_model_name": "FloatProgressModel",
            "bar_style": "success",
            "max": 9912422,
            "_view_module": "@jupyter-widgets/controls",
            "_model_module_version": "1.5.0",
            "value": 9912422,
            "_view_count": null,
            "_view_module_version": "1.5.0",
            "orientation": "horizontal",
            "min": 0,
            "description_tooltip": null,
            "_model_module": "@jupyter-widgets/controls",
            "layout": "IPY_MODEL_5c81a61a4a914842b48b6f902138c761"
          }
        },
        "c54143c496b34b758363a9ed619712b0": {
          "model_module": "@jupyter-widgets/controls",
          "model_name": "HTMLModel",
          "model_module_version": "1.5.0",
          "state": {
            "_view_name": "HTMLView",
            "style": "IPY_MODEL_d7c17731403f435396841903e242b360",
            "_dom_classes": [],
            "description": "",
            "_model_name": "HTMLModel",
            "placeholder": "​",
            "_view_module": "@jupyter-widgets/controls",
            "_model_module_version": "1.5.0",
            "value": " 9913344/? [00:00&lt;00:00, 11599809.91it/s]",
            "_view_count": null,
            "_view_module_version": "1.5.0",
            "description_tooltip": null,
            "_model_module": "@jupyter-widgets/controls",
            "layout": "IPY_MODEL_cf1fc0468dbe41d3af8d18b7635ccad0"
          }
        },
        "624585fa3d944d57bbec18ba72e544b3": {
          "model_module": "@jupyter-widgets/controls",
          "model_name": "DescriptionStyleModel",
          "model_module_version": "1.5.0",
          "state": {
            "_view_name": "StyleView",
            "_model_name": "DescriptionStyleModel",
            "description_width": "",
            "_view_module": "@jupyter-widgets/base",
            "_model_module_version": "1.5.0",
            "_view_count": null,
            "_view_module_version": "1.2.0",
            "_model_module": "@jupyter-widgets/controls"
          }
        },
        "082e8d3a01a84b0bb009d175d1a1118a": {
          "model_module": "@jupyter-widgets/base",
          "model_name": "LayoutModel",
          "model_module_version": "1.2.0",
          "state": {
            "_view_name": "LayoutView",
            "grid_template_rows": null,
            "right": null,
            "justify_content": null,
            "_view_module": "@jupyter-widgets/base",
            "overflow": null,
            "_model_module_version": "1.2.0",
            "_view_count": null,
            "flex_flow": null,
            "width": null,
            "min_width": null,
            "border": null,
            "align_items": null,
            "bottom": null,
            "_model_module": "@jupyter-widgets/base",
            "top": null,
            "grid_column": null,
            "overflow_y": null,
            "overflow_x": null,
            "grid_auto_flow": null,
            "grid_area": null,
            "grid_template_columns": null,
            "flex": null,
            "_model_name": "LayoutModel",
            "justify_items": null,
            "grid_row": null,
            "max_height": null,
            "align_content": null,
            "visibility": null,
            "align_self": null,
            "height": null,
            "min_height": null,
            "padding": null,
            "grid_auto_rows": null,
            "grid_gap": null,
            "max_width": null,
            "order": null,
            "_view_module_version": "1.2.0",
            "grid_template_areas": null,
            "object_position": null,
            "object_fit": null,
            "grid_auto_columns": null,
            "margin": null,
            "display": null,
            "left": null
          }
        },
        "0bea2d723a444fb0b883fb0f3e6e5ce9": {
          "model_module": "@jupyter-widgets/controls",
          "model_name": "ProgressStyleModel",
          "model_module_version": "1.5.0",
          "state": {
            "_view_name": "StyleView",
            "_model_name": "ProgressStyleModel",
            "description_width": "",
            "_view_module": "@jupyter-widgets/base",
            "_model_module_version": "1.5.0",
            "_view_count": null,
            "_view_module_version": "1.2.0",
            "bar_color": null,
            "_model_module": "@jupyter-widgets/controls"
          }
        },
        "5c81a61a4a914842b48b6f902138c761": {
          "model_module": "@jupyter-widgets/base",
          "model_name": "LayoutModel",
          "model_module_version": "1.2.0",
          "state": {
            "_view_name": "LayoutView",
            "grid_template_rows": null,
            "right": null,
            "justify_content": null,
            "_view_module": "@jupyter-widgets/base",
            "overflow": null,
            "_model_module_version": "1.2.0",
            "_view_count": null,
            "flex_flow": null,
            "width": null,
            "min_width": null,
            "border": null,
            "align_items": null,
            "bottom": null,
            "_model_module": "@jupyter-widgets/base",
            "top": null,
            "grid_column": null,
            "overflow_y": null,
            "overflow_x": null,
            "grid_auto_flow": null,
            "grid_area": null,
            "grid_template_columns": null,
            "flex": null,
            "_model_name": "LayoutModel",
            "justify_items": null,
            "grid_row": null,
            "max_height": null,
            "align_content": null,
            "visibility": null,
            "align_self": null,
            "height": null,
            "min_height": null,
            "padding": null,
            "grid_auto_rows": null,
            "grid_gap": null,
            "max_width": null,
            "order": null,
            "_view_module_version": "1.2.0",
            "grid_template_areas": null,
            "object_position": null,
            "object_fit": null,
            "grid_auto_columns": null,
            "margin": null,
            "display": null,
            "left": null
          }
        },
        "d7c17731403f435396841903e242b360": {
          "model_module": "@jupyter-widgets/controls",
          "model_name": "DescriptionStyleModel",
          "model_module_version": "1.5.0",
          "state": {
            "_view_name": "StyleView",
            "_model_name": "DescriptionStyleModel",
            "description_width": "",
            "_view_module": "@jupyter-widgets/base",
            "_model_module_version": "1.5.0",
            "_view_count": null,
            "_view_module_version": "1.2.0",
            "_model_module": "@jupyter-widgets/controls"
          }
        },
        "cf1fc0468dbe41d3af8d18b7635ccad0": {
          "model_module": "@jupyter-widgets/base",
          "model_name": "LayoutModel",
          "model_module_version": "1.2.0",
          "state": {
            "_view_name": "LayoutView",
            "grid_template_rows": null,
            "right": null,
            "justify_content": null,
            "_view_module": "@jupyter-widgets/base",
            "overflow": null,
            "_model_module_version": "1.2.0",
            "_view_count": null,
            "flex_flow": null,
            "width": null,
            "min_width": null,
            "border": null,
            "align_items": null,
            "bottom": null,
            "_model_module": "@jupyter-widgets/base",
            "top": null,
            "grid_column": null,
            "overflow_y": null,
            "overflow_x": null,
            "grid_auto_flow": null,
            "grid_area": null,
            "grid_template_columns": null,
            "flex": null,
            "_model_name": "LayoutModel",
            "justify_items": null,
            "grid_row": null,
            "max_height": null,
            "align_content": null,
            "visibility": null,
            "align_self": null,
            "height": null,
            "min_height": null,
            "padding": null,
            "grid_auto_rows": null,
            "grid_gap": null,
            "max_width": null,
            "order": null,
            "_view_module_version": "1.2.0",
            "grid_template_areas": null,
            "object_position": null,
            "object_fit": null,
            "grid_auto_columns": null,
            "margin": null,
            "display": null,
            "left": null
          }
        },
        "1603633eb4b048c79df7e61592885cda": {
          "model_module": "@jupyter-widgets/controls",
          "model_name": "HBoxModel",
          "model_module_version": "1.5.0",
          "state": {
            "_view_name": "HBoxView",
            "_dom_classes": [],
            "_model_name": "HBoxModel",
            "_view_module": "@jupyter-widgets/controls",
            "_model_module_version": "1.5.0",
            "_view_count": null,
            "_view_module_version": "1.5.0",
            "box_style": "",
            "layout": "IPY_MODEL_0abb84aa85244820894c825baff26680",
            "_model_module": "@jupyter-widgets/controls",
            "children": [
              "IPY_MODEL_f3891a8aafb943f9b3d2976f6cfaa771",
              "IPY_MODEL_2beaf5f5bc934df6ae306ea7f00ffefa",
              "IPY_MODEL_34d1227adee349b2bea4564490c8a241"
            ]
          }
        },
        "0abb84aa85244820894c825baff26680": {
          "model_module": "@jupyter-widgets/base",
          "model_name": "LayoutModel",
          "model_module_version": "1.2.0",
          "state": {
            "_view_name": "LayoutView",
            "grid_template_rows": null,
            "right": null,
            "justify_content": null,
            "_view_module": "@jupyter-widgets/base",
            "overflow": null,
            "_model_module_version": "1.2.0",
            "_view_count": null,
            "flex_flow": null,
            "width": null,
            "min_width": null,
            "border": null,
            "align_items": null,
            "bottom": null,
            "_model_module": "@jupyter-widgets/base",
            "top": null,
            "grid_column": null,
            "overflow_y": null,
            "overflow_x": null,
            "grid_auto_flow": null,
            "grid_area": null,
            "grid_template_columns": null,
            "flex": null,
            "_model_name": "LayoutModel",
            "justify_items": null,
            "grid_row": null,
            "max_height": null,
            "align_content": null,
            "visibility": null,
            "align_self": null,
            "height": null,
            "min_height": null,
            "padding": null,
            "grid_auto_rows": null,
            "grid_gap": null,
            "max_width": null,
            "order": null,
            "_view_module_version": "1.2.0",
            "grid_template_areas": null,
            "object_position": null,
            "object_fit": null,
            "grid_auto_columns": null,
            "margin": null,
            "display": null,
            "left": null
          }
        },
        "f3891a8aafb943f9b3d2976f6cfaa771": {
          "model_module": "@jupyter-widgets/controls",
          "model_name": "HTMLModel",
          "model_module_version": "1.5.0",
          "state": {
            "_view_name": "HTMLView",
            "style": "IPY_MODEL_b867877980ea411abaa0abdffd933e78",
            "_dom_classes": [],
            "description": "",
            "_model_name": "HTMLModel",
            "placeholder": "​",
            "_view_module": "@jupyter-widgets/controls",
            "_model_module_version": "1.5.0",
            "value": "",
            "_view_count": null,
            "_view_module_version": "1.5.0",
            "description_tooltip": null,
            "_model_module": "@jupyter-widgets/controls",
            "layout": "IPY_MODEL_437d6535863847ed82f3aa205426e1e6"
          }
        },
        "2beaf5f5bc934df6ae306ea7f00ffefa": {
          "model_module": "@jupyter-widgets/controls",
          "model_name": "FloatProgressModel",
          "model_module_version": "1.5.0",
          "state": {
            "_view_name": "ProgressView",
            "style": "IPY_MODEL_e4cea8feb638498e8eb5231ebae85cc2",
            "_dom_classes": [],
            "description": "",
            "_model_name": "FloatProgressModel",
            "bar_style": "success",
            "max": 28881,
            "_view_module": "@jupyter-widgets/controls",
            "_model_module_version": "1.5.0",
            "value": 28881,
            "_view_count": null,
            "_view_module_version": "1.5.0",
            "orientation": "horizontal",
            "min": 0,
            "description_tooltip": null,
            "_model_module": "@jupyter-widgets/controls",
            "layout": "IPY_MODEL_33b3a6d41de14e83804763e3b92abb83"
          }
        },
        "34d1227adee349b2bea4564490c8a241": {
          "model_module": "@jupyter-widgets/controls",
          "model_name": "HTMLModel",
          "model_module_version": "1.5.0",
          "state": {
            "_view_name": "HTMLView",
            "style": "IPY_MODEL_c37cb0f39f584b55b633c05bab8027bd",
            "_dom_classes": [],
            "description": "",
            "_model_name": "HTMLModel",
            "placeholder": "​",
            "_view_module": "@jupyter-widgets/controls",
            "_model_module_version": "1.5.0",
            "value": " 29696/? [00:00&lt;00:00, 1042511.42it/s]",
            "_view_count": null,
            "_view_module_version": "1.5.0",
            "description_tooltip": null,
            "_model_module": "@jupyter-widgets/controls",
            "layout": "IPY_MODEL_187b436d60e04b92b69922ad83e7fe89"
          }
        },
        "b867877980ea411abaa0abdffd933e78": {
          "model_module": "@jupyter-widgets/controls",
          "model_name": "DescriptionStyleModel",
          "model_module_version": "1.5.0",
          "state": {
            "_view_name": "StyleView",
            "_model_name": "DescriptionStyleModel",
            "description_width": "",
            "_view_module": "@jupyter-widgets/base",
            "_model_module_version": "1.5.0",
            "_view_count": null,
            "_view_module_version": "1.2.0",
            "_model_module": "@jupyter-widgets/controls"
          }
        },
        "437d6535863847ed82f3aa205426e1e6": {
          "model_module": "@jupyter-widgets/base",
          "model_name": "LayoutModel",
          "model_module_version": "1.2.0",
          "state": {
            "_view_name": "LayoutView",
            "grid_template_rows": null,
            "right": null,
            "justify_content": null,
            "_view_module": "@jupyter-widgets/base",
            "overflow": null,
            "_model_module_version": "1.2.0",
            "_view_count": null,
            "flex_flow": null,
            "width": null,
            "min_width": null,
            "border": null,
            "align_items": null,
            "bottom": null,
            "_model_module": "@jupyter-widgets/base",
            "top": null,
            "grid_column": null,
            "overflow_y": null,
            "overflow_x": null,
            "grid_auto_flow": null,
            "grid_area": null,
            "grid_template_columns": null,
            "flex": null,
            "_model_name": "LayoutModel",
            "justify_items": null,
            "grid_row": null,
            "max_height": null,
            "align_content": null,
            "visibility": null,
            "align_self": null,
            "height": null,
            "min_height": null,
            "padding": null,
            "grid_auto_rows": null,
            "grid_gap": null,
            "max_width": null,
            "order": null,
            "_view_module_version": "1.2.0",
            "grid_template_areas": null,
            "object_position": null,
            "object_fit": null,
            "grid_auto_columns": null,
            "margin": null,
            "display": null,
            "left": null
          }
        },
        "e4cea8feb638498e8eb5231ebae85cc2": {
          "model_module": "@jupyter-widgets/controls",
          "model_name": "ProgressStyleModel",
          "model_module_version": "1.5.0",
          "state": {
            "_view_name": "StyleView",
            "_model_name": "ProgressStyleModel",
            "description_width": "",
            "_view_module": "@jupyter-widgets/base",
            "_model_module_version": "1.5.0",
            "_view_count": null,
            "_view_module_version": "1.2.0",
            "bar_color": null,
            "_model_module": "@jupyter-widgets/controls"
          }
        },
        "33b3a6d41de14e83804763e3b92abb83": {
          "model_module": "@jupyter-widgets/base",
          "model_name": "LayoutModel",
          "model_module_version": "1.2.0",
          "state": {
            "_view_name": "LayoutView",
            "grid_template_rows": null,
            "right": null,
            "justify_content": null,
            "_view_module": "@jupyter-widgets/base",
            "overflow": null,
            "_model_module_version": "1.2.0",
            "_view_count": null,
            "flex_flow": null,
            "width": null,
            "min_width": null,
            "border": null,
            "align_items": null,
            "bottom": null,
            "_model_module": "@jupyter-widgets/base",
            "top": null,
            "grid_column": null,
            "overflow_y": null,
            "overflow_x": null,
            "grid_auto_flow": null,
            "grid_area": null,
            "grid_template_columns": null,
            "flex": null,
            "_model_name": "LayoutModel",
            "justify_items": null,
            "grid_row": null,
            "max_height": null,
            "align_content": null,
            "visibility": null,
            "align_self": null,
            "height": null,
            "min_height": null,
            "padding": null,
            "grid_auto_rows": null,
            "grid_gap": null,
            "max_width": null,
            "order": null,
            "_view_module_version": "1.2.0",
            "grid_template_areas": null,
            "object_position": null,
            "object_fit": null,
            "grid_auto_columns": null,
            "margin": null,
            "display": null,
            "left": null
          }
        },
        "c37cb0f39f584b55b633c05bab8027bd": {
          "model_module": "@jupyter-widgets/controls",
          "model_name": "DescriptionStyleModel",
          "model_module_version": "1.5.0",
          "state": {
            "_view_name": "StyleView",
            "_model_name": "DescriptionStyleModel",
            "description_width": "",
            "_view_module": "@jupyter-widgets/base",
            "_model_module_version": "1.5.0",
            "_view_count": null,
            "_view_module_version": "1.2.0",
            "_model_module": "@jupyter-widgets/controls"
          }
        },
        "187b436d60e04b92b69922ad83e7fe89": {
          "model_module": "@jupyter-widgets/base",
          "model_name": "LayoutModel",
          "model_module_version": "1.2.0",
          "state": {
            "_view_name": "LayoutView",
            "grid_template_rows": null,
            "right": null,
            "justify_content": null,
            "_view_module": "@jupyter-widgets/base",
            "overflow": null,
            "_model_module_version": "1.2.0",
            "_view_count": null,
            "flex_flow": null,
            "width": null,
            "min_width": null,
            "border": null,
            "align_items": null,
            "bottom": null,
            "_model_module": "@jupyter-widgets/base",
            "top": null,
            "grid_column": null,
            "overflow_y": null,
            "overflow_x": null,
            "grid_auto_flow": null,
            "grid_area": null,
            "grid_template_columns": null,
            "flex": null,
            "_model_name": "LayoutModel",
            "justify_items": null,
            "grid_row": null,
            "max_height": null,
            "align_content": null,
            "visibility": null,
            "align_self": null,
            "height": null,
            "min_height": null,
            "padding": null,
            "grid_auto_rows": null,
            "grid_gap": null,
            "max_width": null,
            "order": null,
            "_view_module_version": "1.2.0",
            "grid_template_areas": null,
            "object_position": null,
            "object_fit": null,
            "grid_auto_columns": null,
            "margin": null,
            "display": null,
            "left": null
          }
        },
        "201e8930941649cabacabc3d4e6cba1c": {
          "model_module": "@jupyter-widgets/controls",
          "model_name": "HBoxModel",
          "model_module_version": "1.5.0",
          "state": {
            "_view_name": "HBoxView",
            "_dom_classes": [],
            "_model_name": "HBoxModel",
            "_view_module": "@jupyter-widgets/controls",
            "_model_module_version": "1.5.0",
            "_view_count": null,
            "_view_module_version": "1.5.0",
            "box_style": "",
            "layout": "IPY_MODEL_8eb7de79de024329b429a10a4450f188",
            "_model_module": "@jupyter-widgets/controls",
            "children": [
              "IPY_MODEL_b7140ba231934c4d8cb162a6a01bed8d",
              "IPY_MODEL_3804765767584d0991db93ec2b6b6d37",
              "IPY_MODEL_091c175bc15043edbe92257bd00e907b"
            ]
          }
        },
        "8eb7de79de024329b429a10a4450f188": {
          "model_module": "@jupyter-widgets/base",
          "model_name": "LayoutModel",
          "model_module_version": "1.2.0",
          "state": {
            "_view_name": "LayoutView",
            "grid_template_rows": null,
            "right": null,
            "justify_content": null,
            "_view_module": "@jupyter-widgets/base",
            "overflow": null,
            "_model_module_version": "1.2.0",
            "_view_count": null,
            "flex_flow": null,
            "width": null,
            "min_width": null,
            "border": null,
            "align_items": null,
            "bottom": null,
            "_model_module": "@jupyter-widgets/base",
            "top": null,
            "grid_column": null,
            "overflow_y": null,
            "overflow_x": null,
            "grid_auto_flow": null,
            "grid_area": null,
            "grid_template_columns": null,
            "flex": null,
            "_model_name": "LayoutModel",
            "justify_items": null,
            "grid_row": null,
            "max_height": null,
            "align_content": null,
            "visibility": null,
            "align_self": null,
            "height": null,
            "min_height": null,
            "padding": null,
            "grid_auto_rows": null,
            "grid_gap": null,
            "max_width": null,
            "order": null,
            "_view_module_version": "1.2.0",
            "grid_template_areas": null,
            "object_position": null,
            "object_fit": null,
            "grid_auto_columns": null,
            "margin": null,
            "display": null,
            "left": null
          }
        },
        "b7140ba231934c4d8cb162a6a01bed8d": {
          "model_module": "@jupyter-widgets/controls",
          "model_name": "HTMLModel",
          "model_module_version": "1.5.0",
          "state": {
            "_view_name": "HTMLView",
            "style": "IPY_MODEL_b469f3040a2448af93d371e693c983f1",
            "_dom_classes": [],
            "description": "",
            "_model_name": "HTMLModel",
            "placeholder": "​",
            "_view_module": "@jupyter-widgets/controls",
            "_model_module_version": "1.5.0",
            "value": "",
            "_view_count": null,
            "_view_module_version": "1.5.0",
            "description_tooltip": null,
            "_model_module": "@jupyter-widgets/controls",
            "layout": "IPY_MODEL_cddb071569c14ff9b4a0e76f50785fd7"
          }
        },
        "3804765767584d0991db93ec2b6b6d37": {
          "model_module": "@jupyter-widgets/controls",
          "model_name": "FloatProgressModel",
          "model_module_version": "1.5.0",
          "state": {
            "_view_name": "ProgressView",
            "style": "IPY_MODEL_a3f256cabf0b4c16a4af8ec81049a750",
            "_dom_classes": [],
            "description": "",
            "_model_name": "FloatProgressModel",
            "bar_style": "success",
            "max": 1648877,
            "_view_module": "@jupyter-widgets/controls",
            "_model_module_version": "1.5.0",
            "value": 1648877,
            "_view_count": null,
            "_view_module_version": "1.5.0",
            "orientation": "horizontal",
            "min": 0,
            "description_tooltip": null,
            "_model_module": "@jupyter-widgets/controls",
            "layout": "IPY_MODEL_69182784bcb346fc8fbe959637a2de55"
          }
        },
        "091c175bc15043edbe92257bd00e907b": {
          "model_module": "@jupyter-widgets/controls",
          "model_name": "HTMLModel",
          "model_module_version": "1.5.0",
          "state": {
            "_view_name": "HTMLView",
            "style": "IPY_MODEL_64ab0eeb24c542f2957f1c4f370b4419",
            "_dom_classes": [],
            "description": "",
            "_model_name": "HTMLModel",
            "placeholder": "​",
            "_view_module": "@jupyter-widgets/controls",
            "_model_module_version": "1.5.0",
            "value": " 1649664/? [00:00&lt;00:00, 4908731.19it/s]",
            "_view_count": null,
            "_view_module_version": "1.5.0",
            "description_tooltip": null,
            "_model_module": "@jupyter-widgets/controls",
            "layout": "IPY_MODEL_55eb7fa8a89c482290dfd5bb52c1af36"
          }
        },
        "b469f3040a2448af93d371e693c983f1": {
          "model_module": "@jupyter-widgets/controls",
          "model_name": "DescriptionStyleModel",
          "model_module_version": "1.5.0",
          "state": {
            "_view_name": "StyleView",
            "_model_name": "DescriptionStyleModel",
            "description_width": "",
            "_view_module": "@jupyter-widgets/base",
            "_model_module_version": "1.5.0",
            "_view_count": null,
            "_view_module_version": "1.2.0",
            "_model_module": "@jupyter-widgets/controls"
          }
        },
        "cddb071569c14ff9b4a0e76f50785fd7": {
          "model_module": "@jupyter-widgets/base",
          "model_name": "LayoutModel",
          "model_module_version": "1.2.0",
          "state": {
            "_view_name": "LayoutView",
            "grid_template_rows": null,
            "right": null,
            "justify_content": null,
            "_view_module": "@jupyter-widgets/base",
            "overflow": null,
            "_model_module_version": "1.2.0",
            "_view_count": null,
            "flex_flow": null,
            "width": null,
            "min_width": null,
            "border": null,
            "align_items": null,
            "bottom": null,
            "_model_module": "@jupyter-widgets/base",
            "top": null,
            "grid_column": null,
            "overflow_y": null,
            "overflow_x": null,
            "grid_auto_flow": null,
            "grid_area": null,
            "grid_template_columns": null,
            "flex": null,
            "_model_name": "LayoutModel",
            "justify_items": null,
            "grid_row": null,
            "max_height": null,
            "align_content": null,
            "visibility": null,
            "align_self": null,
            "height": null,
            "min_height": null,
            "padding": null,
            "grid_auto_rows": null,
            "grid_gap": null,
            "max_width": null,
            "order": null,
            "_view_module_version": "1.2.0",
            "grid_template_areas": null,
            "object_position": null,
            "object_fit": null,
            "grid_auto_columns": null,
            "margin": null,
            "display": null,
            "left": null
          }
        },
        "a3f256cabf0b4c16a4af8ec81049a750": {
          "model_module": "@jupyter-widgets/controls",
          "model_name": "ProgressStyleModel",
          "model_module_version": "1.5.0",
          "state": {
            "_view_name": "StyleView",
            "_model_name": "ProgressStyleModel",
            "description_width": "",
            "_view_module": "@jupyter-widgets/base",
            "_model_module_version": "1.5.0",
            "_view_count": null,
            "_view_module_version": "1.2.0",
            "bar_color": null,
            "_model_module": "@jupyter-widgets/controls"
          }
        },
        "69182784bcb346fc8fbe959637a2de55": {
          "model_module": "@jupyter-widgets/base",
          "model_name": "LayoutModel",
          "model_module_version": "1.2.0",
          "state": {
            "_view_name": "LayoutView",
            "grid_template_rows": null,
            "right": null,
            "justify_content": null,
            "_view_module": "@jupyter-widgets/base",
            "overflow": null,
            "_model_module_version": "1.2.0",
            "_view_count": null,
            "flex_flow": null,
            "width": null,
            "min_width": null,
            "border": null,
            "align_items": null,
            "bottom": null,
            "_model_module": "@jupyter-widgets/base",
            "top": null,
            "grid_column": null,
            "overflow_y": null,
            "overflow_x": null,
            "grid_auto_flow": null,
            "grid_area": null,
            "grid_template_columns": null,
            "flex": null,
            "_model_name": "LayoutModel",
            "justify_items": null,
            "grid_row": null,
            "max_height": null,
            "align_content": null,
            "visibility": null,
            "align_self": null,
            "height": null,
            "min_height": null,
            "padding": null,
            "grid_auto_rows": null,
            "grid_gap": null,
            "max_width": null,
            "order": null,
            "_view_module_version": "1.2.0",
            "grid_template_areas": null,
            "object_position": null,
            "object_fit": null,
            "grid_auto_columns": null,
            "margin": null,
            "display": null,
            "left": null
          }
        },
        "64ab0eeb24c542f2957f1c4f370b4419": {
          "model_module": "@jupyter-widgets/controls",
          "model_name": "DescriptionStyleModel",
          "model_module_version": "1.5.0",
          "state": {
            "_view_name": "StyleView",
            "_model_name": "DescriptionStyleModel",
            "description_width": "",
            "_view_module": "@jupyter-widgets/base",
            "_model_module_version": "1.5.0",
            "_view_count": null,
            "_view_module_version": "1.2.0",
            "_model_module": "@jupyter-widgets/controls"
          }
        },
        "55eb7fa8a89c482290dfd5bb52c1af36": {
          "model_module": "@jupyter-widgets/base",
          "model_name": "LayoutModel",
          "model_module_version": "1.2.0",
          "state": {
            "_view_name": "LayoutView",
            "grid_template_rows": null,
            "right": null,
            "justify_content": null,
            "_view_module": "@jupyter-widgets/base",
            "overflow": null,
            "_model_module_version": "1.2.0",
            "_view_count": null,
            "flex_flow": null,
            "width": null,
            "min_width": null,
            "border": null,
            "align_items": null,
            "bottom": null,
            "_model_module": "@jupyter-widgets/base",
            "top": null,
            "grid_column": null,
            "overflow_y": null,
            "overflow_x": null,
            "grid_auto_flow": null,
            "grid_area": null,
            "grid_template_columns": null,
            "flex": null,
            "_model_name": "LayoutModel",
            "justify_items": null,
            "grid_row": null,
            "max_height": null,
            "align_content": null,
            "visibility": null,
            "align_self": null,
            "height": null,
            "min_height": null,
            "padding": null,
            "grid_auto_rows": null,
            "grid_gap": null,
            "max_width": null,
            "order": null,
            "_view_module_version": "1.2.0",
            "grid_template_areas": null,
            "object_position": null,
            "object_fit": null,
            "grid_auto_columns": null,
            "margin": null,
            "display": null,
            "left": null
          }
        },
        "610842aae6db4afd9bc5a3e6844fa94d": {
          "model_module": "@jupyter-widgets/controls",
          "model_name": "HBoxModel",
          "model_module_version": "1.5.0",
          "state": {
            "_view_name": "HBoxView",
            "_dom_classes": [],
            "_model_name": "HBoxModel",
            "_view_module": "@jupyter-widgets/controls",
            "_model_module_version": "1.5.0",
            "_view_count": null,
            "_view_module_version": "1.5.0",
            "box_style": "",
            "layout": "IPY_MODEL_04429400796e42778f2685452d35a825",
            "_model_module": "@jupyter-widgets/controls",
            "children": [
              "IPY_MODEL_4e0eece8cc08461b8b9667d3c2e9ba8c",
              "IPY_MODEL_f6c5d5db17464f92b85fd1d39c0ba531",
              "IPY_MODEL_c7f63e0298484a02ab8411d3ce1f31b4"
            ]
          }
        },
        "04429400796e42778f2685452d35a825": {
          "model_module": "@jupyter-widgets/base",
          "model_name": "LayoutModel",
          "model_module_version": "1.2.0",
          "state": {
            "_view_name": "LayoutView",
            "grid_template_rows": null,
            "right": null,
            "justify_content": null,
            "_view_module": "@jupyter-widgets/base",
            "overflow": null,
            "_model_module_version": "1.2.0",
            "_view_count": null,
            "flex_flow": null,
            "width": null,
            "min_width": null,
            "border": null,
            "align_items": null,
            "bottom": null,
            "_model_module": "@jupyter-widgets/base",
            "top": null,
            "grid_column": null,
            "overflow_y": null,
            "overflow_x": null,
            "grid_auto_flow": null,
            "grid_area": null,
            "grid_template_columns": null,
            "flex": null,
            "_model_name": "LayoutModel",
            "justify_items": null,
            "grid_row": null,
            "max_height": null,
            "align_content": null,
            "visibility": null,
            "align_self": null,
            "height": null,
            "min_height": null,
            "padding": null,
            "grid_auto_rows": null,
            "grid_gap": null,
            "max_width": null,
            "order": null,
            "_view_module_version": "1.2.0",
            "grid_template_areas": null,
            "object_position": null,
            "object_fit": null,
            "grid_auto_columns": null,
            "margin": null,
            "display": null,
            "left": null
          }
        },
        "4e0eece8cc08461b8b9667d3c2e9ba8c": {
          "model_module": "@jupyter-widgets/controls",
          "model_name": "HTMLModel",
          "model_module_version": "1.5.0",
          "state": {
            "_view_name": "HTMLView",
            "style": "IPY_MODEL_f2ee36323a41412a9ea68e64b408acc6",
            "_dom_classes": [],
            "description": "",
            "_model_name": "HTMLModel",
            "placeholder": "​",
            "_view_module": "@jupyter-widgets/controls",
            "_model_module_version": "1.5.0",
            "value": "",
            "_view_count": null,
            "_view_module_version": "1.5.0",
            "description_tooltip": null,
            "_model_module": "@jupyter-widgets/controls",
            "layout": "IPY_MODEL_d2f08c7fefdb48b98e9c313f327c58ca"
          }
        },
        "f6c5d5db17464f92b85fd1d39c0ba531": {
          "model_module": "@jupyter-widgets/controls",
          "model_name": "FloatProgressModel",
          "model_module_version": "1.5.0",
          "state": {
            "_view_name": "ProgressView",
            "style": "IPY_MODEL_d4c3a4808ec74009b3bc91d0c7470b90",
            "_dom_classes": [],
            "description": "",
            "_model_name": "FloatProgressModel",
            "bar_style": "success",
            "max": 4542,
            "_view_module": "@jupyter-widgets/controls",
            "_model_module_version": "1.5.0",
            "value": 4542,
            "_view_count": null,
            "_view_module_version": "1.5.0",
            "orientation": "horizontal",
            "min": 0,
            "description_tooltip": null,
            "_model_module": "@jupyter-widgets/controls",
            "layout": "IPY_MODEL_d3cabeabffd74c73a7e38bd43d2c9964"
          }
        },
        "c7f63e0298484a02ab8411d3ce1f31b4": {
          "model_module": "@jupyter-widgets/controls",
          "model_name": "HTMLModel",
          "model_module_version": "1.5.0",
          "state": {
            "_view_name": "HTMLView",
            "style": "IPY_MODEL_ca50c3128a464579b95774a6a50406d0",
            "_dom_classes": [],
            "description": "",
            "_model_name": "HTMLModel",
            "placeholder": "​",
            "_view_module": "@jupyter-widgets/controls",
            "_model_module_version": "1.5.0",
            "value": " 5120/? [00:00&lt;00:00, 223435.54it/s]",
            "_view_count": null,
            "_view_module_version": "1.5.0",
            "description_tooltip": null,
            "_model_module": "@jupyter-widgets/controls",
            "layout": "IPY_MODEL_3c2bde09a13b4147af94b67ee0648e9c"
          }
        },
        "f2ee36323a41412a9ea68e64b408acc6": {
          "model_module": "@jupyter-widgets/controls",
          "model_name": "DescriptionStyleModel",
          "model_module_version": "1.5.0",
          "state": {
            "_view_name": "StyleView",
            "_model_name": "DescriptionStyleModel",
            "description_width": "",
            "_view_module": "@jupyter-widgets/base",
            "_model_module_version": "1.5.0",
            "_view_count": null,
            "_view_module_version": "1.2.0",
            "_model_module": "@jupyter-widgets/controls"
          }
        },
        "d2f08c7fefdb48b98e9c313f327c58ca": {
          "model_module": "@jupyter-widgets/base",
          "model_name": "LayoutModel",
          "model_module_version": "1.2.0",
          "state": {
            "_view_name": "LayoutView",
            "grid_template_rows": null,
            "right": null,
            "justify_content": null,
            "_view_module": "@jupyter-widgets/base",
            "overflow": null,
            "_model_module_version": "1.2.0",
            "_view_count": null,
            "flex_flow": null,
            "width": null,
            "min_width": null,
            "border": null,
            "align_items": null,
            "bottom": null,
            "_model_module": "@jupyter-widgets/base",
            "top": null,
            "grid_column": null,
            "overflow_y": null,
            "overflow_x": null,
            "grid_auto_flow": null,
            "grid_area": null,
            "grid_template_columns": null,
            "flex": null,
            "_model_name": "LayoutModel",
            "justify_items": null,
            "grid_row": null,
            "max_height": null,
            "align_content": null,
            "visibility": null,
            "align_self": null,
            "height": null,
            "min_height": null,
            "padding": null,
            "grid_auto_rows": null,
            "grid_gap": null,
            "max_width": null,
            "order": null,
            "_view_module_version": "1.2.0",
            "grid_template_areas": null,
            "object_position": null,
            "object_fit": null,
            "grid_auto_columns": null,
            "margin": null,
            "display": null,
            "left": null
          }
        },
        "d4c3a4808ec74009b3bc91d0c7470b90": {
          "model_module": "@jupyter-widgets/controls",
          "model_name": "ProgressStyleModel",
          "model_module_version": "1.5.0",
          "state": {
            "_view_name": "StyleView",
            "_model_name": "ProgressStyleModel",
            "description_width": "",
            "_view_module": "@jupyter-widgets/base",
            "_model_module_version": "1.5.0",
            "_view_count": null,
            "_view_module_version": "1.2.0",
            "bar_color": null,
            "_model_module": "@jupyter-widgets/controls"
          }
        },
        "d3cabeabffd74c73a7e38bd43d2c9964": {
          "model_module": "@jupyter-widgets/base",
          "model_name": "LayoutModel",
          "model_module_version": "1.2.0",
          "state": {
            "_view_name": "LayoutView",
            "grid_template_rows": null,
            "right": null,
            "justify_content": null,
            "_view_module": "@jupyter-widgets/base",
            "overflow": null,
            "_model_module_version": "1.2.0",
            "_view_count": null,
            "flex_flow": null,
            "width": null,
            "min_width": null,
            "border": null,
            "align_items": null,
            "bottom": null,
            "_model_module": "@jupyter-widgets/base",
            "top": null,
            "grid_column": null,
            "overflow_y": null,
            "overflow_x": null,
            "grid_auto_flow": null,
            "grid_area": null,
            "grid_template_columns": null,
            "flex": null,
            "_model_name": "LayoutModel",
            "justify_items": null,
            "grid_row": null,
            "max_height": null,
            "align_content": null,
            "visibility": null,
            "align_self": null,
            "height": null,
            "min_height": null,
            "padding": null,
            "grid_auto_rows": null,
            "grid_gap": null,
            "max_width": null,
            "order": null,
            "_view_module_version": "1.2.0",
            "grid_template_areas": null,
            "object_position": null,
            "object_fit": null,
            "grid_auto_columns": null,
            "margin": null,
            "display": null,
            "left": null
          }
        },
        "ca50c3128a464579b95774a6a50406d0": {
          "model_module": "@jupyter-widgets/controls",
          "model_name": "DescriptionStyleModel",
          "model_module_version": "1.5.0",
          "state": {
            "_view_name": "StyleView",
            "_model_name": "DescriptionStyleModel",
            "description_width": "",
            "_view_module": "@jupyter-widgets/base",
            "_model_module_version": "1.5.0",
            "_view_count": null,
            "_view_module_version": "1.2.0",
            "_model_module": "@jupyter-widgets/controls"
          }
        },
        "3c2bde09a13b4147af94b67ee0648e9c": {
          "model_module": "@jupyter-widgets/base",
          "model_name": "LayoutModel",
          "model_module_version": "1.2.0",
          "state": {
            "_view_name": "LayoutView",
            "grid_template_rows": null,
            "right": null,
            "justify_content": null,
            "_view_module": "@jupyter-widgets/base",
            "overflow": null,
            "_model_module_version": "1.2.0",
            "_view_count": null,
            "flex_flow": null,
            "width": null,
            "min_width": null,
            "border": null,
            "align_items": null,
            "bottom": null,
            "_model_module": "@jupyter-widgets/base",
            "top": null,
            "grid_column": null,
            "overflow_y": null,
            "overflow_x": null,
            "grid_auto_flow": null,
            "grid_area": null,
            "grid_template_columns": null,
            "flex": null,
            "_model_name": "LayoutModel",
            "justify_items": null,
            "grid_row": null,
            "max_height": null,
            "align_content": null,
            "visibility": null,
            "align_self": null,
            "height": null,
            "min_height": null,
            "padding": null,
            "grid_auto_rows": null,
            "grid_gap": null,
            "max_width": null,
            "order": null,
            "_view_module_version": "1.2.0",
            "grid_template_areas": null,
            "object_position": null,
            "object_fit": null,
            "grid_auto_columns": null,
            "margin": null,
            "display": null,
            "left": null
          }
        }
      }
    }
  },
  "nbformat": 4,
  "nbformat_minor": 0
}
