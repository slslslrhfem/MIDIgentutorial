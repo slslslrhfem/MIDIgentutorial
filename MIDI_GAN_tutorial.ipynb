{
  "cells": [
    {
      "cell_type": "markdown",
      "source": [
        "## MNIST GAN Tutorial\n"
      ],
      "metadata": {
        "id": "AzVrjjGsjW2S"
      }
    },
    {
      "cell_type": "markdown",
      "source": [
        "**What is GAN?**\n",
        "\n",
        "\n",
        "Generative model 중 하나로, 가장 유명한 모델 중 하나입니다. \n",
        "\n",
        "Generator은 가짜 이미지를 만들어내는 것을 학습하고, Discriminator은 가짜 이미지와 진짜 이미지를 구별해내는 것을 학습하는 구조입니다.\n",
        "\n",
        "![download.png](data:image/png;base64,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)"
      ],
      "metadata": {
        "id": "2USGs2Q88gSd"
      }
    },
    {
      "cell_type": "markdown",
      "source": [
        "https://github.com/eriklindernoren/PyTorch-GAN\n",
        "\n",
        "위 Github의 코드에 기반한 튜토리얼 입니다. 위 Github에 Pytorch, Keras 기반의 다양한 모델들이 구현되어 있으니 활용해보시면 좋을 것 같습니다!"
      ],
      "metadata": {
        "id": "L_d89D8TjhGj"
      }
    },
    {
      "cell_type": "markdown",
      "source": [
        "Initialize"
      ],
      "metadata": {
        "id": "jUPJHXvykV5R"
      }
    },
    {
      "cell_type": "code",
      "source": [
        "import os\n",
        "import numpy as np\n",
        "import math\n",
        "import torchvision.transforms as transforms\n",
        "from torchvision.utils import save_image\n",
        "from torch.utils.data import DataLoader\n",
        "from torchvision import datasets\n",
        "from torch.autograd import Variable\n",
        "import torch.nn as nn\n",
        "import torch.nn.functional as F\n",
        "import torch\n",
        "import easydict\n",
        "\n",
        "os.makedirs(\"images\", exist_ok=True)\n",
        "opt = easydict.EasyDict({\n",
        "        \"batch_size\": 64,\n",
        "        \"n_epochs\": 200,\n",
        "        \"lr\": 0.0002,\n",
        "        \"b1\": 0.5, \n",
        "        \"b2\": 0.999, \n",
        "        \"n_cpu\": 8, \n",
        "        \"latent_dim\": 100, \n",
        "        \"img_size\": 28, \n",
        "        \"channels\": 1, \n",
        "        \"sample_interval\": 400, \n",
        "})\n",
        "\n",
        "img_shape = (opt.channels, opt.img_size, opt.img_size)\n",
        "\n",
        "cuda = True if torch.cuda.is_available() else False"
      ],
      "metadata": {
        "id": "-VE1xeWfjaYQ"
      },
      "execution_count": 1,
      "outputs": []
    },
    {
      "cell_type": "markdown",
      "source": [
        "Generator and Discriminator Class"
      ],
      "metadata": {
        "id": "TzZaLGXXkZ9T"
      }
    },
    {
      "cell_type": "code",
      "source": [
        "class Generator(nn.Module):\n",
        "    def __init__(self):\n",
        "        super(Generator, self).__init__()\n",
        "\n",
        "        def block(in_feat, out_feat, normalize=True):\n",
        "            layers = [nn.Linear(in_feat, out_feat)]\n",
        "            if normalize:\n",
        "                layers.append(nn.BatchNorm1d(out_feat, 0.8))\n",
        "            layers.append(nn.LeakyReLU(0.2, inplace=True))\n",
        "            return layers\n",
        "\n",
        "        self.model = nn.Sequential(\n",
        "            *block(opt.latent_dim, 128, normalize=False),\n",
        "            *block(128, 256),\n",
        "            *block(256, 512),\n",
        "            *block(512, 1024),\n",
        "            nn.Linear(1024, int(np.prod(img_shape))),\n",
        "            nn.Tanh()\n",
        "        )\n",
        "\n",
        "    def forward(self, z):\n",
        "        img = self.model(z)\n",
        "        img = img.view(img.size(0), *img_shape)\n",
        "        return img\n",
        "\n",
        "\n",
        "class Discriminator(nn.Module):\n",
        "    def __init__(self):\n",
        "        super(Discriminator, self).__init__()\n",
        "\n",
        "        self.model = nn.Sequential(\n",
        "            nn.Linear(int(np.prod(img_shape)), 512),\n",
        "            nn.LeakyReLU(0.2, inplace=True),\n",
        "            nn.Linear(512, 256),\n",
        "            nn.LeakyReLU(0.2, inplace=True),\n",
        "            nn.Linear(256, 1),\n",
        "            nn.Sigmoid(),\n",
        "        )\n",
        "\n",
        "    def forward(self, img):\n",
        "        img_flat = img.view(img.size(0), -1)\n",
        "        validity = self.model(img_flat)\n",
        "\n",
        "        return validity\n"
      ],
      "metadata": {
        "id": "XU1Bwb0MkHit"
      },
      "execution_count": 2,
      "outputs": []
    },
    {
      "cell_type": "code",
      "source": [
        "# Loss function\n",
        "adversarial_loss = torch.nn.BCELoss()\n",
        "\n",
        "# Initialize generator and discriminator\n",
        "generator = Generator()\n",
        "discriminator = Discriminator()\n",
        "\n",
        "if cuda:\n",
        "    generator.cuda()\n",
        "    discriminator.cuda()\n",
        "    adversarial_loss.cuda()\n",
        "\n",
        "# Configure data loader\n",
        "os.makedirs(\"../../data/mnist\", exist_ok=True)\n",
        "dataloader = torch.utils.data.DataLoader(\n",
        "    datasets.MNIST(\n",
        "        \"../../data/mnist\",\n",
        "        train=True,\n",
        "        download=True,\n",
        "        transform=transforms.Compose(\n",
        "            [transforms.Resize(opt.img_size), transforms.ToTensor(), transforms.Normalize([0.5], [0.5])]\n",
        "        ),\n",
        "    ),\n",
        "    batch_size=opt.batch_size,\n",
        "    shuffle=True,\n",
        ")\n",
        "\n",
        "# Optimizers\n",
        "optimizer_G = torch.optim.Adam(generator.parameters(), lr=opt.lr, betas=(opt.b1, opt.b2))\n",
        "optimizer_D = torch.optim.Adam(discriminator.parameters(), lr=opt.lr, betas=(opt.b1, opt.b2))\n",
        "\n",
        "Tensor = torch.cuda.FloatTensor if cuda else torch.FloatTensor"
      ],
      "metadata": {
        "colab": {
          "base_uri": "https://localhost:8080/",
          "height": 423,
          "referenced_widgets": [
            "c2d443ee909345e58c0edd2a8152fc68",
            "bf6f3675d3584bd59b99578a5073a75b",
            "ff43a6f32b61461c8d0aa103e413b8da",
            "18278e8e4185468d9e5090ce662e141a",
            "7221922a0caf4cbf9e59714704564d0f",
            "e1bffa2a98ee4983ac98d331446380a9",
            "cdc510f5d27f42faafea94797f5ecc7a",
            "a9f828263157414691705e68f5bdf5e8",
            "955abfe5887a4901ab504b9898f5be6c",
            "fe0a835d053347daa3bea18634b6b343",
            "f09eddb3c62f44eb9e59c41b53979173",
            "3895fbad916f4419a29e3f895482d9b2",
            "615de091567c43bd9a9537091df08fc7",
            "c6588dd94952402196a4fb7b0a8f0afe",
            "faf6c241f1cf4295a46a1b6656b8e75e",
            "1f6fa12f37fd4366b411f8ef049fb33c",
            "eb4e87c3053342e18d94335ac061ab08",
            "5164d5c197c34a01aeab1a58da8237cc",
            "ded87cb94f0641c388d125f5d12d7425",
            "04bc96884cf9451894a0e6037601396d",
            "474e017ef25e4fa0aef570f379c2d7ac",
            "1e45719f39e44444a261e4f1cd2ca2ea",
            "4c1843d616a64163aa0b37b10be9060b",
            "437d1e9edf314af6a8d5cdc43f9f6458",
            "20b4392af68746eb97f70af5ec000035",
            "26d32ed1783c40f9a42a4a3749b39c16",
            "7a44b619c1644aa3a20457627b4edeaf",
            "64b84ef3627a490d992deb2955bd0954",
            "25b5698c49ea4a93abc93fb83ddc9264",
            "9099664af3f041b1be660cbb6abb4cca",
            "7b1bd3801d964632a95b727759c8c8e4",
            "e7fa8da1c2ff42acbbb6529ad9bb1ebc",
            "cb90e8217b2c47aeac67833a4038de81",
            "fc439f2c65d74403a168b29ea4ce03ed",
            "a7e9a6cf509e4d4887cc68f6d2487ff3",
            "3b7b0be6654c452a85ddddca76fa0927",
            "f03f8f77ac6f4aab9e4359f6f1de5bee",
            "af0c196df29e408683812f2f7cccb28e",
            "8bf87adf2d944ca1bdc187363f4c14fa",
            "6779061ceac04a838e5d8eb24cc1c612",
            "0cf4449c1469423b9227be0f3f875211",
            "c389e54086ac4ff3b1cdce3a0de30f92",
            "a2e5714958fb42f2b0bd4205908fd5af",
            "3990bd1ce37849978e6679a6c83b2e5e"
          ]
        },
        "id": "d8ZjV0DHkKwf",
        "outputId": "a1eb44e4-c54b-4588-dadc-b1f5e147721f"
      },
      "execution_count": 3,
      "outputs": [
        {
          "output_type": "stream",
          "name": "stdout",
          "text": [
            "Downloading http://yann.lecun.com/exdb/mnist/train-images-idx3-ubyte.gz\n",
            "Downloading http://yann.lecun.com/exdb/mnist/train-images-idx3-ubyte.gz to ../../data/mnist/MNIST/raw/train-images-idx3-ubyte.gz\n"
          ]
        },
        {
          "output_type": "display_data",
          "data": {
            "application/vnd.jupyter.widget-view+json": {
              "model_id": "c2d443ee909345e58c0edd2a8152fc68",
              "version_minor": 0,
              "version_major": 2
            },
            "text/plain": [
              "  0%|          | 0/9912422 [00:00<?, ?it/s]"
            ]
          },
          "metadata": {}
        },
        {
          "output_type": "stream",
          "name": "stdout",
          "text": [
            "Extracting ../../data/mnist/MNIST/raw/train-images-idx3-ubyte.gz to ../../data/mnist/MNIST/raw\n",
            "\n",
            "Downloading http://yann.lecun.com/exdb/mnist/train-labels-idx1-ubyte.gz\n",
            "Downloading http://yann.lecun.com/exdb/mnist/train-labels-idx1-ubyte.gz to ../../data/mnist/MNIST/raw/train-labels-idx1-ubyte.gz\n"
          ]
        },
        {
          "output_type": "display_data",
          "data": {
            "application/vnd.jupyter.widget-view+json": {
              "model_id": "3895fbad916f4419a29e3f895482d9b2",
              "version_minor": 0,
              "version_major": 2
            },
            "text/plain": [
              "  0%|          | 0/28881 [00:00<?, ?it/s]"
            ]
          },
          "metadata": {}
        },
        {
          "output_type": "stream",
          "name": "stdout",
          "text": [
            "Extracting ../../data/mnist/MNIST/raw/train-labels-idx1-ubyte.gz to ../../data/mnist/MNIST/raw\n",
            "\n",
            "Downloading http://yann.lecun.com/exdb/mnist/t10k-images-idx3-ubyte.gz\n",
            "Downloading http://yann.lecun.com/exdb/mnist/t10k-images-idx3-ubyte.gz to ../../data/mnist/MNIST/raw/t10k-images-idx3-ubyte.gz\n"
          ]
        },
        {
          "output_type": "display_data",
          "data": {
            "application/vnd.jupyter.widget-view+json": {
              "model_id": "4c1843d616a64163aa0b37b10be9060b",
              "version_minor": 0,
              "version_major": 2
            },
            "text/plain": [
              "  0%|          | 0/1648877 [00:00<?, ?it/s]"
            ]
          },
          "metadata": {}
        },
        {
          "output_type": "stream",
          "name": "stdout",
          "text": [
            "Extracting ../../data/mnist/MNIST/raw/t10k-images-idx3-ubyte.gz to ../../data/mnist/MNIST/raw\n",
            "\n",
            "Downloading http://yann.lecun.com/exdb/mnist/t10k-labels-idx1-ubyte.gz\n",
            "Downloading http://yann.lecun.com/exdb/mnist/t10k-labels-idx1-ubyte.gz to ../../data/mnist/MNIST/raw/t10k-labels-idx1-ubyte.gz\n"
          ]
        },
        {
          "output_type": "display_data",
          "data": {
            "application/vnd.jupyter.widget-view+json": {
              "model_id": "fc439f2c65d74403a168b29ea4ce03ed",
              "version_minor": 0,
              "version_major": 2
            },
            "text/plain": [
              "  0%|          | 0/4542 [00:00<?, ?it/s]"
            ]
          },
          "metadata": {}
        },
        {
          "output_type": "stream",
          "name": "stdout",
          "text": [
            "Extracting ../../data/mnist/MNIST/raw/t10k-labels-idx1-ubyte.gz to ../../data/mnist/MNIST/raw\n",
            "\n"
          ]
        }
      ]
    },
    {
      "cell_type": "code",
      "source": [
        "from matplotlib import pyplot as plt\n",
        "for imgs, _ in dataloader:\n",
        "  plt.imshow(imgs[0].reshape((28,28)))\n",
        "  break"
      ],
      "metadata": {
        "colab": {
          "base_uri": "https://localhost:8080/",
          "height": 265
        },
        "id": "YAnnvB1Ek-qZ",
        "outputId": "9d1139bc-1422-4660-ddc9-896389908011"
      },
      "execution_count": 4,
      "outputs": [
        {
          "output_type": "display_data",
          "data": {
            "image/png": "[encoded data removed]",
            "text/plain": [
              "<Figure size 432x288 with 1 Axes>"
            ]
          },
          "metadata": {
            "needs_background": "light"
          }
        }
      ]
    },
    {
      "cell_type": "markdown",
      "source": [
        "Training"
      ],
      "metadata": {
        "id": "88IpPKp5kxHE"
      }
    },
    {
      "cell_type": "code",
      "source": [
        "for epoch in range(opt.n_epochs):\n",
        "    for i, (imgs, _) in enumerate(dataloader):\n",
        "\n",
        "        # Adversarial ground truths\n",
        "        valid = Variable(Tensor(imgs.size(0), 1).fill_(1.0), requires_grad=False)\n",
        "        fake = Variable(Tensor(imgs.size(0), 1).fill_(0.0), requires_grad=False)\n",
        "\n",
        "        # Configure input\n",
        "        real_imgs = Variable(imgs.type(Tensor))\n",
        "\n",
        "        # -----------------\n",
        "        #  Train Generator\n",
        "        # -----------------\n",
        "\n",
        "        optimizer_G.zero_grad()\n",
        "\n",
        "        # Sample noise as generator input\n",
        "        z = Variable(Tensor(np.random.normal(0, 1, (imgs.shape[0], opt.latent_dim))))\n",
        "\n",
        "        # Generate a batch of images\n",
        "        gen_imgs = generator(z)\n",
        "\n",
        "        # Loss measures generator's ability to fool the discriminator\n",
        "        g_loss = adversarial_loss(discriminator(gen_imgs), valid)\n",
        "\n",
        "        g_loss.backward()\n",
        "        optimizer_G.step()\n",
        "\n",
        "        # ---------------------\n",
        "        #  Train Discriminator\n",
        "        # ---------------------\n",
        "\n",
        "        optimizer_D.zero_grad()\n",
        "\n",
        "        # Measure discriminator's ability to classify real from generated samples\n",
        "        real_loss = adversarial_loss(discriminator(real_imgs), valid)\n",
        "        fake_loss = adversarial_loss(discriminator(gen_imgs.detach()), fake)\n",
        "        d_loss = (real_loss + fake_loss) / 2\n",
        "\n",
        "        d_loss.backward()\n",
        "        optimizer_D.step()\n",
        "\n",
        "        print(\n",
        "            \"[Epoch %d/%d] [Batch %d/%d] [D loss: %f] [G loss: %f]\"\n",
        "            % (epoch, opt.n_epochs, i, len(dataloader), d_loss.item(), g_loss.item())\n",
        "        )\n",
        "\n",
        "        batches_done = epoch * len(dataloader) + i\n",
        "        if batches_done % opt.sample_interval == 0:\n",
        "            save_image(gen_imgs.data[:25], \"images/%d.png\" % batches_done, nrow=5, normalize=True)"
      ],
      "metadata": {
        "id": "7bB5gmZ9kTZL"
      },
      "execution_count": null,
      "outputs": []
    },
    {
      "cell_type": "code",
      "source": [
        "z = Variable(Tensor(np.random.normal(0, 1, (imgs.shape[0], opt.latent_dim))))\n",
        "gen_imgs = generator(z)\n",
        "\n",
        "plt.imshow(gen_imgs[0].cpu().detach().numpy().reshape((28,28)))"
      ],
      "metadata": {
        "id": "BJ11PtErknhQ",
        "colab": {
          "base_uri": "https://localhost:8080/",
          "height": 282
        },
        "outputId": "0107a593-0a3b-4cae-8e9e-c62f8111a612"
      },
      "execution_count": 14,
      "outputs": [
        {
          "output_type": "execute_result",
          "data": {
            "text/plain": [
              "<matplotlib.image.AxesImage at 0x7f6186676f50>"
            ]
          },
          "metadata": {},
          "execution_count": 14
        },
        {
          "output_type": "display_data",
          "data": {
            "image/png": "[encoded data removed]",
            "text/plain": [
              "<Figure size 432x288 with 1 Axes>"
            ]
          },
          "metadata": {
            "needs_background": "light"
          }
        }
      ]
    },
    {
      "cell_type": "markdown",
      "source": [
        "## MIDI GAN Tutorial"
      ],
      "metadata": {
        "id": "JM87cWAKcD36"
      }
    },
    {
      "cell_type": "code",
      "source": [
        "!git clone https://github.com/slslslrhfem/MIDIgentutorial"
      ],
      "metadata": {
        "colab": {
          "base_uri": "https://localhost:8080/"
        },
        "id": "xe-GY6l6npIE",
        "outputId": "a4eda165-75e3-4e1a-ae15-c0c745f2eceb"
      },
      "execution_count": 15,
      "outputs": [
        {
          "output_type": "stream",
          "name": "stdout",
          "text": [
            "Cloning into 'MIDIgentutorial'...\n",
            "remote: Enumerating objects: 781, done.\u001b[K\n",
            "remote: Counting objects: 100% (781/781), done.\u001b[K\n",
            "remote: Compressing objects: 100% (576/576), done.\u001b[K\n",
            "remote: Total 781 (delta 212), reused 755 (delta 202), pack-reused 0\u001b[K\n",
            "Receiving objects: 100% (781/781), 1.09 MiB | 3.97 MiB/s, done.\n",
            "Resolving deltas: 100% (212/212), done.\n"
          ]
        }
      ]
    },
    {
      "cell_type": "code",
      "execution_count": 16,
      "metadata": {
        "colab": {
          "base_uri": "https://localhost:8080/",
          "height": 1000
        },
        "id": "MxEabHuzyjFE",
        "outputId": "db251c48-c25b-4957-d0f3-90b44d5697c5"
      },
      "outputs": [
        {
          "output_type": "stream",
          "name": "stdout",
          "text": [
            "Collecting mido\n",
            "  Downloading mido-1.2.10-py2.py3-none-any.whl (51 kB)\n",
            "\u001b[K     |████████████████████████████████| 51 kB 2.7 MB/s \n",
            "\u001b[?25hInstalling collected packages: mido\n",
            "Successfully installed mido-1.2.10\n",
            "Collecting h5py==2.10.0\n",
            "  Downloading h5py-2.10.0-cp37-cp37m-manylinux1_x86_64.whl (2.9 MB)\n",
            "\u001b[K     |████████████████████████████████| 2.9 MB 4.1 MB/s \n",
            "\u001b[?25hCollecting numpy>=1.7\n",
            "  Downloading numpy-1.21.5-cp37-cp37m-manylinux_2_12_x86_64.manylinux2010_x86_64.whl (15.7 MB)\n",
            "\u001b[K     |████████████████████████████████| 15.7 MB 89.4 MB/s \n",
            "\u001b[?25hCollecting six\n",
            "  Downloading six-1.16.0-py2.py3-none-any.whl (11 kB)\n",
            "Installing collected packages: six, numpy, h5py\n",
            "  Attempting uninstall: six\n",
            "    Found existing installation: six 1.15.0\n",
            "    Uninstalling six-1.15.0:\n",
            "      Successfully uninstalled six-1.15.0\n",
            "  Attempting uninstall: numpy\n",
            "    Found existing installation: numpy 1.19.5\n",
            "    Uninstalling numpy-1.19.5:\n",
            "      Successfully uninstalled numpy-1.19.5\n",
            "  Attempting uninstall: h5py\n",
            "    Found existing installation: h5py 3.1.0\n",
            "    Uninstalling h5py-3.1.0:\n",
            "      Successfully uninstalled h5py-3.1.0\n",
            "\u001b[31mERROR: pip's dependency resolver does not currently take into account all the packages that are installed. This behaviour is the source of the following dependency conflicts.\n",
            "yellowbrick 1.3.post1 requires numpy<1.20,>=1.16.0, but you have numpy 1.21.5 which is incompatible.\n",
            "google-colab 1.0.0 requires six~=1.15.0, but you have six 1.16.0 which is incompatible.\n",
            "datascience 0.10.6 requires folium==0.2.1, but you have folium 0.8.3 which is incompatible.\n",
            "albumentations 0.1.12 requires imgaug<0.2.7,>=0.2.5, but you have imgaug 0.2.9 which is incompatible.\u001b[0m\n",
            "Successfully installed h5py-2.10.0 numpy-1.21.5 six-1.16.0\n"
          ]
        },
        {
          "output_type": "display_data",
          "data": {
            "application/vnd.colab-display-data+json": {
              "pip_warning": {
                "packages": [
                  "numpy",
                  "six"
                ]
              }
            }
          },
          "metadata": {}
        },
        {
          "output_type": "stream",
          "name": "stdout",
          "text": [
            "Collecting pretty_midi\n",
            "  Downloading pretty_midi-0.2.9.tar.gz (5.6 MB)\n",
            "\u001b[K     |████████████████████████████████| 5.6 MB 4.3 MB/s \n",
            "\u001b[?25hRequirement already satisfied: numpy>=1.7.0 in /usr/local/lib/python3.7/dist-packages (from pretty_midi) (1.21.5)\n",
            "Requirement already satisfied: mido>=1.1.16 in /usr/local/lib/python3.7/dist-packages (from pretty_midi) (1.2.10)\n",
            "Requirement already satisfied: six in /usr/local/lib/python3.7/dist-packages (from pretty_midi) (1.16.0)\n",
            "Building wheels for collected packages: pretty-midi\n",
            "  Building wheel for pretty-midi (setup.py) ... \u001b[?25l\u001b[?25hdone\n",
            "  Created wheel for pretty-midi: filename=pretty_midi-0.2.9-py3-none-any.whl size=5591955 sha256=44ed6bdf704a7276347ef225a0cd41f1c85336d10c8d5ad3e525d99a1a34dd8e\n",
            "  Stored in directory: /root/.cache/pip/wheels/ad/74/7c/a06473ca8dcb63efb98c1e67667ce39d52100f837835ea18fa\n",
            "Successfully built pretty-midi\n",
            "Installing collected packages: pretty-midi\n",
            "Successfully installed pretty-midi-0.2.9\n",
            "Collecting tensorflow==1.15.0\n",
            "  Downloading tensorflow-1.15.0-cp37-cp37m-manylinux2010_x86_64.whl (412.3 MB)\n",
            "\u001b[K     |████████████████████████████████| 412.3 MB 25 kB/s \n",
            "\u001b[?25hRequirement already satisfied: keras-preprocessing>=1.0.5 in /usr/local/lib/python3.7/dist-packages (from tensorflow==1.15.0) (1.1.2)\n",
            "Collecting tensorboard<1.16.0,>=1.15.0\n",
            "  Downloading tensorboard-1.15.0-py3-none-any.whl (3.8 MB)\n",
            "\u001b[K     |████████████████████████████████| 3.8 MB 49.1 MB/s \n",
            "\u001b[?25hRequirement already satisfied: grpcio>=1.8.6 in /usr/local/lib/python3.7/dist-packages (from tensorflow==1.15.0) (1.43.0)\n",
            "Requirement already satisfied: wheel>=0.26 in /usr/local/lib/python3.7/dist-packages (from tensorflow==1.15.0) (0.37.1)\n",
            "Collecting keras-applications>=1.0.8\n",
            "  Downloading Keras_Applications-1.0.8-py3-none-any.whl (50 kB)\n",
            "\u001b[K     |████████████████████████████████| 50 kB 8.6 MB/s \n",
            "\u001b[?25hRequirement already satisfied: numpy<2.0,>=1.16.0 in /usr/local/lib/python3.7/dist-packages (from tensorflow==1.15.0) (1.21.5)\n",
            "Collecting tensorflow-estimator==1.15.1\n",
            "  Downloading tensorflow_estimator-1.15.1-py2.py3-none-any.whl (503 kB)\n",
            "\u001b[K     |████████████████████████████████| 503 kB 86.9 MB/s \n",
            "\u001b[?25hRequirement already satisfied: protobuf>=3.6.1 in /usr/local/lib/python3.7/dist-packages (from tensorflow==1.15.0) (3.17.3)\n",
            "Requirement already satisfied: absl-py>=0.7.0 in /usr/local/lib/python3.7/dist-packages (from tensorflow==1.15.0) (1.0.0)\n",
            "Requirement already satisfied: six>=1.10.0 in /usr/local/lib/python3.7/dist-packages (from tensorflow==1.15.0) (1.16.0)\n",
            "Requirement already satisfied: astor>=0.6.0 in /usr/local/lib/python3.7/dist-packages (from tensorflow==1.15.0) (0.8.1)\n",
            "Requirement already satisfied: wrapt>=1.11.1 in /usr/local/lib/python3.7/dist-packages (from tensorflow==1.15.0) (1.13.3)\n",
            "Collecting gast==0.2.2\n",
            "  Downloading gast-0.2.2.tar.gz (10 kB)\n",
            "Requirement already satisfied: google-pasta>=0.1.6 in /usr/local/lib/python3.7/dist-packages (from tensorflow==1.15.0) (0.2.0)\n",
            "Requirement already satisfied: termcolor>=1.1.0 in /usr/local/lib/python3.7/dist-packages (from tensorflow==1.15.0) (1.1.0)\n",
            "Requirement already satisfied: opt-einsum>=2.3.2 in /usr/local/lib/python3.7/dist-packages (from tensorflow==1.15.0) (3.3.0)\n",
            "Requirement already satisfied: h5py in /usr/local/lib/python3.7/dist-packages (from keras-applications>=1.0.8->tensorflow==1.15.0) (2.10.0)\n",
            "Requirement already satisfied: setuptools>=41.0.0 in /usr/local/lib/python3.7/dist-packages (from tensorboard<1.16.0,>=1.15.0->tensorflow==1.15.0) (57.4.0)\n",
            "Requirement already satisfied: markdown>=2.6.8 in /usr/local/lib/python3.7/dist-packages (from tensorboard<1.16.0,>=1.15.0->tensorflow==1.15.0) (3.3.6)\n",
            "Requirement already satisfied: werkzeug>=0.11.15 in /usr/local/lib/python3.7/dist-packages (from tensorboard<1.16.0,>=1.15.0->tensorflow==1.15.0) (1.0.1)\n",
            "Requirement already satisfied: importlib-metadata>=4.4 in /usr/local/lib/python3.7/dist-packages (from markdown>=2.6.8->tensorboard<1.16.0,>=1.15.0->tensorflow==1.15.0) (4.10.1)\n",
            "Requirement already satisfied: zipp>=0.5 in /usr/local/lib/python3.7/dist-packages (from importlib-metadata>=4.4->markdown>=2.6.8->tensorboard<1.16.0,>=1.15.0->tensorflow==1.15.0) (3.7.0)\n",
            "Requirement already satisfied: typing-extensions>=3.6.4 in /usr/local/lib/python3.7/dist-packages (from importlib-metadata>=4.4->markdown>=2.6.8->tensorboard<1.16.0,>=1.15.0->tensorflow==1.15.0) (3.10.0.2)\n",
            "Building wheels for collected packages: gast\n",
            "  Building wheel for gast (setup.py) ... \u001b[?25l\u001b[?25hdone\n",
            "  Created wheel for gast: filename=gast-0.2.2-py3-none-any.whl size=7554 sha256=7685914f7f43fcdd1ffea78aed83d7c8db5b8e21fbcde3f4f018f5cd9be2d953\n",
            "  Stored in directory: /root/.cache/pip/wheels/21/7f/02/420f32a803f7d0967b48dd823da3f558c5166991bfd204eef3\n",
            "Successfully built gast\n",
            "Installing collected packages: tensorflow-estimator, tensorboard, keras-applications, gast, tensorflow\n",
            "  Attempting uninstall: tensorflow-estimator\n",
            "    Found existing installation: tensorflow-estimator 2.7.0\n",
            "    Uninstalling tensorflow-estimator-2.7.0:\n",
            "      Successfully uninstalled tensorflow-estimator-2.7.0\n",
            "  Attempting uninstall: tensorboard\n",
            "    Found existing installation: tensorboard 2.7.0\n",
            "    Uninstalling tensorboard-2.7.0:\n",
            "      Successfully uninstalled tensorboard-2.7.0\n",
            "  Attempting uninstall: gast\n",
            "    Found existing installation: gast 0.4.0\n",
            "    Uninstalling gast-0.4.0:\n",
            "      Successfully uninstalled gast-0.4.0\n",
            "  Attempting uninstall: tensorflow\n",
            "    Found existing installation: tensorflow 2.7.0\n",
            "    Uninstalling tensorflow-2.7.0:\n",
            "      Successfully uninstalled tensorflow-2.7.0\n",
            "\u001b[31mERROR: pip's dependency resolver does not currently take into account all the packages that are installed. This behaviour is the source of the following dependency conflicts.\n",
            "tensorflow-probability 0.15.0 requires gast>=0.3.2, but you have gast 0.2.2 which is incompatible.\n",
            "kapre 0.3.7 requires tensorflow>=2.0.0, but you have tensorflow 1.15.0 which is incompatible.\u001b[0m\n",
            "Successfully installed gast-0.2.2 keras-applications-1.0.8 tensorboard-1.15.0 tensorflow-1.15.0 tensorflow-estimator-1.15.1\n",
            "Collecting keras==2.3.1\n",
            "  Downloading Keras-2.3.1-py2.py3-none-any.whl (377 kB)\n",
            "\u001b[K     |████████████████████████████████| 377 kB 4.2 MB/s \n",
            "\u001b[?25hRequirement already satisfied: pyyaml in /usr/local/lib/python3.7/dist-packages (from keras==2.3.1) (3.13)\n",
            "Requirement already satisfied: six>=1.9.0 in /usr/local/lib/python3.7/dist-packages (from keras==2.3.1) (1.16.0)\n",
            "Requirement already satisfied: keras-preprocessing>=1.0.5 in /usr/local/lib/python3.7/dist-packages (from keras==2.3.1) (1.1.2)\n",
            "Requirement already satisfied: keras-applications>=1.0.6 in /usr/local/lib/python3.7/dist-packages (from keras==2.3.1) (1.0.8)\n",
            "Requirement already satisfied: numpy>=1.9.1 in /usr/local/lib/python3.7/dist-packages (from keras==2.3.1) (1.21.5)\n",
            "Requirement already satisfied: h5py in /usr/local/lib/python3.7/dist-packages (from keras==2.3.1) (2.10.0)\n",
            "Requirement already satisfied: scipy>=0.14 in /usr/local/lib/python3.7/dist-packages (from keras==2.3.1) (1.4.1)\n",
            "Installing collected packages: keras\n",
            "  Attempting uninstall: keras\n",
            "    Found existing installation: keras 2.7.0\n",
            "    Uninstalling keras-2.7.0:\n",
            "      Successfully uninstalled keras-2.7.0\n",
            "Successfully installed keras-2.3.1\n",
            "Collecting midiutil\n",
            "  Downloading MIDIUtil-1.2.1.tar.gz (1.0 MB)\n",
            "\u001b[K     |████████████████████████████████| 1.0 MB 3.7 MB/s \n",
            "\u001b[?25hBuilding wheels for collected packages: midiutil\n",
            "  Building wheel for midiutil (setup.py) ... \u001b[?25l\u001b[?25hdone\n",
            "  Created wheel for midiutil: filename=MIDIUtil-1.2.1-py3-none-any.whl size=54566 sha256=af23af077233a3a53a878aaa88902ef3a9248f5fdc08dd1da110157ef3d2dbd4\n",
            "  Stored in directory: /root/.cache/pip/wheels/e3/97/cd/a677b61a76d575f373e2e10302f1d9106507fea6dd1320df03\n",
            "Successfully built midiutil\n",
            "Installing collected packages: midiutil\n",
            "Successfully installed midiutil-1.2.1\n",
            "Requirement already satisfied: easydict in /usr/local/lib/python3.7/dist-packages (1.9)\n"
          ]
        }
      ],
      "source": [
        "!pip install mido\n",
        "!pip install h5py==2.10.0 --force-reinstall\n",
        "!pip install pretty_midi\n",
        "!pip install tensorflow==1.15.0\n",
        "!pip install keras==2.3.1\n",
        "!pip install midiutil\n",
        "!pip install easydict"
      ]
    },
    {
      "cell_type": "code",
      "execution_count": 17,
      "metadata": {
        "colab": {
          "base_uri": "https://localhost:8080/"
        },
        "id": "upkZgrqruxem",
        "outputId": "83a52b1b-eaeb-4155-c25f-09b95915cc34"
      },
      "outputs": [
        {
          "output_type": "stream",
          "name": "stderr",
          "text": [
            "Using TensorFlow backend.\n"
          ]
        }
      ],
      "source": [
        "from matplotlib import pyplot as plt\n",
        "import os\n",
        "import pandas\n",
        "from midiutil.MidiFile import MIDIFile\n",
        "import copy\n",
        "import pretty_midi\n",
        "import seaborn as sns\n",
        "import sklearn.metrics\n",
        "import matplotlib.pyplot as plt\n",
        "import numpy as np\n",
        "from keras.models import Model\n",
        "from keras.optimizers import SGD\n",
        "from keras.initializers import VarianceScaling\n",
        "import mido\n",
        "from tqdm import tqdm\n",
        "import scipy as sp\n",
        "from sklearn.cluster import KMeans\n",
        "import keras\n",
        "import os\n",
        "import json\n",
        "import pandas\n",
        "import tensorflow as tf\n",
        "import numpy as np\n",
        "from keras.layers import Dense\n",
        "from keras import layers\n",
        "from keras import optimizers\n",
        "from keras.models import Sequential\n",
        "import pickle\n",
        "import pretty_midi\n",
        "import mido\n",
        "from tqdm import tqdm\n",
        "import pickle\n",
        "import copy"
      ]
    },
    {
      "cell_type": "markdown",
      "source": [
        "MIDI Tutorial에서는 PPDD dataset이라는 Monophonic MIDI를 사용하겠습니다. 위 git을 clone하면서 받은 데이터셋입니다.\n",
        "\n",
        "\n",
        "\n",
        "<br>\n",
        "\n",
        "주어진 MIDI를 Bar 단위로 나누고, 이를 24*24의 이미지로 나타내는 Processing을 진행한 뒤 GAN을 활용해 MIDI Bar 이미지를 만들고, 이를 다시 MIDI로 Decoding하는 과정을 다룹니다.\n",
        "\n",
        "<br>\n",
        "\n"
      ],
      "metadata": {
        "id": "KLzXA8s--pxg"
      }
    },
    {
      "cell_type": "code",
      "execution_count": 18,
      "metadata": {
        "id": "KOjmQZTO0TtC"
      },
      "outputs": [],
      "source": [
        "def get_meta(filename):\n",
        "  with open('MIDIgentutorial/PPDD-Sep2018_sym_mono_small/PPDD-Sep2018_sym_mono_small/descriptor/'+filename) as json_file:\n",
        "    meta_data = json.load(json_file)\n",
        "  return meta_data"
      ]
    },
    {
      "cell_type": "code",
      "execution_count": 19,
      "metadata": {
        "id": "JdprhNM2Y2qy"
      },
      "outputs": [],
      "source": [
        "\n",
        "csvfilenames=os.listdir('MIDIgentutorial/PPDD-Sep2018_sym_mono_small/PPDD-Sep2018_sym_mono_small/prime_csv')\n",
        "jsonfilenames=os.listdir('MIDIgentutorial/PPDD-Sep2018_sym_mono_small/PPDD-Sep2018_sym_mono_small/descriptor')\n",
        "midifilenames=os.listdir('MIDIgentutorial/PPDD-Sep2018_sym_mono_small/PPDD-Sep2018_sym_mono_small/prime_midi')\n",
        "\n",
        "midifilenames=sorted(midifilenames)\n",
        "csvfilenames=sorted(csvfilenames)\n",
        "jsonfilenames=sorted(jsonfilenames)\n",
        "\n"
      ]
    },
    {
      "cell_type": "code",
      "execution_count": 20,
      "metadata": {
        "colab": {
          "base_uri": "https://localhost:8080/"
        },
        "id": "Yc57uuAq2gx9",
        "outputId": "a4dfb428-ef7c-4747-b1d1-72cafd0e00ed"
      },
      "outputs": [
        {
          "output_type": "stream",
          "name": "stderr",
          "text": [
            "100%|██████████| 100/100 [00:00<00:00, 103.54it/s]\n",
            "100%|██████████| 100/100 [00:00<00:00, 684.83it/s]\n",
            "100%|██████████| 100/100 [00:00<00:00, 22755.56it/s]\n"
          ]
        }
      ],
      "source": [
        "import pretty_midi\n",
        "import mido\n",
        "from tqdm import tqdm\n",
        "midilist=[]\n",
        "csvlist=[]\n",
        "jsonlist=[]\n",
        "prettymidilist=[]\n",
        "for filenames in tqdm(midifilenames,position=0):\n",
        "  midi_path='MIDIgentutorial/PPDD-Sep2018_sym_mono_small/PPDD-Sep2018_sym_mono_small/prime_midi/'+filenames\n",
        "  mid = mido.MidiFile(midi_path, clip=True)\n",
        "  midilist.append(mid)\n",
        "  prettymid=pretty_midi.PrettyMIDI(midi_path)\n",
        "  prettymidilist.append(prettymid)\n",
        "\n",
        "for filenames in tqdm(csvfilenames,position=0):\n",
        "  csv_path='MIDIgentutorial/PPDD-Sep2018_sym_mono_small/PPDD-Sep2018_sym_mono_small/prime_csv/'+filenames\n",
        "  csv = pandas.read_csv(csv_path)\n",
        "  csvlist.append(csv)\n",
        "for filenames in tqdm(jsonfilenames,position=0):\n",
        "  jsonlist.append(get_meta(filenames))"
      ]
    },
    {
      "cell_type": "code",
      "execution_count": 21,
      "metadata": {
        "id": "IeRQyawg_8tO"
      },
      "outputs": [],
      "source": [
        "bar_list=[]\n",
        "one_bar_number_list=[]\n",
        "starting_number_list=[]\n",
        "chord_list=[]\n",
        "for i,songs in enumerate(prettymidilist):#곡마다.\n",
        "  if('timeSignature' not in jsonlist[i]):\n",
        "    jsonlist[i]['timeSignature']=[4,4]\n",
        "  if(jsonlist[i]['timeSignature'] !=[4,4]):#!=[4,4]로 써서 4,4만고려가능\n",
        "    pass\n",
        "  else:\n",
        "    for instrument in songs.instruments: #2. 어차피 instrument하나\n",
        "      csvarray=[]\n",
        "      for note in instrument.notes: #3\n",
        "        row=[note.start*2, note.pitch, note.pitch, (note.end - note.start)*2, 0] #*2를 해줘야 제대로 하나의 bar가 하나의 단위가 된다.\n",
        "        csvarray.append(row)\n",
        "    csvarray=np.array(csvarray)\n",
        "    one_bar_number=jsonlist[i]['timeSignature'][0] # Time Signature를 고려할 때 필요한 내용입니다. 3박자의 경우는 3, 4박자의 경우는 4를 주어야 구현이 맞습니다.\n",
        "    chord=jsonlist[i]['keyEstimate'][-5:]\n",
        "    bar_number=(csvarray[-1][0]-csvarray[0][0])//one_bar_number+1\n",
        "    bar_info_list=[]\n",
        "    for i in range(int(bar_number)):\n",
        "      starting_bar_time=csvarray[0][0]+i*one_bar_number\n",
        "      bar_info_list.append(csvarray[np.where( (starting_bar_time<=csvarray[:,0]) & (csvarray[:,0]<starting_bar_time+one_bar_number) )])\n",
        "    bar_list.append(bar_info_list)# bar info list가 bar마다 csv내용들 담겨져 있는거다.\n",
        "    one_bar_number_list.append(one_bar_number)\n",
        "    starting_number_list.append(csvarray[0][0])\n",
        "    chord_list.append(chord)"
      ]
    },
    {
      "cell_type": "code",
      "execution_count": 22,
      "metadata": {
        "colab": {
          "base_uri": "https://localhost:8080/"
        },
        "id": "ioRp4dJDCtUK",
        "outputId": "2bf763b6-de9e-4b4a-e2e9-bf38e37c1e0e"
      },
      "outputs": [
        {
          "output_type": "stream",
          "name": "stdout",
          "text": [
            "[[ 0.         33.         33.          0.83333333  0.        ]\n",
            " [ 1.         37.         37.          0.5         0.        ]\n",
            " [ 1.5        38.         38.          0.33333333  0.        ]\n",
            " [ 2.         40.         40.          0.83333333  0.        ]\n",
            " [ 3.         33.         33.          0.75        0.        ]]\n",
            "{'id': '00b7561d-c09b-41f2-bf21-537603fbe758', 'idLakh': 'ac0c789d9798acc2cda1c90c28bddb3d', 'bpm': 135, 'timeSignature': [4, 4], 'keyEstimate': 'A major'}\n"
          ]
        }
      ],
      "source": [
        "print(bar_list[0][0])#1번째 곡의 1번째 bar.\n",
        "print(jsonlist[0])"
      ]
    },
    {
      "cell_type": "code",
      "execution_count": 23,
      "metadata": {
        "id": "aK7G2wiA4fgg"
      },
      "outputs": [],
      "source": [
        "def nearest_time(time,minimum_size):\n",
        "  #혹시나 값이 조금 벗어나는 엇박 음을 가까운 최소단위로 Shifting 하기 위한 함수\n",
        "  num_to_multiply=time/minimum_size\n",
        "  num_to_multiply=int(num_to_multiply)\n",
        "  left_time=num_to_multiply*minimum_size\n",
        "  right_time=left_time+minimum_size\n",
        "  if (time-left_time>=right_time-time):\n",
        "    return right_time\n",
        "  return left_time\n",
        "\n",
        "def bar_to_matrix3(bar,one_bar_number,starting_number,i):\n",
        "  # 주어진 Bar를 24*24의 Pitch matrix(Piano-Roll)로 바꾸는 함수. \n",
        "  init=np.zeros((24,24))\n",
        "  minimum_size=one_bar_number/24\n",
        "  zero_time=starting_number+one_bar_number*i\n",
        "  min_height=500\n",
        "  for lists in bar:\n",
        "    if min_height>lists[1]:\n",
        "      min_height=lists[1]    \n",
        "  for j,lists in enumerate(bar):\n",
        "    #lists[0]은 시간, lists[1]은 Note 높이, lists[3]은 Duration. \n",
        "    point=int((nearest_time(lists[0],minimum_size)-zero_time)/minimum_size)\n",
        "    length=int(round(lists[3]/minimum_size))\n",
        "    if (length>3):\n",
        "      length=length-1#여러번 두두두 치는 음을 구별하기 위함\n",
        "    if (point+length>23):\n",
        "      length=23-point # 한 음이 2Bar에 걸쳐있는 경우 Bar 뒤쪽의 Duration을 무시한다.\n",
        "    height=lists[1]-min_height\n",
        "    while(height>23):\n",
        "      height=height-12\n",
        "    init[23-int(height)][point:point+length]+=1\n",
        "  return init"
      ]
    },
    {
      "cell_type": "code",
      "execution_count": 24,
      "metadata": {
        "id": "t34eVSFIT6M-"
      },
      "outputs": [],
      "source": [
        "bar_matrix_list3=copy.deepcopy(bar_list)\n",
        "for i,songs in enumerate(bar_matrix_list3):\n",
        "  for j,bar in enumerate(songs):\n",
        "    matrix3=bar_to_matrix3(bar,one_bar_number_list[i],starting_number_list[i],j)\n",
        "    bar_matrix_list3[i][j]=matrix3"
      ]
    },
    {
      "cell_type": "code",
      "execution_count": 25,
      "metadata": {
        "id": "QhslYmbJdSba"
      },
      "outputs": [],
      "source": [
        "def bar_to_contour(bar,one_bar_number,starting_number,j):\n",
        "  contour=[]\n",
        "  pitch_change_list=[]\n",
        "  duration_list=[]\n",
        "  real_pitch_list=[]\n",
        "  real_time_list=[]\n",
        "  real_duration_list=[]\n",
        "  now_pitch=1000\n",
        "  first_time=starting_number+one_bar_number*j\n",
        "  a=0\n",
        "  for lists in bar:\n",
        "    if(a!=0): \n",
        "      real_time_list.append(lists[0]-now_rhythm)\n",
        "    now_rhythm=lists[0]\n",
        "    a+=1\n",
        "    if (first_time*1.001<lists[0]):#smoothing for case like first time=5.00001, lists[0]=5.0000..\n",
        "      resting_time=lists[0]-first_time\n",
        "      duration_list.append(resting_time)\n",
        "      first_time=lists[0]\n",
        "      pitch_change_list.append('Rest')\n",
        "    if (now_pitch==1000):\n",
        "      pitch_change_list.append('Starting_Point')\n",
        "      real_pitch_list.append('Starting_Point')\n",
        "      real_duration_list.append(lists[3])\n",
        "      duration_list.append(lists[3])\n",
        "      first_time=first_time+lists[3]\n",
        "      now_pitch=lists[1]\n",
        "      a+=1\n",
        "    else:\n",
        "      pitch_change=lists[1]-now_pitch\n",
        "      pitch_change_list.append(str(pitch_change))#나중에 int로 바꿔쓸 것. 자료형 터지는거 때문에 우선 스트링.\n",
        "      duration_list.append(lists[3])\n",
        "      real_duration_list.append(lists[3])\n",
        "      first_time=first_time+lists[3]\n",
        "      now_pitch=lists[1]\n",
        "      real_pitch_list.append(str(pitch_change))\n",
        "  if (first_time*1.001<starting_number+one_bar_number*(j+1)):\n",
        "    pitch_change_list.append('Rest')#마지막 Rest\n",
        "    duration_list.append(starting_number+one_bar_number*(j+1)-first_time)\n",
        "  if(len(bar)!=0):\n",
        "    real_time_list.append(starting_number+one_bar_number*(j+1)-now_rhythm)\n",
        "  contour.append(pitch_change_list)\n",
        "  contour.append(duration_list)\n",
        "  contour.append(real_pitch_list)\n",
        "  contour.append(real_time_list)\n",
        "  contour.append(real_duration_list)\n",
        "  #something\n",
        "  return contour\n",
        "\n"
      ]
    },
    {
      "cell_type": "markdown",
      "metadata": {
        "id": "nkt16alDXVFp"
      },
      "source": [
        "Plot에서 중요한것은 Y-Axis의 0~112의 숫자가 Note의 반대 성향을 가진다는 것이다.(숫자가 커질수록 Note의 높이가 낮아진다.) 이는 PianoRoll을 이미지 처럼 사용하는 과정에서, 직관적인 학습이 가능하도록 이와 같이 구현한 것이다."
      ]
    },
    {
      "cell_type": "code",
      "execution_count": 26,
      "metadata": {
        "id": "9DB6np0r4pr0"
      },
      "outputs": [],
      "source": [
        "bar_contour_list=copy.deepcopy(bar_list)\n",
        "for i,songs in enumerate(bar_list):\n",
        "  for j,bar in enumerate(songs):\n",
        "    contour=bar_to_contour(bar,one_bar_number_list[i],starting_number_list[i],j)\n",
        "    bar_contour_list[i][j]=contour\n"
      ]
    },
    {
      "cell_type": "code",
      "execution_count": 27,
      "metadata": {
        "colab": {
          "base_uri": "https://localhost:8080/"
        },
        "id": "PO49MM20Lth1",
        "outputId": "bd667099-13d3-4a4d-8e61-d6816cb72acf"
      },
      "outputs": [
        {
          "output_type": "stream",
          "name": "stdout",
          "text": [
            "[['Starting_Point', 'Rest', '4.0', '1.0', 'Rest', '2.0', 'Rest', '-7.0', 'Rest'], [0.8333333333333333, 0.16666666666666674, 0.5, 0.33333333333333326, 0.16666666666666674, 0.833333333333333, 0.16666666666666696, 0.75, 0.25], ['Starting_Point', '4.0', '1.0', '2.0', '-7.0'], [1.0, 0.5, 0.5, 1.0, 1.0], [0.8333333333333333, 0.5, 0.33333333333333326, 0.833333333333333, 0.75]]\n"
          ]
        }
      ],
      "source": [
        "print(bar_contour_list[0][0])\n"
      ]
    },
    {
      "cell_type": "code",
      "execution_count": 28,
      "metadata": {
        "colab": {
          "base_uri": "https://localhost:8080/",
          "height": 282
        },
        "id": "r1Uk3vrbDPz2",
        "outputId": "9db69975-6e3b-43da-a065-448fb484b9ef"
      },
      "outputs": [
        {
          "output_type": "execute_result",
          "data": {
            "text/plain": [
              "<matplotlib.image.AxesImage at 0x7f60f7e0cd10>"
            ]
          },
          "metadata": {},
          "execution_count": 28
        },
        {
          "output_type": "display_data",
          "data": {
            "image/png": "[encoded data removed]",
            "text/plain": [
              "<Figure size 432x288 with 1 Axes>"
            ]
          },
          "metadata": {
            "needs_background": "light"
          }
        }
      ],
      "source": [
        "plt.imshow(np.array(bar_matrix_list3[30][1]),cmap='viridis')"
      ]
    },
    {
      "cell_type": "code",
      "source": [
        "plt.imshow(np.array(bar_matrix_list3[30][2]),cmap='viridis')"
      ],
      "metadata": {
        "colab": {
          "base_uri": "https://localhost:8080/",
          "height": 282
        },
        "id": "NTVmFiCTAfCi",
        "outputId": "5f43a44a-e68e-4a31-d700-f3180cef75e9"
      },
      "execution_count": 29,
      "outputs": [
        {
          "output_type": "execute_result",
          "data": {
            "text/plain": [
              "<matplotlib.image.AxesImage at 0x7f60f7d7d4d0>"
            ]
          },
          "metadata": {},
          "execution_count": 29
        },
        {
          "output_type": "display_data",
          "data": {
            "image/png": "[encoded data removed]",
            "text/plain": [
              "<Figure size 432x288 with 1 Axes>"
            ]
          },
          "metadata": {
            "needs_background": "light"
          }
        }
      ]
    },
    {
      "cell_type": "markdown",
      "source": [
        "이처럼 Bar의 Contour 정보를 담을 수 있도록 Processing을 완료하였습니다.\n",
        "\n",
        "* 이는 Bar 내부의 상대적인 높낮이 차이 정보만을 지니고 있고, 절대적인 Pitch Value를 지니는 형태는 아닙니다! Image의 Size를 줄여서 사용하기 위한 Relative MIDI Encoding 방식입니다. \n",
        "* 따라서 Bar간의 연결을 고려하게 된다면, 추가적인 방법론을 고려해야겠죠!"
      ],
      "metadata": {
        "id": "TV9udq04An5y"
      }
    },
    {
      "cell_type": "markdown",
      "metadata": {
        "id": "4JLpGOFWNfEk"
      },
      "source": [
        "###MIDI Generation with GAN\n",
        "\n",
        "Code by eriklindernoren,\n",
        "https://github.com/eriklindernoren/Keras-GAN/blob/master/gan/gan.py\n",
        "\n",
        "이거는 Keras 기반의 모델도 사용해보겠습니다. (Torch 기반 모델이 이상하게 나온건 비밀)"
      ]
    },
    {
      "cell_type": "code",
      "source": [
        "from sklearn import preprocessing\n",
        "le = preprocessing.LabelEncoder()\n",
        "trainX=[]\n",
        "for i,songs in enumerate(bar_matrix_list3):\n",
        "  for matrix in songs:\n",
        "    matrix=matrix.reshape(24,24)\n",
        "    matrix=sp.ndimage.filters.gaussian_filter(matrix, [0.5,0.5], mode='constant') #bluring for well training.\n",
        "    trainX.append(matrix)\n",
        "trainX=np.array(trainX)"
      ],
      "metadata": {
        "id": "cJH28t9dnNss"
      },
      "execution_count": 30,
      "outputs": []
    },
    {
      "cell_type": "code",
      "source": [
        "plt.imshow(trainX[0])"
      ],
      "metadata": {
        "colab": {
          "base_uri": "https://localhost:8080/",
          "height": 282
        },
        "id": "UliACfxBnXck",
        "outputId": "75533868-d7b3-43d5-abf0-8301c61af9f1"
      },
      "execution_count": 31,
      "outputs": [
        {
          "output_type": "execute_result",
          "data": {
            "text/plain": [
              "<matplotlib.image.AxesImage at 0x7f60f7d61cd0>"
            ]
          },
          "metadata": {},
          "execution_count": 31
        },
        {
          "output_type": "display_data",
          "data": {
            "image/png": "[encoded data removed]",
            "text/plain": [
              "<Figure size 432x288 with 1 Axes>"
            ]
          },
          "metadata": {
            "needs_background": "light"
          }
        }
      ]
    },
    {
      "cell_type": "code",
      "execution_count": 32,
      "metadata": {
        "id": "hKHeanaAiaAC"
      },
      "outputs": [],
      "source": [
        "from __future__ import print_function, division\n",
        "\n",
        "from keras.datasets import mnist\n",
        "from keras.layers import Input, Dense, Reshape, Flatten, Dropout\n",
        "from keras.layers import BatchNormalization, Activation, ZeroPadding2D\n",
        "from keras.layers.advanced_activations import LeakyReLU\n",
        "from keras.layers.convolutional import UpSampling2D, Conv2D\n",
        "from keras.models import Sequential, Model\n",
        "from keras.optimizers import Adam\n",
        "\n",
        "import matplotlib.pyplot as plt\n",
        "\n",
        "import sys\n",
        "\n",
        "import numpy as np\n",
        "\n",
        "class GAN():\n",
        "    def __init__(self):\n",
        "        self.img_rows = 24\n",
        "        self.img_cols = 24\n",
        "        self.channels = 1\n",
        "        self.img_shape = (self.img_rows, self.img_cols, self.channels)\n",
        "        self.latent_dim = 100\n",
        "\n",
        "        optimizer = Adam(0.0002, 0.5)\n",
        "\n",
        "        # Build and compile the discriminator\n",
        "        self.discriminator = self.build_discriminator()\n",
        "        self.discriminator.compile(loss='binary_crossentropy',\n",
        "            optimizer=optimizer,\n",
        "            metrics=['accuracy'])\n",
        "\n",
        "        # Build the generator\n",
        "        self.generator = self.build_generator()\n",
        "\n",
        "        # The generator takes noise as input and generates imgs\n",
        "        z = Input(shape=(self.latent_dim,))\n",
        "        img = self.generator(z)\n",
        "\n",
        "        # For the combined model we will only train the generator\n",
        "        self.discriminator.trainable = False\n",
        "\n",
        "        # The discriminator takes generated images as input and determines validity\n",
        "        validity = self.discriminator(img)\n",
        "\n",
        "        # The combined model  (stacked generator and discriminator)\n",
        "        # Trains the generator to fool the discriminator\n",
        "        self.combined = Model(z, validity)\n",
        "        self.combined.compile(loss='binary_crossentropy', optimizer=optimizer)\n",
        "\n",
        "\n",
        "    def build_generator(self):\n",
        "        with tf.device('/gpu:0'):\n",
        "            model = Sequential()\n",
        "\n",
        "            model.add(Dense(256, input_dim=self.latent_dim))\n",
        "            model.add(LeakyReLU(alpha=0.2))\n",
        "            model.add(BatchNormalization(momentum=0.8))\n",
        "            model.add(Dense(512))\n",
        "            model.add(LeakyReLU(alpha=0.2))\n",
        "            model.add(BatchNormalization(momentum=0.8))\n",
        "            model.add(Dense(1024))\n",
        "            model.add(LeakyReLU(alpha=0.2))\n",
        "            model.add(BatchNormalization(momentum=0.8))\n",
        "            model.add(Dense(np.prod(self.img_shape), activation='tanh'))\n",
        "            model.add(Reshape(self.img_shape))\n",
        "\n",
        "            model.summary()\n",
        "\n",
        "            noise = Input(shape=(self.latent_dim,))\n",
        "            img = model(noise)\n",
        "\n",
        "            return Model(noise, img)\n",
        "\n",
        "    def build_discriminator(self):\n",
        "        with tf.device('/gpu:0'):\n",
        "            model = Sequential()\n",
        "\n",
        "            model.add(Flatten(input_shape=self.img_shape))\n",
        "            model.add(Dense(512))\n",
        "            model.add(LeakyReLU(alpha=0.2))\n",
        "            model.add(Dense(256))\n",
        "            model.add(LeakyReLU(alpha=0.2))\n",
        "            model.add(Dense(1, activation='sigmoid'))\n",
        "            model.summary()\n",
        "\n",
        "            img = Input(shape=self.img_shape)\n",
        "            validity = model(img)\n",
        "\n",
        "            return Model(img, validity)\n",
        "\n",
        "    def train(self, epochs, batch_size=128, sample_interval=50):\n",
        "\n",
        "        # Load the dataset\n",
        "\n",
        "        X_train=trainX\n",
        "        X_train = X_train / (0.5) - 1.\n",
        "        X_train = np.expand_dims(X_train, axis=3)\n",
        "\n",
        "        # Adversarial ground truths\n",
        "        valid = np.ones((batch_size, 1))\n",
        "        fake = np.zeros((batch_size, 1))\n",
        "\n",
        "        for epoch in range(epochs):\n",
        "\n",
        "            # ---------------------\n",
        "            #  Train Discriminator\n",
        "            # ---------------------\n",
        "\n",
        "            # Select a random batch of images\n",
        "            idx = np.random.randint(0, X_train.shape[0], batch_size)\n",
        "            imgs = X_train[idx]\n",
        "\n",
        "            noise = np.random.normal(0, 1, (batch_size, self.latent_dim))\n",
        "\n",
        "            # Generate a batch of new images\n",
        "            gen_imgs = self.generator.predict(noise)\n",
        "\n",
        "            # Train the discriminator\n",
        "            d_loss_real = self.discriminator.train_on_batch(imgs, valid)\n",
        "            d_loss_fake = self.discriminator.train_on_batch(gen_imgs, fake)\n",
        "            d_loss = 0.5 * np.add(d_loss_real, d_loss_fake)\n",
        "\n",
        "            # ---------------------\n",
        "            #  Train Generator\n",
        "            # ---------------------\n",
        "\n",
        "            noise = np.random.normal(0, 1, (batch_size, self.latent_dim))\n",
        "\n",
        "            # Train the generator (to have the discriminator label samples as valid)\n",
        "            g_loss = self.combined.train_on_batch(noise, valid)\n",
        "\n",
        "            # Plot the progress\n",
        "            if (epoch%500==0):\n",
        "              print (\"%d [D loss: %f, acc.: %.2f%%] [G loss: %f]\" % (epoch, d_loss[0], 100*d_loss[1], g_loss))\n",
        "\n",
        "            # If at save interval => save generated image samples\n",
        "            if epoch % sample_interval == 0:\n",
        "                self.sample_images(epoch)\n",
        "\n",
        "    def sample_images(self, epoch):\n",
        "        r, c = 5, 5\n",
        "        noise = np.random.normal(0, 1, (r * c, self.latent_dim))\n",
        "        gen_imgs = self.generator.predict(noise)\n",
        "\n",
        "        # Rescale images 0 - 1\n",
        "        gen_imgs = 0.5 * gen_imgs + 0.5\n",
        "\n",
        "        fig, axs = plt.subplots(r, c)\n",
        "        cnt = 0\n",
        "        for i in range(r):\n",
        "            for j in range(c):\n",
        "                axs[i,j].imshow(gen_imgs[cnt, :,:,0], cmap='gray')\n",
        "                axs[i,j].axis('off')\n",
        "                cnt += 1\n",
        "        fig.savefig(\"images/%d.png\" % epoch)\n",
        "        plt.close()\n",
        "\n"
      ]
    },
    {
      "cell_type": "code",
      "execution_count": 33,
      "metadata": {
        "colab": {
          "base_uri": "https://localhost:8080/"
        },
        "id": "KNY6JdEKb_7w",
        "outputId": "9ef69094-4120-4144-f83d-d95d888c776b"
      },
      "outputs": [
        {
          "output_type": "stream",
          "name": "stdout",
          "text": [
            "WARNING:tensorflow:From /usr/local/lib/python3.7/dist-packages/tensorflow_core/python/ops/resource_variable_ops.py:1630: calling BaseResourceVariable.__init__ (from tensorflow.python.ops.resource_variable_ops) with constraint is deprecated and will be removed in a future version.\n",
            "Instructions for updating:\n",
            "If using Keras pass *_constraint arguments to layers.\n",
            "Model: \"sequential_1\"\n",
            "_________________________________________________________________\n",
            "Layer (type)                 Output Shape              Param #   \n",
            "=================================================================\n",
            "flatten_1 (Flatten)          (None, 576)               0         \n",
            "_________________________________________________________________\n",
            "dense_1 (Dense)              (None, 512)               295424    \n",
            "_________________________________________________________________\n",
            "leaky_re_lu_1 (LeakyReLU)    (None, 512)               0         \n",
            "_________________________________________________________________\n",
            "dense_2 (Dense)              (None, 256)               131328    \n",
            "_________________________________________________________________\n",
            "leaky_re_lu_2 (LeakyReLU)    (None, 256)               0         \n",
            "_________________________________________________________________\n",
            "dense_3 (Dense)              (None, 1)                 257       \n",
            "=================================================================\n",
            "Total params: 427,009\n",
            "Trainable params: 427,009\n",
            "Non-trainable params: 0\n",
            "_________________________________________________________________\n",
            "WARNING:tensorflow:From /usr/local/lib/python3.7/dist-packages/tensorflow_core/python/ops/nn_impl.py:183: where (from tensorflow.python.ops.array_ops) is deprecated and will be removed in a future version.\n",
            "Instructions for updating:\n",
            "Use tf.where in 2.0, which has the same broadcast rule as np.where\n",
            "Model: \"sequential_2\"\n",
            "_________________________________________________________________\n",
            "Layer (type)                 Output Shape              Param #   \n",
            "=================================================================\n",
            "dense_4 (Dense)              (None, 256)               25856     \n",
            "_________________________________________________________________\n",
            "leaky_re_lu_3 (LeakyReLU)    (None, 256)               0         \n",
            "_________________________________________________________________\n",
            "batch_normalization_1 (Batch (None, 256)               1024      \n",
            "_________________________________________________________________\n",
            "dense_5 (Dense)              (None, 512)               131584    \n",
            "_________________________________________________________________\n",
            "leaky_re_lu_4 (LeakyReLU)    (None, 512)               0         \n",
            "_________________________________________________________________\n",
            "batch_normalization_2 (Batch (None, 512)               2048      \n",
            "_________________________________________________________________\n",
            "dense_6 (Dense)              (None, 1024)              525312    \n",
            "_________________________________________________________________\n",
            "leaky_re_lu_5 (LeakyReLU)    (None, 1024)              0         \n",
            "_________________________________________________________________\n",
            "batch_normalization_3 (Batch (None, 1024)              4096      \n",
            "_________________________________________________________________\n",
            "dense_7 (Dense)              (None, 576)               590400    \n",
            "_________________________________________________________________\n",
            "reshape_1 (Reshape)          (None, 24, 24, 1)         0         \n",
            "=================================================================\n",
            "Total params: 1,280,320\n",
            "Trainable params: 1,276,736\n",
            "Non-trainable params: 3,584\n",
            "_________________________________________________________________\n",
            "WARNING:tensorflow:From /usr/local/lib/python3.7/dist-packages/keras/backend/tensorflow_backend.py:422: The name tf.global_variables is deprecated. Please use tf.compat.v1.global_variables instead.\n",
            "\n"
          ]
        },
        {
          "output_type": "stream",
          "name": "stderr",
          "text": [
            "/usr/local/lib/python3.7/dist-packages/keras/engine/training.py:297: UserWarning: Discrepancy between trainable weights and collected trainable weights, did you set `model.trainable` without calling `model.compile` after ?\n",
            "  'Discrepancy between trainable weights and collected trainable'\n"
          ]
        },
        {
          "output_type": "stream",
          "name": "stdout",
          "text": [
            "0 [D loss: 0.824097, acc.: 31.25%] [G loss: 0.859341]\n"
          ]
        },
        {
          "output_type": "stream",
          "name": "stderr",
          "text": [
            "/usr/local/lib/python3.7/dist-packages/keras/engine/training.py:297: UserWarning: Discrepancy between trainable weights and collected trainable weights, did you set `model.trainable` without calling `model.compile` after ?\n",
            "  'Discrepancy between trainable weights and collected trainable'\n"
          ]
        },
        {
          "output_type": "stream",
          "name": "stdout",
          "text": [
            "500 [D loss: 0.691387, acc.: 50.00%] [G loss: 0.638784]\n",
            "1000 [D loss: 0.689842, acc.: 50.00%] [G loss: 0.690158]\n",
            "1500 [D loss: 0.683641, acc.: 56.25%] [G loss: 0.724087]\n",
            "2000 [D loss: 0.679540, acc.: 60.94%] [G loss: 0.725374]\n",
            "2500 [D loss: 0.680889, acc.: 59.38%] [G loss: 0.759444]\n",
            "3000 [D loss: 0.675560, acc.: 60.94%] [G loss: 0.816470]\n",
            "3500 [D loss: 0.696965, acc.: 46.88%] [G loss: 0.742763]\n",
            "4000 [D loss: 0.665459, acc.: 62.50%] [G loss: 0.789691]\n",
            "4500 [D loss: 0.678848, acc.: 50.00%] [G loss: 0.897128]\n",
            "5000 [D loss: 0.620770, acc.: 73.44%] [G loss: 0.802996]\n",
            "5500 [D loss: 0.619586, acc.: 79.69%] [G loss: 0.823180]\n",
            "6000 [D loss: 0.645784, acc.: 62.50%] [G loss: 0.907428]\n",
            "6500 [D loss: 0.653452, acc.: 60.94%] [G loss: 0.839671]\n",
            "7000 [D loss: 0.612818, acc.: 71.88%] [G loss: 0.833425]\n",
            "7500 [D loss: 0.601660, acc.: 70.31%] [G loss: 0.923220]\n",
            "8000 [D loss: 0.597017, acc.: 70.31%] [G loss: 0.977289]\n",
            "8500 [D loss: 0.558022, acc.: 75.00%] [G loss: 0.999228]\n",
            "9000 [D loss: 0.570015, acc.: 71.88%] [G loss: 1.018385]\n",
            "9500 [D loss: 0.527833, acc.: 84.38%] [G loss: 1.003846]\n"
          ]
        }
      ],
      "source": [
        "gan = GAN()\n",
        "gan.train(epochs=10000, batch_size=32, sample_interval=200)"
      ]
    },
    {
      "cell_type": "code",
      "execution_count": 34,
      "metadata": {
        "id": "qJx5npGa9uI_"
      },
      "outputs": [],
      "source": [
        "noise = np.random.normal(0, 1, (100, 100))\n",
        "gen_imgs = gan.generator.predict(noise)"
      ]
    },
    {
      "cell_type": "code",
      "source": [
        "plt.imshow(gen_imgs[0].reshape((24,24)))"
      ],
      "metadata": {
        "colab": {
          "base_uri": "https://localhost:8080/",
          "height": 282
        },
        "id": "ywRH889ypBRm",
        "outputId": "7cb0b815-eaf6-49a1-e706-4ad1856d64a1"
      },
      "execution_count": 35,
      "outputs": [
        {
          "output_type": "execute_result",
          "data": {
            "text/plain": [
              "<matplotlib.image.AxesImage at 0x7f60a5798f50>"
            ]
          },
          "metadata": {},
          "execution_count": 35
        },
        {
          "output_type": "display_data",
          "data": {
            "image/png": "[encoded data removed]",
            "text/plain": [
              "<Figure size 432x288 with 1 Axes>"
            ]
          },
          "metadata": {
            "needs_background": "light"
          }
        }
      ]
    },
    {
      "cell_type": "code",
      "execution_count": 36,
      "metadata": {
        "colab": {
          "base_uri": "https://localhost:8080/",
          "height": 322
        },
        "id": "j4xlEndU-eLm",
        "outputId": "915c4ce3-806e-4ec0-c915-897b2695df48"
      },
      "outputs": [
        {
          "output_type": "display_data",
          "data": {
            "image/png": "[encoded data removed]",
            "text/plain": [
              "<Figure size 648x360 with 20 Axes>"
            ]
          },
          "metadata": {
            "needs_background": "light"
          }
        }
      ],
      "source": [
        "fig=plt.figure(figsize=(9, 5))\n",
        "columns = 5\n",
        "rows = 4\n",
        "for i in range(1, columns*rows +1):\n",
        "    img = gen_imgs[i].reshape((24,24))\n",
        "    fig.add_subplot(rows, columns, i)\n",
        "    plt.imshow(img)"
      ]
    },
    {
      "cell_type": "code",
      "execution_count": 37,
      "metadata": {
        "id": "6htKIS4Lcb7h"
      },
      "outputs": [],
      "source": [
        "import cv2\n",
        "H=gen_imgs[0]#n개의 24*24*1 형태\n",
        "\n",
        "def matrix_cleaner(matrix):\n",
        "  #matrix should be size of 24*24\n",
        "  #make matrix's value of [0,1]  \n",
        "  matrix=np.matrix(matrix)\n",
        "  maximum_value=matrix.max()\n",
        "  minimum_value=matrix.min()\n",
        "  matrix=(matrix-minimum_value)/(maximum_value-minimum_value)\n",
        "  flat=matrix.flatten()\n",
        "  flat.sort()\n",
        "  flat=flat.reshape((576,1))\n",
        "  hundred_val=flat[-100]\n",
        "  matrix_for_duration=np.where(matrix<0.1,0,matrix)\n",
        "  matrix=np.where(matrix<hundred_val,0,matrix)\n",
        "  matrix=np.where(matrix<1/3,0,matrix)\n",
        "  \n",
        "  return matrix,matrix_for_duration"
      ]
    },
    {
      "cell_type": "code",
      "execution_count": 38,
      "metadata": {
        "colab": {
          "base_uri": "https://localhost:8080/",
          "height": 148
        },
        "id": "lRSy54CpFDz0",
        "outputId": "b5b7f3ed-b7b0-4614-94ac-8d30b6f0148c"
      },
      "outputs": [
        {
          "output_type": "display_data",
          "data": {
            "image/png": "[encoded data removed]",
            "text/plain": [
              "<Figure size 432x288 with 3 Axes>"
            ]
          },
          "metadata": {
            "needs_background": "light"
          }
        }
      ],
      "source": [
        "import numpy as np\n",
        "from scipy.ndimage.filters import maximum_filter\n",
        "from scipy.ndimage.morphology import generate_binary_structure, binary_erosion\n",
        "import matplotlib.pyplot as pp\n",
        "\n",
        "#getting a list of images\n",
        "paws = [matrix_cleaner(H)[0]]\n",
        "\n",
        "\n",
        "def detect_peaks(image):\n",
        "\n",
        "\n",
        "    neighborhood = generate_binary_structure(2,2)\n",
        "    local_max = maximum_filter(image, footprint=neighborhood)==image\n",
        "    background = (image==0)\n",
        "    eroded_background = binary_erosion(background, structure=neighborhood, border_value=1)\n",
        "    detected_peaks = local_max ^ eroded_background\n",
        "    detected_peaks=np.where(detected_peaks==True,1,0)\n",
        "    return detected_peaks\n",
        "\n",
        "\n",
        "#applying the detection and plotting results\n",
        "for i, paw in enumerate(paws):\n",
        "    detected_peaks = detect_peaks(paw)\n",
        "    pp.subplot(1,3,(2*i+1))\n",
        "    pp.imshow(H.reshape((24,24)))\n",
        "    pp.subplot(1,3,(2*i+2))\n",
        "    pp.imshow(paw)\n",
        "    pp.subplot(1,3,(2*i+3) )\n",
        "    pp.imshow(detected_peaks)\n",
        "\n",
        "pp.show()"
      ]
    },
    {
      "cell_type": "code",
      "execution_count": 39,
      "metadata": {
        "colab": {
          "base_uri": "https://localhost:8080/",
          "height": 353
        },
        "id": "bPVdL9UXO-0h",
        "outputId": "b3469343-f752-47fa-ea23-6cf82aaad07c"
      },
      "outputs": [
        {
          "output_type": "stream",
          "name": "stdout",
          "text": [
            "[[ 0  0]\n",
            " [19  3]\n",
            " [23  4]\n",
            " [11  8]\n",
            " [23  9]\n",
            " [14 10]\n",
            " [16 12]\n",
            " [13 15]\n",
            " [ 7 18]\n",
            " [23 20]\n",
            " [13 22]] [0 1 3 1 2 1 0 1 1 1 1] [0.         0.3415345  0.6891319  0.35412273 0.7753957  1.\n",
            " 0.         0.85648334 0.5956614  0.40216425 0.45435014]\n"
          ]
        },
        {
          "output_type": "display_data",
          "data": {
            "image/png": "[encoded data removed]",
            "text/plain": [
              "<Figure size 432x288 with 3 Axes>"
            ]
          },
          "metadata": {
            "needs_background": "light"
          }
        }
      ],
      "source": [
        "def left_shifting(matrix,detected_peak):\n",
        "  #input은 detected_peak가 들어와야한다.\n",
        "  dots=[]\n",
        "  for j in range(len(detected_peak)):\n",
        "    pos=[]\n",
        "    for i in range(len(detected_peak[0])):#for 문의 순서를 이렇게 지정해야 Handle이 가능하다.\n",
        "      a=0\n",
        "      if(detected_peak[i][j]==1):\n",
        "        if(j%2!=0 and j%3!=0):\n",
        "          a=1\n",
        "        if(len(pos)==0):\n",
        "          pos=[i,j-a]\n",
        "        else:\n",
        "          if (matrix[0][pos[0]][pos[1]]<matrix[0][i][j-a]):\n",
        "            pos=[i,j-a]\n",
        "    if(len(pos)!=0):\n",
        "      dots.append(pos)\n",
        "  dots_with_length=[]\n",
        "  starting_points=[]\n",
        "  durations=[]\n",
        "  velocities=[]\n",
        "  for position in dots:\n",
        "    velocities.append(matrix[1][position[0]][position[1]])\n",
        "    length_val=0\n",
        "    while True:\n",
        "      if(length_val==0):\n",
        "        starting_points.append([position[0],position[1]])\n",
        "      else:\n",
        "        if(position[1]+length_val>23):\n",
        "          break\n",
        "        if(detected_peak[position[0]][position[1]+length_val]!=0):\n",
        "          break\n",
        "      if(position[1]+length_val>23):\n",
        "        break\n",
        "      elif(matrix[1][position[0]][position[1]+length_val]!=0):\n",
        "        dots_with_length.append([position[0],position[1]+length_val])\n",
        "      else:\n",
        "        break\n",
        "      length_val+=1\n",
        "    durations.append(length_val)\n",
        "  result=np.zeros_like(matrix[0])\n",
        "  for position in dots_with_length:\n",
        "    result[position[0]][position[1]]=1\n",
        "  return result,np.array(starting_points),np.array(durations),np.array(velocities)\n",
        "\n",
        "paws = [matrix_cleaner(H)[0]]\n",
        "detected_peaks = detect_peaks(paws[0])\n",
        "fig = plt.figure()\n",
        "ax1 = fig.add_subplot(1, 3, 1)\n",
        "ax1.imshow(H.reshape(24,24))\n",
        "ax1.set_title('H')\n",
        "ax1.axis(\"off\")\n",
        " \n",
        "ax3 = fig.add_subplot(1, 3, 2)\n",
        "ax3.imshow(paws[0].reshape(24,24))\n",
        "ax3.set_title('Cleaned H')\n",
        "ax3.axis(\"off\")\n",
        "\n",
        "ax2 = fig.add_subplot(1, 3, 3)\n",
        "ax2.imshow(detect_peaks(matrix_cleaner(H)[0]))\n",
        "ax2.set_title('detected_peaks')\n",
        "ax2.axis(\"off\")\n",
        "\n",
        "print(left_shifting(matrix_cleaner(H),detected_peaks)[1],left_shifting(matrix_cleaner(H),detected_peaks)[2],left_shifting(matrix_cleaner(H),detected_peaks)[3])"
      ]
    },
    {
      "cell_type": "code",
      "execution_count": 40,
      "metadata": {
        "id": "7hmNRrgvCTpe"
      },
      "outputs": [],
      "source": [
        "C_chord=[1,0,1,0,1,1,0,1,0,1,0,1]\n",
        "chords=['C','C#','D','D#','E','F','F#','G','G#','A','A#','B']\n",
        "def chord_matching(shifted_matrix,chord,last_pitch,direction):\n",
        "  #input은 left_shifting의 output을 그대로 넣고, chord(C,C#,D,D#....,B), 마지막 리듬의 pitch를 숫자로, 그리고 진행 방향을 direction(1,0)으로 받는다.\n",
        "  #output은 MIDI기반의 decoding이 되도록 정보 기반으로, 그리고 last_pitch까지 넣어준다.\n",
        "  #또한 출력 그림과 상관없이, 그냥 Note Pitch를 그냥 Matrix에 넣어준다.\n",
        "  before_matrix=shifted_matrix[0]\n",
        "  before_pitch=last_pitch\n",
        "  if (last_pitch<40):\n",
        "    direction=1\n",
        "  if (last_pitch>80):\n",
        "    direction=0\n",
        "  if chord not in chords:\n",
        "    now_chord='C'\n",
        "  now_chord=chord\n",
        "  chord_diff=chords.index(now_chord)\n",
        "  now_chord_list=np.roll(C_chord,chord_diff)#[1,0,1,0,1...] 이런 set인데 여기에 맞추면 함수에 넣은 chord에 맞게 된다.\n",
        "  #나중에 그냥 chord뿐만 아니라 화음의 종류까지 고민하게 된다면 이걸 잘 쓰면 된다.\n",
        "  pitch_set=[]\n",
        "  for pitchs in shifted_matrix[1]:\n",
        "    pitch_set.append(23-pitchs[0])#위 그림 기준 7,17,9,7,3,5 이렇게 들감\n",
        "  pitch_set=pitch_set-pitch_set[0]#이러면 0, 10, -1, 0 ,-4, -2, 이렇게 들간다. 상대적인 위치를 다루는게 쉽다.\n",
        "  if (direction==1):\n",
        "    possible_set=[]\n",
        "    for i in range(12):\n",
        "      possible_set.append(pitch_set+i+last_pitch)\n",
        "  else:\n",
        "    possible_set=[]\n",
        "    for i in range(12):\n",
        "      possible_set.append(pitch_set-i+last_pitch)\n",
        "  possible_set_score=[]\n",
        "  for sets in possible_set:\n",
        "    score=0\n",
        "    for pitchs in sets:\n",
        "      score+=now_chord_list[pitchs%12]\n",
        "    possible_set_score.append(score)\n",
        "  final_set=possible_set[np.argmax(possible_set_score)]\n",
        "  return_val=[]\n",
        "  for i,sets in enumerate(final_set):\n",
        "    if (before_pitch-sets<-12):\n",
        "      sets=sets-12\n",
        "    if (before_pitch-sets>12):\n",
        "      sets=sets+12               #For prevent pitch change above 1 Octave.\n",
        "    if(now_chord_list[sets%12]==1):\n",
        "      final=[]\n",
        "      if (shifted_matrix[2][i]!=0):\n",
        "        final.append(sets)#pitch\n",
        "        final.append(shifted_matrix[1][i][1])\n",
        "        final.append(shifted_matrix[2][i])\n",
        "        final.append(shifted_matrix[3][i])\n",
        "        return_val.append(final)\n",
        "    before_pitch=sets\n",
        "  return return_val\n"
      ]
    },
    {
      "cell_type": "code",
      "execution_count": 41,
      "metadata": {
        "colab": {
          "base_uri": "https://localhost:8080/"
        },
        "id": "7chdoz0aQzCm",
        "outputId": "d8107de5-7199-4b99-c730-5f4b826828f9"
      },
      "outputs": [
        {
          "output_type": "stream",
          "name": "stdout",
          "text": [
            "[[47, 3, 1, 0.3415345], [43, 4, 3, 0.6891319], [43, 8, 1, 0.35412273], [31, 9, 2, 0.7753957], [40, 10, 1, 1.0], [41, 15, 1, 0.85648334], [47, 18, 1, 0.5956614], [43, 20, 1, 0.40216425], [41, 22, 1, 0.45435014]]\n"
          ]
        }
      ],
      "source": [
        "shifted=left_shifting(matrix_cleaner(H),detect_peaks(matrix_cleaner(H)[0]))\n",
        "print(chord_matching(shifted,'C',48,1))"
      ]
    },
    {
      "cell_type": "code",
      "execution_count": 42,
      "metadata": {
        "id": "OORpc3qu1FXb"
      },
      "outputs": [],
      "source": [
        "H=gen_imgs[0]\n",
        "shifted=left_shifting(matrix_cleaner(H),detect_peaks(matrix_cleaner(H)[0]))\n",
        "final_list=chord_matching(shifted,'C',48,1)"
      ]
    },
    {
      "cell_type": "code",
      "execution_count": 43,
      "metadata": {
        "colab": {
          "base_uri": "https://localhost:8080/"
        },
        "id": "yYOmVKrb5vpM",
        "outputId": "d946c3b1-27b8-41e3-9e5f-69b8b26f60c0"
      },
      "outputs": [
        {
          "output_type": "stream",
          "name": "stdout",
          "text": [
            "[47, 3, 1, 0.3415345]\n",
            "[43, 4, 3, 0.6891319]\n",
            "[43, 8, 1, 0.35412273]\n",
            "[31, 9, 2, 0.7753957]\n",
            "[40, 10, 1, 1.0]\n",
            "[41, 15, 1, 0.85648334]\n",
            "[47, 18, 1, 0.5956614]\n",
            "[43, 20, 1, 0.40216425]\n",
            "[41, 22, 1, 0.45435014]\n"
          ]
        }
      ],
      "source": [
        "for i in final_list:\n",
        "  print(i)"
      ]
    },
    {
      "cell_type": "code",
      "execution_count": 44,
      "metadata": {
        "colab": {
          "base_uri": "https://localhost:8080/"
        },
        "id": "ksTjAaAhKyi1",
        "outputId": "e08f3473-fd6d-456f-bc69-af43ed9c470e"
      },
      "outputs": [
        {
          "output_type": "stream",
          "name": "stdout",
          "text": [
            "0 C  generate done!\n",
            "0 C#  generate done!\n",
            "0 D  generate done!\n",
            "0 D#  generate done!\n",
            "0 E  generate done!\n",
            "0 F  generate done!\n",
            "0 F#  generate done!\n",
            "0 G  generate done!\n",
            "0 G#  generate done!\n",
            "0 A  generate done!\n",
            "0 A#  generate done!\n",
            "0 B  generate done!\n",
            "1 C  generate done!\n",
            "1 C#  generate done!\n",
            "1 D  generate done!\n",
            "1 D#  generate done!\n",
            "1 E  generate done!\n",
            "1 F  generate done!\n",
            "1 F#  generate done!\n",
            "1 G  generate done!\n",
            "1 G#  generate done!\n",
            "1 A  generate done!\n",
            "1 A#  generate done!\n",
            "1 B  generate done!\n",
            "2 C  generate done!\n",
            "2 C#  generate done!\n",
            "2 D  generate done!\n",
            "2 D#  generate done!\n",
            "2 E  generate done!\n",
            "2 F  generate done!\n",
            "2 F#  generate done!\n",
            "2 G  generate done!\n",
            "2 G#  generate done!\n",
            "2 A  generate done!\n",
            "2 A#  generate done!\n",
            "2 B  generate done!\n",
            "3 C  generate done!\n",
            "3 C#  generate done!\n",
            "3 D  generate done!\n",
            "3 D#  generate done!\n",
            "3 E  generate done!\n",
            "3 F  generate done!\n",
            "3 F#  generate done!\n",
            "3 G  generate done!\n",
            "3 G#  generate done!\n",
            "3 A  generate done!\n",
            "3 A#  generate done!\n",
            "3 B  generate done!\n",
            "4 C  generate done!\n",
            "4 C#  generate done!\n",
            "4 D  generate done!\n",
            "4 D#  generate done!\n",
            "4 E  generate done!\n",
            "4 F  generate done!\n",
            "4 F#  generate done!\n",
            "4 G  generate done!\n",
            "4 G#  generate done!\n",
            "4 A  generate done!\n",
            "4 A#  generate done!\n",
            "4 B  generate done!\n",
            "5 C  generate done!\n",
            "5 C#  generate done!\n",
            "5 D  generate done!\n",
            "5 D#  generate done!\n",
            "5 E  generate done!\n",
            "5 F  generate done!\n",
            "5 F#  generate done!\n",
            "5 G  generate done!\n",
            "5 G#  generate done!\n",
            "5 A  generate done!\n",
            "5 A#  generate done!\n",
            "5 B  generate done!\n",
            "6 C  generate done!\n",
            "6 C#  generate done!\n",
            "6 D  generate done!\n",
            "6 D#  generate done!\n",
            "6 E  generate done!\n",
            "6 F  generate done!\n",
            "6 F#  generate done!\n",
            "6 G  generate done!\n",
            "6 G#  generate done!\n",
            "6 A  generate done!\n",
            "6 A#  generate done!\n",
            "6 B  generate done!\n",
            "7 C  generate done!\n",
            "7 C#  generate done!\n",
            "7 D  generate done!\n",
            "7 D#  generate done!\n",
            "7 E  generate done!\n",
            "7 F  generate done!\n",
            "7 F#  generate done!\n",
            "7 G  generate done!\n",
            "7 G#  generate done!\n",
            "7 A  generate done!\n",
            "7 A#  generate done!\n",
            "7 B  generate done!\n",
            "8 C  generate done!\n",
            "8 C#  generate done!\n",
            "8 D  generate done!\n",
            "8 D#  generate done!\n",
            "8 E  generate done!\n",
            "8 F  generate done!\n",
            "8 F#  generate done!\n",
            "8 G  generate done!\n",
            "8 G#  generate done!\n",
            "8 A  generate done!\n",
            "8 A#  generate done!\n",
            "8 B  generate done!\n",
            "9 C  generate done!\n",
            "9 C#  generate done!\n",
            "9 D  generate done!\n",
            "9 D#  generate done!\n",
            "9 E  generate done!\n",
            "9 F  generate done!\n",
            "9 F#  generate done!\n",
            "9 G  generate done!\n",
            "9 G#  generate done!\n",
            "9 A  generate done!\n",
            "9 A#  generate done!\n",
            "9 B  generate done!\n"
          ]
        }
      ],
      "source": [
        "import midiutil\n",
        "from midiutil.MidiFile import MIDIFile\n",
        "os.mkdir(\"midis\")\n",
        "for i in range(10):\n",
        "  for chord in chords:\n",
        "    H=gen_imgs[i]\n",
        "    shifted=left_shifting(matrix_cleaner(H),detect_peaks(matrix_cleaner(H)[0]))\n",
        "    final_list=chord_matching(shifted,chord,48,1)\n",
        "    # create your MIDI object\n",
        "    mf = MIDIFile(1)     # only 1 track\n",
        "    track = 0   # the only track\n",
        "\n",
        "    time = 0    # start at the beginning\n",
        "    mf.addTrackName(track, time, \"Sample Track\")\n",
        "    mf.addTempo(track, time, 120)#2초에 1bar\n",
        "\n",
        "    # add some notes\n",
        "    channel = 0\n",
        "    used_time=[]\n",
        "    for j,notes in enumerate(final_list):\n",
        "      pitch = notes[0]+12           # C4 (middle C) 48이 C4인 내구현에 비해 여기는 60이 C4이다.\n",
        "      time = notes[1]/6             # start on beat 0\n",
        "      duration = notes[2]/6         # 1 beat long\n",
        "      volume= int(notes[3]*100)\n",
        "      if (time not in used_time and duration!=0):\n",
        "        mf.addNote(track, channel, pitch, time, duration, volume)\n",
        "        used_time.append(time)\n",
        "    with open(\"midis/\"+str(i)+' '+chord+\".mid\", 'wb') as outf:\n",
        "      mf.writeFile(outf)\n",
        "      print(str(i)+' '+chord+\"  generate done!\")"
      ]
    },
    {
      "cell_type": "markdown",
      "source": [
        "Bar가 1개 뿐이기도 하고, 아무것도 터치를 안한 그냥 GAN 모델이기 때문에 결과물이 썩 좋지는 않긴합니다. 다만 활용하기 나름이겠죠!"
      ],
      "metadata": {
        "id": "PCMJf5XqqDI3"
      }
    },
    {
      "cell_type": "markdown",
      "metadata": {
        "id": "G9SCj1SrGRgj"
      },
      "source": [
        "##Bonus) Code for MIDI Bar Clustering.\n",
        "\n",
        "이런거도 되네.. 정도로만 보셔도 괜찮습니다. 디테일한 설명도 생략할 것 같습니다."
      ]
    },
    {
      "cell_type": "code",
      "execution_count": 45,
      "metadata": {
        "id": "ez9WMZruqLA0"
      },
      "outputs": [],
      "source": [
        "from sklearn import preprocessing\n",
        "le = preprocessing.LabelEncoder()\n",
        "trainX=[]\n",
        "clusterxinfo=[]\n",
        "trainY=[]#info of Time Signature or chord\n",
        "\n",
        "for i,songs in enumerate(bar_matrix_list3):\n",
        "  for matrix in songs:\n",
        "    matrix=matrix.reshape(24,24)\n",
        "    matrix=sp.ndimage.filters.gaussian_filter(matrix, [0.5,0.5], mode='constant') #bluring for well training.\n",
        "    trainX.append(matrix)\n",
        "    trainY.append(chord_list[i])#Ise one_bar_number_list to use info of time signature\n",
        "trainX=np.array(trainX)\n",
        "trainY=np.array(trainY)\n",
        "clusterX=trainX[:100000]\n",
        "clusterY=trainY[:100000]\n",
        "le.fit(clusterY)\n",
        "clusterY=le.transform(clusterY)\n",
        "clusterX=clusterX.reshape((clusterX.shape[0],-1))\n",
        "n_clusters=len(np.unique(clusterY))"
      ]
    },
    {
      "cell_type": "code",
      "execution_count": 46,
      "metadata": {
        "colab": {
          "base_uri": "https://localhost:8080/",
          "height": 282
        },
        "id": "pUh8o96RMA8O",
        "outputId": "b90443dd-5207-4a07-dd25-7b8ae7e4b277"
      },
      "outputs": [
        {
          "output_type": "execute_result",
          "data": {
            "text/plain": [
              "<matplotlib.image.AxesImage at 0x7f609bd13050>"
            ]
          },
          "metadata": {},
          "execution_count": 46
        },
        {
          "output_type": "display_data",
          "data": {
            "image/png": "[encoded data removed]",
            "text/plain": [
              "<Figure size 432x288 with 1 Axes>"
            ]
          },
          "metadata": {
            "needs_background": "light"
          }
        }
      ],
      "source": [
        "import matplotlib.pyplot as plt\n",
        "plt.imshow(np.array(trainX[30]),cmap='viridis')"
      ]
    },
    {
      "cell_type": "code",
      "execution_count": 47,
      "metadata": {
        "colab": {
          "base_uri": "https://localhost:8080/"
        },
        "id": "sqUWmjlproso",
        "outputId": "dedd7832-041c-4c26-8aee-98b51a503fcd"
      },
      "outputs": [
        {
          "output_type": "stream",
          "name": "stdout",
          "text": [
            "(1505, 576)\n"
          ]
        }
      ],
      "source": [
        "print(clusterX.shape)"
      ]
    },
    {
      "cell_type": "code",
      "execution_count": 48,
      "metadata": {
        "colab": {
          "base_uri": "https://localhost:8080/"
        },
        "id": "-eCyCmgXzbSr",
        "outputId": "081ba047-ad72-45d2-e67d-12f3fa94f71d"
      },
      "outputs": [
        {
          "output_type": "execute_result",
          "data": {
            "text/plain": [
              "0.09767441860465116"
            ]
          },
          "metadata": {},
          "execution_count": 48
        }
      ],
      "source": [
        "from sklearn import metrics\n",
        "\n",
        "kmeans = KMeans(n_clusters=5, n_init=10)\n",
        "# Train K-Means.\n",
        "y_pred_kmeans = kmeans.fit_predict(clusterX)\n",
        "\n",
        "metrics.accuracy_score(clusterY,y_pred_kmeans)"
      ]
    },
    {
      "cell_type": "code",
      "execution_count": 49,
      "metadata": {
        "id": "ndQru9Cv1XIs"
      },
      "outputs": [],
      "source": [
        "dims = [clusterX.shape[-1], 500, 500, 2000, 10]\n",
        "init = VarianceScaling(scale=1. / 3., mode='fan_in',\n",
        "                           distribution='uniform')\n",
        "pretrain_optimizer = SGD(lr=1, momentum=0.9)\n",
        "pretrain_epochs = 300\n",
        "batch_size = 256"
      ]
    },
    {
      "cell_type": "code",
      "execution_count": 50,
      "metadata": {
        "id": "zzWEoxybXOLr"
      },
      "outputs": [],
      "source": [
        "from keras.layers import Dense, Input\n",
        "from keras.models import Model\n",
        "from keras.engine.topology import Layer, InputSpec\n",
        "import keras.backend as K\n",
        "\n",
        "def autoencoder(dims, act='relu', init='glorot_uniform'):\n",
        "\n",
        "    n_stacks = len(dims) - 1\n",
        "    # input\n",
        "    input_img = Input(shape=(dims[0],), name='input')\n",
        "    x = input_img\n",
        "    # internal layers in encoder\n",
        "    for i in range(n_stacks-1):\n",
        "        x = Dense(dims[i + 1], activation=act, kernel_initializer=init, name='encoder_%d' % i)(x)\n",
        "\n",
        "    # hidden layer\n",
        "    encoded = Dense(dims[-1], kernel_initializer=init, name='encoder_%d' % (n_stacks - 1))(x)  # hidden layer, features are extracted from here\n",
        "\n",
        "    x = encoded\n",
        "    # internal layers in decoder\n",
        "    for i in range(n_stacks-1, 0, -1):\n",
        "        x = Dense(dims[i], activation=act, kernel_initializer=init, name='decoder_%d' % i)(x)\n",
        "\n",
        "    # output\n",
        "    x = Dense(dims[0], kernel_initializer=init, name='decoder_0')(x)\n",
        "    decoded = x\n",
        "    return Model(inputs=input_img, outputs=decoded, name='AE'), Model(inputs=input_img, outputs=encoded, name='encoder')\n"
      ]
    },
    {
      "cell_type": "code",
      "execution_count": 51,
      "metadata": {
        "colab": {
          "base_uri": "https://localhost:8080/"
        },
        "id": "cLD6jvcH2thx",
        "outputId": "c5f90994-5341-41bb-948c-452f8d7709f1"
      },
      "outputs": [
        {
          "output_type": "stream",
          "name": "stdout",
          "text": [
            "Epoch 1/100\n",
            "1505/1505 [==============================] - 0s 120us/step - loss: 0.0143\n",
            "Epoch 2/100\n",
            "1505/1505 [==============================] - 0s 18us/step - loss: 0.0139\n",
            "Epoch 3/100\n",
            "1505/1505 [==============================] - 0s 19us/step - loss: 0.0134\n",
            "Epoch 4/100\n",
            "1505/1505 [==============================] - 0s 17us/step - loss: 0.0129\n",
            "Epoch 5/100\n",
            "1505/1505 [==============================] - 0s 18us/step - loss: 0.0126\n",
            "Epoch 6/100\n",
            "1505/1505 [==============================] - 0s 17us/step - loss: 0.0124\n",
            "Epoch 7/100\n",
            "1505/1505 [==============================] - 0s 17us/step - loss: 0.0123\n",
            "Epoch 8/100\n",
            "1505/1505 [==============================] - 0s 18us/step - loss: 0.0122\n",
            "Epoch 9/100\n",
            "1505/1505 [==============================] - 0s 20us/step - loss: 0.0122\n",
            "Epoch 10/100\n",
            "1505/1505 [==============================] - 0s 19us/step - loss: 0.0122\n",
            "Epoch 11/100\n",
            "1505/1505 [==============================] - 0s 18us/step - loss: 0.0122\n",
            "Epoch 12/100\n",
            "1505/1505 [==============================] - 0s 20us/step - loss: 0.0122\n",
            "Epoch 13/100\n",
            "1505/1505 [==============================] - 0s 17us/step - loss: 0.0122\n",
            "Epoch 14/100\n",
            "1505/1505 [==============================] - 0s 19us/step - loss: 0.0122\n",
            "Epoch 15/100\n",
            "1505/1505 [==============================] - 0s 17us/step - loss: 0.0122\n",
            "Epoch 16/100\n",
            "1505/1505 [==============================] - 0s 19us/step - loss: 0.0122\n",
            "Epoch 17/100\n",
            "1505/1505 [==============================] - 0s 20us/step - loss: 0.0122\n",
            "Epoch 18/100\n",
            "1505/1505 [==============================] - 0s 18us/step - loss: 0.0122\n",
            "Epoch 19/100\n",
            "1505/1505 [==============================] - 0s 18us/step - loss: 0.0122\n",
            "Epoch 20/100\n",
            "1505/1505 [==============================] - 0s 18us/step - loss: 0.0122\n",
            "Epoch 21/100\n",
            "1505/1505 [==============================] - 0s 18us/step - loss: 0.0122\n",
            "Epoch 22/100\n",
            "1505/1505 [==============================] - 0s 18us/step - loss: 0.0122\n",
            "Epoch 23/100\n",
            "1505/1505 [==============================] - 0s 18us/step - loss: 0.0122\n",
            "Epoch 24/100\n",
            "1505/1505 [==============================] - 0s 19us/step - loss: 0.0122\n",
            "Epoch 25/100\n",
            "1505/1505 [==============================] - 0s 19us/step - loss: 0.0122\n",
            "Epoch 26/100\n",
            "1505/1505 [==============================] - 0s 18us/step - loss: 0.0122\n",
            "Epoch 27/100\n",
            "1505/1505 [==============================] - 0s 18us/step - loss: 0.0122\n",
            "Epoch 28/100\n",
            "1505/1505 [==============================] - 0s 19us/step - loss: 0.0122\n",
            "Epoch 29/100\n",
            "1505/1505 [==============================] - 0s 18us/step - loss: 0.0122\n",
            "Epoch 30/100\n",
            "1505/1505 [==============================] - 0s 19us/step - loss: 0.0122\n",
            "Epoch 31/100\n",
            "1505/1505 [==============================] - 0s 18us/step - loss: 0.0122\n",
            "Epoch 32/100\n",
            "1505/1505 [==============================] - 0s 18us/step - loss: 0.0122\n",
            "Epoch 33/100\n",
            "1505/1505 [==============================] - 0s 19us/step - loss: 0.0122\n",
            "Epoch 34/100\n",
            "1505/1505 [==============================] - 0s 18us/step - loss: 0.0122\n",
            "Epoch 35/100\n",
            "1505/1505 [==============================] - 0s 20us/step - loss: 0.0122\n",
            "Epoch 36/100\n",
            "1505/1505 [==============================] - 0s 17us/step - loss: 0.0122\n",
            "Epoch 37/100\n",
            "1505/1505 [==============================] - 0s 18us/step - loss: 0.0122\n",
            "Epoch 38/100\n",
            "1505/1505 [==============================] - 0s 19us/step - loss: 0.0122\n",
            "Epoch 39/100\n",
            "1505/1505 [==============================] - 0s 18us/step - loss: 0.0122\n",
            "Epoch 40/100\n",
            "1505/1505 [==============================] - 0s 18us/step - loss: 0.0122\n",
            "Epoch 41/100\n",
            "1505/1505 [==============================] - 0s 19us/step - loss: 0.0122\n",
            "Epoch 42/100\n",
            "1505/1505 [==============================] - 0s 20us/step - loss: 0.0122\n",
            "Epoch 43/100\n",
            "1505/1505 [==============================] - 0s 18us/step - loss: 0.0122\n",
            "Epoch 44/100\n",
            "1505/1505 [==============================] - 0s 19us/step - loss: 0.0122\n",
            "Epoch 45/100\n",
            "1505/1505 [==============================] - 0s 19us/step - loss: 0.0122\n",
            "Epoch 46/100\n",
            "1505/1505 [==============================] - 0s 18us/step - loss: 0.0122\n",
            "Epoch 47/100\n",
            "1505/1505 [==============================] - 0s 18us/step - loss: 0.0122\n",
            "Epoch 48/100\n",
            "1505/1505 [==============================] - 0s 18us/step - loss: 0.0122\n",
            "Epoch 49/100\n",
            "1505/1505 [==============================] - 0s 18us/step - loss: 0.0122\n",
            "Epoch 50/100\n",
            "1505/1505 [==============================] - 0s 18us/step - loss: 0.0122\n",
            "Epoch 51/100\n",
            "1505/1505 [==============================] - 0s 18us/step - loss: 0.0122\n",
            "Epoch 52/100\n",
            "1505/1505 [==============================] - 0s 19us/step - loss: 0.0122\n",
            "Epoch 53/100\n",
            "1505/1505 [==============================] - 0s 18us/step - loss: 0.0122\n",
            "Epoch 54/100\n",
            "1505/1505 [==============================] - 0s 18us/step - loss: 0.0122\n",
            "Epoch 55/100\n",
            "1505/1505 [==============================] - 0s 19us/step - loss: 0.0122\n",
            "Epoch 56/100\n",
            "1505/1505 [==============================] - 0s 19us/step - loss: 0.0122\n",
            "Epoch 57/100\n",
            "1505/1505 [==============================] - 0s 18us/step - loss: 0.0122\n",
            "Epoch 58/100\n",
            "1505/1505 [==============================] - 0s 18us/step - loss: 0.0122\n",
            "Epoch 59/100\n",
            "1505/1505 [==============================] - 0s 18us/step - loss: 0.0121\n",
            "Epoch 60/100\n",
            "1505/1505 [==============================] - 0s 19us/step - loss: 0.0121\n",
            "Epoch 61/100\n",
            "1505/1505 [==============================] - 0s 19us/step - loss: 0.0121\n",
            "Epoch 62/100\n",
            "1505/1505 [==============================] - 0s 19us/step - loss: 0.0121\n",
            "Epoch 63/100\n",
            "1505/1505 [==============================] - 0s 19us/step - loss: 0.0121\n",
            "Epoch 64/100\n",
            "1505/1505 [==============================] - 0s 18us/step - loss: 0.0121\n",
            "Epoch 65/100\n",
            "1505/1505 [==============================] - 0s 19us/step - loss: 0.0121\n",
            "Epoch 66/100\n",
            "1505/1505 [==============================] - 0s 19us/step - loss: 0.0121\n",
            "Epoch 67/100\n",
            "1505/1505 [==============================] - 0s 18us/step - loss: 0.0121\n",
            "Epoch 68/100\n",
            "1505/1505 [==============================] - 0s 18us/step - loss: 0.0121\n",
            "Epoch 69/100\n",
            "1505/1505 [==============================] - 0s 19us/step - loss: 0.0121\n",
            "Epoch 70/100\n",
            "1505/1505 [==============================] - 0s 18us/step - loss: 0.0120\n",
            "Epoch 71/100\n",
            "1505/1505 [==============================] - 0s 18us/step - loss: 0.0120\n",
            "Epoch 72/100\n",
            "1505/1505 [==============================] - 0s 19us/step - loss: 0.0120\n",
            "Epoch 73/100\n",
            "1505/1505 [==============================] - 0s 18us/step - loss: 0.0119\n",
            "Epoch 74/100\n",
            "1505/1505 [==============================] - 0s 17us/step - loss: 0.0119\n",
            "Epoch 75/100\n",
            "1505/1505 [==============================] - 0s 18us/step - loss: 0.0118\n",
            "Epoch 76/100\n",
            "1505/1505 [==============================] - 0s 19us/step - loss: 0.0118\n",
            "Epoch 77/100\n",
            "1505/1505 [==============================] - 0s 19us/step - loss: 0.0117\n",
            "Epoch 78/100\n",
            "1505/1505 [==============================] - 0s 19us/step - loss: 0.0116\n",
            "Epoch 79/100\n",
            "1505/1505 [==============================] - 0s 18us/step - loss: 0.0115\n",
            "Epoch 80/100\n",
            "1505/1505 [==============================] - 0s 18us/step - loss: 0.0115\n",
            "Epoch 81/100\n",
            "1505/1505 [==============================] - 0s 18us/step - loss: 0.0114\n",
            "Epoch 82/100\n",
            "1505/1505 [==============================] - 0s 18us/step - loss: 0.0114\n",
            "Epoch 83/100\n",
            "1505/1505 [==============================] - 0s 18us/step - loss: 0.0113\n",
            "Epoch 84/100\n",
            "1505/1505 [==============================] - 0s 17us/step - loss: 0.0113\n",
            "Epoch 85/100\n",
            "1505/1505 [==============================] - 0s 18us/step - loss: 0.0113\n",
            "Epoch 86/100\n",
            "1505/1505 [==============================] - 0s 19us/step - loss: 0.0113\n",
            "Epoch 87/100\n",
            "1505/1505 [==============================] - 0s 19us/step - loss: 0.0112\n",
            "Epoch 88/100\n",
            "1505/1505 [==============================] - 0s 18us/step - loss: 0.0112\n",
            "Epoch 89/100\n",
            "1505/1505 [==============================] - 0s 18us/step - loss: 0.0112\n",
            "Epoch 90/100\n",
            "1505/1505 [==============================] - 0s 18us/step - loss: 0.0112\n",
            "Epoch 91/100\n",
            "1505/1505 [==============================] - 0s 17us/step - loss: 0.0112\n",
            "Epoch 92/100\n",
            "1505/1505 [==============================] - 0s 18us/step - loss: 0.0112\n",
            "Epoch 93/100\n",
            "1505/1505 [==============================] - 0s 18us/step - loss: 0.0112\n",
            "Epoch 94/100\n",
            "1505/1505 [==============================] - 0s 18us/step - loss: 0.0112\n",
            "Epoch 95/100\n",
            "1505/1505 [==============================] - 0s 17us/step - loss: 0.0112\n",
            "Epoch 96/100\n",
            "1505/1505 [==============================] - 0s 18us/step - loss: 0.0112\n",
            "Epoch 97/100\n",
            "1505/1505 [==============================] - 0s 20us/step - loss: 0.0112\n",
            "Epoch 98/100\n",
            "1505/1505 [==============================] - 0s 19us/step - loss: 0.0112\n",
            "Epoch 99/100\n",
            "1505/1505 [==============================] - 0s 17us/step - loss: 0.0112\n",
            "Epoch 100/100\n",
            "1505/1505 [==============================] - 0s 18us/step - loss: 0.0112\n"
          ]
        }
      ],
      "source": [
        "autoencoder, encoder = autoencoder(dims, init=init)\n",
        "autoencoder.compile(optimizer=pretrain_optimizer, loss='mse')\n",
        "autoencoder.fit(clusterX, clusterX, batch_size=batch_size, epochs=100) #, callbacks=cb)\n",
        "autoencoder.save_weights( 'ae_weights.h5')"
      ]
    },
    {
      "cell_type": "code",
      "execution_count": 52,
      "metadata": {
        "colab": {
          "base_uri": "https://localhost:8080/"
        },
        "id": "poGQIms0P-Yg",
        "outputId": "26d875cf-a456-480d-810b-1b44f82dee27"
      },
      "outputs": [
        {
          "output_type": "stream",
          "name": "stdout",
          "text": [
            "[0 0 0 ... 0 0 0]\n"
          ]
        }
      ],
      "source": [
        "print(clusterY)"
      ]
    },
    {
      "cell_type": "code",
      "execution_count": 53,
      "metadata": {
        "id": "2AikrHAgPpzN"
      },
      "outputs": [],
      "source": [
        "autoencoder.load_weights('ae_weights.h5')"
      ]
    },
    {
      "cell_type": "code",
      "execution_count": 54,
      "metadata": {
        "id": "JGZCAz0ctuAj"
      },
      "outputs": [],
      "source": [
        "class ClusteringLayer(Layer):\n",
        "\n",
        "    def __init__(self, n_clusters, weights=None, alpha=1.0, **kwargs):\n",
        "        if 'input_shape' not in kwargs and 'input_dim' in kwargs:\n",
        "            kwargs['input_shape'] = (kwargs.pop('input_dim'),)\n",
        "        super(ClusteringLayer, self).__init__(**kwargs)\n",
        "        self.n_clusters = n_clusters\n",
        "        self.alpha = alpha\n",
        "        self.initial_weights = weights\n",
        "        self.input_spec = InputSpec(ndim=2)\n",
        "\n",
        "    def build(self, input_shape):\n",
        "        assert len(input_shape) == 2\n",
        "        input_dim = input_shape[1]\n",
        "        self.input_spec = InputSpec(dtype=K.floatx(), shape=(None, input_dim))\n",
        "        self.clusters = self.add_weight(shape=(self.n_clusters, input_dim), initializer='glorot_uniform', name='clusters')\n",
        "        if self.initial_weights is not None:\n",
        "            self.set_weights(self.initial_weights)\n",
        "            del self.initial_weights\n",
        "        self.built = True\n",
        "\n",
        "    def call(self, inputs, **kwargs):\n",
        "\n",
        "        q = 1.0 / (1.0 + (K.sum(K.square(K.expand_dims(inputs, axis=1) - self.clusters), axis=2) / self.alpha))\n",
        "        q **= (self.alpha + 1.0) / 2.0\n",
        "        q = K.transpose(K.transpose(q) / K.sum(q, axis=1)) # Make sure each sample's 10 values add up to 1.\n",
        "        return q\n",
        "\n",
        "    def compute_output_shape(self, input_shape):\n",
        "        assert input_shape and len(input_shape) == 2\n",
        "        return input_shape[0], self.n_clusters\n",
        "\n",
        "    def get_config(self):\n",
        "        config = {'n_clusters': self.n_clusters}\n",
        "        base_config = super(ClusteringLayer, self).get_config()\n",
        "        return dict(list(base_config.items()) + list(config.items()))\n",
        "\n",
        "def autoencoder(dims, act='relu', init='glorot_uniform'):\n",
        "\n",
        "    n_stacks = len(dims) - 1\n",
        "    # input\n",
        "    input_img = Input(shape=(dims[0],), name='input')\n",
        "    x = input_img\n",
        "    # internal layers in encoder\n",
        "    for i in range(n_stacks-1):\n",
        "        x = Dense(dims[i + 1], activation=act, kernel_initializer=init, name='encoder_%d' % i)(x)\n",
        "\n",
        "    # hidden layer\n",
        "    encoded = Dense(dims[-1], kernel_initializer=init, name='encoder_%d' % (n_stacks - 1))(x)  # hidden layer, features are extracted from here\n",
        "\n",
        "    x = encoded\n",
        "    # internal layers in decoder\n",
        "    for i in range(n_stacks-1, 0, -1):\n",
        "        x = Dense(dims[i], activation=act, kernel_initializer=init, name='decoder_%d' % i)(x)\n",
        "\n",
        "    # output\n",
        "    x = Dense(dims[0], kernel_initializer=init, name='decoder_0')(x)\n",
        "    decoded = x\n",
        "    return Model(inputs=input_img, outputs=decoded, name='AE'), Model(inputs=input_img, outputs=encoded, name='encoder')\n",
        "\n"
      ]
    },
    {
      "cell_type": "code",
      "execution_count": 55,
      "metadata": {
        "id": "V2Nx8Ygs-I6_"
      },
      "outputs": [],
      "source": [
        "n_clusters=5\n",
        "clustering_layer = ClusteringLayer(n_clusters, name='clustering')(encoder.output)\n",
        "model = Model(inputs=encoder.input, outputs=clustering_layer)\n",
        "\n",
        "model.compile(optimizer=SGD(0.01, 0.9), loss='kld')\n",
        "\n",
        "kmeans = KMeans(n_clusters=n_clusters, n_init=20)\n",
        "y_pred = kmeans.fit_predict(encoder.predict(clusterX))\n",
        "y_pred_last = np.copy(y_pred)\n",
        "model.get_layer(name='clustering').set_weights([kmeans.cluster_centers_])\n",
        "\n",
        "loss = 0\n",
        "index = 0\n",
        "maxiter = 14000\n",
        "update_interval = 140\n",
        "index_array = np.arange(clusterX.shape[0])\n",
        "tol = 0.001"
      ]
    },
    {
      "cell_type": "code",
      "execution_count": 56,
      "metadata": {
        "colab": {
          "base_uri": "https://localhost:8080/"
        },
        "id": "FJ8oiBIhX7kq",
        "outputId": "65585914-a9fe-4fab-9aae-5c19b79595d6"
      },
      "outputs": [
        {
          "output_type": "stream",
          "name": "stdout",
          "text": [
            "Iter 0: acc = 0.15415, nmi = 0.00751, ari = 0.00336  ; loss= 0\n",
            "Iter 140: acc = 0.15349, nmi = 0.00356, ari = 0.01090  ; loss= 0.00132\n",
            "Iter 280: acc = 0.14618, nmi = 0.00525, ari = 0.01178  ; loss= 0.00949\n",
            "Iter 420: acc = 0.14086, nmi = 0.00262, ari = 0.00962  ; loss= 0.0211\n",
            "Iter 560: acc = 0.14219, nmi = 0.00242, ari = 0.00814  ; loss= 0.03314\n",
            "Iter 700: acc = 0.14086, nmi = 0.00312, ari = 0.00929  ; loss= 0.05724\n",
            "Iter 840: acc = 0.14419, nmi = 0.00291, ari = 0.00865  ; loss= 0.079\n",
            "Iter 980: acc = 0.14485, nmi = 0.00313, ari = 0.00847  ; loss= 0.09131\n",
            "Iter 1120: acc = 0.14352, nmi = 0.00440, ari = 0.00850  ; loss= 0.09243\n",
            "Iter 1260: acc = 0.14485, nmi = 0.00420, ari = 0.00818  ; loss= 0.10523\n",
            "Iter 1400: acc = 0.14551, nmi = 0.00380, ari = 0.00759  ; loss= 0.1167\n",
            "Iter 1540: acc = 0.14551, nmi = 0.00372, ari = 0.00673  ; loss= 0.10977\n",
            "Iter 1680: acc = 0.14551, nmi = 0.00365, ari = 0.00613  ; loss= 0.12116\n",
            "Iter 1820: acc = 0.14618, nmi = 0.00363, ari = 0.00641  ; loss= 0.12648\n",
            "Iter 1960: acc = 0.14684, nmi = 0.00352, ari = 0.00616  ; loss= 0.11771\n",
            "Iter 2100: acc = 0.14684, nmi = 0.00355, ari = 0.00626  ; loss= 0.12382\n",
            "Iter 2240: acc = 0.14684, nmi = 0.00355, ari = 0.00626  ; loss= 0.12371\n",
            "delta_label  0.0 < tol  0.001\n",
            "Reached tolerance threshold. Stopping training.\n"
          ]
        }
      ],
      "source": [
        "def target_distribution(q):\n",
        "  weight = q ** 2 / q.sum(0)\n",
        "  return (weight.T / weight.sum(1)).T\n",
        "for ite in range(14000):\n",
        "    if ite % update_interval == 0:\n",
        "        q = model.predict(clusterX, verbose=0)\n",
        "        p = target_distribution(q)  # update the auxiliary target distribution p\n",
        "\n",
        "        # evaluate the clustering performance\n",
        "        y_pred = q.argmax(1)\n",
        "        if clusterY is not None:\n",
        "            acc = np.round(metrics.accuracy_score(clusterY, y_pred), 5)\n",
        "            nmi = np.round(metrics.normalized_mutual_info_score(clusterY, y_pred), 5)\n",
        "            ari = np.round(metrics.adjusted_rand_score(clusterY, y_pred), 5)\n",
        "            loss = np.round(loss, 5)\n",
        "            print('Iter %d: acc = %.5f, nmi = %.5f, ari = %.5f' % (ite, acc, nmi, ari), ' ; loss=', loss)\n",
        "\n",
        "        # check stop criterion - model convergence\n",
        "        delta_label = np.sum(y_pred != y_pred_last).astype(np.float32) / y_pred.shape[0]\n",
        "        y_pred_last = np.copy(y_pred)\n",
        "        if ite > 0 and delta_label < tol:\n",
        "            print('delta_label ', delta_label, '< tol ', tol)\n",
        "            print('Reached tolerance threshold. Stopping training.')\n",
        "            break\n",
        "    idx = index_array[index * batch_size: min((index+1) * batch_size, clusterX.shape[0])]\n",
        "    loss = model.train_on_batch(x=clusterX[idx], y=p[idx])\n",
        "    index = index + 1 if (index + 1) * batch_size <= clusterX.shape[0] else 0\n",
        "\n",
        "model.save_weights( 'DEC_model_final.h5')\n",
        "model.load_weights( 'DEC_model_final.h5')"
      ]
    },
    {
      "cell_type": "code",
      "execution_count": 57,
      "metadata": {
        "colab": {
          "base_uri": "https://localhost:8080/"
        },
        "id": "VZABO5Fq2gQy",
        "outputId": "13c9f978-b27e-4415-cb62-9d78f64dad09"
      },
      "outputs": [
        {
          "output_type": "stream",
          "name": "stdout",
          "text": [
            "Acc = 0.14684, nmi = 0.00355, ari = 0.00626  ; loss= 0.12371\n"
          ]
        }
      ],
      "source": [
        "q = model.predict(clusterX, verbose=0)\n",
        "p = target_distribution(q)  # update the auxiliary target distribution p\n",
        "\n",
        "# evaluate the clustering performance\n",
        "y_pred = q.argmax(1)\n",
        "if clusterY is not None:\n",
        "    acc = np.round(metrics.accuracy_score(clusterY, y_pred), 5)\n",
        "    nmi = np.round(metrics.normalized_mutual_info_score(clusterY, y_pred), 5)\n",
        "    ari = np.round(metrics.adjusted_rand_score(clusterY, y_pred), 5)\n",
        "    loss = np.round(loss, 5)\n",
        "    print('Acc = %.5f, nmi = %.5f, ari = %.5f' % (acc, nmi, ari), ' ; loss=', loss)"
      ]
    },
    {
      "cell_type": "code",
      "execution_count": 58,
      "metadata": {
        "colab": {
          "base_uri": "https://localhost:8080/",
          "height": 498
        },
        "id": "76EtBzIJsfJM",
        "outputId": "1a96a1e4-732f-455a-d62a-f7373bec25e7"
      },
      "outputs": [
        {
          "output_type": "display_data",
          "data": {
            "image/png": "[encoded data removed]",
            "text/plain": [
              "<Figure size 504x504 with 2 Axes>"
            ]
          },
          "metadata": {}
        }
      ],
      "source": [
        "# chord scale과의 비교를 위한 코드. Label이 5개이므로 큰 의미는 없다. 사실 2개여도 큰 의미 없엇다.\n",
        "\n",
        "sns.set(font_scale=2)\n",
        "confusion_matrix = sklearn.metrics.confusion_matrix(clusterY, y_pred)\n",
        "\n",
        "plt.figure(figsize=(7, 7))\n",
        "sns.heatmap(confusion_matrix, annot=True, fmt=\"d\", annot_kws={\"size\": 10});\n",
        "plt.title(\"Confusion matrix\", fontsize=30)\n",
        "plt.ylabel('True label', fontsize=25)\n",
        "plt.xlabel('Clustering label', fontsize=25)\n",
        "plt.show()\n"
      ]
    },
    {
      "cell_type": "code",
      "execution_count": 59,
      "metadata": {
        "id": "IYFUyGiXyQc0"
      },
      "outputs": [],
      "source": [
        "cluster0=[]\n",
        "cluster1=[]\n",
        "cluster2=[]\n",
        "cluster3=[]\n",
        "cluster4=[]\n",
        "for i,x in enumerate(y_pred):\n",
        "  if x==0:\n",
        "    cluster0.append(trainX[i])\n",
        "  elif x==1:\n",
        "    cluster1.append(trainX[i])\n",
        "  elif x==2:\n",
        "    cluster2.append(trainX[i])\n",
        "  elif x==3:\n",
        "    cluster3.append(trainX[i])\n",
        "  elif x==4:\n",
        "    cluster4.append(trainX[i])"
      ]
    },
    {
      "cell_type": "code",
      "execution_count": 60,
      "metadata": {
        "colab": {
          "base_uri": "https://localhost:8080/",
          "height": 595
        },
        "id": "x8BneFfnxngs",
        "outputId": "0ced287e-aafa-4cee-c02a-2a74b59a7643"
      },
      "outputs": [
        {
          "output_type": "display_data",
          "data": {
            "image/png": "[encoded data removed]",
            "text/plain": [
              "<Figure size 1296x720 with 45 Axes>"
            ]
          },
          "metadata": {}
        }
      ],
      "source": [
        "import numpy as np\n",
        "import matplotlib.pyplot as plt\n",
        "\n",
        "SMALL_SIZE = 8\n",
        "MEDIUM_SIZE = 10\n",
        "BIGGER_SIZE = 12\n",
        "\n",
        "plt.rc('font', size=SMALL_SIZE)          # controls default text sizes\n",
        "plt.rc('axes', titlesize=SMALL_SIZE)     # fontsize of the axes title\n",
        "plt.rc('axes', labelsize=MEDIUM_SIZE)    # fontsize of the x and y labels\n",
        "plt.rc('xtick', labelsize=SMALL_SIZE)    # fontsize of the tick labels\n",
        "plt.rc('ytick', labelsize=SMALL_SIZE)    # fontsize of the tick labels\n",
        "plt.rc('legend', fontsize=SMALL_SIZE)    # legend fontsize\n",
        "plt.rc('figure', titlesize=BIGGER_SIZE)  # fontsize of the figure title\n",
        "fig=plt.figure(figsize=(18, 10))\n",
        "columns = 9\n",
        "rows = 5\n",
        "for i in range(1, columns*rows +1):\n",
        "    if i<10:\n",
        "      img = cluster0[i]\n",
        "    elif i<19:\n",
        "      img = cluster1[i]\n",
        "    elif i<28:\n",
        "      img = cluster2[i]\n",
        "    elif i<37:\n",
        "      img = cluster3[i]\n",
        "    elif i<46:\n",
        "      img = cluster4[i]\n",
        "    fig.add_subplot(rows, columns, i)\n",
        "    plt.imshow(img)\n",
        "plt.show()"
      ]
    }
  ],
  "metadata": {
    "accelerator": "GPU",
    "colab": {
      "collapsed_sections": [
        "JM87cWAKcD36",
        "G9SCj1SrGRgj"
      ],
      "machine_shape": "hm",
      "name": "MIDI_GAN_tutorial.ipynb",
      "provenance": []
    },
    "kernelspec": {
      "display_name": "Python 3",
      "name": "python3"
    },
    "language_info": {
      "codemirror_mode": {
        "name": "ipython",
        "version": 3
      },
      "file_extension": ".py",
      "mimetype": "text/x-python",
      "name": "python",
      "nbconvert_exporter": "python",
      "pygments_lexer": "ipython3",
      "version": "3.7.9"
    },
    "widgets": {
      "application/vnd.jupyter.widget-state+json": {
        "c2d443ee909345e58c0edd2a8152fc68": {
          "model_module": "@jupyter-widgets/controls",
          "model_name": "HBoxModel",
          "model_module_version": "1.5.0",
          "state": {
            "_view_name": "HBoxView",
            "_dom_classes": [],
            "_model_name": "HBoxModel",
            "_view_module": "@jupyter-widgets/controls",
            "_model_module_version": "1.5.0",
            "_view_count": null,
            "_view_module_version": "1.5.0",
            "box_style": "",
            "layout": "IPY_MODEL_bf6f3675d3584bd59b99578a5073a75b",
            "_model_module": "@jupyter-widgets/controls",
            "children": [
              "IPY_MODEL_ff43a6f32b61461c8d0aa103e413b8da",
              "IPY_MODEL_18278e8e4185468d9e5090ce662e141a",
              "IPY_MODEL_7221922a0caf4cbf9e59714704564d0f"
            ]
          }
        },
        "bf6f3675d3584bd59b99578a5073a75b": {
          "model_module": "@jupyter-widgets/base",
          "model_name": "LayoutModel",
          "model_module_version": "1.2.0",
          "state": {
            "_view_name": "LayoutView",
            "grid_template_rows": null,
            "right": null,
            "justify_content": null,
            "_view_module": "@jupyter-widgets/base",
            "overflow": null,
            "_model_module_version": "1.2.0",
            "_view_count": null,
            "flex_flow": null,
            "width": null,
            "min_width": null,
            "border": null,
            "align_items": null,
            "bottom": null,
            "_model_module": "@jupyter-widgets/base",
            "top": null,
            "grid_column": null,
            "overflow_y": null,
            "overflow_x": null,
            "grid_auto_flow": null,
            "grid_area": null,
            "grid_template_columns": null,
            "flex": null,
            "_model_name": "LayoutModel",
            "justify_items": null,
            "grid_row": null,
            "max_height": null,
            "align_content": null,
            "visibility": null,
            "align_self": null,
            "height": null,
            "min_height": null,
            "padding": null,
            "grid_auto_rows": null,
            "grid_gap": null,
            "max_width": null,
            "order": null,
            "_view_module_version": "1.2.0",
            "grid_template_areas": null,
            "object_position": null,
            "object_fit": null,
            "grid_auto_columns": null,
            "margin": null,
            "display": null,
            "left": null
          }
        },
        "ff43a6f32b61461c8d0aa103e413b8da": {
          "model_module": "@jupyter-widgets/controls",
          "model_name": "HTMLModel",
          "model_module_version": "1.5.0",
          "state": {
            "_view_name": "HTMLView",
            "style": "IPY_MODEL_e1bffa2a98ee4983ac98d331446380a9",
            "_dom_classes": [],
            "description": "",
            "_model_name": "HTMLModel",
            "placeholder": "​",
            "_view_module": "@jupyter-widgets/controls",
            "_model_module_version": "1.5.0",
            "value": "",
            "_view_count": null,
            "_view_module_version": "1.5.0",
            "description_tooltip": null,
            "_model_module": "@jupyter-widgets/controls",
            "layout": "IPY_MODEL_cdc510f5d27f42faafea94797f5ecc7a"
          }
        },
        "18278e8e4185468d9e5090ce662e141a": {
          "model_module": "@jupyter-widgets/controls",
          "model_name": "FloatProgressModel",
          "model_module_version": "1.5.0",
          "state": {
            "_view_name": "ProgressView",
            "style": "IPY_MODEL_a9f828263157414691705e68f5bdf5e8",
            "_dom_classes": [],
            "description": "",
            "_model_name": "FloatProgressModel",
            "bar_style": "success",
            "max": 9912422,
            "_view_module": "@jupyter-widgets/controls",
            "_model_module_version": "1.5.0",
            "value": 9912422,
            "_view_count": null,
            "_view_module_version": "1.5.0",
            "orientation": "horizontal",
            "min": 0,
            "description_tooltip": null,
            "_model_module": "@jupyter-widgets/controls",
            "layout": "IPY_MODEL_955abfe5887a4901ab504b9898f5be6c"
          }
        },
        "7221922a0caf4cbf9e59714704564d0f": {
          "model_module": "@jupyter-widgets/controls",
          "model_name": "HTMLModel",
          "model_module_version": "1.5.0",
          "state": {
            "_view_name": "HTMLView",
            "style": "IPY_MODEL_fe0a835d053347daa3bea18634b6b343",
            "_dom_classes": [],
            "description": "",
            "_model_name": "HTMLModel",
            "placeholder": "​",
            "_view_module": "@jupyter-widgets/controls",
            "_model_module_version": "1.5.0",
            "value": " 9913344/? [00:00&lt;00:00, 33457849.90it/s]",
            "_view_count": null,
            "_view_module_version": "1.5.0",
            "description_tooltip": null,
            "_model_module": "@jupyter-widgets/controls",
            "layout": "IPY_MODEL_f09eddb3c62f44eb9e59c41b53979173"
          }
        },
        "e1bffa2a98ee4983ac98d331446380a9": {
          "model_module": "@jupyter-widgets/controls",
          "model_name": "DescriptionStyleModel",
          "model_module_version": "1.5.0",
          "state": {
            "_view_name": "StyleView",
            "_model_name": "DescriptionStyleModel",
            "description_width": "",
            "_view_module": "@jupyter-widgets/base",
            "_model_module_version": "1.5.0",
            "_view_count": null,
            "_view_module_version": "1.2.0",
            "_model_module": "@jupyter-widgets/controls"
          }
        },
        "cdc510f5d27f42faafea94797f5ecc7a": {
          "model_module": "@jupyter-widgets/base",
          "model_name": "LayoutModel",
          "model_module_version": "1.2.0",
          "state": {
            "_view_name": "LayoutView",
            "grid_template_rows": null,
            "right": null,
            "justify_content": null,
            "_view_module": "@jupyter-widgets/base",
            "overflow": null,
            "_model_module_version": "1.2.0",
            "_view_count": null,
            "flex_flow": null,
            "width": null,
            "min_width": null,
            "border": null,
            "align_items": null,
            "bottom": null,
            "_model_module": "@jupyter-widgets/base",
            "top": null,
            "grid_column": null,
            "overflow_y": null,
            "overflow_x": null,
            "grid_auto_flow": null,
            "grid_area": null,
            "grid_template_columns": null,
            "flex": null,
            "_model_name": "LayoutModel",
            "justify_items": null,
            "grid_row": null,
            "max_height": null,
            "align_content": null,
            "visibility": null,
            "align_self": null,
            "height": null,
            "min_height": null,
            "padding": null,
            "grid_auto_rows": null,
            "grid_gap": null,
            "max_width": null,
            "order": null,
            "_view_module_version": "1.2.0",
            "grid_template_areas": null,
            "object_position": null,
            "object_fit": null,
            "grid_auto_columns": null,
            "margin": null,
            "display": null,
            "left": null
          }
        },
        "a9f828263157414691705e68f5bdf5e8": {
          "model_module": "@jupyter-widgets/controls",
          "model_name": "ProgressStyleModel",
          "model_module_version": "1.5.0",
          "state": {
            "_view_name": "StyleView",
            "_model_name": "ProgressStyleModel",
            "description_width": "",
            "_view_module": "@jupyter-widgets/base",
            "_model_module_version": "1.5.0",
            "_view_count": null,
            "_view_module_version": "1.2.0",
            "bar_color": null,
            "_model_module": "@jupyter-widgets/controls"
          }
        },
        "955abfe5887a4901ab504b9898f5be6c": {
          "model_module": "@jupyter-widgets/base",
          "model_name": "LayoutModel",
          "model_module_version": "1.2.0",
          "state": {
            "_view_name": "LayoutView",
            "grid_template_rows": null,
            "right": null,
            "justify_content": null,
            "_view_module": "@jupyter-widgets/base",
            "overflow": null,
            "_model_module_version": "1.2.0",
            "_view_count": null,
            "flex_flow": null,
            "width": null,
            "min_width": null,
            "border": null,
            "align_items": null,
            "bottom": null,
            "_model_module": "@jupyter-widgets/base",
            "top": null,
            "grid_column": null,
            "overflow_y": null,
            "overflow_x": null,
            "grid_auto_flow": null,
            "grid_area": null,
            "grid_template_columns": null,
            "flex": null,
            "_model_name": "LayoutModel",
            "justify_items": null,
            "grid_row": null,
            "max_height": null,
            "align_content": null,
            "visibility": null,
            "align_self": null,
            "height": null,
            "min_height": null,
            "padding": null,
            "grid_auto_rows": null,
            "grid_gap": null,
            "max_width": null,
            "order": null,
            "_view_module_version": "1.2.0",
            "grid_template_areas": null,
            "object_position": null,
            "object_fit": null,
            "grid_auto_columns": null,
            "margin": null,
            "display": null,
            "left": null
          }
        },
        "fe0a835d053347daa3bea18634b6b343": {
          "model_module": "@jupyter-widgets/controls",
          "model_name": "DescriptionStyleModel",
          "model_module_version": "1.5.0",
          "state": {
            "_view_name": "StyleView",
            "_model_name": "DescriptionStyleModel",
            "description_width": "",
            "_view_module": "@jupyter-widgets/base",
            "_model_module_version": "1.5.0",
            "_view_count": null,
            "_view_module_version": "1.2.0",
            "_model_module": "@jupyter-widgets/controls"
          }
        },
        "f09eddb3c62f44eb9e59c41b53979173": {
          "model_module": "@jupyter-widgets/base",
          "model_name": "LayoutModel",
          "model_module_version": "1.2.0",
          "state": {
            "_view_name": "LayoutView",
            "grid_template_rows": null,
            "right": null,
            "justify_content": null,
            "_view_module": "@jupyter-widgets/base",
            "overflow": null,
            "_model_module_version": "1.2.0",
            "_view_count": null,
            "flex_flow": null,
            "width": null,
            "min_width": null,
            "border": null,
            "align_items": null,
            "bottom": null,
            "_model_module": "@jupyter-widgets/base",
            "top": null,
            "grid_column": null,
            "overflow_y": null,
            "overflow_x": null,
            "grid_auto_flow": null,
            "grid_area": null,
            "grid_template_columns": null,
            "flex": null,
            "_model_name": "LayoutModel",
            "justify_items": null,
            "grid_row": null,
            "max_height": null,
            "align_content": null,
            "visibility": null,
            "align_self": null,
            "height": null,
            "min_height": null,
            "padding": null,
            "grid_auto_rows": null,
            "grid_gap": null,
            "max_width": null,
            "order": null,
            "_view_module_version": "1.2.0",
            "grid_template_areas": null,
            "object_position": null,
            "object_fit": null,
            "grid_auto_columns": null,
            "margin": null,
            "display": null,
            "left": null
          }
        },
        "3895fbad916f4419a29e3f895482d9b2": {
          "model_module": "@jupyter-widgets/controls",
          "model_name": "HBoxModel",
          "model_module_version": "1.5.0",
          "state": {
            "_view_name": "HBoxView",
            "_dom_classes": [],
            "_model_name": "HBoxModel",
            "_view_module": "@jupyter-widgets/controls",
            "_model_module_version": "1.5.0",
            "_view_count": null,
            "_view_module_version": "1.5.0",
            "box_style": "",
            "layout": "IPY_MODEL_615de091567c43bd9a9537091df08fc7",
            "_model_module": "@jupyter-widgets/controls",
            "children": [
              "IPY_MODEL_c6588dd94952402196a4fb7b0a8f0afe",
              "IPY_MODEL_faf6c241f1cf4295a46a1b6656b8e75e",
              "IPY_MODEL_1f6fa12f37fd4366b411f8ef049fb33c"
            ]
          }
        },
        "615de091567c43bd9a9537091df08fc7": {
          "model_module": "@jupyter-widgets/base",
          "model_name": "LayoutModel",
          "model_module_version": "1.2.0",
          "state": {
            "_view_name": "LayoutView",
            "grid_template_rows": null,
            "right": null,
            "justify_content": null,
            "_view_module": "@jupyter-widgets/base",
            "overflow": null,
            "_model_module_version": "1.2.0",
            "_view_count": null,
            "flex_flow": null,
            "width": null,
            "min_width": null,
            "border": null,
            "align_items": null,
            "bottom": null,
            "_model_module": "@jupyter-widgets/base",
            "top": null,
            "grid_column": null,
            "overflow_y": null,
            "overflow_x": null,
            "grid_auto_flow": null,
            "grid_area": null,
            "grid_template_columns": null,
            "flex": null,
            "_model_name": "LayoutModel",
            "justify_items": null,
            "grid_row": null,
            "max_height": null,
            "align_content": null,
            "visibility": null,
            "align_self": null,
            "height": null,
            "min_height": null,
            "padding": null,
            "grid_auto_rows": null,
            "grid_gap": null,
            "max_width": null,
            "order": null,
            "_view_module_version": "1.2.0",
            "grid_template_areas": null,
            "object_position": null,
            "object_fit": null,
            "grid_auto_columns": null,
            "margin": null,
            "display": null,
            "left": null
          }
        },
        "c6588dd94952402196a4fb7b0a8f0afe": {
          "model_module": "@jupyter-widgets/controls",
          "model_name": "HTMLModel",
          "model_module_version": "1.5.0",
          "state": {
            "_view_name": "HTMLView",
            "style": "IPY_MODEL_eb4e87c3053342e18d94335ac061ab08",
            "_dom_classes": [],
            "description": "",
            "_model_name": "HTMLModel",
            "placeholder": "​",
            "_view_module": "@jupyter-widgets/controls",
            "_model_module_version": "1.5.0",
            "value": "",
            "_view_count": null,
            "_view_module_version": "1.5.0",
            "description_tooltip": null,
            "_model_module": "@jupyter-widgets/controls",
            "layout": "IPY_MODEL_5164d5c197c34a01aeab1a58da8237cc"
          }
        },
        "faf6c241f1cf4295a46a1b6656b8e75e": {
          "model_module": "@jupyter-widgets/controls",
          "model_name": "FloatProgressModel",
          "model_module_version": "1.5.0",
          "state": {
            "_view_name": "ProgressView",
            "style": "IPY_MODEL_ded87cb94f0641c388d125f5d12d7425",
            "_dom_classes": [],
            "description": "",
            "_model_name": "FloatProgressModel",
            "bar_style": "success",
            "max": 28881,
            "_view_module": "@jupyter-widgets/controls",
            "_model_module_version": "1.5.0",
            "value": 28881,
            "_view_count": null,
            "_view_module_version": "1.5.0",
            "orientation": "horizontal",
            "min": 0,
            "description_tooltip": null,
            "_model_module": "@jupyter-widgets/controls",
            "layout": "IPY_MODEL_04bc96884cf9451894a0e6037601396d"
          }
        },
        "1f6fa12f37fd4366b411f8ef049fb33c": {
          "model_module": "@jupyter-widgets/controls",
          "model_name": "HTMLModel",
          "model_module_version": "1.5.0",
          "state": {
            "_view_name": "HTMLView",
            "style": "IPY_MODEL_474e017ef25e4fa0aef570f379c2d7ac",
            "_dom_classes": [],
            "description": "",
            "_model_name": "HTMLModel",
            "placeholder": "​",
            "_view_module": "@jupyter-widgets/controls",
            "_model_module_version": "1.5.0",
            "value": " 29696/? [00:00&lt;00:00, 1163675.92it/s]",
            "_view_count": null,
            "_view_module_version": "1.5.0",
            "description_tooltip": null,
            "_model_module": "@jupyter-widgets/controls",
            "layout": "IPY_MODEL_1e45719f39e44444a261e4f1cd2ca2ea"
          }
        },
        "eb4e87c3053342e18d94335ac061ab08": {
          "model_module": "@jupyter-widgets/controls",
          "model_name": "DescriptionStyleModel",
          "model_module_version": "1.5.0",
          "state": {
            "_view_name": "StyleView",
            "_model_name": "DescriptionStyleModel",
            "description_width": "",
            "_view_module": "@jupyter-widgets/base",
            "_model_module_version": "1.5.0",
            "_view_count": null,
            "_view_module_version": "1.2.0",
            "_model_module": "@jupyter-widgets/controls"
          }
        },
        "5164d5c197c34a01aeab1a58da8237cc": {
          "model_module": "@jupyter-widgets/base",
          "model_name": "LayoutModel",
          "model_module_version": "1.2.0",
          "state": {
            "_view_name": "LayoutView",
            "grid_template_rows": null,
            "right": null,
            "justify_content": null,
            "_view_module": "@jupyter-widgets/base",
            "overflow": null,
            "_model_module_version": "1.2.0",
            "_view_count": null,
            "flex_flow": null,
            "width": null,
            "min_width": null,
            "border": null,
            "align_items": null,
            "bottom": null,
            "_model_module": "@jupyter-widgets/base",
            "top": null,
            "grid_column": null,
            "overflow_y": null,
            "overflow_x": null,
            "grid_auto_flow": null,
            "grid_area": null,
            "grid_template_columns": null,
            "flex": null,
            "_model_name": "LayoutModel",
            "justify_items": null,
            "grid_row": null,
            "max_height": null,
            "align_content": null,
            "visibility": null,
            "align_self": null,
            "height": null,
            "min_height": null,
            "padding": null,
            "grid_auto_rows": null,
            "grid_gap": null,
            "max_width": null,
            "order": null,
            "_view_module_version": "1.2.0",
            "grid_template_areas": null,
            "object_position": null,
            "object_fit": null,
            "grid_auto_columns": null,
            "margin": null,
            "display": null,
            "left": null
          }
        },
        "ded87cb94f0641c388d125f5d12d7425": {
          "model_module": "@jupyter-widgets/controls",
          "model_name": "ProgressStyleModel",
          "model_module_version": "1.5.0",
          "state": {
            "_view_name": "StyleView",
            "_model_name": "ProgressStyleModel",
            "description_width": "",
            "_view_module": "@jupyter-widgets/base",
            "_model_module_version": "1.5.0",
            "_view_count": null,
            "_view_module_version": "1.2.0",
            "bar_color": null,
            "_model_module": "@jupyter-widgets/controls"
          }
        },
        "04bc96884cf9451894a0e6037601396d": {
          "model_module": "@jupyter-widgets/base",
          "model_name": "LayoutModel",
          "model_module_version": "1.2.0",
          "state": {
            "_view_name": "LayoutView",
            "grid_template_rows": null,
            "right": null,
            "justify_content": null,
            "_view_module": "@jupyter-widgets/base",
            "overflow": null,
            "_model_module_version": "1.2.0",
            "_view_count": null,
            "flex_flow": null,
            "width": null,
            "min_width": null,
            "border": null,
            "align_items": null,
            "bottom": null,
            "_model_module": "@jupyter-widgets/base",
            "top": null,
            "grid_column": null,
            "overflow_y": null,
            "overflow_x": null,
            "grid_auto_flow": null,
            "grid_area": null,
            "grid_template_columns": null,
            "flex": null,
            "_model_name": "LayoutModel",
            "justify_items": null,
            "grid_row": null,
            "max_height": null,
            "align_content": null,
            "visibility": null,
            "align_self": null,
            "height": null,
            "min_height": null,
            "padding": null,
            "grid_auto_rows": null,
            "grid_gap": null,
            "max_width": null,
            "order": null,
            "_view_module_version": "1.2.0",
            "grid_template_areas": null,
            "object_position": null,
            "object_fit": null,
            "grid_auto_columns": null,
            "margin": null,
            "display": null,
            "left": null
          }
        },
        "474e017ef25e4fa0aef570f379c2d7ac": {
          "model_module": "@jupyter-widgets/controls",
          "model_name": "DescriptionStyleModel",
          "model_module_version": "1.5.0",
          "state": {
            "_view_name": "StyleView",
            "_model_name": "DescriptionStyleModel",
            "description_width": "",
            "_view_module": "@jupyter-widgets/base",
            "_model_module_version": "1.5.0",
            "_view_count": null,
            "_view_module_version": "1.2.0",
            "_model_module": "@jupyter-widgets/controls"
          }
        },
        "1e45719f39e44444a261e4f1cd2ca2ea": {
          "model_module": "@jupyter-widgets/base",
          "model_name": "LayoutModel",
          "model_module_version": "1.2.0",
          "state": {
            "_view_name": "LayoutView",
            "grid_template_rows": null,
            "right": null,
            "justify_content": null,
            "_view_module": "@jupyter-widgets/base",
            "overflow": null,
            "_model_module_version": "1.2.0",
            "_view_count": null,
            "flex_flow": null,
            "width": null,
            "min_width": null,
            "border": null,
            "align_items": null,
            "bottom": null,
            "_model_module": "@jupyter-widgets/base",
            "top": null,
            "grid_column": null,
            "overflow_y": null,
            "overflow_x": null,
            "grid_auto_flow": null,
            "grid_area": null,
            "grid_template_columns": null,
            "flex": null,
            "_model_name": "LayoutModel",
            "justify_items": null,
            "grid_row": null,
            "max_height": null,
            "align_content": null,
            "visibility": null,
            "align_self": null,
            "height": null,
            "min_height": null,
            "padding": null,
            "grid_auto_rows": null,
            "grid_gap": null,
            "max_width": null,
            "order": null,
            "_view_module_version": "1.2.0",
            "grid_template_areas": null,
            "object_position": null,
            "object_fit": null,
            "grid_auto_columns": null,
            "margin": null,
            "display": null,
            "left": null
          }
        },
        "4c1843d616a64163aa0b37b10be9060b": {
          "model_module": "@jupyter-widgets/controls",
          "model_name": "HBoxModel",
          "model_module_version": "1.5.0",
          "state": {
            "_view_name": "HBoxView",
            "_dom_classes": [],
            "_model_name": "HBoxModel",
            "_view_module": "@jupyter-widgets/controls",
            "_model_module_version": "1.5.0",
            "_view_count": null,
            "_view_module_version": "1.5.0",
            "box_style": "",
            "layout": "IPY_MODEL_437d1e9edf314af6a8d5cdc43f9f6458",
            "_model_module": "@jupyter-widgets/controls",
            "children": [
              "IPY_MODEL_20b4392af68746eb97f70af5ec000035",
              "IPY_MODEL_26d32ed1783c40f9a42a4a3749b39c16",
              "IPY_MODEL_7a44b619c1644aa3a20457627b4edeaf"
            ]
          }
        },
        "437d1e9edf314af6a8d5cdc43f9f6458": {
          "model_module": "@jupyter-widgets/base",
          "model_name": "LayoutModel",
          "model_module_version": "1.2.0",
          "state": {
            "_view_name": "LayoutView",
            "grid_template_rows": null,
            "right": null,
            "justify_content": null,
            "_view_module": "@jupyter-widgets/base",
            "overflow": null,
            "_model_module_version": "1.2.0",
            "_view_count": null,
            "flex_flow": null,
            "width": null,
            "min_width": null,
            "border": null,
            "align_items": null,
            "bottom": null,
            "_model_module": "@jupyter-widgets/base",
            "top": null,
            "grid_column": null,
            "overflow_y": null,
            "overflow_x": null,
            "grid_auto_flow": null,
            "grid_area": null,
            "grid_template_columns": null,
            "flex": null,
            "_model_name": "LayoutModel",
            "justify_items": null,
            "grid_row": null,
            "max_height": null,
            "align_content": null,
            "visibility": null,
            "align_self": null,
            "height": null,
            "min_height": null,
            "padding": null,
            "grid_auto_rows": null,
            "grid_gap": null,
            "max_width": null,
            "order": null,
            "_view_module_version": "1.2.0",
            "grid_template_areas": null,
            "object_position": null,
            "object_fit": null,
            "grid_auto_columns": null,
            "margin": null,
            "display": null,
            "left": null
          }
        },
        "20b4392af68746eb97f70af5ec000035": {
          "model_module": "@jupyter-widgets/controls",
          "model_name": "HTMLModel",
          "model_module_version": "1.5.0",
          "state": {
            "_view_name": "HTMLView",
            "style": "IPY_MODEL_64b84ef3627a490d992deb2955bd0954",
            "_dom_classes": [],
            "description": "",
            "_model_name": "HTMLModel",
            "placeholder": "​",
            "_view_module": "@jupyter-widgets/controls",
            "_model_module_version": "1.5.0",
            "value": "",
            "_view_count": null,
            "_view_module_version": "1.5.0",
            "description_tooltip": null,
            "_model_module": "@jupyter-widgets/controls",
            "layout": "IPY_MODEL_25b5698c49ea4a93abc93fb83ddc9264"
          }
        },
        "26d32ed1783c40f9a42a4a3749b39c16": {
          "model_module": "@jupyter-widgets/controls",
          "model_name": "FloatProgressModel",
          "model_module_version": "1.5.0",
          "state": {
            "_view_name": "ProgressView",
            "style": "IPY_MODEL_9099664af3f041b1be660cbb6abb4cca",
            "_dom_classes": [],
            "description": "",
            "_model_name": "FloatProgressModel",
            "bar_style": "success",
            "max": 1648877,
            "_view_module": "@jupyter-widgets/controls",
            "_model_module_version": "1.5.0",
            "value": 1648877,
            "_view_count": null,
            "_view_module_version": "1.5.0",
            "orientation": "horizontal",
            "min": 0,
            "description_tooltip": null,
            "_model_module": "@jupyter-widgets/controls",
            "layout": "IPY_MODEL_7b1bd3801d964632a95b727759c8c8e4"
          }
        },
        "7a44b619c1644aa3a20457627b4edeaf": {
          "model_module": "@jupyter-widgets/controls",
          "model_name": "HTMLModel",
          "model_module_version": "1.5.0",
          "state": {
            "_view_name": "HTMLView",
            "style": "IPY_MODEL_e7fa8da1c2ff42acbbb6529ad9bb1ebc",
            "_dom_classes": [],
            "description": "",
            "_model_name": "HTMLModel",
            "placeholder": "​",
            "_view_module": "@jupyter-widgets/controls",
            "_model_module_version": "1.5.0",
            "value": " 1649664/? [00:00&lt;00:00, 7349477.42it/s]",
            "_view_count": null,
            "_view_module_version": "1.5.0",
            "description_tooltip": null,
            "_model_module": "@jupyter-widgets/controls",
            "layout": "IPY_MODEL_cb90e8217b2c47aeac67833a4038de81"
          }
        },
        "64b84ef3627a490d992deb2955bd0954": {
          "model_module": "@jupyter-widgets/controls",
          "model_name": "DescriptionStyleModel",
          "model_module_version": "1.5.0",
          "state": {
            "_view_name": "StyleView",
            "_model_name": "DescriptionStyleModel",
            "description_width": "",
            "_view_module": "@jupyter-widgets/base",
            "_model_module_version": "1.5.0",
            "_view_count": null,
            "_view_module_version": "1.2.0",
            "_model_module": "@jupyter-widgets/controls"
          }
        },
        "25b5698c49ea4a93abc93fb83ddc9264": {
          "model_module": "@jupyter-widgets/base",
          "model_name": "LayoutModel",
          "model_module_version": "1.2.0",
          "state": {
            "_view_name": "LayoutView",
            "grid_template_rows": null,
            "right": null,
            "justify_content": null,
            "_view_module": "@jupyter-widgets/base",
            "overflow": null,
            "_model_module_version": "1.2.0",
            "_view_count": null,
            "flex_flow": null,
            "width": null,
            "min_width": null,
            "border": null,
            "align_items": null,
            "bottom": null,
            "_model_module": "@jupyter-widgets/base",
            "top": null,
            "grid_column": null,
            "overflow_y": null,
            "overflow_x": null,
            "grid_auto_flow": null,
            "grid_area": null,
            "grid_template_columns": null,
            "flex": null,
            "_model_name": "LayoutModel",
            "justify_items": null,
            "grid_row": null,
            "max_height": null,
            "align_content": null,
            "visibility": null,
            "align_self": null,
            "height": null,
            "min_height": null,
            "padding": null,
            "grid_auto_rows": null,
            "grid_gap": null,
            "max_width": null,
            "order": null,
            "_view_module_version": "1.2.0",
            "grid_template_areas": null,
            "object_position": null,
            "object_fit": null,
            "grid_auto_columns": null,
            "margin": null,
            "display": null,
            "left": null
          }
        },
        "9099664af3f041b1be660cbb6abb4cca": {
          "model_module": "@jupyter-widgets/controls",
          "model_name": "ProgressStyleModel",
          "model_module_version": "1.5.0",
          "state": {
            "_view_name": "StyleView",
            "_model_name": "ProgressStyleModel",
            "description_width": "",
            "_view_module": "@jupyter-widgets/base",
            "_model_module_version": "1.5.0",
            "_view_count": null,
            "_view_module_version": "1.2.0",
            "bar_color": null,
            "_model_module": "@jupyter-widgets/controls"
          }
        },
        "7b1bd3801d964632a95b727759c8c8e4": {
          "model_module": "@jupyter-widgets/base",
          "model_name": "LayoutModel",
          "model_module_version": "1.2.0",
          "state": {
            "_view_name": "LayoutView",
            "grid_template_rows": null,
            "right": null,
            "justify_content": null,
            "_view_module": "@jupyter-widgets/base",
            "overflow": null,
            "_model_module_version": "1.2.0",
            "_view_count": null,
            "flex_flow": null,
            "width": null,
            "min_width": null,
            "border": null,
            "align_items": null,
            "bottom": null,
            "_model_module": "@jupyter-widgets/base",
            "top": null,
            "grid_column": null,
            "overflow_y": null,
            "overflow_x": null,
            "grid_auto_flow": null,
            "grid_area": null,
            "grid_template_columns": null,
            "flex": null,
            "_model_name": "LayoutModel",
            "justify_items": null,
            "grid_row": null,
            "max_height": null,
            "align_content": null,
            "visibility": null,
            "align_self": null,
            "height": null,
            "min_height": null,
            "padding": null,
            "grid_auto_rows": null,
            "grid_gap": null,
            "max_width": null,
            "order": null,
            "_view_module_version": "1.2.0",
            "grid_template_areas": null,
            "object_position": null,
            "object_fit": null,
            "grid_auto_columns": null,
            "margin": null,
            "display": null,
            "left": null
          }
        },
        "e7fa8da1c2ff42acbbb6529ad9bb1ebc": {
          "model_module": "@jupyter-widgets/controls",
          "model_name": "DescriptionStyleModel",
          "model_module_version": "1.5.0",
          "state": {
            "_view_name": "StyleView",
            "_model_name": "DescriptionStyleModel",
            "description_width": "",
            "_view_module": "@jupyter-widgets/base",
            "_model_module_version": "1.5.0",
            "_view_count": null,
            "_view_module_version": "1.2.0",
            "_model_module": "@jupyter-widgets/controls"
          }
        },
        "cb90e8217b2c47aeac67833a4038de81": {
          "model_module": "@jupyter-widgets/base",
          "model_name": "LayoutModel",
          "model_module_version": "1.2.0",
          "state": {
            "_view_name": "LayoutView",
            "grid_template_rows": null,
            "right": null,
            "justify_content": null,
            "_view_module": "@jupyter-widgets/base",
            "overflow": null,
            "_model_module_version": "1.2.0",
            "_view_count": null,
            "flex_flow": null,
            "width": null,
            "min_width": null,
            "border": null,
            "align_items": null,
            "bottom": null,
            "_model_module": "@jupyter-widgets/base",
            "top": null,
            "grid_column": null,
            "overflow_y": null,
            "overflow_x": null,
            "grid_auto_flow": null,
            "grid_area": null,
            "grid_template_columns": null,
            "flex": null,
            "_model_name": "LayoutModel",
            "justify_items": null,
            "grid_row": null,
            "max_height": null,
            "align_content": null,
            "visibility": null,
            "align_self": null,
            "height": null,
            "min_height": null,
            "padding": null,
            "grid_auto_rows": null,
            "grid_gap": null,
            "max_width": null,
            "order": null,
            "_view_module_version": "1.2.0",
            "grid_template_areas": null,
            "object_position": null,
            "object_fit": null,
            "grid_auto_columns": null,
            "margin": null,
            "display": null,
            "left": null
          }
        },
        "fc439f2c65d74403a168b29ea4ce03ed": {
          "model_module": "@jupyter-widgets/controls",
          "model_name": "HBoxModel",
          "model_module_version": "1.5.0",
          "state": {
            "_view_name": "HBoxView",
            "_dom_classes": [],
            "_model_name": "HBoxModel",
            "_view_module": "@jupyter-widgets/controls",
            "_model_module_version": "1.5.0",
            "_view_count": null,
            "_view_module_version": "1.5.0",
            "box_style": "",
            "layout": "IPY_MODEL_a7e9a6cf509e4d4887cc68f6d2487ff3",
            "_model_module": "@jupyter-widgets/controls",
            "children": [
              "IPY_MODEL_3b7b0be6654c452a85ddddca76fa0927",
              "IPY_MODEL_f03f8f77ac6f4aab9e4359f6f1de5bee",
              "IPY_MODEL_af0c196df29e408683812f2f7cccb28e"
            ]
          }
        },
        "a7e9a6cf509e4d4887cc68f6d2487ff3": {
          "model_module": "@jupyter-widgets/base",
          "model_name": "LayoutModel",
          "model_module_version": "1.2.0",
          "state": {
            "_view_name": "LayoutView",
            "grid_template_rows": null,
            "right": null,
            "justify_content": null,
            "_view_module": "@jupyter-widgets/base",
            "overflow": null,
            "_model_module_version": "1.2.0",
            "_view_count": null,
            "flex_flow": null,
            "width": null,
            "min_width": null,
            "border": null,
            "align_items": null,
            "bottom": null,
            "_model_module": "@jupyter-widgets/base",
            "top": null,
            "grid_column": null,
            "overflow_y": null,
            "overflow_x": null,
            "grid_auto_flow": null,
            "grid_area": null,
            "grid_template_columns": null,
            "flex": null,
            "_model_name": "LayoutModel",
            "justify_items": null,
            "grid_row": null,
            "max_height": null,
            "align_content": null,
            "visibility": null,
            "align_self": null,
            "height": null,
            "min_height": null,
            "padding": null,
            "grid_auto_rows": null,
            "grid_gap": null,
            "max_width": null,
            "order": null,
            "_view_module_version": "1.2.0",
            "grid_template_areas": null,
            "object_position": null,
            "object_fit": null,
            "grid_auto_columns": null,
            "margin": null,
            "display": null,
            "left": null
          }
        },
        "3b7b0be6654c452a85ddddca76fa0927": {
          "model_module": "@jupyter-widgets/controls",
          "model_name": "HTMLModel",
          "model_module_version": "1.5.0",
          "state": {
            "_view_name": "HTMLView",
            "style": "IPY_MODEL_8bf87adf2d944ca1bdc187363f4c14fa",
            "_dom_classes": [],
            "description": "",
            "_model_name": "HTMLModel",
            "placeholder": "​",
            "_view_module": "@jupyter-widgets/controls",
            "_model_module_version": "1.5.0",
            "value": "",
            "_view_count": null,
            "_view_module_version": "1.5.0",
            "description_tooltip": null,
            "_model_module": "@jupyter-widgets/controls",
            "layout": "IPY_MODEL_6779061ceac04a838e5d8eb24cc1c612"
          }
        },
        "f03f8f77ac6f4aab9e4359f6f1de5bee": {
          "model_module": "@jupyter-widgets/controls",
          "model_name": "FloatProgressModel",
          "model_module_version": "1.5.0",
          "state": {
            "_view_name": "ProgressView",
            "style": "IPY_MODEL_0cf4449c1469423b9227be0f3f875211",
            "_dom_classes": [],
            "description": "",
            "_model_name": "FloatProgressModel",
            "bar_style": "success",
            "max": 4542,
            "_view_module": "@jupyter-widgets/controls",
            "_model_module_version": "1.5.0",
            "value": 4542,
            "_view_count": null,
            "_view_module_version": "1.5.0",
            "orientation": "horizontal",
            "min": 0,
            "description_tooltip": null,
            "_model_module": "@jupyter-widgets/controls",
            "layout": "IPY_MODEL_c389e54086ac4ff3b1cdce3a0de30f92"
          }
        },
        "af0c196df29e408683812f2f7cccb28e": {
          "model_module": "@jupyter-widgets/controls",
          "model_name": "HTMLModel",
          "model_module_version": "1.5.0",
          "state": {
            "_view_name": "HTMLView",
            "style": "IPY_MODEL_a2e5714958fb42f2b0bd4205908fd5af",
            "_dom_classes": [],
            "description": "",
            "_model_name": "HTMLModel",
            "placeholder": "​",
            "_view_module": "@jupyter-widgets/controls",
            "_model_module_version": "1.5.0",
            "value": " 5120/? [00:00&lt;00:00, 224205.35it/s]",
            "_view_count": null,
            "_view_module_version": "1.5.0",
            "description_tooltip": null,
            "_model_module": "@jupyter-widgets/controls",
            "layout": "IPY_MODEL_3990bd1ce37849978e6679a6c83b2e5e"
          }
        },
        "8bf87adf2d944ca1bdc187363f4c14fa": {
          "model_module": "@jupyter-widgets/controls",
          "model_name": "DescriptionStyleModel",
          "model_module_version": "1.5.0",
          "state": {
            "_view_name": "StyleView",
            "_model_name": "DescriptionStyleModel",
            "description_width": "",
            "_view_module": "@jupyter-widgets/base",
            "_model_module_version": "1.5.0",
            "_view_count": null,
            "_view_module_version": "1.2.0",
            "_model_module": "@jupyter-widgets/controls"
          }
        },
        "6779061ceac04a838e5d8eb24cc1c612": {
          "model_module": "@jupyter-widgets/base",
          "model_name": "LayoutModel",
          "model_module_version": "1.2.0",
          "state": {
            "_view_name": "LayoutView",
            "grid_template_rows": null,
            "right": null,
            "justify_content": null,
            "_view_module": "@jupyter-widgets/base",
            "overflow": null,
            "_model_module_version": "1.2.0",
            "_view_count": null,
            "flex_flow": null,
            "width": null,
            "min_width": null,
            "border": null,
            "align_items": null,
            "bottom": null,
            "_model_module": "@jupyter-widgets/base",
            "top": null,
            "grid_column": null,
            "overflow_y": null,
            "overflow_x": null,
            "grid_auto_flow": null,
            "grid_area": null,
            "grid_template_columns": null,
            "flex": null,
            "_model_name": "LayoutModel",
            "justify_items": null,
            "grid_row": null,
            "max_height": null,
            "align_content": null,
            "visibility": null,
            "align_self": null,
            "height": null,
            "min_height": null,
            "padding": null,
            "grid_auto_rows": null,
            "grid_gap": null,
            "max_width": null,
            "order": null,
            "_view_module_version": "1.2.0",
            "grid_template_areas": null,
            "object_position": null,
            "object_fit": null,
            "grid_auto_columns": null,
            "margin": null,
            "display": null,
            "left": null
          }
        },
        "0cf4449c1469423b9227be0f3f875211": {
          "model_module": "@jupyter-widgets/controls",
          "model_name": "ProgressStyleModel",
          "model_module_version": "1.5.0",
          "state": {
            "_view_name": "StyleView",
            "_model_name": "ProgressStyleModel",
            "description_width": "",
            "_view_module": "@jupyter-widgets/base",
            "_model_module_version": "1.5.0",
            "_view_count": null,
            "_view_module_version": "1.2.0",
            "bar_color": null,
            "_model_module": "@jupyter-widgets/controls"
          }
        },
        "c389e54086ac4ff3b1cdce3a0de30f92": {
          "model_module": "@jupyter-widgets/base",
          "model_name": "LayoutModel",
          "model_module_version": "1.2.0",
          "state": {
            "_view_name": "LayoutView",
            "grid_template_rows": null,
            "right": null,
            "justify_content": null,
            "_view_module": "@jupyter-widgets/base",
            "overflow": null,
            "_model_module_version": "1.2.0",
            "_view_count": null,
            "flex_flow": null,
            "width": null,
            "min_width": null,
            "border": null,
            "align_items": null,
            "bottom": null,
            "_model_module": "@jupyter-widgets/base",
            "top": null,
            "grid_column": null,
            "overflow_y": null,
            "overflow_x": null,
            "grid_auto_flow": null,
            "grid_area": null,
            "grid_template_columns": null,
            "flex": null,
            "_model_name": "LayoutModel",
            "justify_items": null,
            "grid_row": null,
            "max_height": null,
            "align_content": null,
            "visibility": null,
            "align_self": null,
            "height": null,
            "min_height": null,
            "padding": null,
            "grid_auto_rows": null,
            "grid_gap": null,
            "max_width": null,
            "order": null,
            "_view_module_version": "1.2.0",
            "grid_template_areas": null,
            "object_position": null,
            "object_fit": null,
            "grid_auto_columns": null,
            "margin": null,
            "display": null,
            "left": null
          }
        },
        "a2e5714958fb42f2b0bd4205908fd5af": {
          "model_module": "@jupyter-widgets/controls",
          "model_name": "DescriptionStyleModel",
          "model_module_version": "1.5.0",
          "state": {
            "_view_name": "StyleView",
            "_model_name": "DescriptionStyleModel",
            "description_width": "",
            "_view_module": "@jupyter-widgets/base",
            "_model_module_version": "1.5.0",
            "_view_count": null,
            "_view_module_version": "1.2.0",
            "_model_module": "@jupyter-widgets/controls"
          }
        },
        "3990bd1ce37849978e6679a6c83b2e5e": {
          "model_module": "@jupyter-widgets/base",
          "model_name": "LayoutModel",
          "model_module_version": "1.2.0",
          "state": {
            "_view_name": "LayoutView",
            "grid_template_rows": null,
            "right": null,
            "justify_content": null,
            "_view_module": "@jupyter-widgets/base",
            "overflow": null,
            "_model_module_version": "1.2.0",
            "_view_count": null,
            "flex_flow": null,
            "width": null,
            "min_width": null,
            "border": null,
            "align_items": null,
            "bottom": null,
            "_model_module": "@jupyter-widgets/base",
            "top": null,
            "grid_column": null,
            "overflow_y": null,
            "overflow_x": null,
            "grid_auto_flow": null,
            "grid_area": null,
            "grid_template_columns": null,
            "flex": null,
            "_model_name": "LayoutModel",
            "justify_items": null,
            "grid_row": null,
            "max_height": null,
            "align_content": null,
            "visibility": null,
            "align_self": null,
            "height": null,
            "min_height": null,
            "padding": null,
            "grid_auto_rows": null,
            "grid_gap": null,
            "max_width": null,
            "order": null,
            "_view_module_version": "1.2.0",
            "grid_template_areas": null,
            "object_position": null,
            "object_fit": null,
            "grid_auto_columns": null,
            "margin": null,
            "display": null,
            "left": null
          }
        }
      }
    }
  },
  "nbformat": 4,
  "nbformat_minor": 0
}