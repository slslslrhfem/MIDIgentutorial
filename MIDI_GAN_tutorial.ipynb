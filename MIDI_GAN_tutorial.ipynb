{
  "nbformat": 4,
  "nbformat_minor": 0,
  "metadata": {
    "colab": {
      "name": "MIDI GAN tutorial.ipynb",
      "provenance": [],
      "collapsed_sections": [],
      "machine_shape": "hm"
    },
    "kernelspec": {
      "name": "python3",
      "display_name": "Python 3"
    },
    "accelerator": "GPU"
  },
  "cells": [
    {
      "cell_type": "code",
      "metadata": {
        "id": "MxEabHuzyjFE",
        "colab": {
          "base_uri": "https://localhost:8080/"
        },
        "outputId": "96e6c23c-e1cd-4972-e258-5819b9857caa"
      },
      "source": [
        "!pip install mido\n",
        "!pip install h5py==2.10.0 --force-reinstall\n",
        "!pip install pretty_midi\n",
        "!pip install tensorflow==1.15.0\n",
        "!pip install keras==2.3.1\n",
        "!pip install midiutil"
      ],
      "execution_count": 3,
      "outputs": [
        {
          "output_type": "stream",
          "name": "stdout",
          "text": [
            "Collecting mido\n",
            "  Downloading mido-1.2.10-py2.py3-none-any.whl (51 kB)\n",
            "\u001b[?25l\r\u001b[K     |██████▍                         | 10 kB 33.3 MB/s eta 0:00:01\r\u001b[K     |████████████▉                   | 20 kB 20.3 MB/s eta 0:00:01\r\u001b[K     |███████████████████▎            | 30 kB 15.9 MB/s eta 0:00:01\r\u001b[K     |█████████████████████████▋      | 40 kB 14.9 MB/s eta 0:00:01\r\u001b[K     |████████████████████████████████| 51 kB 4.2 MB/s \n",
            "\u001b[?25hInstalling collected packages: mido\n",
            "Successfully installed mido-1.2.10\n"
          ]
        }
      ]
    },
    {
      "cell_type": "code",
      "metadata": {
        "id": "upkZgrqruxem",
        "colab": {
          "base_uri": "https://localhost:8080/"
        },
        "outputId": "516e5c20-b3ea-4fec-f188-8f3c2d1b120f"
      },
      "source": [
        "from matplotlib import pyplot as plt\n",
        "import os\n",
        "import pandas\n",
        "from midiutil.MidiFile import MIDIFile\n",
        "import copy\n",
        "import pretty_midi\n",
        "import seaborn as sns\n",
        "import sklearn.metrics\n",
        "import matplotlib.pyplot as plt\n",
        "import numpy as np\n",
        "from keras.models import Model\n",
        "from keras.optimizers import SGD\n",
        "from keras.initializers import VarianceScaling\n",
        "import mido\n",
        "from tqdm import tqdm\n",
        "import scipy as sp\n",
        "from sklearn.cluster import KMeans\n",
        "import keras\n",
        "import os\n",
        "import json\n",
        "import pandas\n",
        "import tensorflow as tf\n",
        "import numpy as np\n",
        "from keras.layers import Dense\n",
        "from keras import layers\n",
        "from keras import optimizers\n",
        "from keras.models import Sequential\n",
        "import pickle\n",
        "import pretty_midi\n",
        "import mido\n",
        "from tqdm import tqdm\n",
        "import pickle\n",
        "import copy"
      ],
      "execution_count": 9,
      "outputs": [
        {
          "output_type": "stream",
          "name": "stderr",
          "text": [
            "Using TensorFlow backend.\n"
          ]
        }
      ]
    },
    {
      "cell_type": "code",
      "metadata": {
        "id": "KOjmQZTO0TtC"
      },
      "source": [
        "def get_meta(filename):\n",
        "  with open('/content/drive/My Drive/MARG/PPDD-Sep2018_sym_mono_small/PPDD-Sep2018_sym_mono_small/descriptor/'+filename) as json_file:\n",
        "    meta_data = json.load(json_file)\n",
        "  return meta_data"
      ],
      "execution_count": 10,
      "outputs": []
    },
    {
      "cell_type": "code",
      "metadata": {
        "id": "JdprhNM2Y2qy"
      },
      "source": [
        "\n",
        "csvfilenames=os.listdir('/content/drive/My Drive/MARG/PPDD-Sep2018_sym_mono_small/PPDD-Sep2018_sym_mono_small/prime_csv')\n",
        "jsonfilenames=os.listdir('/content/drive/My Drive/MARG/PPDD-Sep2018_sym_mono_small/PPDD-Sep2018_sym_mono_small/descriptor')\n",
        "midifilenames=os.listdir('/content/drive/My Drive/MARG/PPDD-Sep2018_sym_mono_small/PPDD-Sep2018_sym_mono_small/prime_midi')\n",
        "\n",
        "midifilenames=sorted(midifilenames)\n",
        "csvfilenames=sorted(csvfilenames)\n",
        "jsonfilenames=sorted(jsonfilenames)\n",
        "\n"
      ],
      "execution_count": 11,
      "outputs": []
    },
    {
      "cell_type": "code",
      "metadata": {
        "id": "0lpgz0bAYHsj",
        "colab": {
          "base_uri": "https://localhost:8080/",
          "height": 54
        },
        "outputId": "0c85841c-4478-43ce-c32b-8091b728dba3"
      },
      "source": [
        "\n",
        "\n",
        "\"\"\"\n",
        "with open('/content/drive/My Drive/MARG/PPDDlist/csvnamelist.txt', 'wb') as f:\n",
        "  pickle.dump(csvfilenames, f)\n",
        "with open('/content/drive/My Drive/MARG/PPDDlist/jsonnamelist.txt', 'wb') as f:\n",
        "  pickle.dump(jsonfilenames, f)\n",
        "with open('/content/drive/My Drive/MARG/PPDDlist/midinamelist.txt', 'wb') as f:\n",
        "  pickle.dump(midifilenames, f)\n",
        "\"\"\""
      ],
      "execution_count": 12,
      "outputs": [
        {
          "output_type": "execute_result",
          "data": {
            "application/vnd.google.colaboratory.intrinsic+json": {
              "type": "string"
            },
            "text/plain": [
              "\"\\nwith open('/content/drive/My Drive/MARG/PPDDlist/csvnamelist.txt', 'wb') as f:\\n  pickle.dump(csvfilenames, f)\\nwith open('/content/drive/My Drive/MARG/PPDDlist/jsonnamelist.txt', 'wb') as f:\\n  pickle.dump(jsonfilenames, f)\\nwith open('/content/drive/My Drive/MARG/PPDDlist/midinamelist.txt', 'wb') as f:\\n  pickle.dump(midifilenames, f)\\n\""
            ]
          },
          "metadata": {},
          "execution_count": 12
        }
      ]
    },
    {
      "cell_type": "code",
      "metadata": {
        "id": "QoAxt13seNi-",
        "colab": {
          "base_uri": "https://localhost:8080/",
          "height": 72
        },
        "outputId": "3097b3c1-5946-4c4b-8d97-d18d185b09e0"
      },
      "source": [
        "\"\"\"\n",
        "with open('/content/drive/My Drive/MARG/PPDDlist/midilist.txt', 'rb') as f:\n",
        "  midilist=pickle.load(f)\n",
        "with open('/content/drive/My Drive/MARG/PPDDlist/csvlist.txt', 'rb') as f2:\n",
        "  csvlist=pickle.load(f2)\n",
        "with open('/content/drive/My Drive/MARG/PPDDlist/jsonlist.txt', 'rb') as f3:\n",
        "  jsonlist=pickle.load(f3)\n",
        "with open('/content/drive/My Drive/MARG/PPDDlist/prettymidilist.txt', 'rb') as f4:\n",
        "  prettymidilist=pickle.load(f4)\n",
        "\"\"\""
      ],
      "execution_count": 13,
      "outputs": [
        {
          "output_type": "execute_result",
          "data": {
            "application/vnd.google.colaboratory.intrinsic+json": {
              "type": "string"
            },
            "text/plain": [
              "\"\\nwith open('/content/drive/My Drive/MARG/PPDDlist/midilist.txt', 'rb') as f:\\n  midilist=pickle.load(f)\\nwith open('/content/drive/My Drive/MARG/PPDDlist/csvlist.txt', 'rb') as f2:\\n  csvlist=pickle.load(f2)\\nwith open('/content/drive/My Drive/MARG/PPDDlist/jsonlist.txt', 'rb') as f3:\\n  jsonlist=pickle.load(f3)\\nwith open('/content/drive/My Drive/MARG/PPDDlist/prettymidilist.txt', 'rb') as f4:\\n  prettymidilist=pickle.load(f4)\\n\""
            ]
          },
          "metadata": {},
          "execution_count": 13
        }
      ]
    },
    {
      "cell_type": "code",
      "metadata": {
        "id": "Yc57uuAq2gx9",
        "colab": {
          "base_uri": "https://localhost:8080/"
        },
        "outputId": "84dfe81d-4585-4bac-bcab-3c030921e326"
      },
      "source": [
        "import pretty_midi\n",
        "import mido\n",
        "from tqdm import tqdm\n",
        "midilist=[]\n",
        "csvlist=[]\n",
        "jsonlist=[]\n",
        "prettymidilist=[]\n",
        "for filenames in tqdm(midifilenames,position=0):\n",
        "  midi_path='/content/drive/My Drive/MARG/PPDD-Sep2018_sym_mono_small/PPDD-Sep2018_sym_mono_small/prime_midi/'+filenames\n",
        "  mid = mido.MidiFile(midi_path, clip=True)\n",
        "  midilist.append(mid)\n",
        "  prettymid=pretty_midi.PrettyMIDI(midi_path)\n",
        "  prettymidilist.append(prettymid)\n",
        "\n",
        "for filenames in tqdm(csvfilenames,position=0):\n",
        "  csv_path='/content/drive/My Drive/MARG/PPDD-Sep2018_sym_mono_small/PPDD-Sep2018_sym_mono_small/prime_csv/'+filenames\n",
        "  csv = pandas.read_csv(csv_path)\n",
        "  csvlist.append(csv)\n",
        "for filenames in tqdm(jsonfilenames,position=0):\n",
        "  jsonlist.append(get_meta(filenames))\n",
        "\n",
        "#midifilenames와 list들의 순서는 같다고 생각하고 코드 작성"
      ],
      "execution_count": 14,
      "outputs": [
        {
          "output_type": "stream",
          "name": "stderr",
          "text": [
            "100%|██████████| 100/100 [00:02<00:00, 35.75it/s]\n",
            "100%|██████████| 100/100 [00:31<00:00,  3.19it/s]\n",
            "100%|██████████| 100/100 [00:31<00:00,  3.19it/s]\n"
          ]
        }
      ]
    },
    {
      "cell_type": "code",
      "metadata": {
        "id": "czIsThWnDhqF",
        "colab": {
          "base_uri": "https://localhost:8080/",
          "height": 72
        },
        "outputId": "1ce389ab-ae3e-4dfe-e86e-e3b937845e0c"
      },
      "source": [
        "\"\"\"\n",
        "import pickle\n",
        "with open('/content/drive/My Drive/MARG/PPDDlist/midilist.txt', 'wb') as f:\n",
        "  pickle.dump(midilist, f)\n",
        "with open('/content/drive/My Drive/MARG/PPDDlist/csvlist.txt', 'wb') as f:\n",
        "  pickle.dump(csvlist, f)\n",
        "with open('/content/drive/My Drive/MARG/PPDDlist/jsonlist.txt', 'wb') as f:\n",
        "  pickle.dump(jsonlist, f)\n",
        "with open('/content/drive/My Drive/MARG/PPDDlist/prettymidilist.txt', 'wb') as f:\n",
        "  pickle.dump(prettymidilist, f)\n",
        "\"\"\""
      ],
      "execution_count": 15,
      "outputs": [
        {
          "output_type": "execute_result",
          "data": {
            "application/vnd.google.colaboratory.intrinsic+json": {
              "type": "string"
            },
            "text/plain": [
              "\"\\nimport pickle\\nwith open('/content/drive/My Drive/MARG/PPDDlist/midilist.txt', 'wb') as f:\\n  pickle.dump(midilist, f)\\nwith open('/content/drive/My Drive/MARG/PPDDlist/csvlist.txt', 'wb') as f:\\n  pickle.dump(csvlist, f)\\nwith open('/content/drive/My Drive/MARG/PPDDlist/jsonlist.txt', 'wb') as f:\\n  pickle.dump(jsonlist, f)\\nwith open('/content/drive/My Drive/MARG/PPDDlist/prettymidilist.txt', 'wb') as f:\\n  pickle.dump(prettymidilist, f)\\n\""
            ]
          },
          "metadata": {},
          "execution_count": 15
        }
      ]
    },
    {
      "cell_type": "markdown",
      "metadata": {
        "id": "rOttPVfF_yuk"
      },
      "source": [
        "아래의 코드는 csv기반의 Processing을 진행한다. \n",
        "MIDI 기반의 Processing은 다음 블록에 작성되어 있으며, 둘 중 하나만 굴리면 된다."
      ]
    },
    {
      "cell_type": "code",
      "metadata": {
        "id": "q_pieqXw_Yq0",
        "colab": {
          "base_uri": "https://localhost:8080/",
          "height": 108
        },
        "outputId": "ffe47d81-3229-4336-cdc1-466db5750c74"
      },
      "source": [
        "#현재 CSV dataset에 문제가 있어보인다..\n",
        "\"\"\"\n",
        "bar_list=[]\n",
        "one_bar_number_list=[]\n",
        "starting_number_list=[]\n",
        "import numpy as np\n",
        "for i,csvs in enumerate(tqdm(csvlist)):\n",
        "  a=np.array([list(map(float,csvs.columns))])#column에도 숫자가 들어가 있어서.. 경우에 따라 조절한다\n",
        "  b=np.array(csvs.values)\n",
        "  csvarray=np.concatenate((a,b),axis=0)\n",
        "  if('timeSignature' not in jsonlist[i]):\n",
        "    jsonlist[i]['timeSignature']=[4,4]\n",
        "  one_bar_number=jsonlist[i]['timeSignature'][0]\n",
        "  bar_number=(csvarray[-1][0]-csvarray[0][0])//one_bar_number+1\n",
        "  bar_info_list=[]\n",
        "  for i in range(int(bar_number)):\n",
        "    starting_bar_time=csvarray[0][0]+i*one_bar_number\n",
        "    bar_info_list.append(csvarray[np.where( (starting_bar_time<=csvarray[:,0]) & (csvarray[:,0]<starting_bar_time+one_bar_number) )])\n",
        "  bar_list.append(bar_info_list)\n",
        "  one_bar_number_list.append(one_bar_number)\n",
        "  starting_number_list.append(csvarray[0][0])\n",
        "\"\"\""
      ],
      "execution_count": 16,
      "outputs": [
        {
          "output_type": "execute_result",
          "data": {
            "application/vnd.google.colaboratory.intrinsic+json": {
              "type": "string"
            },
            "text/plain": [
              "\"\\nbar_list=[]\\none_bar_number_list=[]\\nstarting_number_list=[]\\nimport numpy as np\\nfor i,csvs in enumerate(tqdm(csvlist)):\\n  a=np.array([list(map(float,csvs.columns))])#column에도 숫자가 들어가 있어서.. 경우에 따라 조절한다\\n  b=np.array(csvs.values)\\n  csvarray=np.concatenate((a,b),axis=0)\\n  if('timeSignature' not in jsonlist[i]):\\n    jsonlist[i]['timeSignature']=[4,4]\\n  one_bar_number=jsonlist[i]['timeSignature'][0]\\n  bar_number=(csvarray[-1][0]-csvarray[0][0])//one_bar_number+1\\n  bar_info_list=[]\\n  for i in range(int(bar_number)):\\n    starting_bar_time=csvarray[0][0]+i*one_bar_number\\n    bar_info_list.append(csvarray[np.where( (starting_bar_time<=csvarray[:,0]) & (csvarray[:,0]<starting_bar_time+one_bar_number) )])\\n  bar_list.append(bar_info_list)\\n  one_bar_number_list.append(one_bar_number)\\n  starting_number_list.append(csvarray[0][0])\\n\""
            ]
          },
          "metadata": {},
          "execution_count": 16
        }
      ]
    },
    {
      "cell_type": "code",
      "metadata": {
        "id": "IeRQyawg_8tO"
      },
      "source": [
        "#이게 이제 input을 midi로 받는 코드.\n",
        "\"\"\"\n",
        "possible_rhythms=[[11,8],[6,8],[8,12],[12,8],[8,4],[9,12],[3,2],[6,6],[3,6],[2,4],[1,2],[1,3],[1,4],[3,4],[5,4],[4,4],[9,8],[7,4],[11,4]]\n",
        "possible_one_bar=[1,2,3,5,7,11]\n",
        "\"\"\"\n",
        "bar_list=[]\n",
        "one_bar_number_list=[]\n",
        "starting_number_list=[]\n",
        "chord_list=[]\n",
        "for i,songs in enumerate(prettymidilist):#곡마다.\n",
        "  if('timeSignature' not in jsonlist[i]):\n",
        "    jsonlist[i]['timeSignature']=[4,4]\n",
        "  if(jsonlist[i]['timeSignature'] !=[4,4]):#!=[4,4]로 써서 4,4만고려가능\n",
        "    pass\n",
        "  else:\n",
        "    for instrument in songs.instruments: #2. 어차피 instrument하나\n",
        "      csvarray=[]\n",
        "      for note in instrument.notes: #3\n",
        "        row=[note.start*2, note.pitch, note.pitch, (note.end - note.start)*2, 0] #*2를 해줘야 제대로 하나의 bar가 하나의 단위가 된다.\n",
        "        csvarray.append(row)\n",
        "    csvarray=np.array(csvarray)\n",
        "    one_bar_number=jsonlist[i]['timeSignature'][0]\n",
        "    chord=jsonlist[i]['keyEstimate'][-5:]\n",
        "    bar_number=(csvarray[-1][0]-csvarray[0][0])//one_bar_number+1\n",
        "    bar_info_list=[]\n",
        "    for i in range(int(bar_number)):\n",
        "      starting_bar_time=csvarray[0][0]+i*one_bar_number\n",
        "      bar_info_list.append(csvarray[np.where( (starting_bar_time<=csvarray[:,0]) & (csvarray[:,0]<starting_bar_time+one_bar_number) )])\n",
        "    bar_list.append(bar_info_list)# bar info list가 bar마다 csv내용들 담겨져 있는거다.\n",
        "    one_bar_number_list.append(one_bar_number)\n",
        "    starting_number_list.append(csvarray[0][0])\n",
        "    chord_list.append(chord)"
      ],
      "execution_count": 17,
      "outputs": []
    },
    {
      "cell_type": "code",
      "metadata": {
        "id": "7ubPcKmPBXQH",
        "colab": {
          "base_uri": "https://localhost:8080/",
          "height": 54
        },
        "outputId": "d4e17d7d-aad9-4bf2-e5c9-5fc4966da753"
      },
      "source": [
        "\"\"\"\n",
        "for bars in bar_list:\n",
        "  #print(len(bars))결과 보면 다 다르다. 따라서 정해진 Shape가 없음\n",
        "  for matrix in bars:\n",
        "    for lists in matrix:\n",
        "      if (lists[1]<24):\n",
        "        print(lists[1])#Small Data기준 95가 최대, 25가 Minimum. Big Data로 바꾸면 추가적인 조절 가능할듯\n",
        "\"\"\""
      ],
      "execution_count": 18,
      "outputs": [
        {
          "output_type": "execute_result",
          "data": {
            "application/vnd.google.colaboratory.intrinsic+json": {
              "type": "string"
            },
            "text/plain": [
              "'\\nfor bars in bar_list:\\n  #print(len(bars))결과 보면 다 다르다. 따라서 정해진 Shape가 없음\\n  for matrix in bars:\\n    for lists in matrix:\\n      if (lists[1]<24):\\n        print(lists[1])#Small Data기준 95가 최대, 25가 Minimum. Big Data로 바꾸면 추가적인 조절 가능할듯\\n'"
            ]
          },
          "metadata": {},
          "execution_count": 18
        }
      ]
    },
    {
      "cell_type": "code",
      "metadata": {
        "id": "ioRp4dJDCtUK",
        "colab": {
          "base_uri": "https://localhost:8080/"
        },
        "outputId": "2a7dd1ae-e45a-4a76-c09c-675ac50dece0"
      },
      "source": [
        "print(bar_list[0][0])#1번째 곡의 1번째 bar.\n",
        "print(jsonlist[0])"
      ],
      "execution_count": 19,
      "outputs": [
        {
          "output_type": "stream",
          "name": "stdout",
          "text": [
            "[[ 0.         33.         33.          0.83333333  0.        ]\n",
            " [ 1.         37.         37.          0.5         0.        ]\n",
            " [ 1.5        38.         38.          0.33333333  0.        ]\n",
            " [ 2.         40.         40.          0.83333333  0.        ]\n",
            " [ 3.         33.         33.          0.75        0.        ]]\n",
            "{'id': '00b7561d-c09b-41f2-bf21-537603fbe758', 'idLakh': 'ac0c789d9798acc2cda1c90c28bddb3d', 'bpm': 135, 'timeSignature': [4, 4], 'keyEstimate': 'A major'}\n"
          ]
        }
      ]
    },
    {
      "cell_type": "code",
      "metadata": {
        "id": "aK7G2wiA4fgg"
      },
      "source": [
        "def nearest_time(time,minimum_size):\n",
        "  #혹시나 값이 조금 벗어나는 엇박 음을 가까운 최소단위로 Shifting한다.\n",
        "  #다만 엇박 관련 Skill Detecting을 따로 고려할시 코드를 수정할 수 있다.\n",
        "  num_to_multiply=time/minimum_size\n",
        "  num_to_multiply=int(num_to_multiply)\n",
        "  left_time=num_to_multiply*minimum_size\n",
        "  right_time=left_time+minimum_size\n",
        "  if (time-left_time>=right_time-time):\n",
        "    return right_time\n",
        "  return left_time\n",
        "def bar_to_matrix1(bar,one_bar_number,starting_number,i):\n",
        "  #그냥 점만 남긴다.\n",
        "  #8/6박이면 one_bar_number가 8이다. 그러면 바 1개당 무조건 12개 처리하는거로 한다.\n",
        "  #lists[0]은 시간, lists[1]은 Note 높이, lists[3]은 Duration. \n",
        "  init=np.zeros((112,96))#112는 Note의 수(감으로 써둠.. 나중에 전체 데이터로 할때 수정 가능성 있음 그런데 Shift를 잘 이용하면 96*96도 가능해보임.)\n",
        "  minimum_size=one_bar_number/96\n",
        "  zero_time=starting_number+one_bar_number*i    \n",
        "  for j,lists in enumerate(bar):\n",
        "    \n",
        "    point=int((nearest_time(lists[0],minimum_size)-zero_time)/minimum_size)\n",
        "    if(point==96):\n",
        "      point=92\n",
        "    \n",
        "    init[111-int(lists[1])][point]=lists[3]#111-int(list[1])형태로 해야 직관적인 PianoRoll 형태가 ㅏ온다.\n",
        "  return init\n",
        "def bar_to_matrix2(bar,one_bar_number,starting_number,i):\n",
        "  #Duration에 따라 Ploting한다.\n",
        "  #8/6박이면 one_bar_number가 8이다. 그러면 바 1개당 무조건 12개 처리하는거로 한다.\n",
        "\n",
        "  init=np.zeros((112,96))#112는 Note의 수(감으로 써둠.. 나중에 전체 데이터로 할때 수정 가능성 있음 그런데 Shift를 잘 이용하면 96*96도 가능해보임.)\n",
        "  minimum_size=one_bar_number/96\n",
        "  zero_time=starting_number+one_bar_number*i    \n",
        "  for j,lists in enumerate(bar):\n",
        "    #lists[0]은 시간, lists[1]은 Note 높이, lists[3]은 Duration. \n",
        "    point=int((nearest_time(lists[0],minimum_size)-zero_time)/minimum_size)\n",
        "    length=int(round(lists[3]/minimum_size))\n",
        "    if (length>3):\n",
        "      length=length-1#여러번 두두두 치는 음을 구별하기 위함\n",
        "    if (point+length>95):\n",
        "      length=95-point # 한 음이 2Bar에 걸쳐있는 경우 Bar 뒤쪽의 음을 무시한다.\n",
        "    init[111-int(lists[1])][point:point+length]+=1\n",
        "  return init\n",
        "\n",
        "def bar_to_matrix3(bar,one_bar_number,starting_number,i):\n",
        "  #Duration에 따라 Ploting한다.\n",
        "  #size를 상당히 작게 잡는다.\n",
        "  #8/6박이면 one_bar_number가 8이다. 그러면 바 1개당 무조건 12개 처리하는거로 한다.\n",
        "\n",
        "  init=np.zeros((24,24))#112는 Note의 수(감으로 써둠.. 나중에 전체 데이터로 할때 수정 가능성 있음 그런데 Shift를 잘 이용하면 96*96도 가능해보임.)\n",
        "  minimum_size=one_bar_number/24\n",
        "  zero_time=starting_number+one_bar_number*i\n",
        "  min_height=500\n",
        "  for lists in bar:\n",
        "    if min_height>lists[1]:\n",
        "      min_height=lists[1]    \n",
        "  for j,lists in enumerate(bar):\n",
        "    #lists[0]은 시간, lists[1]은 Note 높이, lists[3]은 Duration. \n",
        "    point=int((nearest_time(lists[0],minimum_size)-zero_time)/minimum_size)\n",
        "    length=int(round(lists[3]/minimum_size))\n",
        "    if (length>3):\n",
        "      length=length-1#여러번 두두두 치는 음을 구별하기 위함\n",
        "    if (point+length>23):\n",
        "      length=23-point # 한 음이 2Bar에 걸쳐있는 경우 Bar 뒤쪽의 음을 무시한다.\n",
        "    height=lists[1]-min_height\n",
        "    while(height>23):\n",
        "      height=height-12\n",
        "    init[23-int(height)][point:point+length]+=1\n",
        "  return init"
      ],
      "execution_count": 20,
      "outputs": []
    },
    {
      "cell_type": "code",
      "metadata": {
        "id": "t34eVSFIT6M-"
      },
      "source": [
        "#bar_list to bar_matrix_list\n",
        "#bar_matrix_list=copy.deepcopy(bar_list)\n",
        "#bar_matrix_list2=copy.deepcopy(bar_list)\n",
        "bar_matrix_list3=copy.deepcopy(bar_list)\n",
        "for i,songs in enumerate(bar_matrix_list3):\n",
        "  for j,bar in enumerate(songs):\n",
        "    #print(one_bar_number_list[i],starting_number_list[i])\n",
        "    #matrix=bar_to_matrix1(bar,one_bar_number_list[i],starting_number_list[i],j)\n",
        "    #matrix2=bar_to_matrix2(bar,one_bar_number_list[i],starting_number_list[i],j)\n",
        "    matrix3=bar_to_matrix3(bar,one_bar_number_list[i],starting_number_list[i],j)\n",
        "    #bar_matrix_list[i][j]=matrix\n",
        "    #bar_matrix_list2[i][j]=matrix2\n",
        "    bar_matrix_list3[i][j]=matrix3"
      ],
      "execution_count": 21,
      "outputs": []
    },
    {
      "cell_type": "code",
      "metadata": {
        "id": "QhslYmbJdSba"
      },
      "source": [
        "def bar_to_contour(bar,one_bar_number,starting_number,j):\n",
        "  contour=[]\n",
        "  pitch_change_list=[]\n",
        "  duration_list=[]\n",
        "  real_pitch_list=[]\n",
        "  real_time_list=[]\n",
        "  real_duration_list=[]\n",
        "  now_pitch=1000\n",
        "  first_time=starting_number+one_bar_number*j\n",
        "  a=0\n",
        "  for lists in bar:\n",
        "    if(a!=0): \n",
        "      real_time_list.append(lists[0]-now_rhythm)\n",
        "    now_rhythm=lists[0]\n",
        "    a+=1\n",
        "    if (first_time*1.001<lists[0]):#smoothing for case like first time=5.00001, lists[0]=5.0000..\n",
        "      resting_time=lists[0]-first_time\n",
        "      duration_list.append(resting_time)\n",
        "      first_time=lists[0]\n",
        "      pitch_change_list.append('Rest')\n",
        "    if (now_pitch==1000):\n",
        "      pitch_change_list.append('Starting_Point')\n",
        "      real_pitch_list.append('Starting_Point')\n",
        "      real_duration_list.append(lists[3])\n",
        "      duration_list.append(lists[3])\n",
        "      first_time=first_time+lists[3]\n",
        "      now_pitch=lists[1]\n",
        "      a+=1\n",
        "    else:\n",
        "      pitch_change=lists[1]-now_pitch\n",
        "      pitch_change_list.append(str(pitch_change))#나중에 int로 바꿔쓸 것. 자료형 터지는거 때문에 우선 스트링.\n",
        "      duration_list.append(lists[3])\n",
        "      real_duration_list.append(lists[3])\n",
        "      first_time=first_time+lists[3]\n",
        "      now_pitch=lists[1]\n",
        "      real_pitch_list.append(str(pitch_change))\n",
        "  if (first_time*1.001<starting_number+one_bar_number*(j+1)):\n",
        "    pitch_change_list.append('Rest')#마지막 Rest\n",
        "    duration_list.append(starting_number+one_bar_number*(j+1)-first_time)\n",
        "  if(len(bar)!=0):\n",
        "    real_time_list.append(starting_number+one_bar_number*(j+1)-now_rhythm)\n",
        "  contour.append(pitch_change_list)\n",
        "  contour.append(duration_list)\n",
        "  contour.append(real_pitch_list)\n",
        "  contour.append(real_time_list)\n",
        "  contour.append(real_duration_list)\n",
        "  #something\n",
        "  return contour\n",
        "\n"
      ],
      "execution_count": 22,
      "outputs": []
    },
    {
      "cell_type": "markdown",
      "metadata": {
        "id": "nkt16alDXVFp"
      },
      "source": [
        "Plot에서 중요한것은 Y-Axis의 0~112의 숫자가 Note의 반대 성향을 가진다는 것이다.(숫자가 커질수록 Note의 높이가 낮아진다.) 이는 PianoRoll을 이미지 처럼 사용하는 과정에서, 직관적인 학습이 가능하도록 이와 같이 구현한 것이다."
      ]
    },
    {
      "cell_type": "code",
      "metadata": {
        "id": "9DB6np0r4pr0"
      },
      "source": [
        "bar_contour_list=copy.deepcopy(bar_list)\n",
        "for i,songs in enumerate(bar_list):\n",
        "  for j,bar in enumerate(songs):\n",
        "    contour=bar_to_contour(bar,one_bar_number_list[i],starting_number_list[i],j)\n",
        "    bar_contour_list[i][j]=contour\n"
      ],
      "execution_count": 23,
      "outputs": []
    },
    {
      "cell_type": "markdown",
      "metadata": {
        "id": "FFxmPmNCVpBD"
      },
      "source": [
        "bar_contour_list : 중간과정\n",
        "bar_matrix_list2 : 아마 학습에 사용하게 될 Matrix의 List\n",
        "bar_label_list : 학습에 사용하게 될 Label의 List"
      ]
    },
    {
      "cell_type": "code",
      "metadata": {
        "id": "PO49MM20Lth1",
        "colab": {
          "base_uri": "https://localhost:8080/"
        },
        "outputId": "9a1045b8-5cc1-4377-fe79-67b3ccf22b9e"
      },
      "source": [
        "print(bar_contour_list[0][0])\n"
      ],
      "execution_count": 24,
      "outputs": [
        {
          "output_type": "stream",
          "name": "stdout",
          "text": [
            "[['Starting_Point', 'Rest', '4.0', '1.0', 'Rest', '2.0', 'Rest', '-7.0', 'Rest'], [0.8333333333333333, 0.16666666666666674, 0.5, 0.33333333333333326, 0.16666666666666674, 0.833333333333333, 0.16666666666666696, 0.75, 0.25], ['Starting_Point', '4.0', '1.0', '2.0', '-7.0'], [1.0, 0.5, 0.5, 1.0, 1.0], [0.8333333333333333, 0.5, 0.33333333333333326, 0.833333333333333, 0.75]]\n"
          ]
        }
      ]
    },
    {
      "cell_type": "code",
      "metadata": {
        "id": "r1Uk3vrbDPz2",
        "colab": {
          "base_uri": "https://localhost:8080/",
          "height": 284
        },
        "outputId": "917c5b44-0f5d-476c-b5de-21ba774bd6e2"
      },
      "source": [
        "plt.imshow(np.array(bar_matrix_list3[30][1]),cmap='viridis')"
      ],
      "execution_count": 25,
      "outputs": [
        {
          "output_type": "execute_result",
          "data": {
            "text/plain": [
              "<matplotlib.image.AxesImage at 0x7fb94e821fd0>"
            ]
          },
          "metadata": {},
          "execution_count": 25
        },
        {
          "output_type": "display_data",
          "data": {
            "image/png": "[encoded data removed]",
            "text/plain": [
              "<Figure size 432x288 with 1 Axes>"
            ]
          },
          "metadata": {
            "needs_background": "light"
          }
        }
      ]
    },
    {
      "cell_type": "markdown",
      "metadata": {
        "id": "G9SCj1SrGRgj"
      },
      "source": [
        "Code for Clustering.\n"
      ]
    },
    {
      "cell_type": "code",
      "metadata": {
        "id": "ez9WMZruqLA0"
      },
      "source": [
        "from sklearn import preprocessing\n",
        "le = preprocessing.LabelEncoder()\n",
        "trainX=[]\n",
        "clusterxinfo=[]\n",
        "trainY=[]#info of Time Signature or chord\n",
        "\n",
        "for i,songs in enumerate(bar_matrix_list3):\n",
        "  for matrix in songs:\n",
        "    matrix=matrix.reshape(24,24)\n",
        "    matrix=sp.ndimage.filters.gaussian_filter(matrix, [0.5,0.5], mode='constant') #bluring for well training.\n",
        "    trainX.append(matrix)\n",
        "    trainY.append(chord_list[i])#Ise one_bar_number_list to use info of time signature\n",
        "trainX=np.array(trainX)\n",
        "trainY=np.array(trainY)\n",
        "clusterX=trainX[:100000]\n",
        "clusterY=trainY[:100000]\n",
        "le.fit(clusterY)\n",
        "clusterY=le.transform(clusterY)\n",
        "clusterX=clusterX.reshape((clusterX.shape[0],-1))\n",
        "n_clusters=len(np.unique(clusterY))"
      ],
      "execution_count": 26,
      "outputs": []
    },
    {
      "cell_type": "code",
      "metadata": {
        "id": "pUh8o96RMA8O",
        "colab": {
          "base_uri": "https://localhost:8080/",
          "height": 284
        },
        "outputId": "710ed523-4bf7-4707-a940-b9a1a1dbbab1"
      },
      "source": [
        "import matplotlib.pyplot as plt\n",
        "plt.imshow(np.array(trainX[30]),cmap='viridis')"
      ],
      "execution_count": 27,
      "outputs": [
        {
          "output_type": "execute_result",
          "data": {
            "text/plain": [
              "<matplotlib.image.AxesImage at 0x7fb94e308650>"
            ]
          },
          "metadata": {},
          "execution_count": 27
        },
        {
          "output_type": "display_data",
          "data": {
            "image/png": "[encoded data removed]",
            "text/plain": [
              "<Figure size 432x288 with 1 Axes>"
            ]
          },
          "metadata": {
            "needs_background": "light"
          }
        }
      ]
    },
    {
      "cell_type": "code",
      "metadata": {
        "id": "sqUWmjlproso",
        "colab": {
          "base_uri": "https://localhost:8080/"
        },
        "outputId": "c09d8b3b-b0f3-4b8b-ae06-f4a51b9d93f9"
      },
      "source": [
        "print(clusterX.shape)"
      ],
      "execution_count": 28,
      "outputs": [
        {
          "output_type": "stream",
          "name": "stdout",
          "text": [
            "(1505, 576)\n"
          ]
        }
      ]
    },
    {
      "cell_type": "code",
      "metadata": {
        "id": "-eCyCmgXzbSr",
        "colab": {
          "base_uri": "https://localhost:8080/"
        },
        "outputId": "ca623a5e-fdf8-4e1f-9fc6-4a3da64595e1"
      },
      "source": [
        "from sklearn import metrics\n",
        "\n",
        "kmeans = KMeans(n_clusters=5, n_init=10)\n",
        "# Train K-Means.\n",
        "y_pred_kmeans = kmeans.fit_predict(clusterX)\n",
        "\n",
        "metrics.accuracy_score(clusterY,y_pred_kmeans)"
      ],
      "execution_count": 29,
      "outputs": [
        {
          "output_type": "execute_result",
          "data": {
            "text/plain": [
              "0.11029900332225914"
            ]
          },
          "metadata": {},
          "execution_count": 29
        }
      ]
    },
    {
      "cell_type": "code",
      "metadata": {
        "id": "ndQru9Cv1XIs",
        "colab": {
          "base_uri": "https://localhost:8080/"
        },
        "outputId": "6472a9ea-5430-451b-dd76-92101365dca0"
      },
      "source": [
        "dims = [clusterX.shape[-1], 500, 500, 2000, 10]\n",
        "init = VarianceScaling(scale=1. / 3., mode='fan_in',\n",
        "                           distribution='uniform')\n",
        "pretrain_optimizer = SGD(lr=1, momentum=0.9)\n",
        "pretrain_epochs = 300\n",
        "batch_size = 256"
      ],
      "execution_count": 30,
      "outputs": [
        {
          "output_type": "stream",
          "name": "stdout",
          "text": [
            "WARNING:tensorflow:From /usr/local/lib/python3.7/dist-packages/tensorflow_core/python/ops/resource_variable_ops.py:1630: calling BaseResourceVariable.__init__ (from tensorflow.python.ops.resource_variable_ops) with constraint is deprecated and will be removed in a future version.\n",
            "Instructions for updating:\n",
            "If using Keras pass *_constraint arguments to layers.\n"
          ]
        }
      ]
    },
    {
      "cell_type": "code",
      "metadata": {
        "id": "zzWEoxybXOLr"
      },
      "source": [
        "from keras.layers import Dense, Input\n",
        "from keras.models import Model\n",
        "from keras.engine.topology import Layer, InputSpec\n",
        "import keras.backend as K\n",
        "\n",
        "def autoencoder(dims, act='relu', init='glorot_uniform'):\n",
        "\n",
        "    n_stacks = len(dims) - 1\n",
        "    # input\n",
        "    input_img = Input(shape=(dims[0],), name='input')\n",
        "    x = input_img\n",
        "    # internal layers in encoder\n",
        "    for i in range(n_stacks-1):\n",
        "        x = Dense(dims[i + 1], activation=act, kernel_initializer=init, name='encoder_%d' % i)(x)\n",
        "\n",
        "    # hidden layer\n",
        "    encoded = Dense(dims[-1], kernel_initializer=init, name='encoder_%d' % (n_stacks - 1))(x)  # hidden layer, features are extracted from here\n",
        "\n",
        "    x = encoded\n",
        "    # internal layers in decoder\n",
        "    for i in range(n_stacks-1, 0, -1):\n",
        "        x = Dense(dims[i], activation=act, kernel_initializer=init, name='decoder_%d' % i)(x)\n",
        "\n",
        "    # output\n",
        "    x = Dense(dims[0], kernel_initializer=init, name='decoder_0')(x)\n",
        "    decoded = x\n",
        "    return Model(inputs=input_img, outputs=decoded, name='AE'), Model(inputs=input_img, outputs=encoded, name='encoder')\n"
      ],
      "execution_count": 31,
      "outputs": []
    },
    {
      "cell_type": "code",
      "metadata": {
        "id": "cLD6jvcH2thx",
        "colab": {
          "base_uri": "https://localhost:8080/"
        },
        "outputId": "94efa3c6-c1bc-4fa0-882a-28451b8258c6"
      },
      "source": [
        "autoencoder, encoder = autoencoder(dims, init=init)\n",
        "autoencoder.compile(optimizer=pretrain_optimizer, loss='mse')\n",
        "autoencoder.fit(clusterX, clusterX, batch_size=batch_size, epochs=100) #, callbacks=cb)\n",
        "autoencoder.save_weights('/content/drive/My Drive/models/' + 'ae_weights.h5')"
      ],
      "execution_count": 32,
      "outputs": [
        {
          "output_type": "stream",
          "name": "stdout",
          "text": [
            "WARNING:tensorflow:From /usr/local/lib/python3.7/dist-packages/keras/backend/tensorflow_backend.py:422: The name tf.global_variables is deprecated. Please use tf.compat.v1.global_variables instead.\n",
            "\n",
            "Epoch 1/100\n",
            "1505/1505 [==============================] - 1s 476us/step - loss: 0.0143\n",
            "Epoch 2/100\n",
            "1505/1505 [==============================] - 0s 21us/step - loss: 0.0139\n",
            "Epoch 3/100\n",
            "1505/1505 [==============================] - 0s 20us/step - loss: 0.0134\n",
            "Epoch 4/100\n",
            "1505/1505 [==============================] - 0s 19us/step - loss: 0.0129\n",
            "Epoch 5/100\n",
            "1505/1505 [==============================] - 0s 20us/step - loss: 0.0126\n",
            "Epoch 6/100\n",
            "1505/1505 [==============================] - 0s 20us/step - loss: 0.0124\n",
            "Epoch 7/100\n",
            "1505/1505 [==============================] - 0s 20us/step - loss: 0.0123\n",
            "Epoch 8/100\n",
            "1505/1505 [==============================] - 0s 21us/step - loss: 0.0122\n",
            "Epoch 9/100\n",
            "1505/1505 [==============================] - 0s 21us/step - loss: 0.0122\n",
            "Epoch 10/100\n",
            "1505/1505 [==============================] - 0s 21us/step - loss: 0.0122\n",
            "Epoch 11/100\n",
            "1505/1505 [==============================] - 0s 20us/step - loss: 0.0122\n",
            "Epoch 12/100\n",
            "1505/1505 [==============================] - 0s 21us/step - loss: 0.0122\n",
            "Epoch 13/100\n",
            "1505/1505 [==============================] - 0s 21us/step - loss: 0.0122\n",
            "Epoch 14/100\n",
            "1505/1505 [==============================] - 0s 21us/step - loss: 0.0122\n",
            "Epoch 15/100\n",
            "1505/1505 [==============================] - 0s 21us/step - loss: 0.0122\n",
            "Epoch 16/100\n",
            "1505/1505 [==============================] - 0s 21us/step - loss: 0.0122\n",
            "Epoch 17/100\n",
            "1505/1505 [==============================] - 0s 22us/step - loss: 0.0122\n",
            "Epoch 18/100\n",
            "1505/1505 [==============================] - 0s 20us/step - loss: 0.0122\n",
            "Epoch 19/100\n",
            "1505/1505 [==============================] - 0s 21us/step - loss: 0.0122\n",
            "Epoch 20/100\n",
            "1505/1505 [==============================] - 0s 21us/step - loss: 0.0122\n",
            "Epoch 21/100\n",
            "1505/1505 [==============================] - 0s 22us/step - loss: 0.0122\n",
            "Epoch 22/100\n",
            "1505/1505 [==============================] - 0s 21us/step - loss: 0.0122\n",
            "Epoch 23/100\n",
            "1505/1505 [==============================] - 0s 21us/step - loss: 0.0122\n",
            "Epoch 24/100\n",
            "1505/1505 [==============================] - 0s 21us/step - loss: 0.0122\n",
            "Epoch 25/100\n",
            "1505/1505 [==============================] - 0s 23us/step - loss: 0.0122\n",
            "Epoch 26/100\n",
            "1505/1505 [==============================] - 0s 21us/step - loss: 0.0122\n",
            "Epoch 27/100\n",
            "1505/1505 [==============================] - 0s 20us/step - loss: 0.0122\n",
            "Epoch 28/100\n",
            "1505/1505 [==============================] - 0s 21us/step - loss: 0.0122\n",
            "Epoch 29/100\n",
            "1505/1505 [==============================] - 0s 18us/step - loss: 0.0122\n",
            "Epoch 30/100\n",
            "1505/1505 [==============================] - 0s 21us/step - loss: 0.0122\n",
            "Epoch 31/100\n",
            "1505/1505 [==============================] - 0s 21us/step - loss: 0.0122\n",
            "Epoch 32/100\n",
            "1505/1505 [==============================] - 0s 20us/step - loss: 0.0122\n",
            "Epoch 33/100\n",
            "1505/1505 [==============================] - 0s 19us/step - loss: 0.0122\n",
            "Epoch 34/100\n",
            "1505/1505 [==============================] - 0s 21us/step - loss: 0.0122\n",
            "Epoch 35/100\n",
            "1505/1505 [==============================] - 0s 19us/step - loss: 0.0122\n",
            "Epoch 36/100\n",
            "1505/1505 [==============================] - 0s 21us/step - loss: 0.0122\n",
            "Epoch 37/100\n",
            "1505/1505 [==============================] - 0s 21us/step - loss: 0.0122\n",
            "Epoch 38/100\n",
            "1505/1505 [==============================] - 0s 20us/step - loss: 0.0122\n",
            "Epoch 39/100\n",
            "1505/1505 [==============================] - 0s 21us/step - loss: 0.0122\n",
            "Epoch 40/100\n",
            "1505/1505 [==============================] - 0s 22us/step - loss: 0.0122\n",
            "Epoch 41/100\n",
            "1505/1505 [==============================] - 0s 21us/step - loss: 0.0122\n",
            "Epoch 42/100\n",
            "1505/1505 [==============================] - 0s 21us/step - loss: 0.0122\n",
            "Epoch 43/100\n",
            "1505/1505 [==============================] - 0s 24us/step - loss: 0.0122\n",
            "Epoch 44/100\n",
            "1505/1505 [==============================] - 0s 22us/step - loss: 0.0122\n",
            "Epoch 45/100\n",
            "1505/1505 [==============================] - 0s 21us/step - loss: 0.0122\n",
            "Epoch 46/100\n",
            "1505/1505 [==============================] - 0s 20us/step - loss: 0.0122\n",
            "Epoch 47/100\n",
            "1505/1505 [==============================] - 0s 23us/step - loss: 0.0122\n",
            "Epoch 48/100\n",
            "1505/1505 [==============================] - 0s 22us/step - loss: 0.0122\n",
            "Epoch 49/100\n",
            "1505/1505 [==============================] - 0s 21us/step - loss: 0.0122\n",
            "Epoch 50/100\n",
            "1505/1505 [==============================] - 0s 21us/step - loss: 0.0122\n",
            "Epoch 51/100\n",
            "1505/1505 [==============================] - 0s 21us/step - loss: 0.0122\n",
            "Epoch 52/100\n",
            "1505/1505 [==============================] - 0s 21us/step - loss: 0.0122\n",
            "Epoch 53/100\n",
            "1505/1505 [==============================] - 0s 20us/step - loss: 0.0122\n",
            "Epoch 54/100\n",
            "1505/1505 [==============================] - 0s 22us/step - loss: 0.0122\n",
            "Epoch 55/100\n",
            "1505/1505 [==============================] - 0s 22us/step - loss: 0.0122\n",
            "Epoch 56/100\n",
            "1505/1505 [==============================] - 0s 21us/step - loss: 0.0122\n",
            "Epoch 57/100\n",
            "1505/1505 [==============================] - 0s 22us/step - loss: 0.0122\n",
            "Epoch 58/100\n",
            "1505/1505 [==============================] - 0s 19us/step - loss: 0.0122\n",
            "Epoch 59/100\n",
            "1505/1505 [==============================] - 0s 21us/step - loss: 0.0122\n",
            "Epoch 60/100\n",
            "1505/1505 [==============================] - 0s 22us/step - loss: 0.0122\n",
            "Epoch 61/100\n",
            "1505/1505 [==============================] - 0s 22us/step - loss: 0.0122\n",
            "Epoch 62/100\n",
            "1505/1505 [==============================] - 0s 21us/step - loss: 0.0122\n",
            "Epoch 63/100\n",
            "1505/1505 [==============================] - 0s 20us/step - loss: 0.0122\n",
            "Epoch 64/100\n",
            "1505/1505 [==============================] - 0s 22us/step - loss: 0.0122\n",
            "Epoch 65/100\n",
            "1505/1505 [==============================] - 0s 24us/step - loss: 0.0122\n",
            "Epoch 66/100\n",
            "1505/1505 [==============================] - 0s 20us/step - loss: 0.0122\n",
            "Epoch 67/100\n",
            "1505/1505 [==============================] - 0s 22us/step - loss: 0.0122\n",
            "Epoch 68/100\n",
            "1505/1505 [==============================] - 0s 21us/step - loss: 0.0122\n",
            "Epoch 69/100\n",
            "1505/1505 [==============================] - 0s 20us/step - loss: 0.0121\n",
            "Epoch 70/100\n",
            "1505/1505 [==============================] - 0s 20us/step - loss: 0.0121\n",
            "Epoch 71/100\n",
            "1505/1505 [==============================] - 0s 21us/step - loss: 0.0121\n",
            "Epoch 72/100\n",
            "1505/1505 [==============================] - 0s 21us/step - loss: 0.0121\n",
            "Epoch 73/100\n",
            "1505/1505 [==============================] - 0s 22us/step - loss: 0.0121\n",
            "Epoch 74/100\n",
            "1505/1505 [==============================] - 0s 21us/step - loss: 0.0121\n",
            "Epoch 75/100\n",
            "1505/1505 [==============================] - 0s 21us/step - loss: 0.0121\n",
            "Epoch 76/100\n",
            "1505/1505 [==============================] - 0s 22us/step - loss: 0.0121\n",
            "Epoch 77/100\n",
            "1505/1505 [==============================] - 0s 23us/step - loss: 0.0121\n",
            "Epoch 78/100\n",
            "1505/1505 [==============================] - 0s 21us/step - loss: 0.0121\n",
            "Epoch 79/100\n",
            "1505/1505 [==============================] - 0s 21us/step - loss: 0.0121\n",
            "Epoch 80/100\n",
            "1505/1505 [==============================] - 0s 20us/step - loss: 0.0121\n",
            "Epoch 81/100\n",
            "1505/1505 [==============================] - 0s 20us/step - loss: 0.0120\n",
            "Epoch 82/100\n",
            "1505/1505 [==============================] - 0s 20us/step - loss: 0.0120\n",
            "Epoch 83/100\n",
            "1505/1505 [==============================] - 0s 21us/step - loss: 0.0120\n",
            "Epoch 84/100\n",
            "1505/1505 [==============================] - 0s 21us/step - loss: 0.0119\n",
            "Epoch 85/100\n",
            "1505/1505 [==============================] - 0s 21us/step - loss: 0.0119\n",
            "Epoch 86/100\n",
            "1505/1505 [==============================] - 0s 23us/step - loss: 0.0118\n",
            "Epoch 87/100\n",
            "1505/1505 [==============================] - 0s 24us/step - loss: 0.0118\n",
            "Epoch 88/100\n",
            "1505/1505 [==============================] - 0s 20us/step - loss: 0.0117\n",
            "Epoch 89/100\n",
            "1505/1505 [==============================] - 0s 19us/step - loss: 0.0116\n",
            "Epoch 90/100\n",
            "1505/1505 [==============================] - 0s 22us/step - loss: 0.0116\n",
            "Epoch 91/100\n",
            "1505/1505 [==============================] - 0s 20us/step - loss: 0.0115\n",
            "Epoch 92/100\n",
            "1505/1505 [==============================] - 0s 22us/step - loss: 0.0115\n",
            "Epoch 93/100\n",
            "1505/1505 [==============================] - 0s 20us/step - loss: 0.0114\n",
            "Epoch 94/100\n",
            "1505/1505 [==============================] - 0s 20us/step - loss: 0.0114\n",
            "Epoch 95/100\n",
            "1505/1505 [==============================] - 0s 21us/step - loss: 0.0113\n",
            "Epoch 96/100\n",
            "1505/1505 [==============================] - 0s 21us/step - loss: 0.0113\n",
            "Epoch 97/100\n",
            "1505/1505 [==============================] - 0s 21us/step - loss: 0.0113\n",
            "Epoch 98/100\n",
            "1505/1505 [==============================] - 0s 22us/step - loss: 0.0113\n",
            "Epoch 99/100\n",
            "1505/1505 [==============================] - 0s 21us/step - loss: 0.0112\n",
            "Epoch 100/100\n",
            "1505/1505 [==============================] - 0s 21us/step - loss: 0.0112\n"
          ]
        }
      ]
    },
    {
      "cell_type": "code",
      "metadata": {
        "colab": {
          "base_uri": "https://localhost:8080/"
        },
        "id": "poGQIms0P-Yg",
        "outputId": "23789bbc-3bee-438f-93c0-64e3da833661"
      },
      "source": [
        "print(clusterY)"
      ],
      "execution_count": 33,
      "outputs": [
        {
          "output_type": "stream",
          "name": "stdout",
          "text": [
            "[0 0 0 ... 0 0 0]\n"
          ]
        }
      ]
    },
    {
      "cell_type": "code",
      "metadata": {
        "id": "2AikrHAgPpzN"
      },
      "source": [
        "autoencoder.load_weights('/content/drive/My Drive/models/' + 'ae_weights.h5')"
      ],
      "execution_count": 34,
      "outputs": []
    },
    {
      "cell_type": "code",
      "metadata": {
        "id": "JGZCAz0ctuAj"
      },
      "source": [
        "class ClusteringLayer(Layer):\n",
        "\n",
        "    def __init__(self, n_clusters, weights=None, alpha=1.0, **kwargs):\n",
        "        if 'input_shape' not in kwargs and 'input_dim' in kwargs:\n",
        "            kwargs['input_shape'] = (kwargs.pop('input_dim'),)\n",
        "        super(ClusteringLayer, self).__init__(**kwargs)\n",
        "        self.n_clusters = n_clusters\n",
        "        self.alpha = alpha\n",
        "        self.initial_weights = weights\n",
        "        self.input_spec = InputSpec(ndim=2)\n",
        "\n",
        "    def build(self, input_shape):\n",
        "        assert len(input_shape) == 2\n",
        "        input_dim = input_shape[1]\n",
        "        self.input_spec = InputSpec(dtype=K.floatx(), shape=(None, input_dim))\n",
        "        self.clusters = self.add_weight(shape=(self.n_clusters, input_dim), initializer='glorot_uniform', name='clusters')\n",
        "        if self.initial_weights is not None:\n",
        "            self.set_weights(self.initial_weights)\n",
        "            del self.initial_weights\n",
        "        self.built = True\n",
        "\n",
        "    def call(self, inputs, **kwargs):\n",
        "\n",
        "        q = 1.0 / (1.0 + (K.sum(K.square(K.expand_dims(inputs, axis=1) - self.clusters), axis=2) / self.alpha))\n",
        "        q **= (self.alpha + 1.0) / 2.0\n",
        "        q = K.transpose(K.transpose(q) / K.sum(q, axis=1)) # Make sure each sample's 10 values add up to 1.\n",
        "        return q\n",
        "\n",
        "    def compute_output_shape(self, input_shape):\n",
        "        assert input_shape and len(input_shape) == 2\n",
        "        return input_shape[0], self.n_clusters\n",
        "\n",
        "    def get_config(self):\n",
        "        config = {'n_clusters': self.n_clusters}\n",
        "        base_config = super(ClusteringLayer, self).get_config()\n",
        "        return dict(list(base_config.items()) + list(config.items()))\n",
        "\n",
        "def autoencoder(dims, act='relu', init='glorot_uniform'):\n",
        "\n",
        "    n_stacks = len(dims) - 1\n",
        "    # input\n",
        "    input_img = Input(shape=(dims[0],), name='input')\n",
        "    x = input_img\n",
        "    # internal layers in encoder\n",
        "    for i in range(n_stacks-1):\n",
        "        x = Dense(dims[i + 1], activation=act, kernel_initializer=init, name='encoder_%d' % i)(x)\n",
        "\n",
        "    # hidden layer\n",
        "    encoded = Dense(dims[-1], kernel_initializer=init, name='encoder_%d' % (n_stacks - 1))(x)  # hidden layer, features are extracted from here\n",
        "\n",
        "    x = encoded\n",
        "    # internal layers in decoder\n",
        "    for i in range(n_stacks-1, 0, -1):\n",
        "        x = Dense(dims[i], activation=act, kernel_initializer=init, name='decoder_%d' % i)(x)\n",
        "\n",
        "    # output\n",
        "    x = Dense(dims[0], kernel_initializer=init, name='decoder_0')(x)\n",
        "    decoded = x\n",
        "    return Model(inputs=input_img, outputs=decoded, name='AE'), Model(inputs=input_img, outputs=encoded, name='encoder')\n",
        "\n"
      ],
      "execution_count": 35,
      "outputs": []
    },
    {
      "cell_type": "code",
      "metadata": {
        "id": "V2Nx8Ygs-I6_"
      },
      "source": [
        "n_clusters=5\n",
        "clustering_layer = ClusteringLayer(n_clusters, name='clustering')(encoder.output)\n",
        "model = Model(inputs=encoder.input, outputs=clustering_layer)\n",
        "\n",
        "model.compile(optimizer=SGD(0.01, 0.9), loss='kld')\n",
        "\n",
        "kmeans = KMeans(n_clusters=n_clusters, n_init=20)\n",
        "y_pred = kmeans.fit_predict(encoder.predict(clusterX))\n",
        "y_pred_last = np.copy(y_pred)\n",
        "model.get_layer(name='clustering').set_weights([kmeans.cluster_centers_])\n",
        "\n",
        "loss = 0\n",
        "index = 0\n",
        "maxiter = 14000\n",
        "update_interval = 140\n",
        "index_array = np.arange(clusterX.shape[0])\n",
        "tol = 0.001"
      ],
      "execution_count": 36,
      "outputs": []
    },
    {
      "cell_type": "code",
      "metadata": {
        "id": "FJ8oiBIhX7kq",
        "colab": {
          "base_uri": "https://localhost:8080/"
        },
        "outputId": "2a5529ab-765a-4203-e763-2b40cec37081"
      },
      "source": [
        "def target_distribution(q):\n",
        "  weight = q ** 2 / q.sum(0)\n",
        "  return (weight.T / weight.sum(1)).T\n",
        "for ite in range(14000):\n",
        "    if ite % update_interval == 0:\n",
        "        q = model.predict(clusterX, verbose=0)\n",
        "        p = target_distribution(q)  # update the auxiliary target distribution p\n",
        "\n",
        "        # evaluate the clustering performance\n",
        "        y_pred = q.argmax(1)\n",
        "        if clusterY is not None:\n",
        "            acc = np.round(metrics.accuracy_score(clusterY, y_pred), 5)\n",
        "            nmi = np.round(metrics.normalized_mutual_info_score(clusterY, y_pred), 5)\n",
        "            ari = np.round(metrics.adjusted_rand_score(clusterY, y_pred), 5)\n",
        "            loss = np.round(loss, 5)\n",
        "            print('Iter %d: acc = %.5f, nmi = %.5f, ari = %.5f' % (ite, acc, nmi, ari), ' ; loss=', loss)\n",
        "\n",
        "        # check stop criterion - model convergence\n",
        "        delta_label = np.sum(y_pred != y_pred_last).astype(np.float32) / y_pred.shape[0]\n",
        "        y_pred_last = np.copy(y_pred)\n",
        "        if ite > 0 and delta_label < tol:\n",
        "            print('delta_label ', delta_label, '< tol ', tol)\n",
        "            print('Reached tolerance threshold. Stopping training.')\n",
        "            break\n",
        "    idx = index_array[index * batch_size: min((index+1) * batch_size, clusterX.shape[0])]\n",
        "    loss = model.train_on_batch(x=clusterX[idx], y=p[idx])\n",
        "    index = index + 1 if (index + 1) * batch_size <= clusterX.shape[0] else 0\n",
        "\n",
        "model.save_weights('/content/drive/My Drive/models/' + 'DEC_model_final.h5')\n",
        "model.load_weights('/content/drive/My Drive/models/' + 'DEC_model_final.h5')"
      ],
      "execution_count": 37,
      "outputs": [
        {
          "output_type": "stream",
          "name": "stdout",
          "text": [
            "Iter 0: acc = 0.23056, nmi = 0.00943, ari = 0.01249  ; loss= 0\n",
            "WARNING:tensorflow:From /usr/local/lib/python3.7/dist-packages/tensorflow_core/python/ops/math_grad.py:1424: where (from tensorflow.python.ops.array_ops) is deprecated and will be removed in a future version.\n",
            "Instructions for updating:\n",
            "Use tf.where in 2.0, which has the same broadcast rule as np.where\n",
            "Iter 140: acc = 0.20664, nmi = 0.00593, ari = 0.01099  ; loss= 0.00078\n",
            "Iter 280: acc = 0.16877, nmi = 0.00334, ari = 0.01117  ; loss= 0.00603\n",
            "Iter 420: acc = 0.14086, nmi = 0.00391, ari = 0.01053  ; loss= 0.01425\n",
            "Iter 560: acc = 0.11761, nmi = 0.00672, ari = 0.01145  ; loss= 0.0231\n",
            "Iter 700: acc = 0.11761, nmi = 0.00657, ari = 0.01406  ; loss= 0.05027\n",
            "Iter 840: acc = 0.11429, nmi = 0.00865, ari = 0.01319  ; loss= 0.07198\n",
            "Iter 980: acc = 0.11030, nmi = 0.01015, ari = 0.01396  ; loss= 0.08694\n",
            "Iter 1120: acc = 0.11761, nmi = 0.00918, ari = 0.01425  ; loss= 0.09147\n",
            "Iter 1260: acc = 0.11694, nmi = 0.00954, ari = 0.01424  ; loss= 0.10466\n",
            "Iter 1400: acc = 0.11827, nmi = 0.01136, ari = 0.01590  ; loss= 0.11764\n",
            "Iter 1540: acc = 0.11894, nmi = 0.01090, ari = 0.01474  ; loss= 0.1109\n",
            "Iter 1680: acc = 0.11827, nmi = 0.01085, ari = 0.01458  ; loss= 0.11781\n",
            "Iter 1820: acc = 0.12027, nmi = 0.01064, ari = 0.01508  ; loss= 0.12635\n",
            "Iter 1960: acc = 0.12027, nmi = 0.01093, ari = 0.01504  ; loss= 0.12258\n",
            "Iter 2100: acc = 0.12027, nmi = 0.01091, ari = 0.01487  ; loss= 0.1195\n",
            "delta_label  0.000664451827242525 < tol  0.001\n",
            "Reached tolerance threshold. Stopping training.\n"
          ]
        }
      ]
    },
    {
      "cell_type": "code",
      "metadata": {
        "id": "VZABO5Fq2gQy",
        "colab": {
          "base_uri": "https://localhost:8080/"
        },
        "outputId": "a9909e3d-5521-4736-8a26-35e735b3d202"
      },
      "source": [
        "q = model.predict(clusterX, verbose=0)\n",
        "p = target_distribution(q)  # update the auxiliary target distribution p\n",
        "\n",
        "# evaluate the clustering performance\n",
        "y_pred = q.argmax(1)\n",
        "if clusterY is not None:\n",
        "    acc = np.round(metrics.accuracy_score(clusterY, y_pred), 5)\n",
        "    nmi = np.round(metrics.normalized_mutual_info_score(clusterY, y_pred), 5)\n",
        "    ari = np.round(metrics.adjusted_rand_score(clusterY, y_pred), 5)\n",
        "    loss = np.round(loss, 5)\n",
        "    print('Acc = %.5f, nmi = %.5f, ari = %.5f' % (acc, nmi, ari), ' ; loss=', loss)"
      ],
      "execution_count": 38,
      "outputs": [
        {
          "output_type": "stream",
          "name": "stdout",
          "text": [
            "Acc = 0.12027, nmi = 0.01091, ari = 0.01487  ; loss= 0.1195\n"
          ]
        }
      ]
    },
    {
      "cell_type": "code",
      "metadata": {
        "id": "76EtBzIJsfJM",
        "colab": {
          "base_uri": "https://localhost:8080/",
          "height": 498
        },
        "outputId": "18e80a59-425e-402a-e7d1-680320e3d168"
      },
      "source": [
        "# chord scale과의 비교를 위한 코드. Label이 5개이므로 큰 의미는 없다.\n",
        "\n",
        "sns.set(font_scale=2)\n",
        "confusion_matrix = sklearn.metrics.confusion_matrix(clusterY, y_pred)\n",
        "\n",
        "plt.figure(figsize=(7, 7))\n",
        "sns.heatmap(confusion_matrix, annot=True, fmt=\"d\", annot_kws={\"size\": 10});\n",
        "plt.title(\"Confusion matrix\", fontsize=30)\n",
        "plt.ylabel('True label', fontsize=25)\n",
        "plt.xlabel('Clustering label', fontsize=25)\n",
        "plt.show()\n"
      ],
      "execution_count": 39,
      "outputs": [
        {
          "output_type": "display_data",
          "data": {
            "image/png": "[encoded data removed]",
            "text/plain": [
              "<Figure size 504x504 with 2 Axes>"
            ]
          },
          "metadata": {}
        }
      ]
    },
    {
      "cell_type": "code",
      "metadata": {
        "id": "IYFUyGiXyQc0"
      },
      "source": [
        "cluster0=[]\n",
        "cluster1=[]\n",
        "cluster2=[]\n",
        "cluster3=[]\n",
        "cluster4=[]\n",
        "for i,x in enumerate(y_pred):\n",
        "  if x==0:\n",
        "    cluster0.append(trainX[i])\n",
        "  elif x==1:\n",
        "    cluster1.append(trainX[i])\n",
        "  elif x==2:\n",
        "    cluster2.append(trainX[i])\n",
        "  elif x==3:\n",
        "    cluster3.append(trainX[i])\n",
        "  elif x==4:\n",
        "    cluster4.append(trainX[i])"
      ],
      "execution_count": 40,
      "outputs": []
    },
    {
      "cell_type": "code",
      "metadata": {
        "id": "x8BneFfnxngs",
        "colab": {
          "base_uri": "https://localhost:8080/",
          "height": 595
        },
        "outputId": "7b1c5b45-6d49-45af-feee-e21f00c6fb0e"
      },
      "source": [
        "import numpy as np\n",
        "import matplotlib.pyplot as plt\n",
        "\n",
        "SMALL_SIZE = 8\n",
        "MEDIUM_SIZE = 10\n",
        "BIGGER_SIZE = 12\n",
        "\n",
        "plt.rc('font', size=SMALL_SIZE)          # controls default text sizes\n",
        "plt.rc('axes', titlesize=SMALL_SIZE)     # fontsize of the axes title\n",
        "plt.rc('axes', labelsize=MEDIUM_SIZE)    # fontsize of the x and y labels\n",
        "plt.rc('xtick', labelsize=SMALL_SIZE)    # fontsize of the tick labels\n",
        "plt.rc('ytick', labelsize=SMALL_SIZE)    # fontsize of the tick labels\n",
        "plt.rc('legend', fontsize=SMALL_SIZE)    # legend fontsize\n",
        "plt.rc('figure', titlesize=BIGGER_SIZE)  # fontsize of the figure title\n",
        "fig=plt.figure(figsize=(18, 10))\n",
        "columns = 9\n",
        "rows = 5\n",
        "for i in range(1, columns*rows +1):\n",
        "    if i<10:\n",
        "      img = cluster0[i]\n",
        "    elif i<19:\n",
        "      img = cluster1[i]\n",
        "    elif i<28:\n",
        "      img = cluster2[i]\n",
        "    elif i<37:\n",
        "      img = cluster3[i]\n",
        "    elif i<46:\n",
        "      img = cluster4[i]\n",
        "    fig.add_subplot(rows, columns, i)\n",
        "    plt.imshow(img)\n",
        "plt.show()"
      ],
      "execution_count": 41,
      "outputs": [
        {
          "output_type": "display_data",
          "data": {
            "image/png": "[encoded data removed]",
            "text/plain": [
              "<Figure size 1296x720 with 45 Axes>"
            ]
          },
          "metadata": {}
        }
      ]
    },
    {
      "cell_type": "markdown",
      "metadata": {
        "id": "4JLpGOFWNfEk"
      },
      "source": [
        "Generation with GAN\n",
        "\n",
        "Code by eriklindernoren,\n",
        "https://github.com/eriklindernoren/Keras-GAN/blob/master/gan/gan.py"
      ]
    },
    {
      "cell_type": "code",
      "metadata": {
        "id": "hKHeanaAiaAC"
      },
      "source": [
        "from __future__ import print_function, division\n",
        "\n",
        "from keras.datasets import mnist\n",
        "from keras.layers import Input, Dense, Reshape, Flatten, Dropout\n",
        "from keras.layers import BatchNormalization, Activation, ZeroPadding2D\n",
        "from keras.layers.advanced_activations import LeakyReLU\n",
        "from keras.layers.convolutional import UpSampling2D, Conv2D\n",
        "from keras.models import Sequential, Model\n",
        "from keras.optimizers import Adam\n",
        "\n",
        "import matplotlib.pyplot as plt\n",
        "\n",
        "import sys\n",
        "\n",
        "import numpy as np\n",
        "\n",
        "class GAN():\n",
        "    def __init__(self):\n",
        "        self.img_rows = 24\n",
        "        self.img_cols = 24\n",
        "        self.channels = 1\n",
        "        self.img_shape = (self.img_rows, self.img_cols, self.channels)\n",
        "        self.latent_dim = 100\n",
        "\n",
        "        optimizer = Adam(0.0002, 0.5)\n",
        "\n",
        "        # Build and compile the discriminator\n",
        "        self.discriminator = self.build_discriminator()\n",
        "        self.discriminator.compile(loss='binary_crossentropy',\n",
        "            optimizer=optimizer,\n",
        "            metrics=['accuracy'])\n",
        "\n",
        "        # Build the generator\n",
        "        self.generator = self.build_generator()\n",
        "\n",
        "        # The generator takes noise as input and generates imgs\n",
        "        z = Input(shape=(self.latent_dim,))\n",
        "        img = self.generator(z)\n",
        "\n",
        "        # For the combined model we will only train the generator\n",
        "        self.discriminator.trainable = False\n",
        "\n",
        "        # The discriminator takes generated images as input and determines validity\n",
        "        validity = self.discriminator(img)\n",
        "\n",
        "        # The combined model  (stacked generator and discriminator)\n",
        "        # Trains the generator to fool the discriminator\n",
        "        self.combined = Model(z, validity)\n",
        "        self.combined.compile(loss='binary_crossentropy', optimizer=optimizer)\n",
        "\n",
        "\n",
        "    def build_generator(self):\n",
        "        with tf.device('/gpu:0'):\n",
        "            model = Sequential()\n",
        "\n",
        "            model.add(Dense(256, input_dim=self.latent_dim))\n",
        "            model.add(LeakyReLU(alpha=0.2))\n",
        "            model.add(BatchNormalization(momentum=0.8))\n",
        "            model.add(Dense(512))\n",
        "            model.add(LeakyReLU(alpha=0.2))\n",
        "            model.add(BatchNormalization(momentum=0.8))\n",
        "            model.add(Dense(1024))\n",
        "            model.add(LeakyReLU(alpha=0.2))\n",
        "            model.add(BatchNormalization(momentum=0.8))\n",
        "            model.add(Dense(np.prod(self.img_shape), activation='tanh'))\n",
        "            model.add(Reshape(self.img_shape))\n",
        "\n",
        "            model.summary()\n",
        "\n",
        "            noise = Input(shape=(self.latent_dim,))\n",
        "            img = model(noise)\n",
        "\n",
        "            return Model(noise, img)\n",
        "\n",
        "    def build_discriminator(self):\n",
        "        with tf.device('/gpu:0'):\n",
        "            model = Sequential()\n",
        "\n",
        "            model.add(Flatten(input_shape=self.img_shape))\n",
        "            model.add(Dense(512))\n",
        "            model.add(LeakyReLU(alpha=0.2))\n",
        "            model.add(Dense(256))\n",
        "            model.add(LeakyReLU(alpha=0.2))\n",
        "            model.add(Dense(1, activation='sigmoid'))\n",
        "            model.summary()\n",
        "\n",
        "            img = Input(shape=self.img_shape)\n",
        "            validity = model(img)\n",
        "\n",
        "            return Model(img, validity)\n",
        "\n",
        "    def train(self, epochs, batch_size=128, sample_interval=50):\n",
        "\n",
        "        # Load the dataset\n",
        "\n",
        "        X_train=trainX\n",
        "        X_train = X_train / (0.5) - 1.\n",
        "        X_train = np.expand_dims(X_train, axis=3)\n",
        "\n",
        "        # Adversarial ground truths\n",
        "        valid = np.ones((batch_size, 1))\n",
        "        fake = np.zeros((batch_size, 1))\n",
        "\n",
        "        for epoch in range(epochs):\n",
        "\n",
        "            # ---------------------\n",
        "            #  Train Discriminator\n",
        "            # ---------------------\n",
        "\n",
        "            # Select a random batch of images\n",
        "            idx = np.random.randint(0, X_train.shape[0], batch_size)\n",
        "            imgs = X_train[idx]\n",
        "\n",
        "            noise = np.random.normal(0, 1, (batch_size, self.latent_dim))\n",
        "\n",
        "            # Generate a batch of new images\n",
        "            gen_imgs = self.generator.predict(noise)\n",
        "\n",
        "            # Train the discriminator\n",
        "            d_loss_real = self.discriminator.train_on_batch(imgs, valid)\n",
        "            d_loss_fake = self.discriminator.train_on_batch(gen_imgs, fake)\n",
        "            d_loss = 0.5 * np.add(d_loss_real, d_loss_fake)\n",
        "\n",
        "            # ---------------------\n",
        "            #  Train Generator\n",
        "            # ---------------------\n",
        "\n",
        "            noise = np.random.normal(0, 1, (batch_size, self.latent_dim))\n",
        "\n",
        "            # Train the generator (to have the discriminator label samples as valid)\n",
        "            g_loss = self.combined.train_on_batch(noise, valid)\n",
        "\n",
        "            # Plot the progress\n",
        "            if (epoch%500==0):\n",
        "              print (\"%d [D loss: %f, acc.: %.2f%%] [G loss: %f]\" % (epoch, d_loss[0], 100*d_loss[1], g_loss))\n",
        "\n",
        "            # If at save interval => save generated image samples\n",
        "            if epoch % sample_interval == 0:\n",
        "                self.sample_images(epoch)\n",
        "\n",
        "    def sample_images(self, epoch):\n",
        "        r, c = 5, 5\n",
        "        noise = np.random.normal(0, 1, (r * c, self.latent_dim))\n",
        "        gen_imgs = self.generator.predict(noise)\n",
        "\n",
        "        # Rescale images 0 - 1\n",
        "        gen_imgs = 0.5 * gen_imgs + 0.5\n",
        "\n",
        "        fig, axs = plt.subplots(r, c)\n",
        "        cnt = 0\n",
        "        for i in range(r):\n",
        "            for j in range(c):\n",
        "                axs[i,j].imshow(gen_imgs[cnt, :,:,0], cmap='gray')\n",
        "                axs[i,j].axis('off')\n",
        "                cnt += 1\n",
        "        fig.savefig(\"/content/drive/My Drive/images_RP/%d.png\" % epoch)\n",
        "        plt.close()\n",
        "\n"
      ],
      "execution_count": 42,
      "outputs": []
    },
    {
      "cell_type": "code",
      "metadata": {
        "id": "4eTlGqh5idi9",
        "colab": {
          "base_uri": "https://localhost:8080/"
        },
        "outputId": "4e856ca4-49d7-4e50-879d-378970bfc856"
      },
      "source": [
        "gan = GAN()\n",
        "gan.train(epochs=100000, batch_size=32, sample_interval=200)"
      ],
      "execution_count": 43,
      "outputs": [
        {
          "output_type": "stream",
          "name": "stdout",
          "text": [
            "Model: \"sequential_1\"\n",
            "_________________________________________________________________\n",
            "Layer (type)                 Output Shape              Param #   \n",
            "=================================================================\n",
            "flatten_1 (Flatten)          (None, 576)               0         \n",
            "_________________________________________________________________\n",
            "dense_1 (Dense)              (None, 512)               295424    \n",
            "_________________________________________________________________\n",
            "leaky_re_lu_1 (LeakyReLU)    (None, 512)               0         \n",
            "_________________________________________________________________\n",
            "dense_2 (Dense)              (None, 256)               131328    \n",
            "_________________________________________________________________\n",
            "leaky_re_lu_2 (LeakyReLU)    (None, 256)               0         \n",
            "_________________________________________________________________\n",
            "dense_3 (Dense)              (None, 1)                 257       \n",
            "=================================================================\n",
            "Total params: 427,009\n",
            "Trainable params: 427,009\n",
            "Non-trainable params: 0\n",
            "_________________________________________________________________\n",
            "Model: \"sequential_2\"\n",
            "_________________________________________________________________\n",
            "Layer (type)                 Output Shape              Param #   \n",
            "=================================================================\n",
            "dense_4 (Dense)              (None, 256)               25856     \n",
            "_________________________________________________________________\n",
            "leaky_re_lu_3 (LeakyReLU)    (None, 256)               0         \n",
            "_________________________________________________________________\n",
            "batch_normalization_1 (Batch (None, 256)               1024      \n",
            "_________________________________________________________________\n",
            "dense_5 (Dense)              (None, 512)               131584    \n",
            "_________________________________________________________________\n",
            "leaky_re_lu_4 (LeakyReLU)    (None, 512)               0         \n",
            "_________________________________________________________________\n",
            "batch_normalization_2 (Batch (None, 512)               2048      \n",
            "_________________________________________________________________\n",
            "dense_6 (Dense)              (None, 1024)              525312    \n",
            "_________________________________________________________________\n",
            "leaky_re_lu_5 (LeakyReLU)    (None, 1024)              0         \n",
            "_________________________________________________________________\n",
            "batch_normalization_3 (Batch (None, 1024)              4096      \n",
            "_________________________________________________________________\n",
            "dense_7 (Dense)              (None, 576)               590400    \n",
            "_________________________________________________________________\n",
            "reshape_1 (Reshape)          (None, 24, 24, 1)         0         \n",
            "=================================================================\n",
            "Total params: 1,280,320\n",
            "Trainable params: 1,276,736\n",
            "Non-trainable params: 3,584\n",
            "_________________________________________________________________\n"
          ]
        },
        {
          "output_type": "stream",
          "name": "stderr",
          "text": [
            "/usr/local/lib/python3.7/dist-packages/keras/engine/training.py:297: UserWarning: Discrepancy between trainable weights and collected trainable weights, did you set `model.trainable` without calling `model.compile` after ?\n",
            "  'Discrepancy between trainable weights and collected trainable'\n"
          ]
        },
        {
          "output_type": "stream",
          "name": "stdout",
          "text": [
            "0 [D loss: 0.544573, acc.: 93.75%] [G loss: 0.625412]\n"
          ]
        },
        {
          "output_type": "stream",
          "name": "stderr",
          "text": [
            "/usr/local/lib/python3.7/dist-packages/keras/engine/training.py:297: UserWarning: Discrepancy between trainable weights and collected trainable weights, did you set `model.trainable` without calling `model.compile` after ?\n",
            "  'Discrepancy between trainable weights and collected trainable'\n"
          ]
        },
        {
          "output_type": "stream",
          "name": "stdout",
          "text": [
            "500 [D loss: 0.692046, acc.: 48.44%] [G loss: 0.643656]\n",
            "1000 [D loss: 0.686752, acc.: 50.00%] [G loss: 0.677010]\n",
            "1500 [D loss: 0.679892, acc.: 60.94%] [G loss: 0.700121]\n",
            "2000 [D loss: 0.692504, acc.: 50.00%] [G loss: 0.727155]\n",
            "2500 [D loss: 0.666271, acc.: 71.88%] [G loss: 0.739509]\n",
            "3000 [D loss: 0.677879, acc.: 59.38%] [G loss: 0.754794]\n",
            "3500 [D loss: 0.674936, acc.: 60.94%] [G loss: 0.788207]\n",
            "4000 [D loss: 0.633241, acc.: 73.44%] [G loss: 0.825446]\n",
            "4500 [D loss: 0.665322, acc.: 64.06%] [G loss: 0.782826]\n",
            "5000 [D loss: 0.651719, acc.: 60.94%] [G loss: 0.782659]\n",
            "5500 [D loss: 0.638147, acc.: 65.62%] [G loss: 0.863594]\n",
            "6000 [D loss: 0.638357, acc.: 65.62%] [G loss: 0.811864]\n",
            "6500 [D loss: 0.622504, acc.: 67.19%] [G loss: 0.915894]\n",
            "7000 [D loss: 0.580253, acc.: 79.69%] [G loss: 0.903272]\n",
            "7500 [D loss: 0.578478, acc.: 68.75%] [G loss: 1.039063]\n",
            "8000 [D loss: 0.493068, acc.: 85.94%] [G loss: 1.062099]\n",
            "8500 [D loss: 0.523404, acc.: 85.94%] [G loss: 1.085049]\n",
            "9000 [D loss: 0.528654, acc.: 76.56%] [G loss: 1.097778]\n",
            "9500 [D loss: 0.510477, acc.: 78.12%] [G loss: 1.271325]\n",
            "10000 [D loss: 0.522150, acc.: 73.44%] [G loss: 1.165049]\n",
            "10500 [D loss: 0.486734, acc.: 81.25%] [G loss: 1.206600]\n",
            "11000 [D loss: 0.426743, acc.: 85.94%] [G loss: 1.337698]\n",
            "11500 [D loss: 0.590644, acc.: 65.62%] [G loss: 1.215597]\n",
            "12000 [D loss: 0.488923, acc.: 78.12%] [G loss: 1.238997]\n",
            "12500 [D loss: 0.331156, acc.: 90.62%] [G loss: 1.359163]\n",
            "13000 [D loss: 0.401205, acc.: 84.38%] [G loss: 1.506500]\n",
            "13500 [D loss: 0.393988, acc.: 84.38%] [G loss: 1.651515]\n",
            "14000 [D loss: 0.333453, acc.: 87.50%] [G loss: 1.391887]\n",
            "14500 [D loss: 0.359891, acc.: 85.94%] [G loss: 1.619591]\n",
            "15000 [D loss: 0.322357, acc.: 90.62%] [G loss: 1.525571]\n",
            "15500 [D loss: 0.223332, acc.: 95.31%] [G loss: 1.743514]\n",
            "16000 [D loss: 0.371252, acc.: 87.50%] [G loss: 1.982357]\n",
            "16500 [D loss: 0.220245, acc.: 96.88%] [G loss: 2.237677]\n",
            "17000 [D loss: 0.306397, acc.: 89.06%] [G loss: 2.451936]\n",
            "17500 [D loss: 0.295283, acc.: 92.19%] [G loss: 1.784464]\n",
            "18000 [D loss: 0.311617, acc.: 90.62%] [G loss: 2.280112]\n",
            "18500 [D loss: 0.262328, acc.: 92.19%] [G loss: 2.058862]\n",
            "19000 [D loss: 0.236529, acc.: 90.62%] [G loss: 2.507015]\n",
            "19500 [D loss: 0.200907, acc.: 96.88%] [G loss: 2.315484]\n",
            "20000 [D loss: 0.290454, acc.: 92.19%] [G loss: 1.978695]\n",
            "20500 [D loss: 0.337653, acc.: 85.94%] [G loss: 2.146633]\n",
            "21000 [D loss: 0.178323, acc.: 95.31%] [G loss: 2.880225]\n",
            "21500 [D loss: 0.205345, acc.: 95.31%] [G loss: 2.500451]\n",
            "22000 [D loss: 0.172475, acc.: 96.88%] [G loss: 1.954821]\n",
            "22500 [D loss: 0.149517, acc.: 98.44%] [G loss: 3.018226]\n",
            "23000 [D loss: 0.223768, acc.: 92.19%] [G loss: 2.937512]\n",
            "23500 [D loss: 0.125142, acc.: 96.88%] [G loss: 2.537750]\n",
            "24000 [D loss: 0.211942, acc.: 93.75%] [G loss: 2.448211]\n",
            "24500 [D loss: 0.287077, acc.: 85.94%] [G loss: 2.322245]\n",
            "25000 [D loss: 0.255460, acc.: 95.31%] [G loss: 2.365138]\n",
            "25500 [D loss: 0.301885, acc.: 87.50%] [G loss: 2.589147]\n",
            "26000 [D loss: 0.214656, acc.: 93.75%] [G loss: 2.495464]\n",
            "26500 [D loss: 0.146930, acc.: 96.88%] [G loss: 2.321546]\n",
            "27000 [D loss: 0.096324, acc.: 96.88%] [G loss: 3.514809]\n",
            "27500 [D loss: 0.192975, acc.: 93.75%] [G loss: 2.900025]\n",
            "28000 [D loss: 0.187521, acc.: 93.75%] [G loss: 2.737382]\n",
            "28500 [D loss: 0.239194, acc.: 93.75%] [G loss: 2.612347]\n",
            "29000 [D loss: 0.230596, acc.: 95.31%] [G loss: 3.054097]\n",
            "29500 [D loss: 0.130448, acc.: 96.88%] [G loss: 2.798528]\n",
            "30000 [D loss: 0.098748, acc.: 96.88%] [G loss: 2.678468]\n",
            "30500 [D loss: 0.143377, acc.: 95.31%] [G loss: 2.969125]\n",
            "31000 [D loss: 0.123637, acc.: 96.88%] [G loss: 3.267910]\n",
            "31500 [D loss: 0.295182, acc.: 92.19%] [G loss: 2.689930]\n",
            "32000 [D loss: 0.066240, acc.: 98.44%] [G loss: 3.749166]\n",
            "32500 [D loss: 0.403854, acc.: 85.94%] [G loss: 3.127985]\n",
            "33000 [D loss: 0.156668, acc.: 93.75%] [G loss: 3.165034]\n",
            "33500 [D loss: 0.213348, acc.: 90.62%] [G loss: 3.524535]\n",
            "34000 [D loss: 0.347868, acc.: 89.06%] [G loss: 2.806580]\n",
            "34500 [D loss: 0.126180, acc.: 96.88%] [G loss: 3.481229]\n",
            "35000 [D loss: 0.127287, acc.: 95.31%] [G loss: 3.112380]\n",
            "35500 [D loss: 0.199977, acc.: 92.19%] [G loss: 2.689949]\n",
            "36000 [D loss: 0.191594, acc.: 93.75%] [G loss: 3.382624]\n",
            "36500 [D loss: 0.288076, acc.: 90.62%] [G loss: 2.995184]\n",
            "37000 [D loss: 0.118896, acc.: 95.31%] [G loss: 3.039515]\n",
            "37500 [D loss: 0.066807, acc.: 96.88%] [G loss: 3.120800]\n",
            "38000 [D loss: 0.290497, acc.: 92.19%] [G loss: 2.539023]\n",
            "38500 [D loss: 0.149601, acc.: 95.31%] [G loss: 3.238898]\n",
            "39000 [D loss: 0.239046, acc.: 93.75%] [G loss: 3.088273]\n",
            "39500 [D loss: 0.138710, acc.: 96.88%] [G loss: 2.949018]\n",
            "40000 [D loss: 0.266435, acc.: 93.75%] [G loss: 3.589426]\n",
            "40500 [D loss: 0.238182, acc.: 92.19%] [G loss: 2.663007]\n",
            "41000 [D loss: 0.173288, acc.: 95.31%] [G loss: 2.825633]\n",
            "41500 [D loss: 0.174021, acc.: 95.31%] [G loss: 3.146546]\n",
            "42000 [D loss: 0.210923, acc.: 93.75%] [G loss: 3.504230]\n",
            "42500 [D loss: 0.033022, acc.: 100.00%] [G loss: 3.401475]\n",
            "43000 [D loss: 0.066826, acc.: 98.44%] [G loss: 3.816602]\n",
            "43500 [D loss: 0.149038, acc.: 95.31%] [G loss: 3.405959]\n",
            "44000 [D loss: 0.066225, acc.: 96.88%] [G loss: 3.312965]\n",
            "44500 [D loss: 0.229825, acc.: 92.19%] [G loss: 2.960895]\n",
            "45000 [D loss: 0.061477, acc.: 98.44%] [G loss: 3.789544]\n",
            "45500 [D loss: 0.080845, acc.: 98.44%] [G loss: 3.325342]\n",
            "46000 [D loss: 0.206052, acc.: 95.31%] [G loss: 3.005464]\n",
            "46500 [D loss: 0.101390, acc.: 96.88%] [G loss: 3.407654]\n",
            "47000 [D loss: 0.078725, acc.: 96.88%] [G loss: 3.436404]\n",
            "47500 [D loss: 0.175006, acc.: 96.88%] [G loss: 3.401229]\n",
            "48000 [D loss: 0.088967, acc.: 98.44%] [G loss: 3.292609]\n",
            "48500 [D loss: 0.139671, acc.: 93.75%] [G loss: 3.090279]\n",
            "49000 [D loss: 0.132400, acc.: 95.31%] [G loss: 3.121466]\n",
            "49500 [D loss: 0.101677, acc.: 96.88%] [G loss: 3.081158]\n",
            "50000 [D loss: 0.081901, acc.: 98.44%] [G loss: 3.898914]\n",
            "50500 [D loss: 0.072924, acc.: 95.31%] [G loss: 3.986369]\n",
            "51000 [D loss: 0.146721, acc.: 95.31%] [G loss: 3.343410]\n",
            "51500 [D loss: 0.246013, acc.: 93.75%] [G loss: 2.947415]\n",
            "52000 [D loss: 0.016210, acc.: 100.00%] [G loss: 4.130153]\n",
            "52500 [D loss: 0.061857, acc.: 98.44%] [G loss: 3.563884]\n",
            "53000 [D loss: 0.179277, acc.: 95.31%] [G loss: 3.222823]\n",
            "53500 [D loss: 0.146409, acc.: 95.31%] [G loss: 3.450494]\n",
            "54000 [D loss: 0.088281, acc.: 96.88%] [G loss: 3.330450]\n",
            "54500 [D loss: 0.250268, acc.: 92.19%] [G loss: 3.131666]\n",
            "55000 [D loss: 0.099719, acc.: 98.44%] [G loss: 3.803593]\n",
            "55500 [D loss: 0.107226, acc.: 96.88%] [G loss: 2.942728]\n",
            "56000 [D loss: 0.177345, acc.: 93.75%] [G loss: 2.954733]\n",
            "56500 [D loss: 0.076815, acc.: 98.44%] [G loss: 3.586393]\n",
            "57000 [D loss: 0.207682, acc.: 92.19%] [G loss: 3.123773]\n",
            "57500 [D loss: 0.017192, acc.: 100.00%] [G loss: 4.193584]\n",
            "58000 [D loss: 0.176409, acc.: 95.31%] [G loss: 3.632825]\n",
            "58500 [D loss: 0.069060, acc.: 98.44%] [G loss: 3.606729]\n",
            "59000 [D loss: 0.134822, acc.: 95.31%] [G loss: 3.731268]\n",
            "59500 [D loss: 0.227352, acc.: 95.31%] [G loss: 3.019414]\n",
            "60000 [D loss: 0.087834, acc.: 98.44%] [G loss: 3.284121]\n",
            "60500 [D loss: 0.176813, acc.: 95.31%] [G loss: 3.715630]\n",
            "61000 [D loss: 0.115455, acc.: 96.88%] [G loss: 2.995893]\n",
            "61500 [D loss: 0.290719, acc.: 90.62%] [G loss: 2.841528]\n",
            "62000 [D loss: 0.064106, acc.: 98.44%] [G loss: 3.747851]\n",
            "62500 [D loss: 0.173980, acc.: 95.31%] [G loss: 3.415687]\n",
            "63000 [D loss: 0.193574, acc.: 93.75%] [G loss: 2.578231]\n",
            "63500 [D loss: 0.127548, acc.: 95.31%] [G loss: 3.962586]\n",
            "64000 [D loss: 0.131959, acc.: 95.31%] [G loss: 3.305480]\n",
            "64500 [D loss: 0.042604, acc.: 98.44%] [G loss: 4.457732]\n",
            "65000 [D loss: 0.121422, acc.: 96.88%] [G loss: 3.086076]\n",
            "65500 [D loss: 0.088008, acc.: 96.88%] [G loss: 3.668994]\n",
            "66000 [D loss: 0.193399, acc.: 95.31%] [G loss: 3.576368]\n",
            "66500 [D loss: 0.093145, acc.: 96.88%] [G loss: 3.224756]\n",
            "67000 [D loss: 0.139741, acc.: 95.31%] [G loss: 3.151104]\n",
            "67500 [D loss: 0.244596, acc.: 89.06%] [G loss: 3.196497]\n",
            "68000 [D loss: 0.019467, acc.: 100.00%] [G loss: 4.851710]\n",
            "68500 [D loss: 0.061385, acc.: 98.44%] [G loss: 4.419506]\n",
            "69000 [D loss: 0.194815, acc.: 95.31%] [G loss: 3.052405]\n",
            "69500 [D loss: 0.081274, acc.: 98.44%] [G loss: 3.387621]\n",
            "70000 [D loss: 0.186858, acc.: 93.75%] [G loss: 3.556069]\n",
            "70500 [D loss: 0.367308, acc.: 87.50%] [G loss: 2.903399]\n",
            "71000 [D loss: 0.140171, acc.: 95.31%] [G loss: 3.419037]\n",
            "71500 [D loss: 0.142220, acc.: 95.31%] [G loss: 3.164199]\n",
            "72000 [D loss: 0.027294, acc.: 100.00%] [G loss: 3.707778]\n",
            "72500 [D loss: 0.155891, acc.: 95.31%] [G loss: 3.438022]\n",
            "73000 [D loss: 0.099902, acc.: 96.88%] [G loss: 3.654323]\n",
            "73500 [D loss: 0.135675, acc.: 95.31%] [G loss: 3.372957]\n",
            "74000 [D loss: 0.137354, acc.: 96.88%] [G loss: 3.401289]\n",
            "74500 [D loss: 0.129463, acc.: 95.31%] [G loss: 3.649591]\n",
            "75000 [D loss: 0.076217, acc.: 98.44%] [G loss: 3.334977]\n",
            "75500 [D loss: 0.130648, acc.: 96.88%] [G loss: 3.287528]\n",
            "76000 [D loss: 0.131057, acc.: 95.31%] [G loss: 3.191428]\n",
            "76500 [D loss: 0.066202, acc.: 98.44%] [G loss: 3.389131]\n",
            "77000 [D loss: 0.095671, acc.: 96.88%] [G loss: 3.515953]\n",
            "77500 [D loss: 0.301955, acc.: 90.62%] [G loss: 3.259994]\n",
            "78000 [D loss: 0.106840, acc.: 96.88%] [G loss: 3.624906]\n",
            "78500 [D loss: 0.037815, acc.: 100.00%] [G loss: 3.397636]\n",
            "79000 [D loss: 0.223378, acc.: 93.75%] [G loss: 3.324006]\n",
            "79500 [D loss: 0.083036, acc.: 98.44%] [G loss: 3.399377]\n",
            "80000 [D loss: 0.013017, acc.: 100.00%] [G loss: 4.029150]\n",
            "80500 [D loss: 0.115961, acc.: 96.88%] [G loss: 3.448385]\n",
            "81000 [D loss: 0.116099, acc.: 96.88%] [G loss: 3.340569]\n",
            "81500 [D loss: 0.278813, acc.: 90.62%] [G loss: 3.072780]\n",
            "82000 [D loss: 0.024466, acc.: 100.00%] [G loss: 3.680879]\n",
            "82500 [D loss: 0.127234, acc.: 96.88%] [G loss: 3.444647]\n",
            "83000 [D loss: 0.075584, acc.: 96.88%] [G loss: 3.055070]\n",
            "83500 [D loss: 0.206041, acc.: 92.19%] [G loss: 3.613520]\n",
            "84000 [D loss: 0.132917, acc.: 95.31%] [G loss: 4.064910]\n",
            "84500 [D loss: 0.141652, acc.: 96.88%] [G loss: 3.475095]\n",
            "85000 [D loss: 0.218547, acc.: 93.75%] [G loss: 3.203733]\n",
            "85500 [D loss: 0.290849, acc.: 87.50%] [G loss: 3.395478]\n",
            "86000 [D loss: 0.158675, acc.: 96.88%] [G loss: 4.050211]\n",
            "86500 [D loss: 0.123628, acc.: 95.31%] [G loss: 2.888127]\n",
            "87000 [D loss: 0.085393, acc.: 96.88%] [G loss: 3.194199]\n",
            "87500 [D loss: 0.167969, acc.: 95.31%] [G loss: 2.915515]\n",
            "88000 [D loss: 0.090219, acc.: 98.44%] [G loss: 3.785223]\n",
            "88500 [D loss: 0.039581, acc.: 100.00%] [G loss: 3.877568]\n",
            "89000 [D loss: 0.115513, acc.: 96.88%] [G loss: 3.036658]\n",
            "89500 [D loss: 0.210340, acc.: 92.19%] [G loss: 3.264516]\n",
            "90000 [D loss: 0.331164, acc.: 90.62%] [G loss: 3.158560]\n",
            "90500 [D loss: 0.156169, acc.: 96.88%] [G loss: 3.613210]\n",
            "91000 [D loss: 0.069356, acc.: 96.88%] [G loss: 3.239601]\n",
            "91500 [D loss: 0.182730, acc.: 93.75%] [G loss: 3.516769]\n",
            "92000 [D loss: 0.072355, acc.: 96.88%] [G loss: 4.162069]\n",
            "92500 [D loss: 0.234846, acc.: 93.75%] [G loss: 2.896724]\n",
            "93000 [D loss: 0.087940, acc.: 96.88%] [G loss: 3.687158]\n",
            "93500 [D loss: 0.262430, acc.: 90.62%] [G loss: 2.758126]\n",
            "94000 [D loss: 0.140608, acc.: 95.31%] [G loss: 3.208156]\n",
            "94500 [D loss: 0.184688, acc.: 95.31%] [G loss: 3.158730]\n",
            "95000 [D loss: 0.072824, acc.: 98.44%] [G loss: 4.132091]\n",
            "95500 [D loss: 0.068811, acc.: 98.44%] [G loss: 3.585063]\n",
            "96000 [D loss: 0.119228, acc.: 95.31%] [G loss: 2.996318]\n",
            "96500 [D loss: 0.024011, acc.: 100.00%] [G loss: 4.192247]\n",
            "97000 [D loss: 0.068166, acc.: 98.44%] [G loss: 3.966308]\n",
            "97500 [D loss: 0.260050, acc.: 90.62%] [G loss: 3.056735]\n",
            "98000 [D loss: 0.094670, acc.: 98.44%] [G loss: 3.647045]\n",
            "98500 [D loss: 0.028002, acc.: 100.00%] [G loss: 3.956777]\n",
            "99000 [D loss: 0.072931, acc.: 98.44%] [G loss: 3.853557]\n",
            "99500 [D loss: 0.199078, acc.: 92.19%] [G loss: 4.035189]\n"
          ]
        }
      ]
    },
    {
      "cell_type": "code",
      "metadata": {
        "id": "qJx5npGa9uI_"
      },
      "source": [
        "noise = np.random.normal(0, 1, (100, 100))\n",
        "gen_imgs = gan.generator.predict(noise)"
      ],
      "execution_count": 44,
      "outputs": []
    },
    {
      "cell_type": "code",
      "metadata": {
        "id": "j4xlEndU-eLm",
        "colab": {
          "base_uri": "https://localhost:8080/",
          "height": 323
        },
        "outputId": "934d8dc2-58dc-45f6-dde6-830a5ed2f370"
      },
      "source": [
        "fig=plt.figure(figsize=(9, 5))\n",
        "columns = 5\n",
        "rows = 4\n",
        "for i in range(1, columns*rows +1):\n",
        "    img = gen_imgs[i].reshape((24,24))\n",
        "    fig.add_subplot(rows, columns, i)\n",
        "    plt.imshow(img)"
      ],
      "execution_count": 45,
      "outputs": [
        {
          "output_type": "display_data",
          "data": {
            "image/png": "[encoded data removed]",
            "text/plain": [
              "<Figure size 648x360 with 20 Axes>"
            ]
          },
          "metadata": {}
        }
      ]
    },
    {
      "cell_type": "markdown",
      "metadata": {
        "id": "5CP7tkoSCIm2"
      },
      "source": [
        "classifier : 24*24 bar input을 기반하여 Skill을 분류한다. 학습은 Multilabel Classifier로써 진행된다.\n",
        "\n",
        "updown_classifier : 24*24 bar input을 기반하여 다음 bar의 pitch change를 분류한다. 학습은 up, down, final, meanless 4가지 기반하여 진행되나 분류 자체는 up, down만 유의미하다.\n",
        "\n",
        "RNNmodel : bar skill sequence를 기반하여 다음 bar가 어떤 스킬을 가지는지를 분류한다. 학습은 k-fold기반의 RNN으로 진행된다\n",
        "\n",
        "G : GAN기반한 모델의 Generator이다. image_generator(G,갯수,encoded skill num)과 같은 형태로 사용하여 이미지를 생성할 수 있다. 원할한 생성을 위해 Matrix Image에 Bluring을 사용한다.\n",
        "\n",
        "이제 G가 생성한 Matrix이미지를 0과1로 이루어진 Matrix로 정리하고, Chord를 Match시켜준 뒤 MIDI로 Decoding하면 끝이다."
      ]
    },
    {
      "cell_type": "code",
      "metadata": {
        "id": "6htKIS4Lcb7h"
      },
      "source": [
        "import cv2\n",
        "H=gen_imgs[0]#n개의 24*24*1 형태\n",
        "\n",
        "def matrix_cleaner(matrix):\n",
        "  #matrix should be size of 24*24\n",
        "  #make matrix's value of [0,1]  \n",
        "  matrix=np.matrix(matrix)\n",
        "  maximum_value=matrix.max()\n",
        "  minimum_value=matrix.min()\n",
        "  matrix=(matrix-minimum_value)/(maximum_value-minimum_value)\n",
        "  flat=matrix.flatten()\n",
        "  flat.sort()\n",
        "  flat=flat.reshape((576,1))\n",
        "  hundred_val=flat[-100]\n",
        "  matrix_for_duration=np.where(matrix<0.1,0,matrix)\n",
        "  matrix=np.where(matrix<hundred_val,0,matrix)\n",
        "  matrix=np.where(matrix<1/3,0,matrix)\n",
        "  \n",
        "  return matrix,matrix_for_duration"
      ],
      "execution_count": 46,
      "outputs": []
    },
    {
      "cell_type": "code",
      "metadata": {
        "id": "lRSy54CpFDz0",
        "colab": {
          "base_uri": "https://localhost:8080/",
          "height": 202
        },
        "outputId": "c9006d3b-8ea5-4a58-d3fb-7377960840a0"
      },
      "source": [
        "import numpy as np\n",
        "from scipy.ndimage.filters import maximum_filter\n",
        "from scipy.ndimage.morphology import generate_binary_structure, binary_erosion\n",
        "import matplotlib.pyplot as pp\n",
        "\n",
        "#getting a list of images\n",
        "paws = [matrix_cleaner(H)[0]]\n",
        "\n",
        "\n",
        "def detect_peaks(image):\n",
        "    \"\"\"\n",
        "    Takes an image and detect the peaks usingthe local maximum filter.\n",
        "    Returns a boolean mask of the peaks (i.e. 1 when\n",
        "    the pixel's value is the neighborhood maximum, 0 otherwise)\n",
        "    \"\"\"\n",
        "\n",
        "    # define an 8-connected neighborhood\n",
        "    neighborhood = generate_binary_structure(2,2)\n",
        "\n",
        "    #apply the local maximum filter; all pixel of maximal value \n",
        "    #in their neighborhood are set to 1\n",
        "    local_max = maximum_filter(image, footprint=neighborhood)==image\n",
        "    #local_max is a mask that contains the peaks we are \n",
        "    #looking for, but also the background.\n",
        "    #In order to isolate the peaks we must remove the background from the mask.\n",
        "\n",
        "    #we create the mask of the background\n",
        "    background = (image==0)\n",
        "\n",
        "    #a little technicality: we must erode the background in order to \n",
        "    #successfully subtract it form local_max, otherwise a line will \n",
        "    #appear along the background border (artifact of the local maximum filter)\n",
        "    eroded_background = binary_erosion(background, structure=neighborhood, border_value=1)\n",
        "\n",
        "    #we obtain the final mask, containing only peaks, \n",
        "    #by removing the background from the local_max mask (xor operation)\n",
        "    detected_peaks = local_max ^ eroded_background\n",
        "    detected_peaks=np.where(detected_peaks==True,1,0)\n",
        "\n",
        "    return detected_peaks\n",
        "\n",
        "\n",
        "#applying the detection and plotting results\n",
        "for i, paw in enumerate(paws):\n",
        "    detected_peaks = detect_peaks(paw)\n",
        "    pp.subplot(1,2,(2*i+1))\n",
        "    pp.imshow(paw)\n",
        "    pp.subplot(1,2,(2*i+2) )\n",
        "    pp.imshow(detected_peaks)\n",
        "\n",
        "pp.show()"
      ],
      "execution_count": 47,
      "outputs": [
        {
          "output_type": "display_data",
          "data": {
            "image/png": "[encoded data removed]",
            "text/plain": [
              "<Figure size 432x288 with 2 Axes>"
            ]
          },
          "metadata": {}
        }
      ]
    },
    {
      "cell_type": "code",
      "metadata": {
        "id": "bPVdL9UXO-0h",
        "colab": {
          "base_uri": "https://localhost:8080/",
          "height": 215
        },
        "outputId": "f74e4fce-8ec8-4a35-d06c-9bb37c7cefc0"
      },
      "source": [
        "def left_shifting(matrix,detected_peak):\n",
        "  #input은 detected_peak가 들어와야한다.\n",
        "  dots=[]\n",
        "  for j in range(len(detected_peak)):\n",
        "    pos=[]\n",
        "    for i in range(len(detected_peak[0])):#for 문의 순서를 이렇게 지정해야 Handle이 가능하다.\n",
        "      a=0\n",
        "      if(detected_peak[i][j]==1):\n",
        "        if(j%2!=0 and j%3!=0):\n",
        "          a=1\n",
        "        if(len(pos)==0):\n",
        "          pos=[i,j-a]\n",
        "        else:\n",
        "          if (matrix[0][pos[0]][pos[1]]<matrix[0][i][j-a]):\n",
        "            pos=[i,j-a]\n",
        "    if(len(pos)!=0):\n",
        "      dots.append(pos)\n",
        "  dots_with_length=[]\n",
        "  starting_points=[]\n",
        "  durations=[]\n",
        "  velocities=[]\n",
        "  for position in dots:\n",
        "    velocities.append(matrix[1][position[0]][position[1]])\n",
        "    length_val=0\n",
        "    while True:\n",
        "      if(length_val==0):\n",
        "        starting_points.append([position[0],position[1]])\n",
        "      else:\n",
        "        if(position[1]+length_val>23):\n",
        "          break\n",
        "        if(detected_peak[position[0]][position[1]+length_val]!=0):\n",
        "          break\n",
        "      if(position[1]+length_val>23):\n",
        "        break\n",
        "      elif(matrix[1][position[0]][position[1]+length_val]!=0):\n",
        "        dots_with_length.append([position[0],position[1]+length_val])\n",
        "      else:\n",
        "        break\n",
        "      length_val+=1\n",
        "    durations.append(length_val)\n",
        "  result=np.zeros_like(matrix[0])\n",
        "  for position in dots_with_length:\n",
        "    result[position[0]][position[1]]=1\n",
        "  return result,np.array(starting_points),np.array(durations),np.array(velocities)\n",
        "\n",
        "paws = [matrix_cleaner(H)[0]]\n",
        "detected_peaks = detect_peaks(paws[0])\n",
        "fig = plt.figure()\n",
        "ax1 = fig.add_subplot(1, 3, 1)\n",
        "ax1.imshow(H.reshape(24,24))\n",
        "ax1.set_title('H')\n",
        "ax1.axis(\"off\")\n",
        " \n",
        "ax3 = fig.add_subplot(1, 3, 2)\n",
        "ax3.imshow(paws[0].reshape(24,24))\n",
        "ax3.set_title('Cleaned H')\n",
        "ax3.axis(\"off\")\n",
        "\n",
        "ax2 = fig.add_subplot(1, 3, 3)\n",
        "ax2.imshow(detect_peaks(matrix_cleaner(H)[0]))\n",
        "ax2.set_title('detected_peaks')\n",
        "ax2.axis(\"off\")\n",
        "#plt.imshow(left_shifting(matrix_cleaner(H),detect_peaks(matrix_cleaner(H)[0]))[0])\n",
        "\n",
        "print(left_shifting(matrix_cleaner(H),detected_peaks)[1],left_shifting(matrix_cleaner(H),detected_peaks)[2],left_shifting(matrix_cleaner(H),detected_peaks)[3])"
      ],
      "execution_count": 48,
      "outputs": [
        {
          "output_type": "stream",
          "name": "stdout",
          "text": [
            "[[23  0]\n",
            " [11  3]\n",
            " [23 12]\n",
            " [11 15]] [2 1 1 2] [0.9732255  0.70785296 0.89418256 0.7421237 ]\n"
          ]
        },
        {
          "output_type": "display_data",
          "data": {
            "image/png": "[encoded data removed]",
            "text/plain": [
              "<Figure size 432x288 with 3 Axes>"
            ]
          },
          "metadata": {}
        }
      ]
    },
    {
      "cell_type": "code",
      "metadata": {
        "id": "7hmNRrgvCTpe"
      },
      "source": [
        "C_chord=[1,0,1,0,1,1,0,1,0,1,0,1]\n",
        "chords=['C','C#','D','D#','E','F','F#','G','G#','A','A#','B']\n",
        "def chord_matching(shifted_matrix,chord,last_pitch,direction):\n",
        "  #input은 left_shifting의 output을 그대로 넣고, chord(C,C#,D,D#....,B), 마지막 리듬의 pitch를 숫자로, 그리고 진행 방향을 direction(1,0)으로 받는다.\n",
        "  #output은 MIDI기반의 decoding이 되도록 정보 기반으로, 그리고 last_pitch까지 넣어준다.\n",
        "  #또한 출력 그림과 상관없이, 그냥 Note Pitch를 그냥 Matrix에 넣어준다.\n",
        "  before_matrix=shifted_matrix[0]\n",
        "  before_pitch=last_pitch\n",
        "  if (last_pitch<40):\n",
        "    direction=1\n",
        "  if (last_pitch>80):\n",
        "    direction=0\n",
        "  if chord not in chords:\n",
        "    now_chord='C'\n",
        "  now_chord=chord\n",
        "  chord_diff=chords.index(now_chord)\n",
        "  now_chord_list=np.roll(C_chord,chord_diff)#[1,0,1,0,1...] 이런 set인데 여기에 맞추면 함수에 넣은 chord에 맞게 된다.\n",
        "  #나중에 그냥 chord뿐만 아니라 화음의 종류까지 고민하게 된다면 이걸 잘 쓰면 된다.\n",
        "  pitch_set=[]\n",
        "  for pitchs in shifted_matrix[1]:\n",
        "    pitch_set.append(23-pitchs[0])#위 그림 기준 7,17,9,7,3,5 이렇게 들감\n",
        "  pitch_set=pitch_set-pitch_set[0]#이러면 0, 10, -1, 0 ,-4, -2, 이렇게 들간다. 상대적인 위치를 다루는게 쉽다.\n",
        "  if (direction==1):\n",
        "    possible_set=[]\n",
        "    for i in range(12):\n",
        "      possible_set.append(pitch_set+i+last_pitch)\n",
        "  else:\n",
        "    possible_set=[]\n",
        "    for i in range(12):\n",
        "      possible_set.append(pitch_set-i+last_pitch)\n",
        "  possible_set_score=[]\n",
        "  for sets in possible_set:\n",
        "    score=0\n",
        "    for pitchs in sets:\n",
        "      score+=now_chord_list[pitchs%12]\n",
        "    possible_set_score.append(score)\n",
        "  final_set=possible_set[np.argmax(possible_set_score)]\n",
        "  return_val=[]\n",
        "  for i,sets in enumerate(final_set):\n",
        "    if (before_pitch-sets<-12):\n",
        "      sets=sets-12\n",
        "    if (before_pitch-sets>12):\n",
        "      sets=sets+12               #For prevent pitch change above 1 Octave.\n",
        "    if(now_chord_list[sets%12]==1):\n",
        "      final=[]\n",
        "      if (shifted_matrix[2][i]!=0):\n",
        "        final.append(sets)#pitch\n",
        "        final.append(shifted_matrix[1][i][1])\n",
        "        final.append(shifted_matrix[2][i])\n",
        "        final.append(shifted_matrix[3][i])\n",
        "        return_val.append(final)\n",
        "    before_pitch=sets\n",
        "  return return_val\n"
      ],
      "execution_count": 49,
      "outputs": []
    },
    {
      "cell_type": "code",
      "metadata": {
        "id": "7chdoz0aQzCm",
        "colab": {
          "base_uri": "https://localhost:8080/"
        },
        "outputId": "221167c0-ce2f-4d34-acff-5a9ddce4b3f4"
      },
      "source": [
        "shifted=left_shifting(matrix_cleaner(H),detect_peaks(matrix_cleaner(H)[0]))\n",
        "print(chord_matching(shifted,'C',48,1))"
      ],
      "execution_count": 50,
      "outputs": [
        {
          "output_type": "stream",
          "name": "stdout",
          "text": [
            "[[48, 0, 2, 0.9732255], [60, 3, 1, 0.70785296], [48, 12, 1, 0.89418256], [60, 15, 2, 0.7421237]]\n"
          ]
        }
      ]
    },
    {
      "cell_type": "code",
      "metadata": {
        "id": "OORpc3qu1FXb",
        "colab": {
          "base_uri": "https://localhost:8080/",
          "height": 72
        },
        "outputId": "89c95869-19c7-4725-9341-b1abdba4f59e"
      },
      "source": [
        "H=gen_imgs[0]\n",
        "shifted=left_shifting(matrix_cleaner(H),detect_peaks(matrix_cleaner(H)[0]))\n",
        "final_list=chord_matching(shifted,'C',48,1)\n",
        "\"\"\"\n",
        "generation_info(final_skill, length, chord)\n",
        "\n",
        "final_skill should be 0~12. It matches with\n",
        "['One_rhythm' 'continuing_rhythm' 'down_leaping' 'down_steping'\n",
        " 'fast_rhythm' 'leaping_twisting' 'no skills' 'resting' 'staccato'\n",
        " 'steping_twisting' 'triplet' 'up_leaping' 'up_steping'].\n",
        " length is the bar number of song generation.\n",
        " chord should be string, 'C', 'C#', 'D' ...\n",
        " major and minor chord is not considered now.\n",
        " but maybe I can handle with making all class as two type. ex)(major One_rhythm, minor One_rhythm..)\n",
        "\"\"\""
      ],
      "execution_count": 51,
      "outputs": [
        {
          "output_type": "execute_result",
          "data": {
            "application/vnd.google.colaboratory.intrinsic+json": {
              "type": "string"
            },
            "text/plain": [
              "\"\\ngeneration_info(final_skill, length, chord)\\n\\nfinal_skill should be 0~12. It matches with\\n['One_rhythm' 'continuing_rhythm' 'down_leaping' 'down_steping'\\n 'fast_rhythm' 'leaping_twisting' 'no skills' 'resting' 'staccato'\\n 'steping_twisting' 'triplet' 'up_leaping' 'up_steping'].\\n length is the bar number of song generation.\\n chord should be string, 'C', 'C#', 'D' ...\\n major and minor chord is not considered now.\\n but maybe I can handle with making all class as two type. ex)(major One_rhythm, minor One_rhythm..)\\n\""
            ]
          },
          "metadata": {},
          "execution_count": 51
        }
      ]
    },
    {
      "cell_type": "code",
      "metadata": {
        "id": "yYOmVKrb5vpM",
        "colab": {
          "base_uri": "https://localhost:8080/"
        },
        "outputId": "5d365057-67e7-4ddd-dcff-0ee1003e330a"
      },
      "source": [
        "for i in final_list:\n",
        "  print(i)"
      ],
      "execution_count": 52,
      "outputs": [
        {
          "output_type": "stream",
          "name": "stdout",
          "text": [
            "[48, 0, 2, 0.9732255]\n",
            "[60, 3, 1, 0.70785296]\n",
            "[48, 12, 1, 0.89418256]\n",
            "[60, 15, 2, 0.7421237]\n"
          ]
        }
      ]
    },
    {
      "cell_type": "code",
      "metadata": {
        "id": "ksTjAaAhKyi1",
        "colab": {
          "base_uri": "https://localhost:8080/"
        },
        "outputId": "ce65217a-e93a-4918-80b3-454781445aa2"
      },
      "source": [
        "import midiutil\n",
        "from midiutil.MidiFile import MIDIFile\n",
        "\n",
        "for i in range(10):\n",
        "  for chord in chords:\n",
        "    H=gen_imgs[i]\n",
        "    shifted=left_shifting(matrix_cleaner(H),detect_peaks(matrix_cleaner(H)[0]))\n",
        "    final_list=chord_matching(shifted,chord,48,1)\n",
        "    # create your MIDI object\n",
        "    mf = MIDIFile(1)     # only 1 track\n",
        "    track = 0   # the only track\n",
        "\n",
        "    time = 0    # start at the beginning\n",
        "    mf.addTrackName(track, time, \"Sample Track\")\n",
        "    mf.addTempo(track, time, 120)#2초에 1bar\n",
        "\n",
        "    # add some notes\n",
        "    channel = 0\n",
        "    used_time=[]\n",
        "    for j,notes in enumerate(final_list):\n",
        "      pitch = notes[0]+12           # C4 (middle C) 48이 C4인 내구현에 비해 여기는 60이 C4이다.\n",
        "      time = notes[1]/6             # start on beat 0\n",
        "      duration = notes[2]/6         # 1 beat long\n",
        "      volume= int(notes[3]*100)\n",
        "      if (time not in used_time and duration!=0):\n",
        "        mf.addNote(track, channel, pitch, time, duration, volume)\n",
        "        used_time.append(time)\n",
        "    with open(\"/content/drive/My Drive/Relative Pitch/\"+str(i)+' '+chord+\".mid\", 'wb') as outf:\n",
        "      mf.writeFile(outf)\n",
        "      print(str(i)+' '+chord+\"  generate done!\")"
      ],
      "execution_count": 53,
      "outputs": [
        {
          "output_type": "stream",
          "name": "stdout",
          "text": [
            "0 C  generate done!\n",
            "0 C#  generate done!\n",
            "0 D  generate done!\n",
            "0 D#  generate done!\n",
            "0 E  generate done!\n",
            "0 F  generate done!\n",
            "0 F#  generate done!\n",
            "0 G  generate done!\n",
            "0 G#  generate done!\n",
            "0 A  generate done!\n",
            "0 A#  generate done!\n",
            "0 B  generate done!\n",
            "1 C  generate done!\n",
            "1 C#  generate done!\n",
            "1 D  generate done!\n",
            "1 D#  generate done!\n",
            "1 E  generate done!\n",
            "1 F  generate done!\n",
            "1 F#  generate done!\n",
            "1 G  generate done!\n",
            "1 G#  generate done!\n",
            "1 A  generate done!\n",
            "1 A#  generate done!\n",
            "1 B  generate done!\n",
            "2 C  generate done!\n",
            "2 C#  generate done!\n",
            "2 D  generate done!\n",
            "2 D#  generate done!\n",
            "2 E  generate done!\n",
            "2 F  generate done!\n",
            "2 F#  generate done!\n",
            "2 G  generate done!\n",
            "2 G#  generate done!\n",
            "2 A  generate done!\n",
            "2 A#  generate done!\n",
            "2 B  generate done!\n",
            "3 C  generate done!\n",
            "3 C#  generate done!\n",
            "3 D  generate done!\n",
            "3 D#  generate done!\n",
            "3 E  generate done!\n",
            "3 F  generate done!\n",
            "3 F#  generate done!\n",
            "3 G  generate done!\n",
            "3 G#  generate done!\n",
            "3 A  generate done!\n",
            "3 A#  generate done!\n",
            "3 B  generate done!\n",
            "4 C  generate done!\n",
            "4 C#  generate done!\n",
            "4 D  generate done!\n",
            "4 D#  generate done!\n",
            "4 E  generate done!\n",
            "4 F  generate done!\n",
            "4 F#  generate done!\n",
            "4 G  generate done!\n",
            "4 G#  generate done!\n",
            "4 A  generate done!\n",
            "4 A#  generate done!\n",
            "4 B  generate done!\n",
            "5 C  generate done!\n",
            "5 C#  generate done!\n",
            "5 D  generate done!\n",
            "5 D#  generate done!\n",
            "5 E  generate done!\n",
            "5 F  generate done!\n",
            "5 F#  generate done!\n",
            "5 G  generate done!\n",
            "5 G#  generate done!\n",
            "5 A  generate done!\n",
            "5 A#  generate done!\n",
            "5 B  generate done!\n",
            "6 C  generate done!\n",
            "6 C#  generate done!\n",
            "6 D  generate done!\n",
            "6 D#  generate done!\n",
            "6 E  generate done!\n",
            "6 F  generate done!\n",
            "6 F#  generate done!\n",
            "6 G  generate done!\n",
            "6 G#  generate done!\n",
            "6 A  generate done!\n",
            "6 A#  generate done!\n",
            "6 B  generate done!\n",
            "7 C  generate done!\n",
            "7 C#  generate done!\n",
            "7 D  generate done!\n",
            "7 D#  generate done!\n",
            "7 E  generate done!\n",
            "7 F  generate done!\n",
            "7 F#  generate done!\n",
            "7 G  generate done!\n",
            "7 G#  generate done!\n",
            "7 A  generate done!\n",
            "7 A#  generate done!\n",
            "7 B  generate done!\n",
            "8 C  generate done!\n",
            "8 C#  generate done!\n",
            "8 D  generate done!\n",
            "8 D#  generate done!\n",
            "8 E  generate done!\n",
            "8 F  generate done!\n",
            "8 F#  generate done!\n",
            "8 G  generate done!\n",
            "8 G#  generate done!\n",
            "8 A  generate done!\n",
            "8 A#  generate done!\n",
            "8 B  generate done!\n",
            "9 C  generate done!\n",
            "9 C#  generate done!\n",
            "9 D  generate done!\n",
            "9 D#  generate done!\n",
            "9 E  generate done!\n",
            "9 F  generate done!\n",
            "9 F#  generate done!\n",
            "9 G  generate done!\n",
            "9 G#  generate done!\n",
            "9 A  generate done!\n",
            "9 A#  generate done!\n",
            "9 B  generate done!\n"
          ]
        }
      ]
    }
  ]
}